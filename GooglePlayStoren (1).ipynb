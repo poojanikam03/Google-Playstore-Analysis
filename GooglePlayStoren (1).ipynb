{
  "nbformat": 4,
  "nbformat_minor": 0,
  "metadata": {
    "colab": {
      "provenance": []
    },
    "kernelspec": {
      "name": "python3",
      "display_name": "Python 3"
    },
    "language_info": {
      "name": "python"
    }
  },
  "cells": [
    {
      "cell_type": "code",
      "execution_count": 445,
      "metadata": {
        "id": "oevEiVijHYiu"
      },
      "outputs": [],
      "source": [
        "import numpy as np\n",
        "import pandas as pd\n",
        "import seaborn as sns\n",
        "import matplotlib.pyplot as plt\n",
        "import plotly.express as pl"
      ]
    },
    {
      "cell_type": "code",
      "source": [
        "df=pd.read_csv(\"/content/googleplaystore.csv\")\n",
        "df"
      ],
      "metadata": {
        "colab": {
          "base_uri": "https://localhost:8080/",
          "height": 614
        },
        "id": "4u3wvhMaIrdB",
        "outputId": "5836f1ee-ca0f-408e-93c7-d50e4a91266f"
      },
      "execution_count": 446,
      "outputs": [
        {
          "output_type": "execute_result",
          "data": {
            "text/plain": [
              "                                                     App             Category  \\\n",
              "0         Photo Editor & Candy Camera & Grid & ScrapBook       ART_AND_DESIGN   \n",
              "1                                    Coloring book moana       ART_AND_DESIGN   \n",
              "2      U Launcher Lite – FREE Live Cool Themes, Hide ...       ART_AND_DESIGN   \n",
              "3                                  Sketch - Draw & Paint       ART_AND_DESIGN   \n",
              "4                  Pixel Draw - Number Art Coloring Book       ART_AND_DESIGN   \n",
              "...                                                  ...                  ...   \n",
              "10836                                   Sya9a Maroc - FR               FAMILY   \n",
              "10837                   Fr. Mike Schmitz Audio Teachings               FAMILY   \n",
              "10838                             Parkinson Exercices FR              MEDICAL   \n",
              "10839                      The SCP Foundation DB fr nn5n  BOOKS_AND_REFERENCE   \n",
              "10840      iHoroscope - 2018 Daily Horoscope & Astrology            LIFESTYLE   \n",
              "\n",
              "       Rating Reviews                Size     Installs  Type Price  \\\n",
              "0         4.1     159                 19M      10,000+  Free     0   \n",
              "1         3.9     967                 14M     500,000+  Free     0   \n",
              "2         4.7   87510                8.7M   5,000,000+  Free     0   \n",
              "3         4.5  215644                 25M  50,000,000+  Free     0   \n",
              "4         4.3     967                2.8M     100,000+  Free     0   \n",
              "...       ...     ...                 ...          ...   ...   ...   \n",
              "10836     4.5      38                 53M       5,000+  Free     0   \n",
              "10837     5.0       4                3.6M         100+  Free     0   \n",
              "10838     NaN       3                9.5M       1,000+  Free     0   \n",
              "10839     4.5     114  Varies with device       1,000+  Free     0   \n",
              "10840     4.5  398307                 19M  10,000,000+  Free     0   \n",
              "\n",
              "      Content Rating                     Genres      Last Updated  \\\n",
              "0           Everyone               Art & Design   January 7, 2018   \n",
              "1           Everyone  Art & Design;Pretend Play  January 15, 2018   \n",
              "2           Everyone               Art & Design    August 1, 2018   \n",
              "3               Teen               Art & Design      June 8, 2018   \n",
              "4           Everyone    Art & Design;Creativity     June 20, 2018   \n",
              "...              ...                        ...               ...   \n",
              "10836       Everyone                  Education     July 25, 2017   \n",
              "10837       Everyone                  Education      July 6, 2018   \n",
              "10838       Everyone                    Medical  January 20, 2017   \n",
              "10839     Mature 17+          Books & Reference  January 19, 2015   \n",
              "10840       Everyone                  Lifestyle     July 25, 2018   \n",
              "\n",
              "              Current Ver         Android Ver  \n",
              "0                   1.0.0        4.0.3 and up  \n",
              "1                   2.0.0        4.0.3 and up  \n",
              "2                   1.2.4        4.0.3 and up  \n",
              "3      Varies with device          4.2 and up  \n",
              "4                     1.1          4.4 and up  \n",
              "...                   ...                 ...  \n",
              "10836                1.48          4.1 and up  \n",
              "10837                 1.0          4.1 and up  \n",
              "10838                 1.0          2.2 and up  \n",
              "10839  Varies with device  Varies with device  \n",
              "10840  Varies with device  Varies with device  \n",
              "\n",
              "[10841 rows x 13 columns]"
            ],
            "text/html": [
              "\n",
              "  <div id=\"df-b4dbd3b5-4c9c-4833-82b4-ff2e65312e74\" class=\"colab-df-container\">\n",
              "    <div>\n",
              "<style scoped>\n",
              "    .dataframe tbody tr th:only-of-type {\n",
              "        vertical-align: middle;\n",
              "    }\n",
              "\n",
              "    .dataframe tbody tr th {\n",
              "        vertical-align: top;\n",
              "    }\n",
              "\n",
              "    .dataframe thead th {\n",
              "        text-align: right;\n",
              "    }\n",
              "</style>\n",
              "<table border=\"1\" class=\"dataframe\">\n",
              "  <thead>\n",
              "    <tr style=\"text-align: right;\">\n",
              "      <th></th>\n",
              "      <th>App</th>\n",
              "      <th>Category</th>\n",
              "      <th>Rating</th>\n",
              "      <th>Reviews</th>\n",
              "      <th>Size</th>\n",
              "      <th>Installs</th>\n",
              "      <th>Type</th>\n",
              "      <th>Price</th>\n",
              "      <th>Content Rating</th>\n",
              "      <th>Genres</th>\n",
              "      <th>Last Updated</th>\n",
              "      <th>Current Ver</th>\n",
              "      <th>Android Ver</th>\n",
              "    </tr>\n",
              "  </thead>\n",
              "  <tbody>\n",
              "    <tr>\n",
              "      <th>0</th>\n",
              "      <td>Photo Editor &amp; Candy Camera &amp; Grid &amp; ScrapBook</td>\n",
              "      <td>ART_AND_DESIGN</td>\n",
              "      <td>4.1</td>\n",
              "      <td>159</td>\n",
              "      <td>19M</td>\n",
              "      <td>10,000+</td>\n",
              "      <td>Free</td>\n",
              "      <td>0</td>\n",
              "      <td>Everyone</td>\n",
              "      <td>Art &amp; Design</td>\n",
              "      <td>January 7, 2018</td>\n",
              "      <td>1.0.0</td>\n",
              "      <td>4.0.3 and up</td>\n",
              "    </tr>\n",
              "    <tr>\n",
              "      <th>1</th>\n",
              "      <td>Coloring book moana</td>\n",
              "      <td>ART_AND_DESIGN</td>\n",
              "      <td>3.9</td>\n",
              "      <td>967</td>\n",
              "      <td>14M</td>\n",
              "      <td>500,000+</td>\n",
              "      <td>Free</td>\n",
              "      <td>0</td>\n",
              "      <td>Everyone</td>\n",
              "      <td>Art &amp; Design;Pretend Play</td>\n",
              "      <td>January 15, 2018</td>\n",
              "      <td>2.0.0</td>\n",
              "      <td>4.0.3 and up</td>\n",
              "    </tr>\n",
              "    <tr>\n",
              "      <th>2</th>\n",
              "      <td>U Launcher Lite – FREE Live Cool Themes, Hide ...</td>\n",
              "      <td>ART_AND_DESIGN</td>\n",
              "      <td>4.7</td>\n",
              "      <td>87510</td>\n",
              "      <td>8.7M</td>\n",
              "      <td>5,000,000+</td>\n",
              "      <td>Free</td>\n",
              "      <td>0</td>\n",
              "      <td>Everyone</td>\n",
              "      <td>Art &amp; Design</td>\n",
              "      <td>August 1, 2018</td>\n",
              "      <td>1.2.4</td>\n",
              "      <td>4.0.3 and up</td>\n",
              "    </tr>\n",
              "    <tr>\n",
              "      <th>3</th>\n",
              "      <td>Sketch - Draw &amp; Paint</td>\n",
              "      <td>ART_AND_DESIGN</td>\n",
              "      <td>4.5</td>\n",
              "      <td>215644</td>\n",
              "      <td>25M</td>\n",
              "      <td>50,000,000+</td>\n",
              "      <td>Free</td>\n",
              "      <td>0</td>\n",
              "      <td>Teen</td>\n",
              "      <td>Art &amp; Design</td>\n",
              "      <td>June 8, 2018</td>\n",
              "      <td>Varies with device</td>\n",
              "      <td>4.2 and up</td>\n",
              "    </tr>\n",
              "    <tr>\n",
              "      <th>4</th>\n",
              "      <td>Pixel Draw - Number Art Coloring Book</td>\n",
              "      <td>ART_AND_DESIGN</td>\n",
              "      <td>4.3</td>\n",
              "      <td>967</td>\n",
              "      <td>2.8M</td>\n",
              "      <td>100,000+</td>\n",
              "      <td>Free</td>\n",
              "      <td>0</td>\n",
              "      <td>Everyone</td>\n",
              "      <td>Art &amp; Design;Creativity</td>\n",
              "      <td>June 20, 2018</td>\n",
              "      <td>1.1</td>\n",
              "      <td>4.4 and up</td>\n",
              "    </tr>\n",
              "    <tr>\n",
              "      <th>...</th>\n",
              "      <td>...</td>\n",
              "      <td>...</td>\n",
              "      <td>...</td>\n",
              "      <td>...</td>\n",
              "      <td>...</td>\n",
              "      <td>...</td>\n",
              "      <td>...</td>\n",
              "      <td>...</td>\n",
              "      <td>...</td>\n",
              "      <td>...</td>\n",
              "      <td>...</td>\n",
              "      <td>...</td>\n",
              "      <td>...</td>\n",
              "    </tr>\n",
              "    <tr>\n",
              "      <th>10836</th>\n",
              "      <td>Sya9a Maroc - FR</td>\n",
              "      <td>FAMILY</td>\n",
              "      <td>4.5</td>\n",
              "      <td>38</td>\n",
              "      <td>53M</td>\n",
              "      <td>5,000+</td>\n",
              "      <td>Free</td>\n",
              "      <td>0</td>\n",
              "      <td>Everyone</td>\n",
              "      <td>Education</td>\n",
              "      <td>July 25, 2017</td>\n",
              "      <td>1.48</td>\n",
              "      <td>4.1 and up</td>\n",
              "    </tr>\n",
              "    <tr>\n",
              "      <th>10837</th>\n",
              "      <td>Fr. Mike Schmitz Audio Teachings</td>\n",
              "      <td>FAMILY</td>\n",
              "      <td>5.0</td>\n",
              "      <td>4</td>\n",
              "      <td>3.6M</td>\n",
              "      <td>100+</td>\n",
              "      <td>Free</td>\n",
              "      <td>0</td>\n",
              "      <td>Everyone</td>\n",
              "      <td>Education</td>\n",
              "      <td>July 6, 2018</td>\n",
              "      <td>1.0</td>\n",
              "      <td>4.1 and up</td>\n",
              "    </tr>\n",
              "    <tr>\n",
              "      <th>10838</th>\n",
              "      <td>Parkinson Exercices FR</td>\n",
              "      <td>MEDICAL</td>\n",
              "      <td>NaN</td>\n",
              "      <td>3</td>\n",
              "      <td>9.5M</td>\n",
              "      <td>1,000+</td>\n",
              "      <td>Free</td>\n",
              "      <td>0</td>\n",
              "      <td>Everyone</td>\n",
              "      <td>Medical</td>\n",
              "      <td>January 20, 2017</td>\n",
              "      <td>1.0</td>\n",
              "      <td>2.2 and up</td>\n",
              "    </tr>\n",
              "    <tr>\n",
              "      <th>10839</th>\n",
              "      <td>The SCP Foundation DB fr nn5n</td>\n",
              "      <td>BOOKS_AND_REFERENCE</td>\n",
              "      <td>4.5</td>\n",
              "      <td>114</td>\n",
              "      <td>Varies with device</td>\n",
              "      <td>1,000+</td>\n",
              "      <td>Free</td>\n",
              "      <td>0</td>\n",
              "      <td>Mature 17+</td>\n",
              "      <td>Books &amp; Reference</td>\n",
              "      <td>January 19, 2015</td>\n",
              "      <td>Varies with device</td>\n",
              "      <td>Varies with device</td>\n",
              "    </tr>\n",
              "    <tr>\n",
              "      <th>10840</th>\n",
              "      <td>iHoroscope - 2018 Daily Horoscope &amp; Astrology</td>\n",
              "      <td>LIFESTYLE</td>\n",
              "      <td>4.5</td>\n",
              "      <td>398307</td>\n",
              "      <td>19M</td>\n",
              "      <td>10,000,000+</td>\n",
              "      <td>Free</td>\n",
              "      <td>0</td>\n",
              "      <td>Everyone</td>\n",
              "      <td>Lifestyle</td>\n",
              "      <td>July 25, 2018</td>\n",
              "      <td>Varies with device</td>\n",
              "      <td>Varies with device</td>\n",
              "    </tr>\n",
              "  </tbody>\n",
              "</table>\n",
              "<p>10841 rows × 13 columns</p>\n",
              "</div>\n",
              "    <div class=\"colab-df-buttons\">\n",
              "\n",
              "  <div class=\"colab-df-container\">\n",
              "    <button class=\"colab-df-convert\" onclick=\"convertToInteractive('df-b4dbd3b5-4c9c-4833-82b4-ff2e65312e74')\"\n",
              "            title=\"Convert this dataframe to an interactive table.\"\n",
              "            style=\"display:none;\">\n",
              "\n",
              "  <svg xmlns=\"http://www.w3.org/2000/svg\" height=\"24px\" viewBox=\"0 -960 960 960\">\n",
              "    <path d=\"M120-120v-720h720v720H120Zm60-500h600v-160H180v160Zm220 220h160v-160H400v160Zm0 220h160v-160H400v160ZM180-400h160v-160H180v160Zm440 0h160v-160H620v160ZM180-180h160v-160H180v160Zm440 0h160v-160H620v160Z\"/>\n",
              "  </svg>\n",
              "    </button>\n",
              "\n",
              "  <style>\n",
              "    .colab-df-container {\n",
              "      display:flex;\n",
              "      gap: 12px;\n",
              "    }\n",
              "\n",
              "    .colab-df-convert {\n",
              "      background-color: #E8F0FE;\n",
              "      border: none;\n",
              "      border-radius: 50%;\n",
              "      cursor: pointer;\n",
              "      display: none;\n",
              "      fill: #1967D2;\n",
              "      height: 32px;\n",
              "      padding: 0 0 0 0;\n",
              "      width: 32px;\n",
              "    }\n",
              "\n",
              "    .colab-df-convert:hover {\n",
              "      background-color: #E2EBFA;\n",
              "      box-shadow: 0px 1px 2px rgba(60, 64, 67, 0.3), 0px 1px 3px 1px rgba(60, 64, 67, 0.15);\n",
              "      fill: #174EA6;\n",
              "    }\n",
              "\n",
              "    .colab-df-buttons div {\n",
              "      margin-bottom: 4px;\n",
              "    }\n",
              "\n",
              "    [theme=dark] .colab-df-convert {\n",
              "      background-color: #3B4455;\n",
              "      fill: #D2E3FC;\n",
              "    }\n",
              "\n",
              "    [theme=dark] .colab-df-convert:hover {\n",
              "      background-color: #434B5C;\n",
              "      box-shadow: 0px 1px 3px 1px rgba(0, 0, 0, 0.15);\n",
              "      filter: drop-shadow(0px 1px 2px rgba(0, 0, 0, 0.3));\n",
              "      fill: #FFFFFF;\n",
              "    }\n",
              "  </style>\n",
              "\n",
              "    <script>\n",
              "      const buttonEl =\n",
              "        document.querySelector('#df-b4dbd3b5-4c9c-4833-82b4-ff2e65312e74 button.colab-df-convert');\n",
              "      buttonEl.style.display =\n",
              "        google.colab.kernel.accessAllowed ? 'block' : 'none';\n",
              "\n",
              "      async function convertToInteractive(key) {\n",
              "        const element = document.querySelector('#df-b4dbd3b5-4c9c-4833-82b4-ff2e65312e74');\n",
              "        const dataTable =\n",
              "          await google.colab.kernel.invokeFunction('convertToInteractive',\n",
              "                                                    [key], {});\n",
              "        if (!dataTable) return;\n",
              "\n",
              "        const docLinkHtml = 'Like what you see? Visit the ' +\n",
              "          '<a target=\"_blank\" href=https://colab.research.google.com/notebooks/data_table.ipynb>data table notebook</a>'\n",
              "          + ' to learn more about interactive tables.';\n",
              "        element.innerHTML = '';\n",
              "        dataTable['output_type'] = 'display_data';\n",
              "        await google.colab.output.renderOutput(dataTable, element);\n",
              "        const docLink = document.createElement('div');\n",
              "        docLink.innerHTML = docLinkHtml;\n",
              "        element.appendChild(docLink);\n",
              "      }\n",
              "    </script>\n",
              "  </div>\n",
              "\n",
              "\n",
              "<div id=\"df-a1aa4b00-a1ed-4440-9d0a-4c24b1d1de62\">\n",
              "  <button class=\"colab-df-quickchart\" onclick=\"quickchart('df-a1aa4b00-a1ed-4440-9d0a-4c24b1d1de62')\"\n",
              "            title=\"Suggest charts\"\n",
              "            style=\"display:none;\">\n",
              "\n",
              "<svg xmlns=\"http://www.w3.org/2000/svg\" height=\"24px\"viewBox=\"0 0 24 24\"\n",
              "     width=\"24px\">\n",
              "    <g>\n",
              "        <path d=\"M19 3H5c-1.1 0-2 .9-2 2v14c0 1.1.9 2 2 2h14c1.1 0 2-.9 2-2V5c0-1.1-.9-2-2-2zM9 17H7v-7h2v7zm4 0h-2V7h2v10zm4 0h-2v-4h2v4z\"/>\n",
              "    </g>\n",
              "</svg>\n",
              "  </button>\n",
              "\n",
              "<style>\n",
              "  .colab-df-quickchart {\n",
              "      --bg-color: #E8F0FE;\n",
              "      --fill-color: #1967D2;\n",
              "      --hover-bg-color: #E2EBFA;\n",
              "      --hover-fill-color: #174EA6;\n",
              "      --disabled-fill-color: #AAA;\n",
              "      --disabled-bg-color: #DDD;\n",
              "  }\n",
              "\n",
              "  [theme=dark] .colab-df-quickchart {\n",
              "      --bg-color: #3B4455;\n",
              "      --fill-color: #D2E3FC;\n",
              "      --hover-bg-color: #434B5C;\n",
              "      --hover-fill-color: #FFFFFF;\n",
              "      --disabled-bg-color: #3B4455;\n",
              "      --disabled-fill-color: #666;\n",
              "  }\n",
              "\n",
              "  .colab-df-quickchart {\n",
              "    background-color: var(--bg-color);\n",
              "    border: none;\n",
              "    border-radius: 50%;\n",
              "    cursor: pointer;\n",
              "    display: none;\n",
              "    fill: var(--fill-color);\n",
              "    height: 32px;\n",
              "    padding: 0;\n",
              "    width: 32px;\n",
              "  }\n",
              "\n",
              "  .colab-df-quickchart:hover {\n",
              "    background-color: var(--hover-bg-color);\n",
              "    box-shadow: 0 1px 2px rgba(60, 64, 67, 0.3), 0 1px 3px 1px rgba(60, 64, 67, 0.15);\n",
              "    fill: var(--button-hover-fill-color);\n",
              "  }\n",
              "\n",
              "  .colab-df-quickchart-complete:disabled,\n",
              "  .colab-df-quickchart-complete:disabled:hover {\n",
              "    background-color: var(--disabled-bg-color);\n",
              "    fill: var(--disabled-fill-color);\n",
              "    box-shadow: none;\n",
              "  }\n",
              "\n",
              "  .colab-df-spinner {\n",
              "    border: 2px solid var(--fill-color);\n",
              "    border-color: transparent;\n",
              "    border-bottom-color: var(--fill-color);\n",
              "    animation:\n",
              "      spin 1s steps(1) infinite;\n",
              "  }\n",
              "\n",
              "  @keyframes spin {\n",
              "    0% {\n",
              "      border-color: transparent;\n",
              "      border-bottom-color: var(--fill-color);\n",
              "      border-left-color: var(--fill-color);\n",
              "    }\n",
              "    20% {\n",
              "      border-color: transparent;\n",
              "      border-left-color: var(--fill-color);\n",
              "      border-top-color: var(--fill-color);\n",
              "    }\n",
              "    30% {\n",
              "      border-color: transparent;\n",
              "      border-left-color: var(--fill-color);\n",
              "      border-top-color: var(--fill-color);\n",
              "      border-right-color: var(--fill-color);\n",
              "    }\n",
              "    40% {\n",
              "      border-color: transparent;\n",
              "      border-right-color: var(--fill-color);\n",
              "      border-top-color: var(--fill-color);\n",
              "    }\n",
              "    60% {\n",
              "      border-color: transparent;\n",
              "      border-right-color: var(--fill-color);\n",
              "    }\n",
              "    80% {\n",
              "      border-color: transparent;\n",
              "      border-right-color: var(--fill-color);\n",
              "      border-bottom-color: var(--fill-color);\n",
              "    }\n",
              "    90% {\n",
              "      border-color: transparent;\n",
              "      border-bottom-color: var(--fill-color);\n",
              "    }\n",
              "  }\n",
              "</style>\n",
              "\n",
              "  <script>\n",
              "    async function quickchart(key) {\n",
              "      const quickchartButtonEl =\n",
              "        document.querySelector('#' + key + ' button');\n",
              "      quickchartButtonEl.disabled = true;  // To prevent multiple clicks.\n",
              "      quickchartButtonEl.classList.add('colab-df-spinner');\n",
              "      try {\n",
              "        const charts = await google.colab.kernel.invokeFunction(\n",
              "            'suggestCharts', [key], {});\n",
              "      } catch (error) {\n",
              "        console.error('Error during call to suggestCharts:', error);\n",
              "      }\n",
              "      quickchartButtonEl.classList.remove('colab-df-spinner');\n",
              "      quickchartButtonEl.classList.add('colab-df-quickchart-complete');\n",
              "    }\n",
              "    (() => {\n",
              "      let quickchartButtonEl =\n",
              "        document.querySelector('#df-a1aa4b00-a1ed-4440-9d0a-4c24b1d1de62 button');\n",
              "      quickchartButtonEl.style.display =\n",
              "        google.colab.kernel.accessAllowed ? 'block' : 'none';\n",
              "    })();\n",
              "  </script>\n",
              "</div>\n",
              "\n",
              "  <div id=\"id_8b9d2aa0-0139-453f-bee4-43c80b2dce84\">\n",
              "    <style>\n",
              "      .colab-df-generate {\n",
              "        background-color: #E8F0FE;\n",
              "        border: none;\n",
              "        border-radius: 50%;\n",
              "        cursor: pointer;\n",
              "        display: none;\n",
              "        fill: #1967D2;\n",
              "        height: 32px;\n",
              "        padding: 0 0 0 0;\n",
              "        width: 32px;\n",
              "      }\n",
              "\n",
              "      .colab-df-generate:hover {\n",
              "        background-color: #E2EBFA;\n",
              "        box-shadow: 0px 1px 2px rgba(60, 64, 67, 0.3), 0px 1px 3px 1px rgba(60, 64, 67, 0.15);\n",
              "        fill: #174EA6;\n",
              "      }\n",
              "\n",
              "      [theme=dark] .colab-df-generate {\n",
              "        background-color: #3B4455;\n",
              "        fill: #D2E3FC;\n",
              "      }\n",
              "\n",
              "      [theme=dark] .colab-df-generate:hover {\n",
              "        background-color: #434B5C;\n",
              "        box-shadow: 0px 1px 3px 1px rgba(0, 0, 0, 0.15);\n",
              "        filter: drop-shadow(0px 1px 2px rgba(0, 0, 0, 0.3));\n",
              "        fill: #FFFFFF;\n",
              "      }\n",
              "    </style>\n",
              "    <button class=\"colab-df-generate\" onclick=\"generateWithVariable('df')\"\n",
              "            title=\"Generate code using this dataframe.\"\n",
              "            style=\"display:none;\">\n",
              "\n",
              "  <svg xmlns=\"http://www.w3.org/2000/svg\" height=\"24px\"viewBox=\"0 0 24 24\"\n",
              "       width=\"24px\">\n",
              "    <path d=\"M7,19H8.4L18.45,9,17,7.55,7,17.6ZM5,21V16.75L18.45,3.32a2,2,0,0,1,2.83,0l1.4,1.43a1.91,1.91,0,0,1,.58,1.4,1.91,1.91,0,0,1-.58,1.4L9.25,21ZM18.45,9,17,7.55Zm-12,3A5.31,5.31,0,0,0,4.9,8.1,5.31,5.31,0,0,0,1,6.5,5.31,5.31,0,0,0,4.9,4.9,5.31,5.31,0,0,0,6.5,1,5.31,5.31,0,0,0,8.1,4.9,5.31,5.31,0,0,0,12,6.5,5.46,5.46,0,0,0,6.5,12Z\"/>\n",
              "  </svg>\n",
              "    </button>\n",
              "    <script>\n",
              "      (() => {\n",
              "      const buttonEl =\n",
              "        document.querySelector('#id_8b9d2aa0-0139-453f-bee4-43c80b2dce84 button.colab-df-generate');\n",
              "      buttonEl.style.display =\n",
              "        google.colab.kernel.accessAllowed ? 'block' : 'none';\n",
              "\n",
              "      buttonEl.onclick = () => {\n",
              "        google.colab.notebook.generateWithVariable('df');\n",
              "      }\n",
              "      })();\n",
              "    </script>\n",
              "  </div>\n",
              "\n",
              "    </div>\n",
              "  </div>\n"
            ],
            "application/vnd.google.colaboratory.intrinsic+json": {
              "type": "dataframe",
              "variable_name": "df",
              "summary": "{\n  \"name\": \"df\",\n  \"rows\": 10841,\n  \"fields\": [\n    {\n      \"column\": \"App\",\n      \"properties\": {\n        \"dtype\": \"string\",\n        \"num_unique_values\": 9660,\n        \"samples\": [\n          \"Run R Script - Online Statistical Data Analysis\",\n          \"EURES - Your Job in Europe\",\n          \"Dog Licks Screen Wallpaper\"\n        ],\n        \"semantic_type\": \"\",\n        \"description\": \"\"\n      }\n    },\n    {\n      \"column\": \"Category\",\n      \"properties\": {\n        \"dtype\": \"category\",\n        \"num_unique_values\": 34,\n        \"samples\": [\n          \"LIBRARIES_AND_DEMO\",\n          \"MEDICAL\",\n          \"PRODUCTIVITY\"\n        ],\n        \"semantic_type\": \"\",\n        \"description\": \"\"\n      }\n    },\n    {\n      \"column\": \"Rating\",\n      \"properties\": {\n        \"dtype\": \"number\",\n        \"std\": 0.5374313031477594,\n        \"min\": 1.0,\n        \"max\": 19.0,\n        \"num_unique_values\": 40,\n        \"samples\": [\n          5.0,\n          3.4,\n          3.3\n        ],\n        \"semantic_type\": \"\",\n        \"description\": \"\"\n      }\n    },\n    {\n      \"column\": \"Reviews\",\n      \"properties\": {\n        \"dtype\": \"string\",\n        \"num_unique_values\": 6002,\n        \"samples\": [\n          \"66661\",\n          \"7479\",\n          \"8978\"\n        ],\n        \"semantic_type\": \"\",\n        \"description\": \"\"\n      }\n    },\n    {\n      \"column\": \"Size\",\n      \"properties\": {\n        \"dtype\": \"category\",\n        \"num_unique_values\": 462,\n        \"samples\": [\n          \"746k\",\n          \"9.4M\",\n          \"35M\"\n        ],\n        \"semantic_type\": \"\",\n        \"description\": \"\"\n      }\n    },\n    {\n      \"column\": \"Installs\",\n      \"properties\": {\n        \"dtype\": \"category\",\n        \"num_unique_values\": 22,\n        \"samples\": [\n          \"10,000+\",\n          \"50+\",\n          \"5,000+\"\n        ],\n        \"semantic_type\": \"\",\n        \"description\": \"\"\n      }\n    },\n    {\n      \"column\": \"Type\",\n      \"properties\": {\n        \"dtype\": \"category\",\n        \"num_unique_values\": 3,\n        \"samples\": [\n          \"Free\",\n          \"Paid\",\n          \"0\"\n        ],\n        \"semantic_type\": \"\",\n        \"description\": \"\"\n      }\n    },\n    {\n      \"column\": \"Price\",\n      \"properties\": {\n        \"dtype\": \"category\",\n        \"num_unique_values\": 93,\n        \"samples\": [\n          \"$17.99\",\n          \"$29.99\",\n          \"$37.99\"\n        ],\n        \"semantic_type\": \"\",\n        \"description\": \"\"\n      }\n    },\n    {\n      \"column\": \"Content Rating\",\n      \"properties\": {\n        \"dtype\": \"category\",\n        \"num_unique_values\": 6,\n        \"samples\": [\n          \"Everyone\",\n          \"Teen\",\n          \"Unrated\"\n        ],\n        \"semantic_type\": \"\",\n        \"description\": \"\"\n      }\n    },\n    {\n      \"column\": \"Genres\",\n      \"properties\": {\n        \"dtype\": \"category\",\n        \"num_unique_values\": 120,\n        \"samples\": [\n          \"Casual;Action & Adventure\",\n          \"Board\",\n          \"Auto & Vehicles\"\n        ],\n        \"semantic_type\": \"\",\n        \"description\": \"\"\n      }\n    },\n    {\n      \"column\": \"Last Updated\",\n      \"properties\": {\n        \"dtype\": \"category\",\n        \"num_unique_values\": 1378,\n        \"samples\": [\n          \"March 15, 2016\",\n          \"May 14, 2013\",\n          \"October 21, 2015\"\n        ],\n        \"semantic_type\": \"\",\n        \"description\": \"\"\n      }\n    },\n    {\n      \"column\": \"Current Ver\",\n      \"properties\": {\n        \"dtype\": \"category\",\n        \"num_unique_values\": 2832,\n        \"samples\": [\n          \"7.0.4.17908\",\n          \"1.2.5.4-11\",\n          \"2.5.7.1\"\n        ],\n        \"semantic_type\": \"\",\n        \"description\": \"\"\n      }\n    },\n    {\n      \"column\": \"Android Ver\",\n      \"properties\": {\n        \"dtype\": \"category\",\n        \"num_unique_values\": 33,\n        \"samples\": [\n          \"2.2 - 7.1.1\",\n          \"7.0 and up\",\n          \"3.1 and up\"\n        ],\n        \"semantic_type\": \"\",\n        \"description\": \"\"\n      }\n    }\n  ]\n}"
            }
          },
          "metadata": {},
          "execution_count": 446
        }
      ]
    },
    {
      "cell_type": "code",
      "source": [
        "df.info()"
      ],
      "metadata": {
        "colab": {
          "base_uri": "https://localhost:8080/"
        },
        "id": "dJcAgoLBJWsb",
        "outputId": "0f385236-b47c-4651-9a3e-4b29b1109e9b"
      },
      "execution_count": 447,
      "outputs": [
        {
          "output_type": "stream",
          "name": "stdout",
          "text": [
            "<class 'pandas.core.frame.DataFrame'>\n",
            "RangeIndex: 10841 entries, 0 to 10840\n",
            "Data columns (total 13 columns):\n",
            " #   Column          Non-Null Count  Dtype  \n",
            "---  ------          --------------  -----  \n",
            " 0   App             10841 non-null  object \n",
            " 1   Category        10841 non-null  object \n",
            " 2   Rating          9367 non-null   float64\n",
            " 3   Reviews         10841 non-null  object \n",
            " 4   Size            10841 non-null  object \n",
            " 5   Installs        10841 non-null  object \n",
            " 6   Type            10840 non-null  object \n",
            " 7   Price           10841 non-null  object \n",
            " 8   Content Rating  10840 non-null  object \n",
            " 9   Genres          10841 non-null  object \n",
            " 10  Last Updated    10841 non-null  object \n",
            " 11  Current Ver     10833 non-null  object \n",
            " 12  Android Ver     10838 non-null  object \n",
            "dtypes: float64(1), object(12)\n",
            "memory usage: 1.1+ MB\n"
          ]
        }
      ]
    },
    {
      "cell_type": "code",
      "source": [
        "df.isnull().mean()*100"
      ],
      "metadata": {
        "colab": {
          "base_uri": "https://localhost:8080/",
          "height": 491
        },
        "id": "AjbBKPUYJEsm",
        "outputId": "cbd87faa-4b96-4240-ce45-25e612dd0f15"
      },
      "execution_count": 448,
      "outputs": [
        {
          "output_type": "execute_result",
          "data": {
            "text/plain": [
              "App                0.000000\n",
              "Category           0.000000\n",
              "Rating            13.596532\n",
              "Reviews            0.000000\n",
              "Size               0.000000\n",
              "Installs           0.000000\n",
              "Type               0.009224\n",
              "Price              0.000000\n",
              "Content Rating     0.009224\n",
              "Genres             0.000000\n",
              "Last Updated       0.000000\n",
              "Current Ver        0.073794\n",
              "Android Ver        0.027673\n",
              "dtype: float64"
            ],
            "text/html": [
              "<div>\n",
              "<style scoped>\n",
              "    .dataframe tbody tr th:only-of-type {\n",
              "        vertical-align: middle;\n",
              "    }\n",
              "\n",
              "    .dataframe tbody tr th {\n",
              "        vertical-align: top;\n",
              "    }\n",
              "\n",
              "    .dataframe thead th {\n",
              "        text-align: right;\n",
              "    }\n",
              "</style>\n",
              "<table border=\"1\" class=\"dataframe\">\n",
              "  <thead>\n",
              "    <tr style=\"text-align: right;\">\n",
              "      <th></th>\n",
              "      <th>0</th>\n",
              "    </tr>\n",
              "  </thead>\n",
              "  <tbody>\n",
              "    <tr>\n",
              "      <th>App</th>\n",
              "      <td>0.000000</td>\n",
              "    </tr>\n",
              "    <tr>\n",
              "      <th>Category</th>\n",
              "      <td>0.000000</td>\n",
              "    </tr>\n",
              "    <tr>\n",
              "      <th>Rating</th>\n",
              "      <td>13.596532</td>\n",
              "    </tr>\n",
              "    <tr>\n",
              "      <th>Reviews</th>\n",
              "      <td>0.000000</td>\n",
              "    </tr>\n",
              "    <tr>\n",
              "      <th>Size</th>\n",
              "      <td>0.000000</td>\n",
              "    </tr>\n",
              "    <tr>\n",
              "      <th>Installs</th>\n",
              "      <td>0.000000</td>\n",
              "    </tr>\n",
              "    <tr>\n",
              "      <th>Type</th>\n",
              "      <td>0.009224</td>\n",
              "    </tr>\n",
              "    <tr>\n",
              "      <th>Price</th>\n",
              "      <td>0.000000</td>\n",
              "    </tr>\n",
              "    <tr>\n",
              "      <th>Content Rating</th>\n",
              "      <td>0.009224</td>\n",
              "    </tr>\n",
              "    <tr>\n",
              "      <th>Genres</th>\n",
              "      <td>0.000000</td>\n",
              "    </tr>\n",
              "    <tr>\n",
              "      <th>Last Updated</th>\n",
              "      <td>0.000000</td>\n",
              "    </tr>\n",
              "    <tr>\n",
              "      <th>Current Ver</th>\n",
              "      <td>0.073794</td>\n",
              "    </tr>\n",
              "    <tr>\n",
              "      <th>Android Ver</th>\n",
              "      <td>0.027673</td>\n",
              "    </tr>\n",
              "  </tbody>\n",
              "</table>\n",
              "</div><br><label><b>dtype:</b> float64</label>"
            ]
          },
          "metadata": {},
          "execution_count": 448
        }
      ]
    },
    {
      "cell_type": "code",
      "source": [
        "df.drop(columns=['Price'],inplace=True)"
      ],
      "metadata": {
        "id": "uBmr4IrYJE4O"
      },
      "execution_count": 449,
      "outputs": []
    },
    {
      "cell_type": "code",
      "source": [
        "df['Rating'].mean()"
      ],
      "metadata": {
        "colab": {
          "base_uri": "https://localhost:8080/"
        },
        "id": "w5HSG63lKcgc",
        "outputId": "7da428b2-f7d4-463f-9660-17631a8c80cb"
      },
      "execution_count": 450,
      "outputs": [
        {
          "output_type": "execute_result",
          "data": {
            "text/plain": [
              "4.193338315362443"
            ]
          },
          "metadata": {},
          "execution_count": 450
        }
      ]
    },
    {
      "cell_type": "code",
      "source": [
        "df['Rating']=df['Rating'].astype(str)"
      ],
      "metadata": {
        "collapsed": true,
        "id": "PcFUitplJE7f"
      },
      "execution_count": 451,
      "outputs": []
    },
    {
      "cell_type": "code",
      "source": [
        "df['Rating']=df['Rating'].str.replace('nan','4.19')"
      ],
      "metadata": {
        "id": "k3ClGplaMBhc"
      },
      "execution_count": 452,
      "outputs": []
    },
    {
      "cell_type": "code",
      "source": [
        "df['Rating']=pd.to_numeric(df['Rating'])"
      ],
      "metadata": {
        "id": "GqCTNJWuJE-t"
      },
      "execution_count": 453,
      "outputs": []
    },
    {
      "cell_type": "code",
      "source": [
        "df.dropna(subset=['Type','Content Rating'],inplace=True)"
      ],
      "metadata": {
        "id": "lTgMd-_PJFB9"
      },
      "execution_count": 454,
      "outputs": []
    },
    {
      "cell_type": "code",
      "source": [
        "df['Current Ver'].fillna('Unknown',inplace=True)"
      ],
      "metadata": {
        "colab": {
          "base_uri": "https://localhost:8080/"
        },
        "id": "ceX_L3E1JFIB",
        "outputId": "ab192191-5804-40d5-e607-7971d80bd063"
      },
      "execution_count": 455,
      "outputs": [
        {
          "output_type": "stream",
          "name": "stderr",
          "text": [
            "<ipython-input-455-ad534f3ff5f0>:1: FutureWarning:\n",
            "\n",
            "A value is trying to be set on a copy of a DataFrame or Series through chained assignment using an inplace method.\n",
            "The behavior will change in pandas 3.0. This inplace method will never work because the intermediate object on which we are setting values always behaves as a copy.\n",
            "\n",
            "For example, when doing 'df[col].method(value, inplace=True)', try using 'df.method({col: value}, inplace=True)' or df[col] = df[col].method(value) instead, to perform the operation inplace on the original object.\n",
            "\n",
            "\n",
            "\n"
          ]
        }
      ]
    },
    {
      "cell_type": "code",
      "source": [
        "df['Android Ver'].fillna('Unknown',inplace=True)"
      ],
      "metadata": {
        "colab": {
          "base_uri": "https://localhost:8080/"
        },
        "id": "8aKUV8TuPjaf",
        "outputId": "d3ed94e0-6dff-4f6b-e76c-6f2ab157f56a"
      },
      "execution_count": 456,
      "outputs": [
        {
          "output_type": "stream",
          "name": "stderr",
          "text": [
            "<ipython-input-456-74a8c1db894b>:1: FutureWarning:\n",
            "\n",
            "A value is trying to be set on a copy of a DataFrame or Series through chained assignment using an inplace method.\n",
            "The behavior will change in pandas 3.0. This inplace method will never work because the intermediate object on which we are setting values always behaves as a copy.\n",
            "\n",
            "For example, when doing 'df[col].method(value, inplace=True)', try using 'df.method({col: value}, inplace=True)' or df[col] = df[col].method(value) instead, to perform the operation inplace on the original object.\n",
            "\n",
            "\n",
            "\n"
          ]
        }
      ]
    },
    {
      "cell_type": "code",
      "source": [
        "df.isnull().sum()"
      ],
      "metadata": {
        "colab": {
          "base_uri": "https://localhost:8080/",
          "height": 460
        },
        "id": "Cv6QDyG9JFE4",
        "outputId": "9f70d8ef-2910-4409-e286-3b508522ee7b"
      },
      "execution_count": 457,
      "outputs": [
        {
          "output_type": "execute_result",
          "data": {
            "text/plain": [
              "App               0\n",
              "Category          0\n",
              "Rating            0\n",
              "Reviews           0\n",
              "Size              0\n",
              "Installs          0\n",
              "Type              0\n",
              "Content Rating    0\n",
              "Genres            0\n",
              "Last Updated      0\n",
              "Current Ver       0\n",
              "Android Ver       0\n",
              "dtype: int64"
            ],
            "text/html": [
              "<div>\n",
              "<style scoped>\n",
              "    .dataframe tbody tr th:only-of-type {\n",
              "        vertical-align: middle;\n",
              "    }\n",
              "\n",
              "    .dataframe tbody tr th {\n",
              "        vertical-align: top;\n",
              "    }\n",
              "\n",
              "    .dataframe thead th {\n",
              "        text-align: right;\n",
              "    }\n",
              "</style>\n",
              "<table border=\"1\" class=\"dataframe\">\n",
              "  <thead>\n",
              "    <tr style=\"text-align: right;\">\n",
              "      <th></th>\n",
              "      <th>0</th>\n",
              "    </tr>\n",
              "  </thead>\n",
              "  <tbody>\n",
              "    <tr>\n",
              "      <th>App</th>\n",
              "      <td>0</td>\n",
              "    </tr>\n",
              "    <tr>\n",
              "      <th>Category</th>\n",
              "      <td>0</td>\n",
              "    </tr>\n",
              "    <tr>\n",
              "      <th>Rating</th>\n",
              "      <td>0</td>\n",
              "    </tr>\n",
              "    <tr>\n",
              "      <th>Reviews</th>\n",
              "      <td>0</td>\n",
              "    </tr>\n",
              "    <tr>\n",
              "      <th>Size</th>\n",
              "      <td>0</td>\n",
              "    </tr>\n",
              "    <tr>\n",
              "      <th>Installs</th>\n",
              "      <td>0</td>\n",
              "    </tr>\n",
              "    <tr>\n",
              "      <th>Type</th>\n",
              "      <td>0</td>\n",
              "    </tr>\n",
              "    <tr>\n",
              "      <th>Content Rating</th>\n",
              "      <td>0</td>\n",
              "    </tr>\n",
              "    <tr>\n",
              "      <th>Genres</th>\n",
              "      <td>0</td>\n",
              "    </tr>\n",
              "    <tr>\n",
              "      <th>Last Updated</th>\n",
              "      <td>0</td>\n",
              "    </tr>\n",
              "    <tr>\n",
              "      <th>Current Ver</th>\n",
              "      <td>0</td>\n",
              "    </tr>\n",
              "    <tr>\n",
              "      <th>Android Ver</th>\n",
              "      <td>0</td>\n",
              "    </tr>\n",
              "  </tbody>\n",
              "</table>\n",
              "</div><br><label><b>dtype:</b> int64</label>"
            ]
          },
          "metadata": {},
          "execution_count": 457
        }
      ]
    },
    {
      "cell_type": "code",
      "source": [
        "df.info()"
      ],
      "metadata": {
        "colab": {
          "base_uri": "https://localhost:8080/"
        },
        "id": "ehvepvowQFep",
        "outputId": "05531822-f4b3-4e60-ac6e-ee6cf2f2cbbb"
      },
      "execution_count": 458,
      "outputs": [
        {
          "output_type": "stream",
          "name": "stdout",
          "text": [
            "<class 'pandas.core.frame.DataFrame'>\n",
            "Index: 10839 entries, 0 to 10840\n",
            "Data columns (total 12 columns):\n",
            " #   Column          Non-Null Count  Dtype  \n",
            "---  ------          --------------  -----  \n",
            " 0   App             10839 non-null  object \n",
            " 1   Category        10839 non-null  object \n",
            " 2   Rating          10839 non-null  float64\n",
            " 3   Reviews         10839 non-null  object \n",
            " 4   Size            10839 non-null  object \n",
            " 5   Installs        10839 non-null  object \n",
            " 6   Type            10839 non-null  object \n",
            " 7   Content Rating  10839 non-null  object \n",
            " 8   Genres          10839 non-null  object \n",
            " 9   Last Updated    10839 non-null  object \n",
            " 10  Current Ver     10839 non-null  object \n",
            " 11  Android Ver     10839 non-null  object \n",
            "dtypes: float64(1), object(11)\n",
            "memory usage: 1.1+ MB\n"
          ]
        }
      ]
    },
    {
      "cell_type": "code",
      "source": [
        "#Data Types\n",
        "#Reviews,Lastupdatd,size,Installs"
      ],
      "metadata": {
        "id": "LtzvAVq3QO5S"
      },
      "execution_count": 459,
      "outputs": []
    },
    {
      "cell_type": "code",
      "source": [
        "df['Reviews']=pd.to_numeric(df['Reviews'],errors='coerce')"
      ],
      "metadata": {
        "id": "8fJs-ApaQOO1"
      },
      "execution_count": 460,
      "outputs": []
    },
    {
      "cell_type": "code",
      "source": [
        "df['Size'].value_counts()"
      ],
      "metadata": {
        "colab": {
          "base_uri": "https://localhost:8080/",
          "height": 489
        },
        "id": "sxbn30jRRE3M",
        "outputId": "ed2a5440-01c7-4d91-e781-98873ad68337"
      },
      "execution_count": 461,
      "outputs": [
        {
          "output_type": "execute_result",
          "data": {
            "text/plain": [
              "Size\n",
              "Varies with device    1694\n",
              "11M                    198\n",
              "12M                    196\n",
              "14M                    194\n",
              "13M                    191\n",
              "                      ... \n",
              "430k                     1\n",
              "429k                     1\n",
              "200k                     1\n",
              "460k                     1\n",
              "619k                     1\n",
              "Name: count, Length: 461, dtype: int64"
            ],
            "text/html": [
              "<div>\n",
              "<style scoped>\n",
              "    .dataframe tbody tr th:only-of-type {\n",
              "        vertical-align: middle;\n",
              "    }\n",
              "\n",
              "    .dataframe tbody tr th {\n",
              "        vertical-align: top;\n",
              "    }\n",
              "\n",
              "    .dataframe thead th {\n",
              "        text-align: right;\n",
              "    }\n",
              "</style>\n",
              "<table border=\"1\" class=\"dataframe\">\n",
              "  <thead>\n",
              "    <tr style=\"text-align: right;\">\n",
              "      <th></th>\n",
              "      <th>count</th>\n",
              "    </tr>\n",
              "    <tr>\n",
              "      <th>Size</th>\n",
              "      <th></th>\n",
              "    </tr>\n",
              "  </thead>\n",
              "  <tbody>\n",
              "    <tr>\n",
              "      <th>Varies with device</th>\n",
              "      <td>1694</td>\n",
              "    </tr>\n",
              "    <tr>\n",
              "      <th>11M</th>\n",
              "      <td>198</td>\n",
              "    </tr>\n",
              "    <tr>\n",
              "      <th>12M</th>\n",
              "      <td>196</td>\n",
              "    </tr>\n",
              "    <tr>\n",
              "      <th>14M</th>\n",
              "      <td>194</td>\n",
              "    </tr>\n",
              "    <tr>\n",
              "      <th>13M</th>\n",
              "      <td>191</td>\n",
              "    </tr>\n",
              "    <tr>\n",
              "      <th>...</th>\n",
              "      <td>...</td>\n",
              "    </tr>\n",
              "    <tr>\n",
              "      <th>430k</th>\n",
              "      <td>1</td>\n",
              "    </tr>\n",
              "    <tr>\n",
              "      <th>429k</th>\n",
              "      <td>1</td>\n",
              "    </tr>\n",
              "    <tr>\n",
              "      <th>200k</th>\n",
              "      <td>1</td>\n",
              "    </tr>\n",
              "    <tr>\n",
              "      <th>460k</th>\n",
              "      <td>1</td>\n",
              "    </tr>\n",
              "    <tr>\n",
              "      <th>619k</th>\n",
              "      <td>1</td>\n",
              "    </tr>\n",
              "  </tbody>\n",
              "</table>\n",
              "<p>461 rows × 1 columns</p>\n",
              "</div><br><label><b>dtype:</b> int64</label>"
            ]
          },
          "metadata": {},
          "execution_count": 461
        }
      ]
    },
    {
      "cell_type": "code",
      "source": [
        "def size_convert(value):\n",
        "    if value[-1].upper() == 'M':\n",
        "        return float(value[:-1]) * 1_000_000\n",
        "    elif value[-1].upper()=='k':\n",
        "      return float(value[:-1]) * 1_000\n",
        "    elif value == 'Varies with device':\n",
        "        return np.nan\n",
        "    else:\n",
        "        return np.nan\n",
        "\n",
        "\n",
        "\n",
        "df['Size']=df['Size'].apply(size_convert)\n",
        "\n",
        "\n",
        "\n",
        ""
      ],
      "metadata": {
        "id": "QBo79d-GRlgP"
      },
      "execution_count": 462,
      "outputs": []
    },
    {
      "cell_type": "code",
      "source": [
        "df['Size']=pd.to_numeric(df['Size'])"
      ],
      "metadata": {
        "id": "n8-bkusHUavc"
      },
      "execution_count": 463,
      "outputs": []
    },
    {
      "cell_type": "code",
      "source": [
        "df.info()"
      ],
      "metadata": {
        "colab": {
          "base_uri": "https://localhost:8080/"
        },
        "id": "evURFW6dUo-o",
        "outputId": "ab0e9c4f-c40c-4d37-9aa6-61d4272308b7"
      },
      "execution_count": 464,
      "outputs": [
        {
          "output_type": "stream",
          "name": "stdout",
          "text": [
            "<class 'pandas.core.frame.DataFrame'>\n",
            "Index: 10839 entries, 0 to 10840\n",
            "Data columns (total 12 columns):\n",
            " #   Column          Non-Null Count  Dtype  \n",
            "---  ------          --------------  -----  \n",
            " 0   App             10839 non-null  object \n",
            " 1   Category        10839 non-null  object \n",
            " 2   Rating          10839 non-null  float64\n",
            " 3   Reviews         10839 non-null  int64  \n",
            " 4   Size            8829 non-null   float64\n",
            " 5   Installs        10839 non-null  object \n",
            " 6   Type            10839 non-null  object \n",
            " 7   Content Rating  10839 non-null  object \n",
            " 8   Genres          10839 non-null  object \n",
            " 9   Last Updated    10839 non-null  object \n",
            " 10  Current Ver     10839 non-null  object \n",
            " 11  Android Ver     10839 non-null  object \n",
            "dtypes: float64(2), int64(1), object(9)\n",
            "memory usage: 1.1+ MB\n"
          ]
        }
      ]
    },
    {
      "cell_type": "code",
      "source": [
        "df.head(5)"
      ],
      "metadata": {
        "colab": {
          "base_uri": "https://localhost:8080/",
          "height": 293
        },
        "id": "8x5p2HVIJFOh",
        "outputId": "36816ea7-413c-4c2c-b351-754e8f36ce3f"
      },
      "execution_count": 465,
      "outputs": [
        {
          "output_type": "execute_result",
          "data": {
            "text/plain": [
              "                                                 App        Category  Rating  \\\n",
              "0     Photo Editor & Candy Camera & Grid & ScrapBook  ART_AND_DESIGN     4.1   \n",
              "1                                Coloring book moana  ART_AND_DESIGN     3.9   \n",
              "2  U Launcher Lite – FREE Live Cool Themes, Hide ...  ART_AND_DESIGN     4.7   \n",
              "3                              Sketch - Draw & Paint  ART_AND_DESIGN     4.5   \n",
              "4              Pixel Draw - Number Art Coloring Book  ART_AND_DESIGN     4.3   \n",
              "\n",
              "   Reviews        Size     Installs  Type Content Rating  \\\n",
              "0      159  19000000.0      10,000+  Free       Everyone   \n",
              "1      967  14000000.0     500,000+  Free       Everyone   \n",
              "2    87510   8700000.0   5,000,000+  Free       Everyone   \n",
              "3   215644  25000000.0  50,000,000+  Free           Teen   \n",
              "4      967   2800000.0     100,000+  Free       Everyone   \n",
              "\n",
              "                      Genres      Last Updated         Current Ver  \\\n",
              "0               Art & Design   January 7, 2018               1.0.0   \n",
              "1  Art & Design;Pretend Play  January 15, 2018               2.0.0   \n",
              "2               Art & Design    August 1, 2018               1.2.4   \n",
              "3               Art & Design      June 8, 2018  Varies with device   \n",
              "4    Art & Design;Creativity     June 20, 2018                 1.1   \n",
              "\n",
              "    Android Ver  \n",
              "0  4.0.3 and up  \n",
              "1  4.0.3 and up  \n",
              "2  4.0.3 and up  \n",
              "3    4.2 and up  \n",
              "4    4.4 and up  "
            ],
            "text/html": [
              "\n",
              "  <div id=\"df-b3c262a5-782a-4e7b-b823-fc6b3dacc8b6\" class=\"colab-df-container\">\n",
              "    <div>\n",
              "<style scoped>\n",
              "    .dataframe tbody tr th:only-of-type {\n",
              "        vertical-align: middle;\n",
              "    }\n",
              "\n",
              "    .dataframe tbody tr th {\n",
              "        vertical-align: top;\n",
              "    }\n",
              "\n",
              "    .dataframe thead th {\n",
              "        text-align: right;\n",
              "    }\n",
              "</style>\n",
              "<table border=\"1\" class=\"dataframe\">\n",
              "  <thead>\n",
              "    <tr style=\"text-align: right;\">\n",
              "      <th></th>\n",
              "      <th>App</th>\n",
              "      <th>Category</th>\n",
              "      <th>Rating</th>\n",
              "      <th>Reviews</th>\n",
              "      <th>Size</th>\n",
              "      <th>Installs</th>\n",
              "      <th>Type</th>\n",
              "      <th>Content Rating</th>\n",
              "      <th>Genres</th>\n",
              "      <th>Last Updated</th>\n",
              "      <th>Current Ver</th>\n",
              "      <th>Android Ver</th>\n",
              "    </tr>\n",
              "  </thead>\n",
              "  <tbody>\n",
              "    <tr>\n",
              "      <th>0</th>\n",
              "      <td>Photo Editor &amp; Candy Camera &amp; Grid &amp; ScrapBook</td>\n",
              "      <td>ART_AND_DESIGN</td>\n",
              "      <td>4.1</td>\n",
              "      <td>159</td>\n",
              "      <td>19000000.0</td>\n",
              "      <td>10,000+</td>\n",
              "      <td>Free</td>\n",
              "      <td>Everyone</td>\n",
              "      <td>Art &amp; Design</td>\n",
              "      <td>January 7, 2018</td>\n",
              "      <td>1.0.0</td>\n",
              "      <td>4.0.3 and up</td>\n",
              "    </tr>\n",
              "    <tr>\n",
              "      <th>1</th>\n",
              "      <td>Coloring book moana</td>\n",
              "      <td>ART_AND_DESIGN</td>\n",
              "      <td>3.9</td>\n",
              "      <td>967</td>\n",
              "      <td>14000000.0</td>\n",
              "      <td>500,000+</td>\n",
              "      <td>Free</td>\n",
              "      <td>Everyone</td>\n",
              "      <td>Art &amp; Design;Pretend Play</td>\n",
              "      <td>January 15, 2018</td>\n",
              "      <td>2.0.0</td>\n",
              "      <td>4.0.3 and up</td>\n",
              "    </tr>\n",
              "    <tr>\n",
              "      <th>2</th>\n",
              "      <td>U Launcher Lite – FREE Live Cool Themes, Hide ...</td>\n",
              "      <td>ART_AND_DESIGN</td>\n",
              "      <td>4.7</td>\n",
              "      <td>87510</td>\n",
              "      <td>8700000.0</td>\n",
              "      <td>5,000,000+</td>\n",
              "      <td>Free</td>\n",
              "      <td>Everyone</td>\n",
              "      <td>Art &amp; Design</td>\n",
              "      <td>August 1, 2018</td>\n",
              "      <td>1.2.4</td>\n",
              "      <td>4.0.3 and up</td>\n",
              "    </tr>\n",
              "    <tr>\n",
              "      <th>3</th>\n",
              "      <td>Sketch - Draw &amp; Paint</td>\n",
              "      <td>ART_AND_DESIGN</td>\n",
              "      <td>4.5</td>\n",
              "      <td>215644</td>\n",
              "      <td>25000000.0</td>\n",
              "      <td>50,000,000+</td>\n",
              "      <td>Free</td>\n",
              "      <td>Teen</td>\n",
              "      <td>Art &amp; Design</td>\n",
              "      <td>June 8, 2018</td>\n",
              "      <td>Varies with device</td>\n",
              "      <td>4.2 and up</td>\n",
              "    </tr>\n",
              "    <tr>\n",
              "      <th>4</th>\n",
              "      <td>Pixel Draw - Number Art Coloring Book</td>\n",
              "      <td>ART_AND_DESIGN</td>\n",
              "      <td>4.3</td>\n",
              "      <td>967</td>\n",
              "      <td>2800000.0</td>\n",
              "      <td>100,000+</td>\n",
              "      <td>Free</td>\n",
              "      <td>Everyone</td>\n",
              "      <td>Art &amp; Design;Creativity</td>\n",
              "      <td>June 20, 2018</td>\n",
              "      <td>1.1</td>\n",
              "      <td>4.4 and up</td>\n",
              "    </tr>\n",
              "  </tbody>\n",
              "</table>\n",
              "</div>\n",
              "    <div class=\"colab-df-buttons\">\n",
              "\n",
              "  <div class=\"colab-df-container\">\n",
              "    <button class=\"colab-df-convert\" onclick=\"convertToInteractive('df-b3c262a5-782a-4e7b-b823-fc6b3dacc8b6')\"\n",
              "            title=\"Convert this dataframe to an interactive table.\"\n",
              "            style=\"display:none;\">\n",
              "\n",
              "  <svg xmlns=\"http://www.w3.org/2000/svg\" height=\"24px\" viewBox=\"0 -960 960 960\">\n",
              "    <path d=\"M120-120v-720h720v720H120Zm60-500h600v-160H180v160Zm220 220h160v-160H400v160Zm0 220h160v-160H400v160ZM180-400h160v-160H180v160Zm440 0h160v-160H620v160ZM180-180h160v-160H180v160Zm440 0h160v-160H620v160Z\"/>\n",
              "  </svg>\n",
              "    </button>\n",
              "\n",
              "  <style>\n",
              "    .colab-df-container {\n",
              "      display:flex;\n",
              "      gap: 12px;\n",
              "    }\n",
              "\n",
              "    .colab-df-convert {\n",
              "      background-color: #E8F0FE;\n",
              "      border: none;\n",
              "      border-radius: 50%;\n",
              "      cursor: pointer;\n",
              "      display: none;\n",
              "      fill: #1967D2;\n",
              "      height: 32px;\n",
              "      padding: 0 0 0 0;\n",
              "      width: 32px;\n",
              "    }\n",
              "\n",
              "    .colab-df-convert:hover {\n",
              "      background-color: #E2EBFA;\n",
              "      box-shadow: 0px 1px 2px rgba(60, 64, 67, 0.3), 0px 1px 3px 1px rgba(60, 64, 67, 0.15);\n",
              "      fill: #174EA6;\n",
              "    }\n",
              "\n",
              "    .colab-df-buttons div {\n",
              "      margin-bottom: 4px;\n",
              "    }\n",
              "\n",
              "    [theme=dark] .colab-df-convert {\n",
              "      background-color: #3B4455;\n",
              "      fill: #D2E3FC;\n",
              "    }\n",
              "\n",
              "    [theme=dark] .colab-df-convert:hover {\n",
              "      background-color: #434B5C;\n",
              "      box-shadow: 0px 1px 3px 1px rgba(0, 0, 0, 0.15);\n",
              "      filter: drop-shadow(0px 1px 2px rgba(0, 0, 0, 0.3));\n",
              "      fill: #FFFFFF;\n",
              "    }\n",
              "  </style>\n",
              "\n",
              "    <script>\n",
              "      const buttonEl =\n",
              "        document.querySelector('#df-b3c262a5-782a-4e7b-b823-fc6b3dacc8b6 button.colab-df-convert');\n",
              "      buttonEl.style.display =\n",
              "        google.colab.kernel.accessAllowed ? 'block' : 'none';\n",
              "\n",
              "      async function convertToInteractive(key) {\n",
              "        const element = document.querySelector('#df-b3c262a5-782a-4e7b-b823-fc6b3dacc8b6');\n",
              "        const dataTable =\n",
              "          await google.colab.kernel.invokeFunction('convertToInteractive',\n",
              "                                                    [key], {});\n",
              "        if (!dataTable) return;\n",
              "\n",
              "        const docLinkHtml = 'Like what you see? Visit the ' +\n",
              "          '<a target=\"_blank\" href=https://colab.research.google.com/notebooks/data_table.ipynb>data table notebook</a>'\n",
              "          + ' to learn more about interactive tables.';\n",
              "        element.innerHTML = '';\n",
              "        dataTable['output_type'] = 'display_data';\n",
              "        await google.colab.output.renderOutput(dataTable, element);\n",
              "        const docLink = document.createElement('div');\n",
              "        docLink.innerHTML = docLinkHtml;\n",
              "        element.appendChild(docLink);\n",
              "      }\n",
              "    </script>\n",
              "  </div>\n",
              "\n",
              "\n",
              "<div id=\"df-7e66ef37-79e0-47c2-99c8-239df5761e1e\">\n",
              "  <button class=\"colab-df-quickchart\" onclick=\"quickchart('df-7e66ef37-79e0-47c2-99c8-239df5761e1e')\"\n",
              "            title=\"Suggest charts\"\n",
              "            style=\"display:none;\">\n",
              "\n",
              "<svg xmlns=\"http://www.w3.org/2000/svg\" height=\"24px\"viewBox=\"0 0 24 24\"\n",
              "     width=\"24px\">\n",
              "    <g>\n",
              "        <path d=\"M19 3H5c-1.1 0-2 .9-2 2v14c0 1.1.9 2 2 2h14c1.1 0 2-.9 2-2V5c0-1.1-.9-2-2-2zM9 17H7v-7h2v7zm4 0h-2V7h2v10zm4 0h-2v-4h2v4z\"/>\n",
              "    </g>\n",
              "</svg>\n",
              "  </button>\n",
              "\n",
              "<style>\n",
              "  .colab-df-quickchart {\n",
              "      --bg-color: #E8F0FE;\n",
              "      --fill-color: #1967D2;\n",
              "      --hover-bg-color: #E2EBFA;\n",
              "      --hover-fill-color: #174EA6;\n",
              "      --disabled-fill-color: #AAA;\n",
              "      --disabled-bg-color: #DDD;\n",
              "  }\n",
              "\n",
              "  [theme=dark] .colab-df-quickchart {\n",
              "      --bg-color: #3B4455;\n",
              "      --fill-color: #D2E3FC;\n",
              "      --hover-bg-color: #434B5C;\n",
              "      --hover-fill-color: #FFFFFF;\n",
              "      --disabled-bg-color: #3B4455;\n",
              "      --disabled-fill-color: #666;\n",
              "  }\n",
              "\n",
              "  .colab-df-quickchart {\n",
              "    background-color: var(--bg-color);\n",
              "    border: none;\n",
              "    border-radius: 50%;\n",
              "    cursor: pointer;\n",
              "    display: none;\n",
              "    fill: var(--fill-color);\n",
              "    height: 32px;\n",
              "    padding: 0;\n",
              "    width: 32px;\n",
              "  }\n",
              "\n",
              "  .colab-df-quickchart:hover {\n",
              "    background-color: var(--hover-bg-color);\n",
              "    box-shadow: 0 1px 2px rgba(60, 64, 67, 0.3), 0 1px 3px 1px rgba(60, 64, 67, 0.15);\n",
              "    fill: var(--button-hover-fill-color);\n",
              "  }\n",
              "\n",
              "  .colab-df-quickchart-complete:disabled,\n",
              "  .colab-df-quickchart-complete:disabled:hover {\n",
              "    background-color: var(--disabled-bg-color);\n",
              "    fill: var(--disabled-fill-color);\n",
              "    box-shadow: none;\n",
              "  }\n",
              "\n",
              "  .colab-df-spinner {\n",
              "    border: 2px solid var(--fill-color);\n",
              "    border-color: transparent;\n",
              "    border-bottom-color: var(--fill-color);\n",
              "    animation:\n",
              "      spin 1s steps(1) infinite;\n",
              "  }\n",
              "\n",
              "  @keyframes spin {\n",
              "    0% {\n",
              "      border-color: transparent;\n",
              "      border-bottom-color: var(--fill-color);\n",
              "      border-left-color: var(--fill-color);\n",
              "    }\n",
              "    20% {\n",
              "      border-color: transparent;\n",
              "      border-left-color: var(--fill-color);\n",
              "      border-top-color: var(--fill-color);\n",
              "    }\n",
              "    30% {\n",
              "      border-color: transparent;\n",
              "      border-left-color: var(--fill-color);\n",
              "      border-top-color: var(--fill-color);\n",
              "      border-right-color: var(--fill-color);\n",
              "    }\n",
              "    40% {\n",
              "      border-color: transparent;\n",
              "      border-right-color: var(--fill-color);\n",
              "      border-top-color: var(--fill-color);\n",
              "    }\n",
              "    60% {\n",
              "      border-color: transparent;\n",
              "      border-right-color: var(--fill-color);\n",
              "    }\n",
              "    80% {\n",
              "      border-color: transparent;\n",
              "      border-right-color: var(--fill-color);\n",
              "      border-bottom-color: var(--fill-color);\n",
              "    }\n",
              "    90% {\n",
              "      border-color: transparent;\n",
              "      border-bottom-color: var(--fill-color);\n",
              "    }\n",
              "  }\n",
              "</style>\n",
              "\n",
              "  <script>\n",
              "    async function quickchart(key) {\n",
              "      const quickchartButtonEl =\n",
              "        document.querySelector('#' + key + ' button');\n",
              "      quickchartButtonEl.disabled = true;  // To prevent multiple clicks.\n",
              "      quickchartButtonEl.classList.add('colab-df-spinner');\n",
              "      try {\n",
              "        const charts = await google.colab.kernel.invokeFunction(\n",
              "            'suggestCharts', [key], {});\n",
              "      } catch (error) {\n",
              "        console.error('Error during call to suggestCharts:', error);\n",
              "      }\n",
              "      quickchartButtonEl.classList.remove('colab-df-spinner');\n",
              "      quickchartButtonEl.classList.add('colab-df-quickchart-complete');\n",
              "    }\n",
              "    (() => {\n",
              "      let quickchartButtonEl =\n",
              "        document.querySelector('#df-7e66ef37-79e0-47c2-99c8-239df5761e1e button');\n",
              "      quickchartButtonEl.style.display =\n",
              "        google.colab.kernel.accessAllowed ? 'block' : 'none';\n",
              "    })();\n",
              "  </script>\n",
              "</div>\n",
              "\n",
              "    </div>\n",
              "  </div>\n"
            ],
            "application/vnd.google.colaboratory.intrinsic+json": {
              "type": "dataframe",
              "variable_name": "df",
              "summary": "{\n  \"name\": \"df\",\n  \"rows\": 10839,\n  \"fields\": [\n    {\n      \"column\": \"App\",\n      \"properties\": {\n        \"dtype\": \"string\",\n        \"num_unique_values\": 9658,\n        \"samples\": [\n          \"Guns'n'Glory Zombies Premium\",\n          \"Doorstep EU\",\n          \"UNO \\u2122 & Friends\"\n        ],\n        \"semantic_type\": \"\",\n        \"description\": \"\"\n      }\n    },\n    {\n      \"column\": \"Category\",\n      \"properties\": {\n        \"dtype\": \"category\",\n        \"num_unique_values\": 33,\n        \"samples\": [\n          \"NEWS_AND_MAGAZINES\",\n          \"LIBRARIES_AND_DEMO\",\n          \"PERSONALIZATION\"\n        ],\n        \"semantic_type\": \"\",\n        \"description\": \"\"\n      }\n    },\n    {\n      \"column\": \"Rating\",\n      \"properties\": {\n        \"dtype\": \"number\",\n        \"std\": 0.4789293054013883,\n        \"min\": 1.0,\n        \"max\": 5.0,\n        \"num_unique_values\": 40,\n        \"samples\": [\n          3.1,\n          3.3,\n          3.7\n        ],\n        \"semantic_type\": \"\",\n        \"description\": \"\"\n      }\n    },\n    {\n      \"column\": \"Reviews\",\n      \"properties\": {\n        \"dtype\": \"number\",\n        \"std\": 2927892,\n        \"min\": 0,\n        \"max\": 78158306,\n        \"num_unique_values\": 6001,\n        \"samples\": [\n          66661,\n          7479,\n          8978\n        ],\n        \"semantic_type\": \"\",\n        \"description\": \"\"\n      }\n    },\n    {\n      \"column\": \"Size\",\n      \"properties\": {\n        \"dtype\": \"number\",\n        \"std\": 22628691.29298722,\n        \"min\": 1000000.0,\n        \"max\": 100000000.0,\n        \"num_unique_values\": 181,\n        \"samples\": [\n          4200000.0,\n          8600000.0,\n          67000000.0\n        ],\n        \"semantic_type\": \"\",\n        \"description\": \"\"\n      }\n    },\n    {\n      \"column\": \"Installs\",\n      \"properties\": {\n        \"dtype\": \"category\",\n        \"num_unique_values\": 20,\n        \"samples\": [\n          \"10,000+\",\n          \"1+\",\n          \"500+\"\n        ],\n        \"semantic_type\": \"\",\n        \"description\": \"\"\n      }\n    },\n    {\n      \"column\": \"Type\",\n      \"properties\": {\n        \"dtype\": \"category\",\n        \"num_unique_values\": 2,\n        \"samples\": [\n          \"Paid\",\n          \"Free\"\n        ],\n        \"semantic_type\": \"\",\n        \"description\": \"\"\n      }\n    },\n    {\n      \"column\": \"Content Rating\",\n      \"properties\": {\n        \"dtype\": \"category\",\n        \"num_unique_values\": 6,\n        \"samples\": [\n          \"Everyone\",\n          \"Teen\"\n        ],\n        \"semantic_type\": \"\",\n        \"description\": \"\"\n      }\n    },\n    {\n      \"column\": \"Genres\",\n      \"properties\": {\n        \"dtype\": \"category\",\n        \"num_unique_values\": 119,\n        \"samples\": [\n          \"Educational;Education\",\n          \"Travel & Local\"\n        ],\n        \"semantic_type\": \"\",\n        \"description\": \"\"\n      }\n    },\n    {\n      \"column\": \"Last Updated\",\n      \"properties\": {\n        \"dtype\": \"object\",\n        \"num_unique_values\": 1377,\n        \"samples\": [\n          \"August 9, 2016\",\n          \"January 7, 2017\"\n        ],\n        \"semantic_type\": \"\",\n        \"description\": \"\"\n      }\n    },\n    {\n      \"column\": \"Current Ver\",\n      \"properties\": {\n        \"dtype\": \"category\",\n        \"num_unique_values\": 2832,\n        \"samples\": [\n          \"176.0.0.29.0\",\n          \"0.0.53\"\n        ],\n        \"semantic_type\": \"\",\n        \"description\": \"\"\n      }\n    },\n    {\n      \"column\": \"Android Ver\",\n      \"properties\": {\n        \"dtype\": \"category\",\n        \"num_unique_values\": 34,\n        \"samples\": [\n          \"7.0 and up\",\n          \"2.0 and up\"\n        ],\n        \"semantic_type\": \"\",\n        \"description\": \"\"\n      }\n    }\n  ]\n}"
            }
          },
          "metadata": {},
          "execution_count": 465
        }
      ]
    },
    {
      "cell_type": "code",
      "source": [
        "#df['Installs']=df['Installs'].str.replace('+','')\n",
        "\n",
        "#df['Installs']=df['Installs'].str.replace(',','')"
      ],
      "metadata": {
        "id": "4dtPTgB5Uy6k"
      },
      "execution_count": 466,
      "outputs": []
    },
    {
      "cell_type": "code",
      "source": [
        "df['Installs']=df['Installs'].astype(str)\n",
        "df['Installs'] = df['Installs'].str.replace('[+,]', '', regex=True).astype(int)\n",
        "df['Installs']=df['Installs'].astype(int)"
      ],
      "metadata": {
        "id": "2-VM4X37nlvI"
      },
      "execution_count": 467,
      "outputs": []
    },
    {
      "cell_type": "code",
      "source": [
        "#df['Installs']=pd.to_numeric(df['Installs'])"
      ],
      "metadata": {
        "id": "8a8H7CrdVOPi"
      },
      "execution_count": 468,
      "outputs": []
    },
    {
      "cell_type": "code",
      "source": [
        "df['Last Updated']=pd.to_datetime(df['Last Updated'],errors='coerce')"
      ],
      "metadata": {
        "id": "UtddbjzQV9wK"
      },
      "execution_count": 469,
      "outputs": []
    },
    {
      "cell_type": "code",
      "source": [
        "df['Year']=df['Last Updated'].dt.year"
      ],
      "metadata": {
        "id": "zU-HD8oWWX_n"
      },
      "execution_count": 470,
      "outputs": []
    },
    {
      "cell_type": "code",
      "source": [
        "def versions(text):\n",
        "  if '4.' in text:\n",
        "    return '4 and above'\n",
        "  elif '5.' in text:\n",
        "    return '5 and above'\n",
        "  elif '3.' in text:\n",
        "    return '3 and above'\n",
        "  elif '2.' in text:\n",
        "    return '2 and above'\n",
        "  elif '1.' in text:\n",
        "    return '1 and above'\n",
        "  elif '6.' in text:\n",
        "    return '6 and above'\n",
        "  elif '7.' in text:\n",
        "    return '7 and above'\n",
        "  else:\n",
        "    return 'Varies with device'\n",
        "\n",
        "\n",
        "df['Android Ver']=df['Android Ver'].apply(versions)"
      ],
      "metadata": {
        "id": "1-e2KJwrXT-Y"
      },
      "execution_count": 471,
      "outputs": []
    },
    {
      "cell_type": "code",
      "source": [
        "df['Android Ver'].value_counts().sort_index()"
      ],
      "metadata": {
        "colab": {
          "base_uri": "https://localhost:8080/",
          "height": 366
        },
        "id": "8caeHQlDW5ha",
        "outputId": "502deff7-3f90-463e-d6a5-9bb9349ebe8c"
      },
      "execution_count": 472,
      "outputs": [
        {
          "output_type": "execute_result",
          "data": {
            "text/plain": [
              "Android Ver\n",
              "1 and above            139\n",
              "2 and above           1070\n",
              "3 and above            568\n",
              "4 and above           6959\n",
              "5 and above            629\n",
              "6 and above             60\n",
              "7 and above             45\n",
              "Varies with device    1369\n",
              "Name: count, dtype: int64"
            ],
            "text/html": [
              "<div>\n",
              "<style scoped>\n",
              "    .dataframe tbody tr th:only-of-type {\n",
              "        vertical-align: middle;\n",
              "    }\n",
              "\n",
              "    .dataframe tbody tr th {\n",
              "        vertical-align: top;\n",
              "    }\n",
              "\n",
              "    .dataframe thead th {\n",
              "        text-align: right;\n",
              "    }\n",
              "</style>\n",
              "<table border=\"1\" class=\"dataframe\">\n",
              "  <thead>\n",
              "    <tr style=\"text-align: right;\">\n",
              "      <th></th>\n",
              "      <th>count</th>\n",
              "    </tr>\n",
              "    <tr>\n",
              "      <th>Android Ver</th>\n",
              "      <th></th>\n",
              "    </tr>\n",
              "  </thead>\n",
              "  <tbody>\n",
              "    <tr>\n",
              "      <th>1 and above</th>\n",
              "      <td>139</td>\n",
              "    </tr>\n",
              "    <tr>\n",
              "      <th>2 and above</th>\n",
              "      <td>1070</td>\n",
              "    </tr>\n",
              "    <tr>\n",
              "      <th>3 and above</th>\n",
              "      <td>568</td>\n",
              "    </tr>\n",
              "    <tr>\n",
              "      <th>4 and above</th>\n",
              "      <td>6959</td>\n",
              "    </tr>\n",
              "    <tr>\n",
              "      <th>5 and above</th>\n",
              "      <td>629</td>\n",
              "    </tr>\n",
              "    <tr>\n",
              "      <th>6 and above</th>\n",
              "      <td>60</td>\n",
              "    </tr>\n",
              "    <tr>\n",
              "      <th>7 and above</th>\n",
              "      <td>45</td>\n",
              "    </tr>\n",
              "    <tr>\n",
              "      <th>Varies with device</th>\n",
              "      <td>1369</td>\n",
              "    </tr>\n",
              "  </tbody>\n",
              "</table>\n",
              "</div><br><label><b>dtype:</b> int64</label>"
            ]
          },
          "metadata": {},
          "execution_count": 472
        }
      ]
    },
    {
      "cell_type": "code",
      "source": [
        "df['Current Ver'].value_counts()"
      ],
      "metadata": {
        "colab": {
          "base_uri": "https://localhost:8080/",
          "height": 489
        },
        "id": "dEL5yZ0vaMSM",
        "outputId": "e63e07b3-1a74-4236-9127-f1b7ca9de21c"
      },
      "execution_count": 473,
      "outputs": [
        {
          "output_type": "execute_result",
          "data": {
            "text/plain": [
              "Current Ver\n",
              "Varies with device    1458\n",
              "1.0                    809\n",
              "1.1                    264\n",
              "1.2                    178\n",
              "2.0                    151\n",
              "                      ... \n",
              "5.44.1                   1\n",
              "7.16.8                   1\n",
              "04.08.00                 1\n",
              "2.10.06                  1\n",
              "2.0.148.0                1\n",
              "Name: count, Length: 2832, dtype: int64"
            ],
            "text/html": [
              "<div>\n",
              "<style scoped>\n",
              "    .dataframe tbody tr th:only-of-type {\n",
              "        vertical-align: middle;\n",
              "    }\n",
              "\n",
              "    .dataframe tbody tr th {\n",
              "        vertical-align: top;\n",
              "    }\n",
              "\n",
              "    .dataframe thead th {\n",
              "        text-align: right;\n",
              "    }\n",
              "</style>\n",
              "<table border=\"1\" class=\"dataframe\">\n",
              "  <thead>\n",
              "    <tr style=\"text-align: right;\">\n",
              "      <th></th>\n",
              "      <th>count</th>\n",
              "    </tr>\n",
              "    <tr>\n",
              "      <th>Current Ver</th>\n",
              "      <th></th>\n",
              "    </tr>\n",
              "  </thead>\n",
              "  <tbody>\n",
              "    <tr>\n",
              "      <th>Varies with device</th>\n",
              "      <td>1458</td>\n",
              "    </tr>\n",
              "    <tr>\n",
              "      <th>1.0</th>\n",
              "      <td>809</td>\n",
              "    </tr>\n",
              "    <tr>\n",
              "      <th>1.1</th>\n",
              "      <td>264</td>\n",
              "    </tr>\n",
              "    <tr>\n",
              "      <th>1.2</th>\n",
              "      <td>178</td>\n",
              "    </tr>\n",
              "    <tr>\n",
              "      <th>2.0</th>\n",
              "      <td>151</td>\n",
              "    </tr>\n",
              "    <tr>\n",
              "      <th>...</th>\n",
              "      <td>...</td>\n",
              "    </tr>\n",
              "    <tr>\n",
              "      <th>5.44.1</th>\n",
              "      <td>1</td>\n",
              "    </tr>\n",
              "    <tr>\n",
              "      <th>7.16.8</th>\n",
              "      <td>1</td>\n",
              "    </tr>\n",
              "    <tr>\n",
              "      <th>04.08.00</th>\n",
              "      <td>1</td>\n",
              "    </tr>\n",
              "    <tr>\n",
              "      <th>2.10.06</th>\n",
              "      <td>1</td>\n",
              "    </tr>\n",
              "    <tr>\n",
              "      <th>2.0.148.0</th>\n",
              "      <td>1</td>\n",
              "    </tr>\n",
              "  </tbody>\n",
              "</table>\n",
              "<p>2832 rows × 1 columns</p>\n",
              "</div><br><label><b>dtype:</b> int64</label>"
            ]
          },
          "metadata": {},
          "execution_count": 473
        }
      ]
    },
    {
      "cell_type": "code",
      "source": [
        "df.info()"
      ],
      "metadata": {
        "colab": {
          "base_uri": "https://localhost:8080/"
        },
        "id": "OQJHsPvBWy5v",
        "outputId": "33484f42-e6c3-48a0-934c-d66000557735"
      },
      "execution_count": 474,
      "outputs": [
        {
          "output_type": "stream",
          "name": "stdout",
          "text": [
            "<class 'pandas.core.frame.DataFrame'>\n",
            "Index: 10839 entries, 0 to 10840\n",
            "Data columns (total 13 columns):\n",
            " #   Column          Non-Null Count  Dtype         \n",
            "---  ------          --------------  -----         \n",
            " 0   App             10839 non-null  object        \n",
            " 1   Category        10839 non-null  object        \n",
            " 2   Rating          10839 non-null  float64       \n",
            " 3   Reviews         10839 non-null  int64         \n",
            " 4   Size            8829 non-null   float64       \n",
            " 5   Installs        10839 non-null  int64         \n",
            " 6   Type            10839 non-null  object        \n",
            " 7   Content Rating  10839 non-null  object        \n",
            " 8   Genres          10839 non-null  object        \n",
            " 9   Last Updated    10839 non-null  datetime64[ns]\n",
            " 10  Current Ver     10839 non-null  object        \n",
            " 11  Android Ver     10839 non-null  object        \n",
            " 12  Year            10839 non-null  int32         \n",
            "dtypes: datetime64[ns](1), float64(2), int32(1), int64(2), object(7)\n",
            "memory usage: 1.4+ MB\n"
          ]
        }
      ]
    },
    {
      "cell_type": "code",
      "source": [
        "df.duplicated().sum()"
      ],
      "metadata": {
        "colab": {
          "base_uri": "https://localhost:8080/"
        },
        "id": "CM9acFC8b1J5",
        "outputId": "ec0e1ed5-d7f7-49e8-8796-f076d924adc7"
      },
      "execution_count": 475,
      "outputs": [
        {
          "output_type": "execute_result",
          "data": {
            "text/plain": [
              "483"
            ]
          },
          "metadata": {},
          "execution_count": 475
        }
      ]
    },
    {
      "cell_type": "code",
      "source": [
        "df.drop_duplicates(inplace=True)"
      ],
      "metadata": {
        "id": "LF9k5TYgb8E3"
      },
      "execution_count": 476,
      "outputs": []
    },
    {
      "cell_type": "code",
      "source": [
        "df.duplicated().sum()"
      ],
      "metadata": {
        "colab": {
          "base_uri": "https://localhost:8080/"
        },
        "id": "vDUoe7c5cdRo",
        "outputId": "97caae4d-a12b-4aae-ae67-abfecb5858be"
      },
      "execution_count": 477,
      "outputs": [
        {
          "output_type": "execute_result",
          "data": {
            "text/plain": [
              "0"
            ]
          },
          "metadata": {},
          "execution_count": 477
        }
      ]
    },
    {
      "cell_type": "code",
      "source": [
        "df.head()"
      ],
      "metadata": {
        "colab": {
          "base_uri": "https://localhost:8080/",
          "height": 310
        },
        "id": "5Ku6F4TfdbEC",
        "outputId": "ca35c02e-fcf0-4577-8936-b78bd010bc50"
      },
      "execution_count": 478,
      "outputs": [
        {
          "output_type": "execute_result",
          "data": {
            "text/plain": [
              "                                                 App        Category  Rating  \\\n",
              "0     Photo Editor & Candy Camera & Grid & ScrapBook  ART_AND_DESIGN     4.1   \n",
              "1                                Coloring book moana  ART_AND_DESIGN     3.9   \n",
              "2  U Launcher Lite – FREE Live Cool Themes, Hide ...  ART_AND_DESIGN     4.7   \n",
              "3                              Sketch - Draw & Paint  ART_AND_DESIGN     4.5   \n",
              "4              Pixel Draw - Number Art Coloring Book  ART_AND_DESIGN     4.3   \n",
              "\n",
              "   Reviews        Size  Installs  Type Content Rating  \\\n",
              "0      159  19000000.0     10000  Free       Everyone   \n",
              "1      967  14000000.0    500000  Free       Everyone   \n",
              "2    87510   8700000.0   5000000  Free       Everyone   \n",
              "3   215644  25000000.0  50000000  Free           Teen   \n",
              "4      967   2800000.0    100000  Free       Everyone   \n",
              "\n",
              "                      Genres Last Updated         Current Ver  Android Ver  \\\n",
              "0               Art & Design   2018-01-07               1.0.0  4 and above   \n",
              "1  Art & Design;Pretend Play   2018-01-15               2.0.0  4 and above   \n",
              "2               Art & Design   2018-08-01               1.2.4  4 and above   \n",
              "3               Art & Design   2018-06-08  Varies with device  4 and above   \n",
              "4    Art & Design;Creativity   2018-06-20                 1.1  4 and above   \n",
              "\n",
              "   Year  \n",
              "0  2018  \n",
              "1  2018  \n",
              "2  2018  \n",
              "3  2018  \n",
              "4  2018  "
            ],
            "text/html": [
              "\n",
              "  <div id=\"df-75cd7055-2452-4d62-8eb1-97355c419930\" class=\"colab-df-container\">\n",
              "    <div>\n",
              "<style scoped>\n",
              "    .dataframe tbody tr th:only-of-type {\n",
              "        vertical-align: middle;\n",
              "    }\n",
              "\n",
              "    .dataframe tbody tr th {\n",
              "        vertical-align: top;\n",
              "    }\n",
              "\n",
              "    .dataframe thead th {\n",
              "        text-align: right;\n",
              "    }\n",
              "</style>\n",
              "<table border=\"1\" class=\"dataframe\">\n",
              "  <thead>\n",
              "    <tr style=\"text-align: right;\">\n",
              "      <th></th>\n",
              "      <th>App</th>\n",
              "      <th>Category</th>\n",
              "      <th>Rating</th>\n",
              "      <th>Reviews</th>\n",
              "      <th>Size</th>\n",
              "      <th>Installs</th>\n",
              "      <th>Type</th>\n",
              "      <th>Content Rating</th>\n",
              "      <th>Genres</th>\n",
              "      <th>Last Updated</th>\n",
              "      <th>Current Ver</th>\n",
              "      <th>Android Ver</th>\n",
              "      <th>Year</th>\n",
              "    </tr>\n",
              "  </thead>\n",
              "  <tbody>\n",
              "    <tr>\n",
              "      <th>0</th>\n",
              "      <td>Photo Editor &amp; Candy Camera &amp; Grid &amp; ScrapBook</td>\n",
              "      <td>ART_AND_DESIGN</td>\n",
              "      <td>4.1</td>\n",
              "      <td>159</td>\n",
              "      <td>19000000.0</td>\n",
              "      <td>10000</td>\n",
              "      <td>Free</td>\n",
              "      <td>Everyone</td>\n",
              "      <td>Art &amp; Design</td>\n",
              "      <td>2018-01-07</td>\n",
              "      <td>1.0.0</td>\n",
              "      <td>4 and above</td>\n",
              "      <td>2018</td>\n",
              "    </tr>\n",
              "    <tr>\n",
              "      <th>1</th>\n",
              "      <td>Coloring book moana</td>\n",
              "      <td>ART_AND_DESIGN</td>\n",
              "      <td>3.9</td>\n",
              "      <td>967</td>\n",
              "      <td>14000000.0</td>\n",
              "      <td>500000</td>\n",
              "      <td>Free</td>\n",
              "      <td>Everyone</td>\n",
              "      <td>Art &amp; Design;Pretend Play</td>\n",
              "      <td>2018-01-15</td>\n",
              "      <td>2.0.0</td>\n",
              "      <td>4 and above</td>\n",
              "      <td>2018</td>\n",
              "    </tr>\n",
              "    <tr>\n",
              "      <th>2</th>\n",
              "      <td>U Launcher Lite – FREE Live Cool Themes, Hide ...</td>\n",
              "      <td>ART_AND_DESIGN</td>\n",
              "      <td>4.7</td>\n",
              "      <td>87510</td>\n",
              "      <td>8700000.0</td>\n",
              "      <td>5000000</td>\n",
              "      <td>Free</td>\n",
              "      <td>Everyone</td>\n",
              "      <td>Art &amp; Design</td>\n",
              "      <td>2018-08-01</td>\n",
              "      <td>1.2.4</td>\n",
              "      <td>4 and above</td>\n",
              "      <td>2018</td>\n",
              "    </tr>\n",
              "    <tr>\n",
              "      <th>3</th>\n",
              "      <td>Sketch - Draw &amp; Paint</td>\n",
              "      <td>ART_AND_DESIGN</td>\n",
              "      <td>4.5</td>\n",
              "      <td>215644</td>\n",
              "      <td>25000000.0</td>\n",
              "      <td>50000000</td>\n",
              "      <td>Free</td>\n",
              "      <td>Teen</td>\n",
              "      <td>Art &amp; Design</td>\n",
              "      <td>2018-06-08</td>\n",
              "      <td>Varies with device</td>\n",
              "      <td>4 and above</td>\n",
              "      <td>2018</td>\n",
              "    </tr>\n",
              "    <tr>\n",
              "      <th>4</th>\n",
              "      <td>Pixel Draw - Number Art Coloring Book</td>\n",
              "      <td>ART_AND_DESIGN</td>\n",
              "      <td>4.3</td>\n",
              "      <td>967</td>\n",
              "      <td>2800000.0</td>\n",
              "      <td>100000</td>\n",
              "      <td>Free</td>\n",
              "      <td>Everyone</td>\n",
              "      <td>Art &amp; Design;Creativity</td>\n",
              "      <td>2018-06-20</td>\n",
              "      <td>1.1</td>\n",
              "      <td>4 and above</td>\n",
              "      <td>2018</td>\n",
              "    </tr>\n",
              "  </tbody>\n",
              "</table>\n",
              "</div>\n",
              "    <div class=\"colab-df-buttons\">\n",
              "\n",
              "  <div class=\"colab-df-container\">\n",
              "    <button class=\"colab-df-convert\" onclick=\"convertToInteractive('df-75cd7055-2452-4d62-8eb1-97355c419930')\"\n",
              "            title=\"Convert this dataframe to an interactive table.\"\n",
              "            style=\"display:none;\">\n",
              "\n",
              "  <svg xmlns=\"http://www.w3.org/2000/svg\" height=\"24px\" viewBox=\"0 -960 960 960\">\n",
              "    <path d=\"M120-120v-720h720v720H120Zm60-500h600v-160H180v160Zm220 220h160v-160H400v160Zm0 220h160v-160H400v160ZM180-400h160v-160H180v160Zm440 0h160v-160H620v160ZM180-180h160v-160H180v160Zm440 0h160v-160H620v160Z\"/>\n",
              "  </svg>\n",
              "    </button>\n",
              "\n",
              "  <style>\n",
              "    .colab-df-container {\n",
              "      display:flex;\n",
              "      gap: 12px;\n",
              "    }\n",
              "\n",
              "    .colab-df-convert {\n",
              "      background-color: #E8F0FE;\n",
              "      border: none;\n",
              "      border-radius: 50%;\n",
              "      cursor: pointer;\n",
              "      display: none;\n",
              "      fill: #1967D2;\n",
              "      height: 32px;\n",
              "      padding: 0 0 0 0;\n",
              "      width: 32px;\n",
              "    }\n",
              "\n",
              "    .colab-df-convert:hover {\n",
              "      background-color: #E2EBFA;\n",
              "      box-shadow: 0px 1px 2px rgba(60, 64, 67, 0.3), 0px 1px 3px 1px rgba(60, 64, 67, 0.15);\n",
              "      fill: #174EA6;\n",
              "    }\n",
              "\n",
              "    .colab-df-buttons div {\n",
              "      margin-bottom: 4px;\n",
              "    }\n",
              "\n",
              "    [theme=dark] .colab-df-convert {\n",
              "      background-color: #3B4455;\n",
              "      fill: #D2E3FC;\n",
              "    }\n",
              "\n",
              "    [theme=dark] .colab-df-convert:hover {\n",
              "      background-color: #434B5C;\n",
              "      box-shadow: 0px 1px 3px 1px rgba(0, 0, 0, 0.15);\n",
              "      filter: drop-shadow(0px 1px 2px rgba(0, 0, 0, 0.3));\n",
              "      fill: #FFFFFF;\n",
              "    }\n",
              "  </style>\n",
              "\n",
              "    <script>\n",
              "      const buttonEl =\n",
              "        document.querySelector('#df-75cd7055-2452-4d62-8eb1-97355c419930 button.colab-df-convert');\n",
              "      buttonEl.style.display =\n",
              "        google.colab.kernel.accessAllowed ? 'block' : 'none';\n",
              "\n",
              "      async function convertToInteractive(key) {\n",
              "        const element = document.querySelector('#df-75cd7055-2452-4d62-8eb1-97355c419930');\n",
              "        const dataTable =\n",
              "          await google.colab.kernel.invokeFunction('convertToInteractive',\n",
              "                                                    [key], {});\n",
              "        if (!dataTable) return;\n",
              "\n",
              "        const docLinkHtml = 'Like what you see? Visit the ' +\n",
              "          '<a target=\"_blank\" href=https://colab.research.google.com/notebooks/data_table.ipynb>data table notebook</a>'\n",
              "          + ' to learn more about interactive tables.';\n",
              "        element.innerHTML = '';\n",
              "        dataTable['output_type'] = 'display_data';\n",
              "        await google.colab.output.renderOutput(dataTable, element);\n",
              "        const docLink = document.createElement('div');\n",
              "        docLink.innerHTML = docLinkHtml;\n",
              "        element.appendChild(docLink);\n",
              "      }\n",
              "    </script>\n",
              "  </div>\n",
              "\n",
              "\n",
              "<div id=\"df-5e3436a0-83ae-44a2-b6f8-84460a7be749\">\n",
              "  <button class=\"colab-df-quickchart\" onclick=\"quickchart('df-5e3436a0-83ae-44a2-b6f8-84460a7be749')\"\n",
              "            title=\"Suggest charts\"\n",
              "            style=\"display:none;\">\n",
              "\n",
              "<svg xmlns=\"http://www.w3.org/2000/svg\" height=\"24px\"viewBox=\"0 0 24 24\"\n",
              "     width=\"24px\">\n",
              "    <g>\n",
              "        <path d=\"M19 3H5c-1.1 0-2 .9-2 2v14c0 1.1.9 2 2 2h14c1.1 0 2-.9 2-2V5c0-1.1-.9-2-2-2zM9 17H7v-7h2v7zm4 0h-2V7h2v10zm4 0h-2v-4h2v4z\"/>\n",
              "    </g>\n",
              "</svg>\n",
              "  </button>\n",
              "\n",
              "<style>\n",
              "  .colab-df-quickchart {\n",
              "      --bg-color: #E8F0FE;\n",
              "      --fill-color: #1967D2;\n",
              "      --hover-bg-color: #E2EBFA;\n",
              "      --hover-fill-color: #174EA6;\n",
              "      --disabled-fill-color: #AAA;\n",
              "      --disabled-bg-color: #DDD;\n",
              "  }\n",
              "\n",
              "  [theme=dark] .colab-df-quickchart {\n",
              "      --bg-color: #3B4455;\n",
              "      --fill-color: #D2E3FC;\n",
              "      --hover-bg-color: #434B5C;\n",
              "      --hover-fill-color: #FFFFFF;\n",
              "      --disabled-bg-color: #3B4455;\n",
              "      --disabled-fill-color: #666;\n",
              "  }\n",
              "\n",
              "  .colab-df-quickchart {\n",
              "    background-color: var(--bg-color);\n",
              "    border: none;\n",
              "    border-radius: 50%;\n",
              "    cursor: pointer;\n",
              "    display: none;\n",
              "    fill: var(--fill-color);\n",
              "    height: 32px;\n",
              "    padding: 0;\n",
              "    width: 32px;\n",
              "  }\n",
              "\n",
              "  .colab-df-quickchart:hover {\n",
              "    background-color: var(--hover-bg-color);\n",
              "    box-shadow: 0 1px 2px rgba(60, 64, 67, 0.3), 0 1px 3px 1px rgba(60, 64, 67, 0.15);\n",
              "    fill: var(--button-hover-fill-color);\n",
              "  }\n",
              "\n",
              "  .colab-df-quickchart-complete:disabled,\n",
              "  .colab-df-quickchart-complete:disabled:hover {\n",
              "    background-color: var(--disabled-bg-color);\n",
              "    fill: var(--disabled-fill-color);\n",
              "    box-shadow: none;\n",
              "  }\n",
              "\n",
              "  .colab-df-spinner {\n",
              "    border: 2px solid var(--fill-color);\n",
              "    border-color: transparent;\n",
              "    border-bottom-color: var(--fill-color);\n",
              "    animation:\n",
              "      spin 1s steps(1) infinite;\n",
              "  }\n",
              "\n",
              "  @keyframes spin {\n",
              "    0% {\n",
              "      border-color: transparent;\n",
              "      border-bottom-color: var(--fill-color);\n",
              "      border-left-color: var(--fill-color);\n",
              "    }\n",
              "    20% {\n",
              "      border-color: transparent;\n",
              "      border-left-color: var(--fill-color);\n",
              "      border-top-color: var(--fill-color);\n",
              "    }\n",
              "    30% {\n",
              "      border-color: transparent;\n",
              "      border-left-color: var(--fill-color);\n",
              "      border-top-color: var(--fill-color);\n",
              "      border-right-color: var(--fill-color);\n",
              "    }\n",
              "    40% {\n",
              "      border-color: transparent;\n",
              "      border-right-color: var(--fill-color);\n",
              "      border-top-color: var(--fill-color);\n",
              "    }\n",
              "    60% {\n",
              "      border-color: transparent;\n",
              "      border-right-color: var(--fill-color);\n",
              "    }\n",
              "    80% {\n",
              "      border-color: transparent;\n",
              "      border-right-color: var(--fill-color);\n",
              "      border-bottom-color: var(--fill-color);\n",
              "    }\n",
              "    90% {\n",
              "      border-color: transparent;\n",
              "      border-bottom-color: var(--fill-color);\n",
              "    }\n",
              "  }\n",
              "</style>\n",
              "\n",
              "  <script>\n",
              "    async function quickchart(key) {\n",
              "      const quickchartButtonEl =\n",
              "        document.querySelector('#' + key + ' button');\n",
              "      quickchartButtonEl.disabled = true;  // To prevent multiple clicks.\n",
              "      quickchartButtonEl.classList.add('colab-df-spinner');\n",
              "      try {\n",
              "        const charts = await google.colab.kernel.invokeFunction(\n",
              "            'suggestCharts', [key], {});\n",
              "      } catch (error) {\n",
              "        console.error('Error during call to suggestCharts:', error);\n",
              "      }\n",
              "      quickchartButtonEl.classList.remove('colab-df-spinner');\n",
              "      quickchartButtonEl.classList.add('colab-df-quickchart-complete');\n",
              "    }\n",
              "    (() => {\n",
              "      let quickchartButtonEl =\n",
              "        document.querySelector('#df-5e3436a0-83ae-44a2-b6f8-84460a7be749 button');\n",
              "      quickchartButtonEl.style.display =\n",
              "        google.colab.kernel.accessAllowed ? 'block' : 'none';\n",
              "    })();\n",
              "  </script>\n",
              "</div>\n",
              "\n",
              "    </div>\n",
              "  </div>\n"
            ],
            "application/vnd.google.colaboratory.intrinsic+json": {
              "type": "dataframe",
              "variable_name": "df",
              "summary": "{\n  \"name\": \"df\",\n  \"rows\": 10356,\n  \"fields\": [\n    {\n      \"column\": \"App\",\n      \"properties\": {\n        \"dtype\": \"string\",\n        \"num_unique_values\": 9658,\n        \"samples\": [\n          \"Guns'n'Glory Zombies Premium\",\n          \"Doorstep EU\",\n          \"UNO \\u2122 & Friends\"\n        ],\n        \"semantic_type\": \"\",\n        \"description\": \"\"\n      }\n    },\n    {\n      \"column\": \"Category\",\n      \"properties\": {\n        \"dtype\": \"category\",\n        \"num_unique_values\": 33,\n        \"samples\": [\n          \"NEWS_AND_MAGAZINES\",\n          \"LIBRARIES_AND_DEMO\",\n          \"PERSONALIZATION\"\n        ],\n        \"semantic_type\": \"\",\n        \"description\": \"\"\n      }\n    },\n    {\n      \"column\": \"Rating\",\n      \"properties\": {\n        \"dtype\": \"number\",\n        \"std\": 0.48404368474466747,\n        \"min\": 1.0,\n        \"max\": 5.0,\n        \"num_unique_values\": 40,\n        \"samples\": [\n          3.1,\n          3.3,\n          3.7\n        ],\n        \"semantic_type\": \"\",\n        \"description\": \"\"\n      }\n    },\n    {\n      \"column\": \"Reviews\",\n      \"properties\": {\n        \"dtype\": \"number\",\n        \"std\": 2696905,\n        \"min\": 0,\n        \"max\": 78158306,\n        \"num_unique_values\": 6001,\n        \"samples\": [\n          66661,\n          7479,\n          8978\n        ],\n        \"semantic_type\": \"\",\n        \"description\": \"\"\n      }\n    },\n    {\n      \"column\": \"Size\",\n      \"properties\": {\n        \"dtype\": \"number\",\n        \"std\": 22587499.593449373,\n        \"min\": 1000000.0,\n        \"max\": 100000000.0,\n        \"num_unique_values\": 181,\n        \"samples\": [\n          4200000.0,\n          8600000.0,\n          67000000.0\n        ],\n        \"semantic_type\": \"\",\n        \"description\": \"\"\n      }\n    },\n    {\n      \"column\": \"Installs\",\n      \"properties\": {\n        \"dtype\": \"number\",\n        \"std\": 80243307,\n        \"min\": 0,\n        \"max\": 1000000000,\n        \"num_unique_values\": 20,\n        \"samples\": [\n          10000,\n          1,\n          500\n        ],\n        \"semantic_type\": \"\",\n        \"description\": \"\"\n      }\n    },\n    {\n      \"column\": \"Type\",\n      \"properties\": {\n        \"dtype\": \"category\",\n        \"num_unique_values\": 2,\n        \"samples\": [\n          \"Paid\",\n          \"Free\"\n        ],\n        \"semantic_type\": \"\",\n        \"description\": \"\"\n      }\n    },\n    {\n      \"column\": \"Content Rating\",\n      \"properties\": {\n        \"dtype\": \"category\",\n        \"num_unique_values\": 6,\n        \"samples\": [\n          \"Everyone\",\n          \"Teen\"\n        ],\n        \"semantic_type\": \"\",\n        \"description\": \"\"\n      }\n    },\n    {\n      \"column\": \"Genres\",\n      \"properties\": {\n        \"dtype\": \"category\",\n        \"num_unique_values\": 119,\n        \"samples\": [\n          \"Educational;Education\",\n          \"Travel & Local\"\n        ],\n        \"semantic_type\": \"\",\n        \"description\": \"\"\n      }\n    },\n    {\n      \"column\": \"Last Updated\",\n      \"properties\": {\n        \"dtype\": \"date\",\n        \"min\": \"2010-05-21 00:00:00\",\n        \"max\": \"2018-08-08 00:00:00\",\n        \"num_unique_values\": 1377,\n        \"samples\": [\n          \"2016-08-09 00:00:00\",\n          \"2017-01-07 00:00:00\"\n        ],\n        \"semantic_type\": \"\",\n        \"description\": \"\"\n      }\n    },\n    {\n      \"column\": \"Current Ver\",\n      \"properties\": {\n        \"dtype\": \"category\",\n        \"num_unique_values\": 2832,\n        \"samples\": [\n          \"176.0.0.29.0\",\n          \"0.0.53\"\n        ],\n        \"semantic_type\": \"\",\n        \"description\": \"\"\n      }\n    },\n    {\n      \"column\": \"Android Ver\",\n      \"properties\": {\n        \"dtype\": \"category\",\n        \"num_unique_values\": 8,\n        \"samples\": [\n          \"2 and above\",\n          \"6 and above\"\n        ],\n        \"semantic_type\": \"\",\n        \"description\": \"\"\n      }\n    },\n    {\n      \"column\": \"Year\",\n      \"properties\": {\n        \"dtype\": \"int32\",\n        \"num_unique_values\": 9,\n        \"samples\": [\n          2011,\n          2017\n        ],\n        \"semantic_type\": \"\",\n        \"description\": \"\"\n      }\n    }\n  ]\n}"
            }
          },
          "metadata": {},
          "execution_count": 478
        }
      ]
    },
    {
      "cell_type": "markdown",
      "source": [
        "EDA"
      ],
      "metadata": {
        "id": "Q12fc-GdgfM2"
      }
    },
    {
      "cell_type": "markdown",
      "source": [
        "#Top 10 Apps with Avg Highest Reviews"
      ],
      "metadata": {
        "id": "DzymCNrqpRQW"
      }
    },
    {
      "cell_type": "code",
      "source": [
        "#Top 10 Apps with Avg Highest Reviews\n",
        "avg_high=df.groupby('App')['Reviews'].mean().sort_values(ascending=False).head(10)\n",
        "\n",
        "sns.barplot(x=avg_high.index,y=avg_high.values,palette='viridis')\n",
        "plt.xticks(rotation=90)"
      ],
      "metadata": {
        "colab": {
          "base_uri": "https://localhost:8080/",
          "height": 1000
        },
        "id": "4aqKRVULf96L",
        "outputId": "db17ae58-9ef3-47b8-ea38-c5b5e9492f18"
      },
      "execution_count": 480,
      "outputs": [
        {
          "output_type": "stream",
          "name": "stderr",
          "text": [
            "<ipython-input-480-01e334b0abe2>:4: FutureWarning:\n",
            "\n",
            "\n",
            "\n",
            "Passing `palette` without assigning `hue` is deprecated and will be removed in v0.14.0. Assign the `x` variable to `hue` and set `legend=False` for the same effect.\n",
            "\n",
            "\n"
          ]
        },
        {
          "output_type": "execute_result",
          "data": {
            "text/plain": [
              "([0, 1, 2, 3, 4, 5, 6, 7, 8, 9],\n",
              " [Text(0, 0, 'Facebook'),\n",
              "  Text(1, 0, 'WhatsApp Messenger'),\n",
              "  Text(2, 0, 'Instagram'),\n",
              "  Text(3, 0, 'Messenger – Text and Video Chat for Free'),\n",
              "  Text(4, 0, 'Clash of Clans'),\n",
              "  Text(5, 0, 'Clean Master- Space Cleaner & Antivirus'),\n",
              "  Text(6, 0, 'Subway Surfers'),\n",
              "  Text(7, 0, 'YouTube'),\n",
              "  Text(8, 0, 'Security Master - Antivirus, VPN, AppLock, Booster'),\n",
              "  Text(9, 0, 'Clash Royale')])"
            ]
          },
          "metadata": {},
          "execution_count": 480
        },
        {
          "output_type": "display_data",
          "data": {
            "text/plain": [
              "<Figure size 640x480 with 1 Axes>"
            ],
            "image/png": "[encoded data removed]"
          },
          "metadata": {}
        }
      ]
    },
    {
      "cell_type": "markdown",
      "source": [
        "Documentation-The above Bar Graph depicts that facebook,Whatsapp Messenger,Instagram are the Apps with the highest Reviews and the apps with least reviews are Subway Surfers,Youtube etc."
      ],
      "metadata": {
        "id": "HHTGE_8mticb"
      }
    },
    {
      "cell_type": "markdown",
      "source": [
        "##Top 5 Apps with Least Reviews"
      ],
      "metadata": {
        "id": "7AiigZWbprIj"
      }
    },
    {
      "cell_type": "code",
      "source": [
        "##Top 5 Apps with Least Reviews\n",
        "l_high=df.groupby('App')['Reviews'].mean().sort_values(ascending=True).reset_index()\n",
        "l_high=l_high.head(5)\n",
        "l_high"
      ],
      "metadata": {
        "colab": {
          "base_uri": "https://localhost:8080/",
          "height": 206
        },
        "id": "opPYVstGnxQf",
        "outputId": "0b13504a-798b-49f1-f688-0382ce9beaea"
      },
      "execution_count": 516,
      "outputs": [
        {
          "output_type": "execute_result",
          "data": {
            "text/plain": [
              "                        App  Reviews\n",
              "0  Diamond Engagement Rings      0.0\n",
              "1     Dragon B.Z Wallpapers      0.0\n",
              "2            All Star Of CW      0.0\n",
              "3                   Tenh Ey      0.0\n",
              "4    Test Application DT 02      0.0"
            ],
            "text/html": [
              "\n",
              "  <div id=\"df-5fc1f2f3-a1ff-4588-8cd8-f79ae7b3be89\" class=\"colab-df-container\">\n",
              "    <div>\n",
              "<style scoped>\n",
              "    .dataframe tbody tr th:only-of-type {\n",
              "        vertical-align: middle;\n",
              "    }\n",
              "\n",
              "    .dataframe tbody tr th {\n",
              "        vertical-align: top;\n",
              "    }\n",
              "\n",
              "    .dataframe thead th {\n",
              "        text-align: right;\n",
              "    }\n",
              "</style>\n",
              "<table border=\"1\" class=\"dataframe\">\n",
              "  <thead>\n",
              "    <tr style=\"text-align: right;\">\n",
              "      <th></th>\n",
              "      <th>App</th>\n",
              "      <th>Reviews</th>\n",
              "    </tr>\n",
              "  </thead>\n",
              "  <tbody>\n",
              "    <tr>\n",
              "      <th>0</th>\n",
              "      <td>Diamond Engagement Rings</td>\n",
              "      <td>0.0</td>\n",
              "    </tr>\n",
              "    <tr>\n",
              "      <th>1</th>\n",
              "      <td>Dragon B.Z Wallpapers</td>\n",
              "      <td>0.0</td>\n",
              "    </tr>\n",
              "    <tr>\n",
              "      <th>2</th>\n",
              "      <td>All Star Of CW</td>\n",
              "      <td>0.0</td>\n",
              "    </tr>\n",
              "    <tr>\n",
              "      <th>3</th>\n",
              "      <td>Tenh Ey</td>\n",
              "      <td>0.0</td>\n",
              "    </tr>\n",
              "    <tr>\n",
              "      <th>4</th>\n",
              "      <td>Test Application DT 02</td>\n",
              "      <td>0.0</td>\n",
              "    </tr>\n",
              "  </tbody>\n",
              "</table>\n",
              "</div>\n",
              "    <div class=\"colab-df-buttons\">\n",
              "\n",
              "  <div class=\"colab-df-container\">\n",
              "    <button class=\"colab-df-convert\" onclick=\"convertToInteractive('df-5fc1f2f3-a1ff-4588-8cd8-f79ae7b3be89')\"\n",
              "            title=\"Convert this dataframe to an interactive table.\"\n",
              "            style=\"display:none;\">\n",
              "\n",
              "  <svg xmlns=\"http://www.w3.org/2000/svg\" height=\"24px\" viewBox=\"0 -960 960 960\">\n",
              "    <path d=\"M120-120v-720h720v720H120Zm60-500h600v-160H180v160Zm220 220h160v-160H400v160Zm0 220h160v-160H400v160ZM180-400h160v-160H180v160Zm440 0h160v-160H620v160ZM180-180h160v-160H180v160Zm440 0h160v-160H620v160Z\"/>\n",
              "  </svg>\n",
              "    </button>\n",
              "\n",
              "  <style>\n",
              "    .colab-df-container {\n",
              "      display:flex;\n",
              "      gap: 12px;\n",
              "    }\n",
              "\n",
              "    .colab-df-convert {\n",
              "      background-color: #E8F0FE;\n",
              "      border: none;\n",
              "      border-radius: 50%;\n",
              "      cursor: pointer;\n",
              "      display: none;\n",
              "      fill: #1967D2;\n",
              "      height: 32px;\n",
              "      padding: 0 0 0 0;\n",
              "      width: 32px;\n",
              "    }\n",
              "\n",
              "    .colab-df-convert:hover {\n",
              "      background-color: #E2EBFA;\n",
              "      box-shadow: 0px 1px 2px rgba(60, 64, 67, 0.3), 0px 1px 3px 1px rgba(60, 64, 67, 0.15);\n",
              "      fill: #174EA6;\n",
              "    }\n",
              "\n",
              "    .colab-df-buttons div {\n",
              "      margin-bottom: 4px;\n",
              "    }\n",
              "\n",
              "    [theme=dark] .colab-df-convert {\n",
              "      background-color: #3B4455;\n",
              "      fill: #D2E3FC;\n",
              "    }\n",
              "\n",
              "    [theme=dark] .colab-df-convert:hover {\n",
              "      background-color: #434B5C;\n",
              "      box-shadow: 0px 1px 3px 1px rgba(0, 0, 0, 0.15);\n",
              "      filter: drop-shadow(0px 1px 2px rgba(0, 0, 0, 0.3));\n",
              "      fill: #FFFFFF;\n",
              "    }\n",
              "  </style>\n",
              "\n",
              "    <script>\n",
              "      const buttonEl =\n",
              "        document.querySelector('#df-5fc1f2f3-a1ff-4588-8cd8-f79ae7b3be89 button.colab-df-convert');\n",
              "      buttonEl.style.display =\n",
              "        google.colab.kernel.accessAllowed ? 'block' : 'none';\n",
              "\n",
              "      async function convertToInteractive(key) {\n",
              "        const element = document.querySelector('#df-5fc1f2f3-a1ff-4588-8cd8-f79ae7b3be89');\n",
              "        const dataTable =\n",
              "          await google.colab.kernel.invokeFunction('convertToInteractive',\n",
              "                                                    [key], {});\n",
              "        if (!dataTable) return;\n",
              "\n",
              "        const docLinkHtml = 'Like what you see? Visit the ' +\n",
              "          '<a target=\"_blank\" href=https://colab.research.google.com/notebooks/data_table.ipynb>data table notebook</a>'\n",
              "          + ' to learn more about interactive tables.';\n",
              "        element.innerHTML = '';\n",
              "        dataTable['output_type'] = 'display_data';\n",
              "        await google.colab.output.renderOutput(dataTable, element);\n",
              "        const docLink = document.createElement('div');\n",
              "        docLink.innerHTML = docLinkHtml;\n",
              "        element.appendChild(docLink);\n",
              "      }\n",
              "    </script>\n",
              "  </div>\n",
              "\n",
              "\n",
              "<div id=\"df-740e9ff9-0da1-40d2-bfb1-62aa8aa9b3e4\">\n",
              "  <button class=\"colab-df-quickchart\" onclick=\"quickchart('df-740e9ff9-0da1-40d2-bfb1-62aa8aa9b3e4')\"\n",
              "            title=\"Suggest charts\"\n",
              "            style=\"display:none;\">\n",
              "\n",
              "<svg xmlns=\"http://www.w3.org/2000/svg\" height=\"24px\"viewBox=\"0 0 24 24\"\n",
              "     width=\"24px\">\n",
              "    <g>\n",
              "        <path d=\"M19 3H5c-1.1 0-2 .9-2 2v14c0 1.1.9 2 2 2h14c1.1 0 2-.9 2-2V5c0-1.1-.9-2-2-2zM9 17H7v-7h2v7zm4 0h-2V7h2v10zm4 0h-2v-4h2v4z\"/>\n",
              "    </g>\n",
              "</svg>\n",
              "  </button>\n",
              "\n",
              "<style>\n",
              "  .colab-df-quickchart {\n",
              "      --bg-color: #E8F0FE;\n",
              "      --fill-color: #1967D2;\n",
              "      --hover-bg-color: #E2EBFA;\n",
              "      --hover-fill-color: #174EA6;\n",
              "      --disabled-fill-color: #AAA;\n",
              "      --disabled-bg-color: #DDD;\n",
              "  }\n",
              "\n",
              "  [theme=dark] .colab-df-quickchart {\n",
              "      --bg-color: #3B4455;\n",
              "      --fill-color: #D2E3FC;\n",
              "      --hover-bg-color: #434B5C;\n",
              "      --hover-fill-color: #FFFFFF;\n",
              "      --disabled-bg-color: #3B4455;\n",
              "      --disabled-fill-color: #666;\n",
              "  }\n",
              "\n",
              "  .colab-df-quickchart {\n",
              "    background-color: var(--bg-color);\n",
              "    border: none;\n",
              "    border-radius: 50%;\n",
              "    cursor: pointer;\n",
              "    display: none;\n",
              "    fill: var(--fill-color);\n",
              "    height: 32px;\n",
              "    padding: 0;\n",
              "    width: 32px;\n",
              "  }\n",
              "\n",
              "  .colab-df-quickchart:hover {\n",
              "    background-color: var(--hover-bg-color);\n",
              "    box-shadow: 0 1px 2px rgba(60, 64, 67, 0.3), 0 1px 3px 1px rgba(60, 64, 67, 0.15);\n",
              "    fill: var(--button-hover-fill-color);\n",
              "  }\n",
              "\n",
              "  .colab-df-quickchart-complete:disabled,\n",
              "  .colab-df-quickchart-complete:disabled:hover {\n",
              "    background-color: var(--disabled-bg-color);\n",
              "    fill: var(--disabled-fill-color);\n",
              "    box-shadow: none;\n",
              "  }\n",
              "\n",
              "  .colab-df-spinner {\n",
              "    border: 2px solid var(--fill-color);\n",
              "    border-color: transparent;\n",
              "    border-bottom-color: var(--fill-color);\n",
              "    animation:\n",
              "      spin 1s steps(1) infinite;\n",
              "  }\n",
              "\n",
              "  @keyframes spin {\n",
              "    0% {\n",
              "      border-color: transparent;\n",
              "      border-bottom-color: var(--fill-color);\n",
              "      border-left-color: var(--fill-color);\n",
              "    }\n",
              "    20% {\n",
              "      border-color: transparent;\n",
              "      border-left-color: var(--fill-color);\n",
              "      border-top-color: var(--fill-color);\n",
              "    }\n",
              "    30% {\n",
              "      border-color: transparent;\n",
              "      border-left-color: var(--fill-color);\n",
              "      border-top-color: var(--fill-color);\n",
              "      border-right-color: var(--fill-color);\n",
              "    }\n",
              "    40% {\n",
              "      border-color: transparent;\n",
              "      border-right-color: var(--fill-color);\n",
              "      border-top-color: var(--fill-color);\n",
              "    }\n",
              "    60% {\n",
              "      border-color: transparent;\n",
              "      border-right-color: var(--fill-color);\n",
              "    }\n",
              "    80% {\n",
              "      border-color: transparent;\n",
              "      border-right-color: var(--fill-color);\n",
              "      border-bottom-color: var(--fill-color);\n",
              "    }\n",
              "    90% {\n",
              "      border-color: transparent;\n",
              "      border-bottom-color: var(--fill-color);\n",
              "    }\n",
              "  }\n",
              "</style>\n",
              "\n",
              "  <script>\n",
              "    async function quickchart(key) {\n",
              "      const quickchartButtonEl =\n",
              "        document.querySelector('#' + key + ' button');\n",
              "      quickchartButtonEl.disabled = true;  // To prevent multiple clicks.\n",
              "      quickchartButtonEl.classList.add('colab-df-spinner');\n",
              "      try {\n",
              "        const charts = await google.colab.kernel.invokeFunction(\n",
              "            'suggestCharts', [key], {});\n",
              "      } catch (error) {\n",
              "        console.error('Error during call to suggestCharts:', error);\n",
              "      }\n",
              "      quickchartButtonEl.classList.remove('colab-df-spinner');\n",
              "      quickchartButtonEl.classList.add('colab-df-quickchart-complete');\n",
              "    }\n",
              "    (() => {\n",
              "      let quickchartButtonEl =\n",
              "        document.querySelector('#df-740e9ff9-0da1-40d2-bfb1-62aa8aa9b3e4 button');\n",
              "      quickchartButtonEl.style.display =\n",
              "        google.colab.kernel.accessAllowed ? 'block' : 'none';\n",
              "    })();\n",
              "  </script>\n",
              "</div>\n",
              "\n",
              "  <div id=\"id_aff5d270-c695-4cfa-8880-b39ae620ee16\">\n",
              "    <style>\n",
              "      .colab-df-generate {\n",
              "        background-color: #E8F0FE;\n",
              "        border: none;\n",
              "        border-radius: 50%;\n",
              "        cursor: pointer;\n",
              "        display: none;\n",
              "        fill: #1967D2;\n",
              "        height: 32px;\n",
              "        padding: 0 0 0 0;\n",
              "        width: 32px;\n",
              "      }\n",
              "\n",
              "      .colab-df-generate:hover {\n",
              "        background-color: #E2EBFA;\n",
              "        box-shadow: 0px 1px 2px rgba(60, 64, 67, 0.3), 0px 1px 3px 1px rgba(60, 64, 67, 0.15);\n",
              "        fill: #174EA6;\n",
              "      }\n",
              "\n",
              "      [theme=dark] .colab-df-generate {\n",
              "        background-color: #3B4455;\n",
              "        fill: #D2E3FC;\n",
              "      }\n",
              "\n",
              "      [theme=dark] .colab-df-generate:hover {\n",
              "        background-color: #434B5C;\n",
              "        box-shadow: 0px 1px 3px 1px rgba(0, 0, 0, 0.15);\n",
              "        filter: drop-shadow(0px 1px 2px rgba(0, 0, 0, 0.3));\n",
              "        fill: #FFFFFF;\n",
              "      }\n",
              "    </style>\n",
              "    <button class=\"colab-df-generate\" onclick=\"generateWithVariable('l_high')\"\n",
              "            title=\"Generate code using this dataframe.\"\n",
              "            style=\"display:none;\">\n",
              "\n",
              "  <svg xmlns=\"http://www.w3.org/2000/svg\" height=\"24px\"viewBox=\"0 0 24 24\"\n",
              "       width=\"24px\">\n",
              "    <path d=\"M7,19H8.4L18.45,9,17,7.55,7,17.6ZM5,21V16.75L18.45,3.32a2,2,0,0,1,2.83,0l1.4,1.43a1.91,1.91,0,0,1,.58,1.4,1.91,1.91,0,0,1-.58,1.4L9.25,21ZM18.45,9,17,7.55Zm-12,3A5.31,5.31,0,0,0,4.9,8.1,5.31,5.31,0,0,0,1,6.5,5.31,5.31,0,0,0,4.9,4.9,5.31,5.31,0,0,0,6.5,1,5.31,5.31,0,0,0,8.1,4.9,5.31,5.31,0,0,0,12,6.5,5.46,5.46,0,0,0,6.5,12Z\"/>\n",
              "  </svg>\n",
              "    </button>\n",
              "    <script>\n",
              "      (() => {\n",
              "      const buttonEl =\n",
              "        document.querySelector('#id_aff5d270-c695-4cfa-8880-b39ae620ee16 button.colab-df-generate');\n",
              "      buttonEl.style.display =\n",
              "        google.colab.kernel.accessAllowed ? 'block' : 'none';\n",
              "\n",
              "      buttonEl.onclick = () => {\n",
              "        google.colab.notebook.generateWithVariable('l_high');\n",
              "      }\n",
              "      })();\n",
              "    </script>\n",
              "  </div>\n",
              "\n",
              "    </div>\n",
              "  </div>\n"
            ],
            "application/vnd.google.colaboratory.intrinsic+json": {
              "type": "dataframe",
              "variable_name": "l_high",
              "summary": "{\n  \"name\": \"l_high\",\n  \"rows\": 5,\n  \"fields\": [\n    {\n      \"column\": \"App\",\n      \"properties\": {\n        \"dtype\": \"string\",\n        \"num_unique_values\": 5,\n        \"samples\": [\n          \"Dragon B.Z Wallpapers\",\n          \"Test Application DT 02\",\n          \"All Star Of CW\"\n        ],\n        \"semantic_type\": \"\",\n        \"description\": \"\"\n      }\n    },\n    {\n      \"column\": \"Reviews\",\n      \"properties\": {\n        \"dtype\": \"number\",\n        \"std\": 0.0,\n        \"min\": 0.0,\n        \"max\": 0.0,\n        \"num_unique_values\": 1,\n        \"samples\": [\n          0.0\n        ],\n        \"semantic_type\": \"\",\n        \"description\": \"\"\n      }\n    }\n  ]\n}"
            }
          },
          "metadata": {},
          "execution_count": 516
        }
      ]
    },
    {
      "cell_type": "markdown",
      "source": [
        "#Content Rating Vs Review"
      ],
      "metadata": {
        "id": "7iayoXRgpypw"
      }
    },
    {
      "cell_type": "code",
      "source": [
        "#Content Rating Vs Review\n",
        "reviews=df.groupby('Content Rating')['Reviews'].max().sort_values(ascending=False)\n",
        "fig = pl.scatter(reviews, x=reviews.index, y=reviews.values, size=reviews.values,\n",
        "                 title=\"Content Rating vs Reviews\", labels={'x': 'Content Rating', 'y': 'Reviews'})\n",
        "fig.show()\n"
      ],
      "metadata": {
        "colab": {
          "base_uri": "https://localhost:8080/",
          "height": 542
        },
        "id": "15f3yj6wfT02",
        "outputId": "46b4786d-931f-4505-fd08-bfc6ed4970bf"
      },
      "execution_count": 509,
      "outputs": [
        {
          "output_type": "display_data",
          "data": {
            "text/html": [
              "<html>\n",
              "<head><meta charset=\"utf-8\" /></head>\n",
              "<body>\n",
              "    <div>            <script src=\"https://cdnjs.cloudflare.com/ajax/libs/mathjax/2.7.5/MathJax.js?config=TeX-AMS-MML_SVG\"></script><script type=\"text/javascript\">if (window.MathJax && window.MathJax.Hub && window.MathJax.Hub.Config) {window.MathJax.Hub.Config({SVG: {font: \"STIX-Web\"}});}</script>                <script type=\"text/javascript\">window.PlotlyConfig = {MathJaxConfig: 'local'};</script>\n",
              "        <script charset=\"utf-8\" src=\"https://cdn.plot.ly/plotly-2.35.2.min.js\"></script>                <div id=\"880f4e7d-4d55-453b-851e-ecac8c5f3973\" class=\"plotly-graph-div\" style=\"height:525px; width:100%;\"></div>            <script type=\"text/javascript\">                                    window.PLOTLYENV=window.PLOTLYENV || {};                                    if (document.getElementById(\"880f4e7d-4d55-453b-851e-ecac8c5f3973\")) {                    Plotly.newPlot(                        \"880f4e7d-4d55-453b-851e-ecac8c5f3973\",                        [{\"hovertemplate\":\"Content Rating=%{x}\\u003cbr\\u003eReviews=%{y}\\u003cbr\\u003esize=%{marker.size}\\u003cextra\\u003e\\u003c\\u002fextra\\u003e\",\"legendgroup\":\"\",\"marker\":{\"color\":\"#636efa\",\"size\":[78158306,69119316,44893888,11667403,50017,1186],\"sizemode\":\"area\",\"sizeref\":195395.765,\"symbol\":\"circle\"},\"mode\":\"markers\",\"name\":\"\",\"orientation\":\"v\",\"showlegend\":false,\"x\":[\"Teen\",\"Everyone\",\"Everyone 10+\",\"Mature 17+\",\"Adults only 18+\",\"Unrated\"],\"xaxis\":\"x\",\"y\":[78158306,69119316,44893888,11667403,50017,1186],\"yaxis\":\"y\",\"type\":\"scatter\"}],                        {\"template\":{\"data\":{\"histogram2dcontour\":[{\"type\":\"histogram2dcontour\",\"colorbar\":{\"outlinewidth\":0,\"ticks\":\"\"},\"colorscale\":[[0.0,\"#0d0887\"],[0.1111111111111111,\"#46039f\"],[0.2222222222222222,\"#7201a8\"],[0.3333333333333333,\"#9c179e\"],[0.4444444444444444,\"#bd3786\"],[0.5555555555555556,\"#d8576b\"],[0.6666666666666666,\"#ed7953\"],[0.7777777777777778,\"#fb9f3a\"],[0.8888888888888888,\"#fdca26\"],[1.0,\"#f0f921\"]]}],\"choropleth\":[{\"type\":\"choropleth\",\"colorbar\":{\"outlinewidth\":0,\"ticks\":\"\"}}],\"histogram2d\":[{\"type\":\"histogram2d\",\"colorbar\":{\"outlinewidth\":0,\"ticks\":\"\"},\"colorscale\":[[0.0,\"#0d0887\"],[0.1111111111111111,\"#46039f\"],[0.2222222222222222,\"#7201a8\"],[0.3333333333333333,\"#9c179e\"],[0.4444444444444444,\"#bd3786\"],[0.5555555555555556,\"#d8576b\"],[0.6666666666666666,\"#ed7953\"],[0.7777777777777778,\"#fb9f3a\"],[0.8888888888888888,\"#fdca26\"],[1.0,\"#f0f921\"]]}],\"heatmap\":[{\"type\":\"heatmap\",\"colorbar\":{\"outlinewidth\":0,\"ticks\":\"\"},\"colorscale\":[[0.0,\"#0d0887\"],[0.1111111111111111,\"#46039f\"],[0.2222222222222222,\"#7201a8\"],[0.3333333333333333,\"#9c179e\"],[0.4444444444444444,\"#bd3786\"],[0.5555555555555556,\"#d8576b\"],[0.6666666666666666,\"#ed7953\"],[0.7777777777777778,\"#fb9f3a\"],[0.8888888888888888,\"#fdca26\"],[1.0,\"#f0f921\"]]}],\"heatmapgl\":[{\"type\":\"heatmapgl\",\"colorbar\":{\"outlinewidth\":0,\"ticks\":\"\"},\"colorscale\":[[0.0,\"#0d0887\"],[0.1111111111111111,\"#46039f\"],[0.2222222222222222,\"#7201a8\"],[0.3333333333333333,\"#9c179e\"],[0.4444444444444444,\"#bd3786\"],[0.5555555555555556,\"#d8576b\"],[0.6666666666666666,\"#ed7953\"],[0.7777777777777778,\"#fb9f3a\"],[0.8888888888888888,\"#fdca26\"],[1.0,\"#f0f921\"]]}],\"contourcarpet\":[{\"type\":\"contourcarpet\",\"colorbar\":{\"outlinewidth\":0,\"ticks\":\"\"}}],\"contour\":[{\"type\":\"contour\",\"colorbar\":{\"outlinewidth\":0,\"ticks\":\"\"},\"colorscale\":[[0.0,\"#0d0887\"],[0.1111111111111111,\"#46039f\"],[0.2222222222222222,\"#7201a8\"],[0.3333333333333333,\"#9c179e\"],[0.4444444444444444,\"#bd3786\"],[0.5555555555555556,\"#d8576b\"],[0.6666666666666666,\"#ed7953\"],[0.7777777777777778,\"#fb9f3a\"],[0.8888888888888888,\"#fdca26\"],[1.0,\"#f0f921\"]]}],\"surface\":[{\"type\":\"surface\",\"colorbar\":{\"outlinewidth\":0,\"ticks\":\"\"},\"colorscale\":[[0.0,\"#0d0887\"],[0.1111111111111111,\"#46039f\"],[0.2222222222222222,\"#7201a8\"],[0.3333333333333333,\"#9c179e\"],[0.4444444444444444,\"#bd3786\"],[0.5555555555555556,\"#d8576b\"],[0.6666666666666666,\"#ed7953\"],[0.7777777777777778,\"#fb9f3a\"],[0.8888888888888888,\"#fdca26\"],[1.0,\"#f0f921\"]]}],\"mesh3d\":[{\"type\":\"mesh3d\",\"colorbar\":{\"outlinewidth\":0,\"ticks\":\"\"}}],\"scatter\":[{\"fillpattern\":{\"fillmode\":\"overlay\",\"size\":10,\"solidity\":0.2},\"type\":\"scatter\"}],\"parcoords\":[{\"type\":\"parcoords\",\"line\":{\"colorbar\":{\"outlinewidth\":0,\"ticks\":\"\"}}}],\"scatterpolargl\":[{\"type\":\"scatterpolargl\",\"marker\":{\"colorbar\":{\"outlinewidth\":0,\"ticks\":\"\"}}}],\"bar\":[{\"error_x\":{\"color\":\"#2a3f5f\"},\"error_y\":{\"color\":\"#2a3f5f\"},\"marker\":{\"line\":{\"color\":\"#E5ECF6\",\"width\":0.5},\"pattern\":{\"fillmode\":\"overlay\",\"size\":10,\"solidity\":0.2}},\"type\":\"bar\"}],\"scattergeo\":[{\"type\":\"scattergeo\",\"marker\":{\"colorbar\":{\"outlinewidth\":0,\"ticks\":\"\"}}}],\"scatterpolar\":[{\"type\":\"scatterpolar\",\"marker\":{\"colorbar\":{\"outlinewidth\":0,\"ticks\":\"\"}}}],\"histogram\":[{\"marker\":{\"pattern\":{\"fillmode\":\"overlay\",\"size\":10,\"solidity\":0.2}},\"type\":\"histogram\"}],\"scattergl\":[{\"type\":\"scattergl\",\"marker\":{\"colorbar\":{\"outlinewidth\":0,\"ticks\":\"\"}}}],\"scatter3d\":[{\"type\":\"scatter3d\",\"line\":{\"colorbar\":{\"outlinewidth\":0,\"ticks\":\"\"}},\"marker\":{\"colorbar\":{\"outlinewidth\":0,\"ticks\":\"\"}}}],\"scattermapbox\":[{\"type\":\"scattermapbox\",\"marker\":{\"colorbar\":{\"outlinewidth\":0,\"ticks\":\"\"}}}],\"scatterternary\":[{\"type\":\"scatterternary\",\"marker\":{\"colorbar\":{\"outlinewidth\":0,\"ticks\":\"\"}}}],\"scattercarpet\":[{\"type\":\"scattercarpet\",\"marker\":{\"colorbar\":{\"outlinewidth\":0,\"ticks\":\"\"}}}],\"carpet\":[{\"aaxis\":{\"endlinecolor\":\"#2a3f5f\",\"gridcolor\":\"white\",\"linecolor\":\"white\",\"minorgridcolor\":\"white\",\"startlinecolor\":\"#2a3f5f\"},\"baxis\":{\"endlinecolor\":\"#2a3f5f\",\"gridcolor\":\"white\",\"linecolor\":\"white\",\"minorgridcolor\":\"white\",\"startlinecolor\":\"#2a3f5f\"},\"type\":\"carpet\"}],\"table\":[{\"cells\":{\"fill\":{\"color\":\"#EBF0F8\"},\"line\":{\"color\":\"white\"}},\"header\":{\"fill\":{\"color\":\"#C8D4E3\"},\"line\":{\"color\":\"white\"}},\"type\":\"table\"}],\"barpolar\":[{\"marker\":{\"line\":{\"color\":\"#E5ECF6\",\"width\":0.5},\"pattern\":{\"fillmode\":\"overlay\",\"size\":10,\"solidity\":0.2}},\"type\":\"barpolar\"}],\"pie\":[{\"automargin\":true,\"type\":\"pie\"}]},\"layout\":{\"autotypenumbers\":\"strict\",\"colorway\":[\"#636efa\",\"#EF553B\",\"#00cc96\",\"#ab63fa\",\"#FFA15A\",\"#19d3f3\",\"#FF6692\",\"#B6E880\",\"#FF97FF\",\"#FECB52\"],\"font\":{\"color\":\"#2a3f5f\"},\"hovermode\":\"closest\",\"hoverlabel\":{\"align\":\"left\"},\"paper_bgcolor\":\"white\",\"plot_bgcolor\":\"#E5ECF6\",\"polar\":{\"bgcolor\":\"#E5ECF6\",\"angularaxis\":{\"gridcolor\":\"white\",\"linecolor\":\"white\",\"ticks\":\"\"},\"radialaxis\":{\"gridcolor\":\"white\",\"linecolor\":\"white\",\"ticks\":\"\"}},\"ternary\":{\"bgcolor\":\"#E5ECF6\",\"aaxis\":{\"gridcolor\":\"white\",\"linecolor\":\"white\",\"ticks\":\"\"},\"baxis\":{\"gridcolor\":\"white\",\"linecolor\":\"white\",\"ticks\":\"\"},\"caxis\":{\"gridcolor\":\"white\",\"linecolor\":\"white\",\"ticks\":\"\"}},\"coloraxis\":{\"colorbar\":{\"outlinewidth\":0,\"ticks\":\"\"}},\"colorscale\":{\"sequential\":[[0.0,\"#0d0887\"],[0.1111111111111111,\"#46039f\"],[0.2222222222222222,\"#7201a8\"],[0.3333333333333333,\"#9c179e\"],[0.4444444444444444,\"#bd3786\"],[0.5555555555555556,\"#d8576b\"],[0.6666666666666666,\"#ed7953\"],[0.7777777777777778,\"#fb9f3a\"],[0.8888888888888888,\"#fdca26\"],[1.0,\"#f0f921\"]],\"sequentialminus\":[[0.0,\"#0d0887\"],[0.1111111111111111,\"#46039f\"],[0.2222222222222222,\"#7201a8\"],[0.3333333333333333,\"#9c179e\"],[0.4444444444444444,\"#bd3786\"],[0.5555555555555556,\"#d8576b\"],[0.6666666666666666,\"#ed7953\"],[0.7777777777777778,\"#fb9f3a\"],[0.8888888888888888,\"#fdca26\"],[1.0,\"#f0f921\"]],\"diverging\":[[0,\"#8e0152\"],[0.1,\"#c51b7d\"],[0.2,\"#de77ae\"],[0.3,\"#f1b6da\"],[0.4,\"#fde0ef\"],[0.5,\"#f7f7f7\"],[0.6,\"#e6f5d0\"],[0.7,\"#b8e186\"],[0.8,\"#7fbc41\"],[0.9,\"#4d9221\"],[1,\"#276419\"]]},\"xaxis\":{\"gridcolor\":\"white\",\"linecolor\":\"white\",\"ticks\":\"\",\"title\":{\"standoff\":15},\"zerolinecolor\":\"white\",\"automargin\":true,\"zerolinewidth\":2},\"yaxis\":{\"gridcolor\":\"white\",\"linecolor\":\"white\",\"ticks\":\"\",\"title\":{\"standoff\":15},\"zerolinecolor\":\"white\",\"automargin\":true,\"zerolinewidth\":2},\"scene\":{\"xaxis\":{\"backgroundcolor\":\"#E5ECF6\",\"gridcolor\":\"white\",\"linecolor\":\"white\",\"showbackground\":true,\"ticks\":\"\",\"zerolinecolor\":\"white\",\"gridwidth\":2},\"yaxis\":{\"backgroundcolor\":\"#E5ECF6\",\"gridcolor\":\"white\",\"linecolor\":\"white\",\"showbackground\":true,\"ticks\":\"\",\"zerolinecolor\":\"white\",\"gridwidth\":2},\"zaxis\":{\"backgroundcolor\":\"#E5ECF6\",\"gridcolor\":\"white\",\"linecolor\":\"white\",\"showbackground\":true,\"ticks\":\"\",\"zerolinecolor\":\"white\",\"gridwidth\":2}},\"shapedefaults\":{\"line\":{\"color\":\"#2a3f5f\"}},\"annotationdefaults\":{\"arrowcolor\":\"#2a3f5f\",\"arrowhead\":0,\"arrowwidth\":1},\"geo\":{\"bgcolor\":\"white\",\"landcolor\":\"#E5ECF6\",\"subunitcolor\":\"white\",\"showland\":true,\"showlakes\":true,\"lakecolor\":\"white\"},\"title\":{\"x\":0.05},\"mapbox\":{\"style\":\"light\"}}},\"xaxis\":{\"anchor\":\"y\",\"domain\":[0.0,1.0],\"title\":{\"text\":\"Content Rating\"}},\"yaxis\":{\"anchor\":\"x\",\"domain\":[0.0,1.0],\"title\":{\"text\":\"Reviews\"}},\"legend\":{\"tracegroupgap\":0,\"itemsizing\":\"constant\"},\"title\":{\"text\":\"Content Rating vs Reviews\"}},                        {\"responsive\": true}                    ).then(function(){\n",
              "                            \n",
              "var gd = document.getElementById('880f4e7d-4d55-453b-851e-ecac8c5f3973');\n",
              "var x = new MutationObserver(function (mutations, observer) {{\n",
              "        var display = window.getComputedStyle(gd).display;\n",
              "        if (!display || display === 'none') {{\n",
              "            console.log([gd, 'removed!']);\n",
              "            Plotly.purge(gd);\n",
              "            observer.disconnect();\n",
              "        }}\n",
              "}});\n",
              "\n",
              "// Listen for the removal of the full notebook cells\n",
              "var notebookContainer = gd.closest('#notebook-container');\n",
              "if (notebookContainer) {{\n",
              "    x.observe(notebookContainer, {childList: true});\n",
              "}}\n",
              "\n",
              "// Listen for the clearing of the current output cell\n",
              "var outputEl = gd.closest('.output');\n",
              "if (outputEl) {{\n",
              "    x.observe(outputEl, {childList: true});\n",
              "}}\n",
              "\n",
              "                        })                };                            </script>        </div>\n",
              "</body>\n",
              "</html>"
            ]
          },
          "metadata": {}
        }
      ]
    },
    {
      "cell_type": "markdown",
      "source": [
        "Documentation-From the above Scatter Chart we can see that Content_Rating Category 'Teens','Everyone' post the highest Reviews whereas Category 'Mature 17+','Adults-only 18+' post the least Reviews."
      ],
      "metadata": {
        "id": "DYaRsvgPubfu"
      }
    },
    {
      "cell_type": "markdown",
      "source": [
        "#Top 5 categories with Avg highest Rating"
      ],
      "metadata": {
        "id": "G4JokiwtqJ7d"
      }
    },
    {
      "cell_type": "code",
      "source": [
        "#Top 5 categories with Avg highest Rating\n",
        "rating_high=df.groupby('Category')['Rating'].mean().sort_values(ascending=False).head(5)\n",
        "\n",
        "plt.pie(rating_high.values, labels=rating_high.index, autopct='%1.1f%%', startangle=140, colors=plt.cm.Paired.colors)\n"
      ],
      "metadata": {
        "colab": {
          "base_uri": "https://localhost:8080/",
          "height": 666
        },
        "id": "F5c0h96OqamM",
        "outputId": "bd08206c-c237-438b-da39-4b7376365d06"
      },
      "execution_count": 482,
      "outputs": [
        {
          "output_type": "execute_result",
          "data": {
            "text/plain": [
              "([<matplotlib.patches.Wedge at 0x78a9409b9c10>,\n",
              "  <matplotlib.patches.Wedge at 0x78a9400b4e50>,\n",
              "  <matplotlib.patches.Wedge at 0x78a9400af750>,\n",
              "  <matplotlib.patches.Wedge at 0x78a9400af5d0>,\n",
              "  <matplotlib.patches.Wedge at 0x78a9400af090>],\n",
              " [Text(-1.097682874584882, 0.07136040108540898, 'EDUCATION'),\n",
              "  Text(-0.39881150131069815, -1.0251582250668954, 'EVENTS'),\n",
              "  Text(0.8549102665178504, -0.6921910402500008, 'ART_AND_DESIGN'),\n",
              "  Text(0.9242225989427324, 0.596500282986975, 'BOOKS_AND_REFERENCE'),\n",
              "  Text(-0.2716376220378145, 1.065932925794884, 'PERSONALIZATION')],\n",
              " [Text(-0.5987361134099355, 0.0389238551374958, '20.2%'),\n",
              "  Text(-0.21753354616947168, -0.5591772136728519, '20.1%'),\n",
              "  Text(0.4663146908279183, -0.3775587492272731, '20.0%'),\n",
              "  Text(0.5041214176051267, 0.32536379072016813, '19.9%'),\n",
              "  Text(-0.1481659756569897, 0.581417959524482, '19.8%')])"
            ]
          },
          "metadata": {},
          "execution_count": 482
        },
        {
          "output_type": "display_data",
          "data": {
            "text/plain": [
              "<Figure size 640x480 with 1 Axes>"
            ],
            "image/png": "[encoded data removed]"
          },
          "metadata": {}
        }
      ]
    },
    {
      "cell_type": "markdown",
      "source": [
        "Documentation-The above Pie Chart depicts that the category Education,Events etc have highest rating."
      ],
      "metadata": {
        "id": "lzdJQGZ2vFFc"
      }
    },
    {
      "cell_type": "markdown",
      "source": [
        "# Avg Highest Installs Based On Content Rating"
      ],
      "metadata": {
        "id": "K_4L3kWbqRmj"
      }
    },
    {
      "cell_type": "code",
      "source": [
        "#Content rating with Avg highest installs\n",
        "content_rating=round(df.groupby('Content Rating')['Installs'].mean().sort_values(ascending=False).head())\n",
        "content_rating\n"
      ],
      "metadata": {
        "colab": {
          "base_uri": "https://localhost:8080/",
          "height": 272
        },
        "id": "W-NviWbIq118",
        "outputId": "568e935d-5b65-46b5-9d61-fd6f43f87d09"
      },
      "execution_count": 483,
      "outputs": [
        {
          "output_type": "execute_result",
          "data": {
            "text/plain": [
              "Content Rating\n",
              "Everyone 10+       29764021.0\n",
              "Teen               26979302.0\n",
              "Everyone           11957721.0\n",
              "Mature 17+          9598874.0\n",
              "Adults only 18+      666667.0\n",
              "Name: Installs, dtype: float64"
            ],
            "text/html": [
              "<div>\n",
              "<style scoped>\n",
              "    .dataframe tbody tr th:only-of-type {\n",
              "        vertical-align: middle;\n",
              "    }\n",
              "\n",
              "    .dataframe tbody tr th {\n",
              "        vertical-align: top;\n",
              "    }\n",
              "\n",
              "    .dataframe thead th {\n",
              "        text-align: right;\n",
              "    }\n",
              "</style>\n",
              "<table border=\"1\" class=\"dataframe\">\n",
              "  <thead>\n",
              "    <tr style=\"text-align: right;\">\n",
              "      <th></th>\n",
              "      <th>Installs</th>\n",
              "    </tr>\n",
              "    <tr>\n",
              "      <th>Content Rating</th>\n",
              "      <th></th>\n",
              "    </tr>\n",
              "  </thead>\n",
              "  <tbody>\n",
              "    <tr>\n",
              "      <th>Everyone 10+</th>\n",
              "      <td>29764021.0</td>\n",
              "    </tr>\n",
              "    <tr>\n",
              "      <th>Teen</th>\n",
              "      <td>26979302.0</td>\n",
              "    </tr>\n",
              "    <tr>\n",
              "      <th>Everyone</th>\n",
              "      <td>11957721.0</td>\n",
              "    </tr>\n",
              "    <tr>\n",
              "      <th>Mature 17+</th>\n",
              "      <td>9598874.0</td>\n",
              "    </tr>\n",
              "    <tr>\n",
              "      <th>Adults only 18+</th>\n",
              "      <td>666667.0</td>\n",
              "    </tr>\n",
              "  </tbody>\n",
              "</table>\n",
              "</div><br><label><b>dtype:</b> float64</label>"
            ]
          },
          "metadata": {},
          "execution_count": 483
        }
      ]
    },
    {
      "cell_type": "code",
      "source": [
        "plt.bar(content_rating.index,content_rating.values,color='orange',edgecolor=\"black\")\n",
        "plt.xticks(rotation=90)"
      ],
      "metadata": {
        "colab": {
          "base_uri": "https://localhost:8080/",
          "height": 646
        },
        "id": "YKQ4zvHP9Brg",
        "outputId": "0f7b999f-7df0-460e-8ef7-0752135624aa"
      },
      "execution_count": 512,
      "outputs": [
        {
          "output_type": "execute_result",
          "data": {
            "text/plain": [
              "([0, 1, 2, 3, 4],\n",
              " [Text(0, 0, 'Everyone 10+'),\n",
              "  Text(1, 0, 'Teen'),\n",
              "  Text(2, 0, 'Everyone'),\n",
              "  Text(3, 0, 'Mature 17+'),\n",
              "  Text(4, 0, 'Adults only 18+')])"
            ]
          },
          "metadata": {},
          "execution_count": 512
        },
        {
          "output_type": "display_data",
          "data": {
            "text/plain": [
              "<Figure size 640x480 with 1 Axes>"
            ],
            "image/png": "[encoded data removed]"
          },
          "metadata": {}
        }
      ]
    },
    {
      "cell_type": "markdown",
      "source": [
        "Documentation-Based on the above Bar chart it shows that Apps that are installed most are by Age Everyone 10+ and Teens Content_Rating Category."
      ],
      "metadata": {
        "id": "30WZDSHsvmlx"
      }
    },
    {
      "cell_type": "markdown",
      "source": [
        "#Count of App Type\n"
      ],
      "metadata": {
        "id": "znXpMYhgrWVN"
      }
    },
    {
      "cell_type": "code",
      "source": [
        "sns.countplot(x='Type',data=df,color='Green')"
      ],
      "metadata": {
        "colab": {
          "base_uri": "https://localhost:8080/",
          "height": 469
        },
        "id": "p0YS8gxKdk7S",
        "outputId": "dc0b5018-8c2e-409f-a538-5a0b919e0121"
      },
      "execution_count": 513,
      "outputs": [
        {
          "output_type": "execute_result",
          "data": {
            "text/plain": [
              "<Axes: xlabel='Type', ylabel='count'>"
            ]
          },
          "metadata": {},
          "execution_count": 513
        },
        {
          "output_type": "display_data",
          "data": {
            "text/plain": [
              "<Figure size 640x480 with 1 Axes>"
            ],
            "image/png": "[encoded data removed]"
          },
          "metadata": {}
        }
      ]
    },
    {
      "cell_type": "markdown",
      "source": [
        "#Apps with their distributed Type\n"
      ],
      "metadata": {
        "id": "wp11nfgjrgmB"
      }
    },
    {
      "cell_type": "code",
      "source": [
        "#Apps with their distributed Type\n",
        "type_app=df.groupby('Type')['App'].count()\n",
        "type_app\n",
        "pl.pie(values=type_app.values, names=type_app.index, title='Distribution of Free and Paid Apps')"
      ],
      "metadata": {
        "colab": {
          "base_uri": "https://localhost:8080/",
          "height": 542
        },
        "id": "WSmafjE1Bfoi",
        "outputId": "bda2c9b9-dfe1-42d1-85ca-733ef48d0439"
      },
      "execution_count": 486,
      "outputs": [
        {
          "output_type": "display_data",
          "data": {
            "text/html": [
              "<html>\n",
              "<head><meta charset=\"utf-8\" /></head>\n",
              "<body>\n",
              "    <div>            <script src=\"https://cdnjs.cloudflare.com/ajax/libs/mathjax/2.7.5/MathJax.js?config=TeX-AMS-MML_SVG\"></script><script type=\"text/javascript\">if (window.MathJax && window.MathJax.Hub && window.MathJax.Hub.Config) {window.MathJax.Hub.Config({SVG: {font: \"STIX-Web\"}});}</script>                <script type=\"text/javascript\">window.PlotlyConfig = {MathJaxConfig: 'local'};</script>\n",
              "        <script charset=\"utf-8\" src=\"https://cdn.plot.ly/plotly-2.35.2.min.js\"></script>                <div id=\"e352d24b-be67-4b75-b91b-052b6ae09c8b\" class=\"plotly-graph-div\" style=\"height:525px; width:100%;\"></div>            <script type=\"text/javascript\">                                    window.PLOTLYENV=window.PLOTLYENV || {};                                    if (document.getElementById(\"e352d24b-be67-4b75-b91b-052b6ae09c8b\")) {                    Plotly.newPlot(                        \"e352d24b-be67-4b75-b91b-052b6ae09c8b\",                        [{\"domain\":{\"x\":[0.0,1.0],\"y\":[0.0,1.0]},\"hovertemplate\":\"label=%{label}\\u003cbr\\u003evalue=%{value}\\u003cextra\\u003e\\u003c\\u002fextra\\u003e\",\"labels\":[\"Free\",\"Paid\"],\"legendgroup\":\"\",\"name\":\"\",\"showlegend\":true,\"values\":[9591,765],\"type\":\"pie\"}],                        {\"template\":{\"data\":{\"histogram2dcontour\":[{\"type\":\"histogram2dcontour\",\"colorbar\":{\"outlinewidth\":0,\"ticks\":\"\"},\"colorscale\":[[0.0,\"#0d0887\"],[0.1111111111111111,\"#46039f\"],[0.2222222222222222,\"#7201a8\"],[0.3333333333333333,\"#9c179e\"],[0.4444444444444444,\"#bd3786\"],[0.5555555555555556,\"#d8576b\"],[0.6666666666666666,\"#ed7953\"],[0.7777777777777778,\"#fb9f3a\"],[0.8888888888888888,\"#fdca26\"],[1.0,\"#f0f921\"]]}],\"choropleth\":[{\"type\":\"choropleth\",\"colorbar\":{\"outlinewidth\":0,\"ticks\":\"\"}}],\"histogram2d\":[{\"type\":\"histogram2d\",\"colorbar\":{\"outlinewidth\":0,\"ticks\":\"\"},\"colorscale\":[[0.0,\"#0d0887\"],[0.1111111111111111,\"#46039f\"],[0.2222222222222222,\"#7201a8\"],[0.3333333333333333,\"#9c179e\"],[0.4444444444444444,\"#bd3786\"],[0.5555555555555556,\"#d8576b\"],[0.6666666666666666,\"#ed7953\"],[0.7777777777777778,\"#fb9f3a\"],[0.8888888888888888,\"#fdca26\"],[1.0,\"#f0f921\"]]}],\"heatmap\":[{\"type\":\"heatmap\",\"colorbar\":{\"outlinewidth\":0,\"ticks\":\"\"},\"colorscale\":[[0.0,\"#0d0887\"],[0.1111111111111111,\"#46039f\"],[0.2222222222222222,\"#7201a8\"],[0.3333333333333333,\"#9c179e\"],[0.4444444444444444,\"#bd3786\"],[0.5555555555555556,\"#d8576b\"],[0.6666666666666666,\"#ed7953\"],[0.7777777777777778,\"#fb9f3a\"],[0.8888888888888888,\"#fdca26\"],[1.0,\"#f0f921\"]]}],\"heatmapgl\":[{\"type\":\"heatmapgl\",\"colorbar\":{\"outlinewidth\":0,\"ticks\":\"\"},\"colorscale\":[[0.0,\"#0d0887\"],[0.1111111111111111,\"#46039f\"],[0.2222222222222222,\"#7201a8\"],[0.3333333333333333,\"#9c179e\"],[0.4444444444444444,\"#bd3786\"],[0.5555555555555556,\"#d8576b\"],[0.6666666666666666,\"#ed7953\"],[0.7777777777777778,\"#fb9f3a\"],[0.8888888888888888,\"#fdca26\"],[1.0,\"#f0f921\"]]}],\"contourcarpet\":[{\"type\":\"contourcarpet\",\"colorbar\":{\"outlinewidth\":0,\"ticks\":\"\"}}],\"contour\":[{\"type\":\"contour\",\"colorbar\":{\"outlinewidth\":0,\"ticks\":\"\"},\"colorscale\":[[0.0,\"#0d0887\"],[0.1111111111111111,\"#46039f\"],[0.2222222222222222,\"#7201a8\"],[0.3333333333333333,\"#9c179e\"],[0.4444444444444444,\"#bd3786\"],[0.5555555555555556,\"#d8576b\"],[0.6666666666666666,\"#ed7953\"],[0.7777777777777778,\"#fb9f3a\"],[0.8888888888888888,\"#fdca26\"],[1.0,\"#f0f921\"]]}],\"surface\":[{\"type\":\"surface\",\"colorbar\":{\"outlinewidth\":0,\"ticks\":\"\"},\"colorscale\":[[0.0,\"#0d0887\"],[0.1111111111111111,\"#46039f\"],[0.2222222222222222,\"#7201a8\"],[0.3333333333333333,\"#9c179e\"],[0.4444444444444444,\"#bd3786\"],[0.5555555555555556,\"#d8576b\"],[0.6666666666666666,\"#ed7953\"],[0.7777777777777778,\"#fb9f3a\"],[0.8888888888888888,\"#fdca26\"],[1.0,\"#f0f921\"]]}],\"mesh3d\":[{\"type\":\"mesh3d\",\"colorbar\":{\"outlinewidth\":0,\"ticks\":\"\"}}],\"scatter\":[{\"fillpattern\":{\"fillmode\":\"overlay\",\"size\":10,\"solidity\":0.2},\"type\":\"scatter\"}],\"parcoords\":[{\"type\":\"parcoords\",\"line\":{\"colorbar\":{\"outlinewidth\":0,\"ticks\":\"\"}}}],\"scatterpolargl\":[{\"type\":\"scatterpolargl\",\"marker\":{\"colorbar\":{\"outlinewidth\":0,\"ticks\":\"\"}}}],\"bar\":[{\"error_x\":{\"color\":\"#2a3f5f\"},\"error_y\":{\"color\":\"#2a3f5f\"},\"marker\":{\"line\":{\"color\":\"#E5ECF6\",\"width\":0.5},\"pattern\":{\"fillmode\":\"overlay\",\"size\":10,\"solidity\":0.2}},\"type\":\"bar\"}],\"scattergeo\":[{\"type\":\"scattergeo\",\"marker\":{\"colorbar\":{\"outlinewidth\":0,\"ticks\":\"\"}}}],\"scatterpolar\":[{\"type\":\"scatterpolar\",\"marker\":{\"colorbar\":{\"outlinewidth\":0,\"ticks\":\"\"}}}],\"histogram\":[{\"marker\":{\"pattern\":{\"fillmode\":\"overlay\",\"size\":10,\"solidity\":0.2}},\"type\":\"histogram\"}],\"scattergl\":[{\"type\":\"scattergl\",\"marker\":{\"colorbar\":{\"outlinewidth\":0,\"ticks\":\"\"}}}],\"scatter3d\":[{\"type\":\"scatter3d\",\"line\":{\"colorbar\":{\"outlinewidth\":0,\"ticks\":\"\"}},\"marker\":{\"colorbar\":{\"outlinewidth\":0,\"ticks\":\"\"}}}],\"scattermapbox\":[{\"type\":\"scattermapbox\",\"marker\":{\"colorbar\":{\"outlinewidth\":0,\"ticks\":\"\"}}}],\"scatterternary\":[{\"type\":\"scatterternary\",\"marker\":{\"colorbar\":{\"outlinewidth\":0,\"ticks\":\"\"}}}],\"scattercarpet\":[{\"type\":\"scattercarpet\",\"marker\":{\"colorbar\":{\"outlinewidth\":0,\"ticks\":\"\"}}}],\"carpet\":[{\"aaxis\":{\"endlinecolor\":\"#2a3f5f\",\"gridcolor\":\"white\",\"linecolor\":\"white\",\"minorgridcolor\":\"white\",\"startlinecolor\":\"#2a3f5f\"},\"baxis\":{\"endlinecolor\":\"#2a3f5f\",\"gridcolor\":\"white\",\"linecolor\":\"white\",\"minorgridcolor\":\"white\",\"startlinecolor\":\"#2a3f5f\"},\"type\":\"carpet\"}],\"table\":[{\"cells\":{\"fill\":{\"color\":\"#EBF0F8\"},\"line\":{\"color\":\"white\"}},\"header\":{\"fill\":{\"color\":\"#C8D4E3\"},\"line\":{\"color\":\"white\"}},\"type\":\"table\"}],\"barpolar\":[{\"marker\":{\"line\":{\"color\":\"#E5ECF6\",\"width\":0.5},\"pattern\":{\"fillmode\":\"overlay\",\"size\":10,\"solidity\":0.2}},\"type\":\"barpolar\"}],\"pie\":[{\"automargin\":true,\"type\":\"pie\"}]},\"layout\":{\"autotypenumbers\":\"strict\",\"colorway\":[\"#636efa\",\"#EF553B\",\"#00cc96\",\"#ab63fa\",\"#FFA15A\",\"#19d3f3\",\"#FF6692\",\"#B6E880\",\"#FF97FF\",\"#FECB52\"],\"font\":{\"color\":\"#2a3f5f\"},\"hovermode\":\"closest\",\"hoverlabel\":{\"align\":\"left\"},\"paper_bgcolor\":\"white\",\"plot_bgcolor\":\"#E5ECF6\",\"polar\":{\"bgcolor\":\"#E5ECF6\",\"angularaxis\":{\"gridcolor\":\"white\",\"linecolor\":\"white\",\"ticks\":\"\"},\"radialaxis\":{\"gridcolor\":\"white\",\"linecolor\":\"white\",\"ticks\":\"\"}},\"ternary\":{\"bgcolor\":\"#E5ECF6\",\"aaxis\":{\"gridcolor\":\"white\",\"linecolor\":\"white\",\"ticks\":\"\"},\"baxis\":{\"gridcolor\":\"white\",\"linecolor\":\"white\",\"ticks\":\"\"},\"caxis\":{\"gridcolor\":\"white\",\"linecolor\":\"white\",\"ticks\":\"\"}},\"coloraxis\":{\"colorbar\":{\"outlinewidth\":0,\"ticks\":\"\"}},\"colorscale\":{\"sequential\":[[0.0,\"#0d0887\"],[0.1111111111111111,\"#46039f\"],[0.2222222222222222,\"#7201a8\"],[0.3333333333333333,\"#9c179e\"],[0.4444444444444444,\"#bd3786\"],[0.5555555555555556,\"#d8576b\"],[0.6666666666666666,\"#ed7953\"],[0.7777777777777778,\"#fb9f3a\"],[0.8888888888888888,\"#fdca26\"],[1.0,\"#f0f921\"]],\"sequentialminus\":[[0.0,\"#0d0887\"],[0.1111111111111111,\"#46039f\"],[0.2222222222222222,\"#7201a8\"],[0.3333333333333333,\"#9c179e\"],[0.4444444444444444,\"#bd3786\"],[0.5555555555555556,\"#d8576b\"],[0.6666666666666666,\"#ed7953\"],[0.7777777777777778,\"#fb9f3a\"],[0.8888888888888888,\"#fdca26\"],[1.0,\"#f0f921\"]],\"diverging\":[[0,\"#8e0152\"],[0.1,\"#c51b7d\"],[0.2,\"#de77ae\"],[0.3,\"#f1b6da\"],[0.4,\"#fde0ef\"],[0.5,\"#f7f7f7\"],[0.6,\"#e6f5d0\"],[0.7,\"#b8e186\"],[0.8,\"#7fbc41\"],[0.9,\"#4d9221\"],[1,\"#276419\"]]},\"xaxis\":{\"gridcolor\":\"white\",\"linecolor\":\"white\",\"ticks\":\"\",\"title\":{\"standoff\":15},\"zerolinecolor\":\"white\",\"automargin\":true,\"zerolinewidth\":2},\"yaxis\":{\"gridcolor\":\"white\",\"linecolor\":\"white\",\"ticks\":\"\",\"title\":{\"standoff\":15},\"zerolinecolor\":\"white\",\"automargin\":true,\"zerolinewidth\":2},\"scene\":{\"xaxis\":{\"backgroundcolor\":\"#E5ECF6\",\"gridcolor\":\"white\",\"linecolor\":\"white\",\"showbackground\":true,\"ticks\":\"\",\"zerolinecolor\":\"white\",\"gridwidth\":2},\"yaxis\":{\"backgroundcolor\":\"#E5ECF6\",\"gridcolor\":\"white\",\"linecolor\":\"white\",\"showbackground\":true,\"ticks\":\"\",\"zerolinecolor\":\"white\",\"gridwidth\":2},\"zaxis\":{\"backgroundcolor\":\"#E5ECF6\",\"gridcolor\":\"white\",\"linecolor\":\"white\",\"showbackground\":true,\"ticks\":\"\",\"zerolinecolor\":\"white\",\"gridwidth\":2}},\"shapedefaults\":{\"line\":{\"color\":\"#2a3f5f\"}},\"annotationdefaults\":{\"arrowcolor\":\"#2a3f5f\",\"arrowhead\":0,\"arrowwidth\":1},\"geo\":{\"bgcolor\":\"white\",\"landcolor\":\"#E5ECF6\",\"subunitcolor\":\"white\",\"showland\":true,\"showlakes\":true,\"lakecolor\":\"white\"},\"title\":{\"x\":0.05},\"mapbox\":{\"style\":\"light\"}}},\"legend\":{\"tracegroupgap\":0},\"title\":{\"text\":\"Distribution of Free and Paid Apps\"}},                        {\"responsive\": true}                    ).then(function(){\n",
              "                            \n",
              "var gd = document.getElementById('e352d24b-be67-4b75-b91b-052b6ae09c8b');\n",
              "var x = new MutationObserver(function (mutations, observer) {{\n",
              "        var display = window.getComputedStyle(gd).display;\n",
              "        if (!display || display === 'none') {{\n",
              "            console.log([gd, 'removed!']);\n",
              "            Plotly.purge(gd);\n",
              "            observer.disconnect();\n",
              "        }}\n",
              "}});\n",
              "\n",
              "// Listen for the removal of the full notebook cells\n",
              "var notebookContainer = gd.closest('#notebook-container');\n",
              "if (notebookContainer) {{\n",
              "    x.observe(notebookContainer, {childList: true});\n",
              "}}\n",
              "\n",
              "// Listen for the clearing of the current output cell\n",
              "var outputEl = gd.closest('.output');\n",
              "if (outputEl) {{\n",
              "    x.observe(outputEl, {childList: true});\n",
              "}}\n",
              "\n",
              "                        })                };                            </script>        </div>\n",
              "</body>\n",
              "</html>"
            ]
          },
          "metadata": {}
        }
      ]
    },
    {
      "cell_type": "markdown",
      "source": [
        "Documentation-From the above Pie Chart we can see that 92.6% Apps are Free to Use and Paid Apps are about 7.39%"
      ],
      "metadata": {
        "id": "74YFmKYfwIK9"
      }
    },
    {
      "cell_type": "markdown",
      "source": [
        "# Top 10 Categories Based on No of Installs"
      ],
      "metadata": {
        "id": "EkJ7hkz4ruAV"
      }
    },
    {
      "cell_type": "code",
      "source": [
        "#Category Vs Installs\n",
        "\n",
        "# grouping by\n",
        "top_10 = df.groupby('Category')['Installs'].mean().sort_values(ascending=False).reset_index()\n",
        "top_10=top_10.head(10)\n",
        "top_10\n"
      ],
      "metadata": {
        "colab": {
          "base_uri": "https://localhost:8080/",
          "height": 363
        },
        "id": "M-F7PEaOk35G",
        "outputId": "53dd51ff-8fa4-441d-f9d7-163a567d1f3b"
      },
      "execution_count": 502,
      "outputs": [
        {
          "output_type": "execute_result",
          "data": {
            "text/plain": [
              "             Category      Installs\n",
              "0       COMMUNICATION  6.598983e+07\n",
              "1              SOCIAL  4.469239e+07\n",
              "2       VIDEO_PLAYERS  3.555430e+07\n",
              "3        PRODUCTIVITY  3.062185e+07\n",
              "4         PHOTOGRAPHY  3.019021e+07\n",
              "5                GAME  2.813918e+07\n",
              "6    TRAVEL_AND_LOCAL  2.684341e+07\n",
              "7       ENTERTAINMENT  2.212306e+07\n",
              "8  NEWS_AND_MAGAZINES  2.042886e+07\n",
              "9               TOOLS  1.358573e+07"
            ],
            "text/html": [
              "\n",
              "  <div id=\"df-4057e713-6f18-407f-968d-0e41b90b4926\" class=\"colab-df-container\">\n",
              "    <div>\n",
              "<style scoped>\n",
              "    .dataframe tbody tr th:only-of-type {\n",
              "        vertical-align: middle;\n",
              "    }\n",
              "\n",
              "    .dataframe tbody tr th {\n",
              "        vertical-align: top;\n",
              "    }\n",
              "\n",
              "    .dataframe thead th {\n",
              "        text-align: right;\n",
              "    }\n",
              "</style>\n",
              "<table border=\"1\" class=\"dataframe\">\n",
              "  <thead>\n",
              "    <tr style=\"text-align: right;\">\n",
              "      <th></th>\n",
              "      <th>Category</th>\n",
              "      <th>Installs</th>\n",
              "    </tr>\n",
              "  </thead>\n",
              "  <tbody>\n",
              "    <tr>\n",
              "      <th>0</th>\n",
              "      <td>COMMUNICATION</td>\n",
              "      <td>6.598983e+07</td>\n",
              "    </tr>\n",
              "    <tr>\n",
              "      <th>1</th>\n",
              "      <td>SOCIAL</td>\n",
              "      <td>4.469239e+07</td>\n",
              "    </tr>\n",
              "    <tr>\n",
              "      <th>2</th>\n",
              "      <td>VIDEO_PLAYERS</td>\n",
              "      <td>3.555430e+07</td>\n",
              "    </tr>\n",
              "    <tr>\n",
              "      <th>3</th>\n",
              "      <td>PRODUCTIVITY</td>\n",
              "      <td>3.062185e+07</td>\n",
              "    </tr>\n",
              "    <tr>\n",
              "      <th>4</th>\n",
              "      <td>PHOTOGRAPHY</td>\n",
              "      <td>3.019021e+07</td>\n",
              "    </tr>\n",
              "    <tr>\n",
              "      <th>5</th>\n",
              "      <td>GAME</td>\n",
              "      <td>2.813918e+07</td>\n",
              "    </tr>\n",
              "    <tr>\n",
              "      <th>6</th>\n",
              "      <td>TRAVEL_AND_LOCAL</td>\n",
              "      <td>2.684341e+07</td>\n",
              "    </tr>\n",
              "    <tr>\n",
              "      <th>7</th>\n",
              "      <td>ENTERTAINMENT</td>\n",
              "      <td>2.212306e+07</td>\n",
              "    </tr>\n",
              "    <tr>\n",
              "      <th>8</th>\n",
              "      <td>NEWS_AND_MAGAZINES</td>\n",
              "      <td>2.042886e+07</td>\n",
              "    </tr>\n",
              "    <tr>\n",
              "      <th>9</th>\n",
              "      <td>TOOLS</td>\n",
              "      <td>1.358573e+07</td>\n",
              "    </tr>\n",
              "  </tbody>\n",
              "</table>\n",
              "</div>\n",
              "    <div class=\"colab-df-buttons\">\n",
              "\n",
              "  <div class=\"colab-df-container\">\n",
              "    <button class=\"colab-df-convert\" onclick=\"convertToInteractive('df-4057e713-6f18-407f-968d-0e41b90b4926')\"\n",
              "            title=\"Convert this dataframe to an interactive table.\"\n",
              "            style=\"display:none;\">\n",
              "\n",
              "  <svg xmlns=\"http://www.w3.org/2000/svg\" height=\"24px\" viewBox=\"0 -960 960 960\">\n",
              "    <path d=\"M120-120v-720h720v720H120Zm60-500h600v-160H180v160Zm220 220h160v-160H400v160Zm0 220h160v-160H400v160ZM180-400h160v-160H180v160Zm440 0h160v-160H620v160ZM180-180h160v-160H180v160Zm440 0h160v-160H620v160Z\"/>\n",
              "  </svg>\n",
              "    </button>\n",
              "\n",
              "  <style>\n",
              "    .colab-df-container {\n",
              "      display:flex;\n",
              "      gap: 12px;\n",
              "    }\n",
              "\n",
              "    .colab-df-convert {\n",
              "      background-color: #E8F0FE;\n",
              "      border: none;\n",
              "      border-radius: 50%;\n",
              "      cursor: pointer;\n",
              "      display: none;\n",
              "      fill: #1967D2;\n",
              "      height: 32px;\n",
              "      padding: 0 0 0 0;\n",
              "      width: 32px;\n",
              "    }\n",
              "\n",
              "    .colab-df-convert:hover {\n",
              "      background-color: #E2EBFA;\n",
              "      box-shadow: 0px 1px 2px rgba(60, 64, 67, 0.3), 0px 1px 3px 1px rgba(60, 64, 67, 0.15);\n",
              "      fill: #174EA6;\n",
              "    }\n",
              "\n",
              "    .colab-df-buttons div {\n",
              "      margin-bottom: 4px;\n",
              "    }\n",
              "\n",
              "    [theme=dark] .colab-df-convert {\n",
              "      background-color: #3B4455;\n",
              "      fill: #D2E3FC;\n",
              "    }\n",
              "\n",
              "    [theme=dark] .colab-df-convert:hover {\n",
              "      background-color: #434B5C;\n",
              "      box-shadow: 0px 1px 3px 1px rgba(0, 0, 0, 0.15);\n",
              "      filter: drop-shadow(0px 1px 2px rgba(0, 0, 0, 0.3));\n",
              "      fill: #FFFFFF;\n",
              "    }\n",
              "  </style>\n",
              "\n",
              "    <script>\n",
              "      const buttonEl =\n",
              "        document.querySelector('#df-4057e713-6f18-407f-968d-0e41b90b4926 button.colab-df-convert');\n",
              "      buttonEl.style.display =\n",
              "        google.colab.kernel.accessAllowed ? 'block' : 'none';\n",
              "\n",
              "      async function convertToInteractive(key) {\n",
              "        const element = document.querySelector('#df-4057e713-6f18-407f-968d-0e41b90b4926');\n",
              "        const dataTable =\n",
              "          await google.colab.kernel.invokeFunction('convertToInteractive',\n",
              "                                                    [key], {});\n",
              "        if (!dataTable) return;\n",
              "\n",
              "        const docLinkHtml = 'Like what you see? Visit the ' +\n",
              "          '<a target=\"_blank\" href=https://colab.research.google.com/notebooks/data_table.ipynb>data table notebook</a>'\n",
              "          + ' to learn more about interactive tables.';\n",
              "        element.innerHTML = '';\n",
              "        dataTable['output_type'] = 'display_data';\n",
              "        await google.colab.output.renderOutput(dataTable, element);\n",
              "        const docLink = document.createElement('div');\n",
              "        docLink.innerHTML = docLinkHtml;\n",
              "        element.appendChild(docLink);\n",
              "      }\n",
              "    </script>\n",
              "  </div>\n",
              "\n",
              "\n",
              "<div id=\"df-b08a1c5f-25d1-461b-9748-cca605486b43\">\n",
              "  <button class=\"colab-df-quickchart\" onclick=\"quickchart('df-b08a1c5f-25d1-461b-9748-cca605486b43')\"\n",
              "            title=\"Suggest charts\"\n",
              "            style=\"display:none;\">\n",
              "\n",
              "<svg xmlns=\"http://www.w3.org/2000/svg\" height=\"24px\"viewBox=\"0 0 24 24\"\n",
              "     width=\"24px\">\n",
              "    <g>\n",
              "        <path d=\"M19 3H5c-1.1 0-2 .9-2 2v14c0 1.1.9 2 2 2h14c1.1 0 2-.9 2-2V5c0-1.1-.9-2-2-2zM9 17H7v-7h2v7zm4 0h-2V7h2v10zm4 0h-2v-4h2v4z\"/>\n",
              "    </g>\n",
              "</svg>\n",
              "  </button>\n",
              "\n",
              "<style>\n",
              "  .colab-df-quickchart {\n",
              "      --bg-color: #E8F0FE;\n",
              "      --fill-color: #1967D2;\n",
              "      --hover-bg-color: #E2EBFA;\n",
              "      --hover-fill-color: #174EA6;\n",
              "      --disabled-fill-color: #AAA;\n",
              "      --disabled-bg-color: #DDD;\n",
              "  }\n",
              "\n",
              "  [theme=dark] .colab-df-quickchart {\n",
              "      --bg-color: #3B4455;\n",
              "      --fill-color: #D2E3FC;\n",
              "      --hover-bg-color: #434B5C;\n",
              "      --hover-fill-color: #FFFFFF;\n",
              "      --disabled-bg-color: #3B4455;\n",
              "      --disabled-fill-color: #666;\n",
              "  }\n",
              "\n",
              "  .colab-df-quickchart {\n",
              "    background-color: var(--bg-color);\n",
              "    border: none;\n",
              "    border-radius: 50%;\n",
              "    cursor: pointer;\n",
              "    display: none;\n",
              "    fill: var(--fill-color);\n",
              "    height: 32px;\n",
              "    padding: 0;\n",
              "    width: 32px;\n",
              "  }\n",
              "\n",
              "  .colab-df-quickchart:hover {\n",
              "    background-color: var(--hover-bg-color);\n",
              "    box-shadow: 0 1px 2px rgba(60, 64, 67, 0.3), 0 1px 3px 1px rgba(60, 64, 67, 0.15);\n",
              "    fill: var(--button-hover-fill-color);\n",
              "  }\n",
              "\n",
              "  .colab-df-quickchart-complete:disabled,\n",
              "  .colab-df-quickchart-complete:disabled:hover {\n",
              "    background-color: var(--disabled-bg-color);\n",
              "    fill: var(--disabled-fill-color);\n",
              "    box-shadow: none;\n",
              "  }\n",
              "\n",
              "  .colab-df-spinner {\n",
              "    border: 2px solid var(--fill-color);\n",
              "    border-color: transparent;\n",
              "    border-bottom-color: var(--fill-color);\n",
              "    animation:\n",
              "      spin 1s steps(1) infinite;\n",
              "  }\n",
              "\n",
              "  @keyframes spin {\n",
              "    0% {\n",
              "      border-color: transparent;\n",
              "      border-bottom-color: var(--fill-color);\n",
              "      border-left-color: var(--fill-color);\n",
              "    }\n",
              "    20% {\n",
              "      border-color: transparent;\n",
              "      border-left-color: var(--fill-color);\n",
              "      border-top-color: var(--fill-color);\n",
              "    }\n",
              "    30% {\n",
              "      border-color: transparent;\n",
              "      border-left-color: var(--fill-color);\n",
              "      border-top-color: var(--fill-color);\n",
              "      border-right-color: var(--fill-color);\n",
              "    }\n",
              "    40% {\n",
              "      border-color: transparent;\n",
              "      border-right-color: var(--fill-color);\n",
              "      border-top-color: var(--fill-color);\n",
              "    }\n",
              "    60% {\n",
              "      border-color: transparent;\n",
              "      border-right-color: var(--fill-color);\n",
              "    }\n",
              "    80% {\n",
              "      border-color: transparent;\n",
              "      border-right-color: var(--fill-color);\n",
              "      border-bottom-color: var(--fill-color);\n",
              "    }\n",
              "    90% {\n",
              "      border-color: transparent;\n",
              "      border-bottom-color: var(--fill-color);\n",
              "    }\n",
              "  }\n",
              "</style>\n",
              "\n",
              "  <script>\n",
              "    async function quickchart(key) {\n",
              "      const quickchartButtonEl =\n",
              "        document.querySelector('#' + key + ' button');\n",
              "      quickchartButtonEl.disabled = true;  // To prevent multiple clicks.\n",
              "      quickchartButtonEl.classList.add('colab-df-spinner');\n",
              "      try {\n",
              "        const charts = await google.colab.kernel.invokeFunction(\n",
              "            'suggestCharts', [key], {});\n",
              "      } catch (error) {\n",
              "        console.error('Error during call to suggestCharts:', error);\n",
              "      }\n",
              "      quickchartButtonEl.classList.remove('colab-df-spinner');\n",
              "      quickchartButtonEl.classList.add('colab-df-quickchart-complete');\n",
              "    }\n",
              "    (() => {\n",
              "      let quickchartButtonEl =\n",
              "        document.querySelector('#df-b08a1c5f-25d1-461b-9748-cca605486b43 button');\n",
              "      quickchartButtonEl.style.display =\n",
              "        google.colab.kernel.accessAllowed ? 'block' : 'none';\n",
              "    })();\n",
              "  </script>\n",
              "</div>\n",
              "\n",
              "  <div id=\"id_45cdd634-1493-4db0-9c65-3755913af801\">\n",
              "    <style>\n",
              "      .colab-df-generate {\n",
              "        background-color: #E8F0FE;\n",
              "        border: none;\n",
              "        border-radius: 50%;\n",
              "        cursor: pointer;\n",
              "        display: none;\n",
              "        fill: #1967D2;\n",
              "        height: 32px;\n",
              "        padding: 0 0 0 0;\n",
              "        width: 32px;\n",
              "      }\n",
              "\n",
              "      .colab-df-generate:hover {\n",
              "        background-color: #E2EBFA;\n",
              "        box-shadow: 0px 1px 2px rgba(60, 64, 67, 0.3), 0px 1px 3px 1px rgba(60, 64, 67, 0.15);\n",
              "        fill: #174EA6;\n",
              "      }\n",
              "\n",
              "      [theme=dark] .colab-df-generate {\n",
              "        background-color: #3B4455;\n",
              "        fill: #D2E3FC;\n",
              "      }\n",
              "\n",
              "      [theme=dark] .colab-df-generate:hover {\n",
              "        background-color: #434B5C;\n",
              "        box-shadow: 0px 1px 3px 1px rgba(0, 0, 0, 0.15);\n",
              "        filter: drop-shadow(0px 1px 2px rgba(0, 0, 0, 0.3));\n",
              "        fill: #FFFFFF;\n",
              "      }\n",
              "    </style>\n",
              "    <button class=\"colab-df-generate\" onclick=\"generateWithVariable('top_10')\"\n",
              "            title=\"Generate code using this dataframe.\"\n",
              "            style=\"display:none;\">\n",
              "\n",
              "  <svg xmlns=\"http://www.w3.org/2000/svg\" height=\"24px\"viewBox=\"0 0 24 24\"\n",
              "       width=\"24px\">\n",
              "    <path d=\"M7,19H8.4L18.45,9,17,7.55,7,17.6ZM5,21V16.75L18.45,3.32a2,2,0,0,1,2.83,0l1.4,1.43a1.91,1.91,0,0,1,.58,1.4,1.91,1.91,0,0,1-.58,1.4L9.25,21ZM18.45,9,17,7.55Zm-12,3A5.31,5.31,0,0,0,4.9,8.1,5.31,5.31,0,0,0,1,6.5,5.31,5.31,0,0,0,4.9,4.9,5.31,5.31,0,0,0,6.5,1,5.31,5.31,0,0,0,8.1,4.9,5.31,5.31,0,0,0,12,6.5,5.46,5.46,0,0,0,6.5,12Z\"/>\n",
              "  </svg>\n",
              "    </button>\n",
              "    <script>\n",
              "      (() => {\n",
              "      const buttonEl =\n",
              "        document.querySelector('#id_45cdd634-1493-4db0-9c65-3755913af801 button.colab-df-generate');\n",
              "      buttonEl.style.display =\n",
              "        google.colab.kernel.accessAllowed ? 'block' : 'none';\n",
              "\n",
              "      buttonEl.onclick = () => {\n",
              "        google.colab.notebook.generateWithVariable('top_10');\n",
              "      }\n",
              "      })();\n",
              "    </script>\n",
              "  </div>\n",
              "\n",
              "    </div>\n",
              "  </div>\n"
            ],
            "application/vnd.google.colaboratory.intrinsic+json": {
              "type": "dataframe",
              "variable_name": "top_10",
              "summary": "{\n  \"name\": \"top_10\",\n  \"rows\": 10,\n  \"fields\": [\n    {\n      \"column\": \"Category\",\n      \"properties\": {\n        \"dtype\": \"string\",\n        \"num_unique_values\": 10,\n        \"samples\": [\n          \"NEWS_AND_MAGAZINES\",\n          \"SOCIAL\",\n          \"GAME\"\n        ],\n        \"semantic_type\": \"\",\n        \"description\": \"\"\n      }\n    },\n    {\n      \"column\": \"Installs\",\n      \"properties\": {\n        \"dtype\": \"number\",\n        \"std\": 14704134.734134413,\n        \"min\": 13585731.809015421,\n        \"max\": 65989825.82240437,\n        \"num_unique_values\": 10,\n        \"samples\": [\n          20428855.151515152,\n          44692385.364285715,\n          28139183.2426405\n        ],\n        \"semantic_type\": \"\",\n        \"description\": \"\"\n      }\n    }\n  ]\n}"
            }
          },
          "metadata": {},
          "execution_count": 502
        }
      ]
    },
    {
      "cell_type": "code",
      "source": [
        "pl.bar(top_10,x='Category',y='Installs',title='Top 10 categories which have more installations',color='Category')"
      ],
      "metadata": {
        "colab": {
          "base_uri": "https://localhost:8080/",
          "height": 542
        },
        "id": "GyK3iD4Il_9u",
        "outputId": "e6508bd4-c2fd-449c-9b8b-fb63c119f11d"
      },
      "execution_count": 514,
      "outputs": [
        {
          "output_type": "display_data",
          "data": {
            "text/html": [
              "<html>\n",
              "<head><meta charset=\"utf-8\" /></head>\n",
              "<body>\n",
              "    <div>            <script src=\"https://cdnjs.cloudflare.com/ajax/libs/mathjax/2.7.5/MathJax.js?config=TeX-AMS-MML_SVG\"></script><script type=\"text/javascript\">if (window.MathJax && window.MathJax.Hub && window.MathJax.Hub.Config) {window.MathJax.Hub.Config({SVG: {font: \"STIX-Web\"}});}</script>                <script type=\"text/javascript\">window.PlotlyConfig = {MathJaxConfig: 'local'};</script>\n",
              "        <script charset=\"utf-8\" src=\"https://cdn.plot.ly/plotly-2.35.2.min.js\"></script>                <div id=\"6640a125-bb0d-4bb7-8c0d-54a7a9fd6379\" class=\"plotly-graph-div\" style=\"height:525px; width:100%;\"></div>            <script type=\"text/javascript\">                                    window.PLOTLYENV=window.PLOTLYENV || {};                                    if (document.getElementById(\"6640a125-bb0d-4bb7-8c0d-54a7a9fd6379\")) {                    Plotly.newPlot(                        \"6640a125-bb0d-4bb7-8c0d-54a7a9fd6379\",                        [{\"alignmentgroup\":\"True\",\"hovertemplate\":\"Category=%{x}\\u003cbr\\u003eInstalls=%{y}\\u003cextra\\u003e\\u003c\\u002fextra\\u003e\",\"legendgroup\":\"COMMUNICATION\",\"marker\":{\"color\":\"#636efa\",\"pattern\":{\"shape\":\"\"}},\"name\":\"COMMUNICATION\",\"offsetgroup\":\"COMMUNICATION\",\"orientation\":\"v\",\"showlegend\":true,\"textposition\":\"auto\",\"x\":[\"COMMUNICATION\"],\"xaxis\":\"x\",\"y\":[65989825.82240437],\"yaxis\":\"y\",\"type\":\"bar\"},{\"alignmentgroup\":\"True\",\"hovertemplate\":\"Category=%{x}\\u003cbr\\u003eInstalls=%{y}\\u003cextra\\u003e\\u003c\\u002fextra\\u003e\",\"legendgroup\":\"SOCIAL\",\"marker\":{\"color\":\"#EF553B\",\"pattern\":{\"shape\":\"\"}},\"name\":\"SOCIAL\",\"offsetgroup\":\"SOCIAL\",\"orientation\":\"v\",\"showlegend\":true,\"textposition\":\"auto\",\"x\":[\"SOCIAL\"],\"xaxis\":\"x\",\"y\":[44692385.364285715],\"yaxis\":\"y\",\"type\":\"bar\"},{\"alignmentgroup\":\"True\",\"hovertemplate\":\"Category=%{x}\\u003cbr\\u003eInstalls=%{y}\\u003cextra\\u003e\\u003c\\u002fextra\\u003e\",\"legendgroup\":\"VIDEO_PLAYERS\",\"marker\":{\"color\":\"#00cc96\",\"pattern\":{\"shape\":\"\"}},\"name\":\"VIDEO_PLAYERS\",\"offsetgroup\":\"VIDEO_PLAYERS\",\"orientation\":\"v\",\"showlegend\":true,\"textposition\":\"auto\",\"x\":[\"VIDEO_PLAYERS\"],\"xaxis\":\"x\",\"y\":[35554301.25714286],\"yaxis\":\"y\",\"type\":\"bar\"},{\"alignmentgroup\":\"True\",\"hovertemplate\":\"Category=%{x}\\u003cbr\\u003eInstalls=%{y}\\u003cextra\\u003e\\u003c\\u002fextra\\u003e\",\"legendgroup\":\"PRODUCTIVITY\",\"marker\":{\"color\":\"#ab63fa\",\"pattern\":{\"shape\":\"\"}},\"name\":\"PRODUCTIVITY\",\"offsetgroup\":\"PRODUCTIVITY\",\"orientation\":\"v\",\"showlegend\":true,\"textposition\":\"auto\",\"x\":[\"PRODUCTIVITY\"],\"xaxis\":\"x\",\"y\":[30621846.115479115],\"yaxis\":\"y\",\"type\":\"bar\"},{\"alignmentgroup\":\"True\",\"hovertemplate\":\"Category=%{x}\\u003cbr\\u003eInstalls=%{y}\\u003cextra\\u003e\\u003c\\u002fextra\\u003e\",\"legendgroup\":\"PHOTOGRAPHY\",\"marker\":{\"color\":\"#FFA15A\",\"pattern\":{\"shape\":\"\"}},\"name\":\"PHOTOGRAPHY\",\"offsetgroup\":\"PHOTOGRAPHY\",\"orientation\":\"v\",\"showlegend\":true,\"textposition\":\"auto\",\"x\":[\"PHOTOGRAPHY\"],\"xaxis\":\"x\",\"y\":[30190210.108695652],\"yaxis\":\"y\",\"type\":\"bar\"},{\"alignmentgroup\":\"True\",\"hovertemplate\":\"Category=%{x}\\u003cbr\\u003eInstalls=%{y}\\u003cextra\\u003e\\u003c\\u002fextra\\u003e\",\"legendgroup\":\"GAME\",\"marker\":{\"color\":\"#19d3f3\",\"pattern\":{\"shape\":\"\"}},\"name\":\"GAME\",\"offsetgroup\":\"GAME\",\"orientation\":\"v\",\"showlegend\":true,\"textposition\":\"auto\",\"x\":[\"GAME\"],\"xaxis\":\"x\",\"y\":[28139183.2426405],\"yaxis\":\"y\",\"type\":\"bar\"},{\"alignmentgroup\":\"True\",\"hovertemplate\":\"Category=%{x}\\u003cbr\\u003eInstalls=%{y}\\u003cextra\\u003e\\u003c\\u002fextra\\u003e\",\"legendgroup\":\"TRAVEL_AND_LOCAL\",\"marker\":{\"color\":\"#FF6692\",\"pattern\":{\"shape\":\"\"}},\"name\":\"TRAVEL_AND_LOCAL\",\"offsetgroup\":\"TRAVEL_AND_LOCAL\",\"orientation\":\"v\",\"showlegend\":true,\"textposition\":\"auto\",\"x\":[\"TRAVEL_AND_LOCAL\"],\"xaxis\":\"x\",\"y\":[26843405.679324895],\"yaxis\":\"y\",\"type\":\"bar\"},{\"alignmentgroup\":\"True\",\"hovertemplate\":\"Category=%{x}\\u003cbr\\u003eInstalls=%{y}\\u003cextra\\u003e\\u003c\\u002fextra\\u003e\",\"legendgroup\":\"ENTERTAINMENT\",\"marker\":{\"color\":\"#B6E880\",\"pattern\":{\"shape\":\"\"}},\"name\":\"ENTERTAINMENT\",\"offsetgroup\":\"ENTERTAINMENT\",\"orientation\":\"v\",\"showlegend\":true,\"textposition\":\"auto\",\"x\":[\"ENTERTAINMENT\"],\"xaxis\":\"x\",\"y\":[22123063.063063063],\"yaxis\":\"y\",\"type\":\"bar\"},{\"alignmentgroup\":\"True\",\"hovertemplate\":\"Category=%{x}\\u003cbr\\u003eInstalls=%{y}\\u003cextra\\u003e\\u003c\\u002fextra\\u003e\",\"legendgroup\":\"NEWS_AND_MAGAZINES\",\"marker\":{\"color\":\"#FF97FF\",\"pattern\":{\"shape\":\"\"}},\"name\":\"NEWS_AND_MAGAZINES\",\"offsetgroup\":\"NEWS_AND_MAGAZINES\",\"orientation\":\"v\",\"showlegend\":true,\"textposition\":\"auto\",\"x\":[\"NEWS_AND_MAGAZINES\"],\"xaxis\":\"x\",\"y\":[20428855.151515152],\"yaxis\":\"y\",\"type\":\"bar\"},{\"alignmentgroup\":\"True\",\"hovertemplate\":\"Category=%{x}\\u003cbr\\u003eInstalls=%{y}\\u003cextra\\u003e\\u003c\\u002fextra\\u003e\",\"legendgroup\":\"TOOLS\",\"marker\":{\"color\":\"#FECB52\",\"pattern\":{\"shape\":\"\"}},\"name\":\"TOOLS\",\"offsetgroup\":\"TOOLS\",\"orientation\":\"v\",\"showlegend\":true,\"textposition\":\"auto\",\"x\":[\"TOOLS\"],\"xaxis\":\"x\",\"y\":[13585731.809015421],\"yaxis\":\"y\",\"type\":\"bar\"}],                        {\"template\":{\"data\":{\"histogram2dcontour\":[{\"type\":\"histogram2dcontour\",\"colorbar\":{\"outlinewidth\":0,\"ticks\":\"\"},\"colorscale\":[[0.0,\"#0d0887\"],[0.1111111111111111,\"#46039f\"],[0.2222222222222222,\"#7201a8\"],[0.3333333333333333,\"#9c179e\"],[0.4444444444444444,\"#bd3786\"],[0.5555555555555556,\"#d8576b\"],[0.6666666666666666,\"#ed7953\"],[0.7777777777777778,\"#fb9f3a\"],[0.8888888888888888,\"#fdca26\"],[1.0,\"#f0f921\"]]}],\"choropleth\":[{\"type\":\"choropleth\",\"colorbar\":{\"outlinewidth\":0,\"ticks\":\"\"}}],\"histogram2d\":[{\"type\":\"histogram2d\",\"colorbar\":{\"outlinewidth\":0,\"ticks\":\"\"},\"colorscale\":[[0.0,\"#0d0887\"],[0.1111111111111111,\"#46039f\"],[0.2222222222222222,\"#7201a8\"],[0.3333333333333333,\"#9c179e\"],[0.4444444444444444,\"#bd3786\"],[0.5555555555555556,\"#d8576b\"],[0.6666666666666666,\"#ed7953\"],[0.7777777777777778,\"#fb9f3a\"],[0.8888888888888888,\"#fdca26\"],[1.0,\"#f0f921\"]]}],\"heatmap\":[{\"type\":\"heatmap\",\"colorbar\":{\"outlinewidth\":0,\"ticks\":\"\"},\"colorscale\":[[0.0,\"#0d0887\"],[0.1111111111111111,\"#46039f\"],[0.2222222222222222,\"#7201a8\"],[0.3333333333333333,\"#9c179e\"],[0.4444444444444444,\"#bd3786\"],[0.5555555555555556,\"#d8576b\"],[0.6666666666666666,\"#ed7953\"],[0.7777777777777778,\"#fb9f3a\"],[0.8888888888888888,\"#fdca26\"],[1.0,\"#f0f921\"]]}],\"heatmapgl\":[{\"type\":\"heatmapgl\",\"colorbar\":{\"outlinewidth\":0,\"ticks\":\"\"},\"colorscale\":[[0.0,\"#0d0887\"],[0.1111111111111111,\"#46039f\"],[0.2222222222222222,\"#7201a8\"],[0.3333333333333333,\"#9c179e\"],[0.4444444444444444,\"#bd3786\"],[0.5555555555555556,\"#d8576b\"],[0.6666666666666666,\"#ed7953\"],[0.7777777777777778,\"#fb9f3a\"],[0.8888888888888888,\"#fdca26\"],[1.0,\"#f0f921\"]]}],\"contourcarpet\":[{\"type\":\"contourcarpet\",\"colorbar\":{\"outlinewidth\":0,\"ticks\":\"\"}}],\"contour\":[{\"type\":\"contour\",\"colorbar\":{\"outlinewidth\":0,\"ticks\":\"\"},\"colorscale\":[[0.0,\"#0d0887\"],[0.1111111111111111,\"#46039f\"],[0.2222222222222222,\"#7201a8\"],[0.3333333333333333,\"#9c179e\"],[0.4444444444444444,\"#bd3786\"],[0.5555555555555556,\"#d8576b\"],[0.6666666666666666,\"#ed7953\"],[0.7777777777777778,\"#fb9f3a\"],[0.8888888888888888,\"#fdca26\"],[1.0,\"#f0f921\"]]}],\"surface\":[{\"type\":\"surface\",\"colorbar\":{\"outlinewidth\":0,\"ticks\":\"\"},\"colorscale\":[[0.0,\"#0d0887\"],[0.1111111111111111,\"#46039f\"],[0.2222222222222222,\"#7201a8\"],[0.3333333333333333,\"#9c179e\"],[0.4444444444444444,\"#bd3786\"],[0.5555555555555556,\"#d8576b\"],[0.6666666666666666,\"#ed7953\"],[0.7777777777777778,\"#fb9f3a\"],[0.8888888888888888,\"#fdca26\"],[1.0,\"#f0f921\"]]}],\"mesh3d\":[{\"type\":\"mesh3d\",\"colorbar\":{\"outlinewidth\":0,\"ticks\":\"\"}}],\"scatter\":[{\"fillpattern\":{\"fillmode\":\"overlay\",\"size\":10,\"solidity\":0.2},\"type\":\"scatter\"}],\"parcoords\":[{\"type\":\"parcoords\",\"line\":{\"colorbar\":{\"outlinewidth\":0,\"ticks\":\"\"}}}],\"scatterpolargl\":[{\"type\":\"scatterpolargl\",\"marker\":{\"colorbar\":{\"outlinewidth\":0,\"ticks\":\"\"}}}],\"bar\":[{\"error_x\":{\"color\":\"#2a3f5f\"},\"error_y\":{\"color\":\"#2a3f5f\"},\"marker\":{\"line\":{\"color\":\"#E5ECF6\",\"width\":0.5},\"pattern\":{\"fillmode\":\"overlay\",\"size\":10,\"solidity\":0.2}},\"type\":\"bar\"}],\"scattergeo\":[{\"type\":\"scattergeo\",\"marker\":{\"colorbar\":{\"outlinewidth\":0,\"ticks\":\"\"}}}],\"scatterpolar\":[{\"type\":\"scatterpolar\",\"marker\":{\"colorbar\":{\"outlinewidth\":0,\"ticks\":\"\"}}}],\"histogram\":[{\"marker\":{\"pattern\":{\"fillmode\":\"overlay\",\"size\":10,\"solidity\":0.2}},\"type\":\"histogram\"}],\"scattergl\":[{\"type\":\"scattergl\",\"marker\":{\"colorbar\":{\"outlinewidth\":0,\"ticks\":\"\"}}}],\"scatter3d\":[{\"type\":\"scatter3d\",\"line\":{\"colorbar\":{\"outlinewidth\":0,\"ticks\":\"\"}},\"marker\":{\"colorbar\":{\"outlinewidth\":0,\"ticks\":\"\"}}}],\"scattermapbox\":[{\"type\":\"scattermapbox\",\"marker\":{\"colorbar\":{\"outlinewidth\":0,\"ticks\":\"\"}}}],\"scatterternary\":[{\"type\":\"scatterternary\",\"marker\":{\"colorbar\":{\"outlinewidth\":0,\"ticks\":\"\"}}}],\"scattercarpet\":[{\"type\":\"scattercarpet\",\"marker\":{\"colorbar\":{\"outlinewidth\":0,\"ticks\":\"\"}}}],\"carpet\":[{\"aaxis\":{\"endlinecolor\":\"#2a3f5f\",\"gridcolor\":\"white\",\"linecolor\":\"white\",\"minorgridcolor\":\"white\",\"startlinecolor\":\"#2a3f5f\"},\"baxis\":{\"endlinecolor\":\"#2a3f5f\",\"gridcolor\":\"white\",\"linecolor\":\"white\",\"minorgridcolor\":\"white\",\"startlinecolor\":\"#2a3f5f\"},\"type\":\"carpet\"}],\"table\":[{\"cells\":{\"fill\":{\"color\":\"#EBF0F8\"},\"line\":{\"color\":\"white\"}},\"header\":{\"fill\":{\"color\":\"#C8D4E3\"},\"line\":{\"color\":\"white\"}},\"type\":\"table\"}],\"barpolar\":[{\"marker\":{\"line\":{\"color\":\"#E5ECF6\",\"width\":0.5},\"pattern\":{\"fillmode\":\"overlay\",\"size\":10,\"solidity\":0.2}},\"type\":\"barpolar\"}],\"pie\":[{\"automargin\":true,\"type\":\"pie\"}]},\"layout\":{\"autotypenumbers\":\"strict\",\"colorway\":[\"#636efa\",\"#EF553B\",\"#00cc96\",\"#ab63fa\",\"#FFA15A\",\"#19d3f3\",\"#FF6692\",\"#B6E880\",\"#FF97FF\",\"#FECB52\"],\"font\":{\"color\":\"#2a3f5f\"},\"hovermode\":\"closest\",\"hoverlabel\":{\"align\":\"left\"},\"paper_bgcolor\":\"white\",\"plot_bgcolor\":\"#E5ECF6\",\"polar\":{\"bgcolor\":\"#E5ECF6\",\"angularaxis\":{\"gridcolor\":\"white\",\"linecolor\":\"white\",\"ticks\":\"\"},\"radialaxis\":{\"gridcolor\":\"white\",\"linecolor\":\"white\",\"ticks\":\"\"}},\"ternary\":{\"bgcolor\":\"#E5ECF6\",\"aaxis\":{\"gridcolor\":\"white\",\"linecolor\":\"white\",\"ticks\":\"\"},\"baxis\":{\"gridcolor\":\"white\",\"linecolor\":\"white\",\"ticks\":\"\"},\"caxis\":{\"gridcolor\":\"white\",\"linecolor\":\"white\",\"ticks\":\"\"}},\"coloraxis\":{\"colorbar\":{\"outlinewidth\":0,\"ticks\":\"\"}},\"colorscale\":{\"sequential\":[[0.0,\"#0d0887\"],[0.1111111111111111,\"#46039f\"],[0.2222222222222222,\"#7201a8\"],[0.3333333333333333,\"#9c179e\"],[0.4444444444444444,\"#bd3786\"],[0.5555555555555556,\"#d8576b\"],[0.6666666666666666,\"#ed7953\"],[0.7777777777777778,\"#fb9f3a\"],[0.8888888888888888,\"#fdca26\"],[1.0,\"#f0f921\"]],\"sequentialminus\":[[0.0,\"#0d0887\"],[0.1111111111111111,\"#46039f\"],[0.2222222222222222,\"#7201a8\"],[0.3333333333333333,\"#9c179e\"],[0.4444444444444444,\"#bd3786\"],[0.5555555555555556,\"#d8576b\"],[0.6666666666666666,\"#ed7953\"],[0.7777777777777778,\"#fb9f3a\"],[0.8888888888888888,\"#fdca26\"],[1.0,\"#f0f921\"]],\"diverging\":[[0,\"#8e0152\"],[0.1,\"#c51b7d\"],[0.2,\"#de77ae\"],[0.3,\"#f1b6da\"],[0.4,\"#fde0ef\"],[0.5,\"#f7f7f7\"],[0.6,\"#e6f5d0\"],[0.7,\"#b8e186\"],[0.8,\"#7fbc41\"],[0.9,\"#4d9221\"],[1,\"#276419\"]]},\"xaxis\":{\"gridcolor\":\"white\",\"linecolor\":\"white\",\"ticks\":\"\",\"title\":{\"standoff\":15},\"zerolinecolor\":\"white\",\"automargin\":true,\"zerolinewidth\":2},\"yaxis\":{\"gridcolor\":\"white\",\"linecolor\":\"white\",\"ticks\":\"\",\"title\":{\"standoff\":15},\"zerolinecolor\":\"white\",\"automargin\":true,\"zerolinewidth\":2},\"scene\":{\"xaxis\":{\"backgroundcolor\":\"#E5ECF6\",\"gridcolor\":\"white\",\"linecolor\":\"white\",\"showbackground\":true,\"ticks\":\"\",\"zerolinecolor\":\"white\",\"gridwidth\":2},\"yaxis\":{\"backgroundcolor\":\"#E5ECF6\",\"gridcolor\":\"white\",\"linecolor\":\"white\",\"showbackground\":true,\"ticks\":\"\",\"zerolinecolor\":\"white\",\"gridwidth\":2},\"zaxis\":{\"backgroundcolor\":\"#E5ECF6\",\"gridcolor\":\"white\",\"linecolor\":\"white\",\"showbackground\":true,\"ticks\":\"\",\"zerolinecolor\":\"white\",\"gridwidth\":2}},\"shapedefaults\":{\"line\":{\"color\":\"#2a3f5f\"}},\"annotationdefaults\":{\"arrowcolor\":\"#2a3f5f\",\"arrowhead\":0,\"arrowwidth\":1},\"geo\":{\"bgcolor\":\"white\",\"landcolor\":\"#E5ECF6\",\"subunitcolor\":\"white\",\"showland\":true,\"showlakes\":true,\"lakecolor\":\"white\"},\"title\":{\"x\":0.05},\"mapbox\":{\"style\":\"light\"}}},\"xaxis\":{\"anchor\":\"y\",\"domain\":[0.0,1.0],\"title\":{\"text\":\"Category\"},\"categoryorder\":\"array\",\"categoryarray\":[\"COMMUNICATION\",\"SOCIAL\",\"VIDEO_PLAYERS\",\"PRODUCTIVITY\",\"PHOTOGRAPHY\",\"GAME\",\"TRAVEL_AND_LOCAL\",\"ENTERTAINMENT\",\"NEWS_AND_MAGAZINES\",\"TOOLS\"]},\"yaxis\":{\"anchor\":\"x\",\"domain\":[0.0,1.0],\"title\":{\"text\":\"Installs\"}},\"legend\":{\"title\":{\"text\":\"Category\"},\"tracegroupgap\":0},\"title\":{\"text\":\"Top 10 categories which have more installations\"},\"barmode\":\"relative\"},                        {\"responsive\": true}                    ).then(function(){\n",
              "                            \n",
              "var gd = document.getElementById('6640a125-bb0d-4bb7-8c0d-54a7a9fd6379');\n",
              "var x = new MutationObserver(function (mutations, observer) {{\n",
              "        var display = window.getComputedStyle(gd).display;\n",
              "        if (!display || display === 'none') {{\n",
              "            console.log([gd, 'removed!']);\n",
              "            Plotly.purge(gd);\n",
              "            observer.disconnect();\n",
              "        }}\n",
              "}});\n",
              "\n",
              "// Listen for the removal of the full notebook cells\n",
              "var notebookContainer = gd.closest('#notebook-container');\n",
              "if (notebookContainer) {{\n",
              "    x.observe(notebookContainer, {childList: true});\n",
              "}}\n",
              "\n",
              "// Listen for the clearing of the current output cell\n",
              "var outputEl = gd.closest('.output');\n",
              "if (outputEl) {{\n",
              "    x.observe(outputEl, {childList: true});\n",
              "}}\n",
              "\n",
              "                        })                };                            </script>        </div>\n",
              "</body>\n",
              "</html>"
            ]
          },
          "metadata": {}
        }
      ]
    },
    {
      "cell_type": "markdown",
      "source": [
        "Documentation-From the Bar Chart we can visualize that the App Category that is most insalled is Communication,Social,Video_Players."
      ],
      "metadata": {
        "id": "9aMuBFx6wevH"
      }
    },
    {
      "cell_type": "markdown",
      "source": [
        "#Top 3 Apps With Maximum Size"
      ],
      "metadata": {
        "id": "5Oa62W6fr6NT"
      }
    },
    {
      "cell_type": "code",
      "source": [
        "\n",
        "size=df.groupby('App')['Size'].max().sort_values().head(3)\n",
        "size\n",
        "size.plot(kind='bar')"
      ],
      "metadata": {
        "colab": {
          "base_uri": "https://localhost:8080/",
          "height": 622
        },
        "id": "CKnPrIleIXfD",
        "outputId": "55dee7a6-8dde-49a8-9a40-8ccd105c5468"
      },
      "execution_count": 515,
      "outputs": [
        {
          "output_type": "execute_result",
          "data": {
            "text/plain": [
              "<Axes: xlabel='App'>"
            ]
          },
          "metadata": {},
          "execution_count": 515
        },
        {
          "output_type": "display_data",
          "data": {
            "text/plain": [
              "<Figure size 640x480 with 1 Axes>"
            ],
            "image/png": "[encoded data removed]"
          },
          "metadata": {}
        }
      ]
    },
    {
      "cell_type": "markdown",
      "source": [
        "#Top 3 Apps With Minimum Size"
      ],
      "metadata": {
        "id": "l5mhf0HcsHs1"
      }
    },
    {
      "cell_type": "code",
      "source": [
        "#Apps With Mininum Size\n",
        "\n",
        "size=df.groupby('App')['Size'].min().sort_values().head(3)\n",
        "size\n",
        "size.plot(kind='bar')\n",
        ""
      ],
      "metadata": {
        "colab": {
          "base_uri": "https://localhost:8080/",
          "height": 657
        },
        "id": "dp0LL0OpHR5p",
        "outputId": "f4664e8a-f2e4-4cf0-8f54-c2746e0b899f"
      },
      "execution_count": 492,
      "outputs": [
        {
          "output_type": "execute_result",
          "data": {
            "text/plain": [
              "<Axes: xlabel='App'>"
            ]
          },
          "metadata": {},
          "execution_count": 492
        },
        {
          "output_type": "display_data",
          "data": {
            "text/plain": [
              "<Figure size 640x480 with 1 Axes>"
            ],
            "image/png": "[encoded data removed]"
          },
          "metadata": {}
        }
      ]
    },
    {
      "cell_type": "markdown",
      "source": [
        "Documentation-From the above 2 graphs it depicts that App that has maximum size is Wise_Mobile_Portal and App that has maximum size is German Vocabulary Trainer."
      ],
      "metadata": {
        "id": "71mA7doJw_a1"
      }
    },
    {
      "cell_type": "markdown",
      "source": [
        "#Distribution Of Android Versions"
      ],
      "metadata": {
        "id": "SCF40Ns-sO1p"
      }
    },
    {
      "cell_type": "code",
      "source": [
        "android_version_counts=df['Android Ver'].value_counts()\n",
        "\n",
        "pl.pie(values=android_version_counts.values, names=android_version_counts.index,\n",
        "       title='Distribution of Apps by Android Version')\n",
        ""
      ],
      "metadata": {
        "colab": {
          "base_uri": "https://localhost:8080/",
          "height": 542
        },
        "id": "8fhVU91vjC_B",
        "outputId": "f0124b78-a16d-4e84-da59-85570ea21145"
      },
      "execution_count": 517,
      "outputs": [
        {
          "output_type": "display_data",
          "data": {
            "text/html": [
              "<html>\n",
              "<head><meta charset=\"utf-8\" /></head>\n",
              "<body>\n",
              "    <div>            <script src=\"https://cdnjs.cloudflare.com/ajax/libs/mathjax/2.7.5/MathJax.js?config=TeX-AMS-MML_SVG\"></script><script type=\"text/javascript\">if (window.MathJax && window.MathJax.Hub && window.MathJax.Hub.Config) {window.MathJax.Hub.Config({SVG: {font: \"STIX-Web\"}});}</script>                <script type=\"text/javascript\">window.PlotlyConfig = {MathJaxConfig: 'local'};</script>\n",
              "        <script charset=\"utf-8\" src=\"https://cdn.plot.ly/plotly-2.35.2.min.js\"></script>                <div id=\"765e48bf-9d78-4192-a517-af336945c086\" class=\"plotly-graph-div\" style=\"height:525px; width:100%;\"></div>            <script type=\"text/javascript\">                                    window.PLOTLYENV=window.PLOTLYENV || {};                                    if (document.getElementById(\"765e48bf-9d78-4192-a517-af336945c086\")) {                    Plotly.newPlot(                        \"765e48bf-9d78-4192-a517-af336945c086\",                        [{\"domain\":{\"x\":[0.0,1.0],\"y\":[0.0,1.0]},\"hovertemplate\":\"label=%{label}\\u003cbr\\u003evalue=%{value}\\u003cextra\\u003e\\u003c\\u002fextra\\u003e\",\"labels\":[\"4 and above\",\"Varies with device\",\"2 and above\",\"5 and above\",\"3 and above\",\"1 and above\",\"6 and above\",\"7 and above\"],\"legendgroup\":\"\",\"name\":\"\",\"showlegend\":true,\"values\":[6697,1228,1055,572,562,139,58,45],\"type\":\"pie\"}],                        {\"template\":{\"data\":{\"histogram2dcontour\":[{\"type\":\"histogram2dcontour\",\"colorbar\":{\"outlinewidth\":0,\"ticks\":\"\"},\"colorscale\":[[0.0,\"#0d0887\"],[0.1111111111111111,\"#46039f\"],[0.2222222222222222,\"#7201a8\"],[0.3333333333333333,\"#9c179e\"],[0.4444444444444444,\"#bd3786\"],[0.5555555555555556,\"#d8576b\"],[0.6666666666666666,\"#ed7953\"],[0.7777777777777778,\"#fb9f3a\"],[0.8888888888888888,\"#fdca26\"],[1.0,\"#f0f921\"]]}],\"choropleth\":[{\"type\":\"choropleth\",\"colorbar\":{\"outlinewidth\":0,\"ticks\":\"\"}}],\"histogram2d\":[{\"type\":\"histogram2d\",\"colorbar\":{\"outlinewidth\":0,\"ticks\":\"\"},\"colorscale\":[[0.0,\"#0d0887\"],[0.1111111111111111,\"#46039f\"],[0.2222222222222222,\"#7201a8\"],[0.3333333333333333,\"#9c179e\"],[0.4444444444444444,\"#bd3786\"],[0.5555555555555556,\"#d8576b\"],[0.6666666666666666,\"#ed7953\"],[0.7777777777777778,\"#fb9f3a\"],[0.8888888888888888,\"#fdca26\"],[1.0,\"#f0f921\"]]}],\"heatmap\":[{\"type\":\"heatmap\",\"colorbar\":{\"outlinewidth\":0,\"ticks\":\"\"},\"colorscale\":[[0.0,\"#0d0887\"],[0.1111111111111111,\"#46039f\"],[0.2222222222222222,\"#7201a8\"],[0.3333333333333333,\"#9c179e\"],[0.4444444444444444,\"#bd3786\"],[0.5555555555555556,\"#d8576b\"],[0.6666666666666666,\"#ed7953\"],[0.7777777777777778,\"#fb9f3a\"],[0.8888888888888888,\"#fdca26\"],[1.0,\"#f0f921\"]]}],\"heatmapgl\":[{\"type\":\"heatmapgl\",\"colorbar\":{\"outlinewidth\":0,\"ticks\":\"\"},\"colorscale\":[[0.0,\"#0d0887\"],[0.1111111111111111,\"#46039f\"],[0.2222222222222222,\"#7201a8\"],[0.3333333333333333,\"#9c179e\"],[0.4444444444444444,\"#bd3786\"],[0.5555555555555556,\"#d8576b\"],[0.6666666666666666,\"#ed7953\"],[0.7777777777777778,\"#fb9f3a\"],[0.8888888888888888,\"#fdca26\"],[1.0,\"#f0f921\"]]}],\"contourcarpet\":[{\"type\":\"contourcarpet\",\"colorbar\":{\"outlinewidth\":0,\"ticks\":\"\"}}],\"contour\":[{\"type\":\"contour\",\"colorbar\":{\"outlinewidth\":0,\"ticks\":\"\"},\"colorscale\":[[0.0,\"#0d0887\"],[0.1111111111111111,\"#46039f\"],[0.2222222222222222,\"#7201a8\"],[0.3333333333333333,\"#9c179e\"],[0.4444444444444444,\"#bd3786\"],[0.5555555555555556,\"#d8576b\"],[0.6666666666666666,\"#ed7953\"],[0.7777777777777778,\"#fb9f3a\"],[0.8888888888888888,\"#fdca26\"],[1.0,\"#f0f921\"]]}],\"surface\":[{\"type\":\"surface\",\"colorbar\":{\"outlinewidth\":0,\"ticks\":\"\"},\"colorscale\":[[0.0,\"#0d0887\"],[0.1111111111111111,\"#46039f\"],[0.2222222222222222,\"#7201a8\"],[0.3333333333333333,\"#9c179e\"],[0.4444444444444444,\"#bd3786\"],[0.5555555555555556,\"#d8576b\"],[0.6666666666666666,\"#ed7953\"],[0.7777777777777778,\"#fb9f3a\"],[0.8888888888888888,\"#fdca26\"],[1.0,\"#f0f921\"]]}],\"mesh3d\":[{\"type\":\"mesh3d\",\"colorbar\":{\"outlinewidth\":0,\"ticks\":\"\"}}],\"scatter\":[{\"fillpattern\":{\"fillmode\":\"overlay\",\"size\":10,\"solidity\":0.2},\"type\":\"scatter\"}],\"parcoords\":[{\"type\":\"parcoords\",\"line\":{\"colorbar\":{\"outlinewidth\":0,\"ticks\":\"\"}}}],\"scatterpolargl\":[{\"type\":\"scatterpolargl\",\"marker\":{\"colorbar\":{\"outlinewidth\":0,\"ticks\":\"\"}}}],\"bar\":[{\"error_x\":{\"color\":\"#2a3f5f\"},\"error_y\":{\"color\":\"#2a3f5f\"},\"marker\":{\"line\":{\"color\":\"#E5ECF6\",\"width\":0.5},\"pattern\":{\"fillmode\":\"overlay\",\"size\":10,\"solidity\":0.2}},\"type\":\"bar\"}],\"scattergeo\":[{\"type\":\"scattergeo\",\"marker\":{\"colorbar\":{\"outlinewidth\":0,\"ticks\":\"\"}}}],\"scatterpolar\":[{\"type\":\"scatterpolar\",\"marker\":{\"colorbar\":{\"outlinewidth\":0,\"ticks\":\"\"}}}],\"histogram\":[{\"marker\":{\"pattern\":{\"fillmode\":\"overlay\",\"size\":10,\"solidity\":0.2}},\"type\":\"histogram\"}],\"scattergl\":[{\"type\":\"scattergl\",\"marker\":{\"colorbar\":{\"outlinewidth\":0,\"ticks\":\"\"}}}],\"scatter3d\":[{\"type\":\"scatter3d\",\"line\":{\"colorbar\":{\"outlinewidth\":0,\"ticks\":\"\"}},\"marker\":{\"colorbar\":{\"outlinewidth\":0,\"ticks\":\"\"}}}],\"scattermapbox\":[{\"type\":\"scattermapbox\",\"marker\":{\"colorbar\":{\"outlinewidth\":0,\"ticks\":\"\"}}}],\"scatterternary\":[{\"type\":\"scatterternary\",\"marker\":{\"colorbar\":{\"outlinewidth\":0,\"ticks\":\"\"}}}],\"scattercarpet\":[{\"type\":\"scattercarpet\",\"marker\":{\"colorbar\":{\"outlinewidth\":0,\"ticks\":\"\"}}}],\"carpet\":[{\"aaxis\":{\"endlinecolor\":\"#2a3f5f\",\"gridcolor\":\"white\",\"linecolor\":\"white\",\"minorgridcolor\":\"white\",\"startlinecolor\":\"#2a3f5f\"},\"baxis\":{\"endlinecolor\":\"#2a3f5f\",\"gridcolor\":\"white\",\"linecolor\":\"white\",\"minorgridcolor\":\"white\",\"startlinecolor\":\"#2a3f5f\"},\"type\":\"carpet\"}],\"table\":[{\"cells\":{\"fill\":{\"color\":\"#EBF0F8\"},\"line\":{\"color\":\"white\"}},\"header\":{\"fill\":{\"color\":\"#C8D4E3\"},\"line\":{\"color\":\"white\"}},\"type\":\"table\"}],\"barpolar\":[{\"marker\":{\"line\":{\"color\":\"#E5ECF6\",\"width\":0.5},\"pattern\":{\"fillmode\":\"overlay\",\"size\":10,\"solidity\":0.2}},\"type\":\"barpolar\"}],\"pie\":[{\"automargin\":true,\"type\":\"pie\"}]},\"layout\":{\"autotypenumbers\":\"strict\",\"colorway\":[\"#636efa\",\"#EF553B\",\"#00cc96\",\"#ab63fa\",\"#FFA15A\",\"#19d3f3\",\"#FF6692\",\"#B6E880\",\"#FF97FF\",\"#FECB52\"],\"font\":{\"color\":\"#2a3f5f\"},\"hovermode\":\"closest\",\"hoverlabel\":{\"align\":\"left\"},\"paper_bgcolor\":\"white\",\"plot_bgcolor\":\"#E5ECF6\",\"polar\":{\"bgcolor\":\"#E5ECF6\",\"angularaxis\":{\"gridcolor\":\"white\",\"linecolor\":\"white\",\"ticks\":\"\"},\"radialaxis\":{\"gridcolor\":\"white\",\"linecolor\":\"white\",\"ticks\":\"\"}},\"ternary\":{\"bgcolor\":\"#E5ECF6\",\"aaxis\":{\"gridcolor\":\"white\",\"linecolor\":\"white\",\"ticks\":\"\"},\"baxis\":{\"gridcolor\":\"white\",\"linecolor\":\"white\",\"ticks\":\"\"},\"caxis\":{\"gridcolor\":\"white\",\"linecolor\":\"white\",\"ticks\":\"\"}},\"coloraxis\":{\"colorbar\":{\"outlinewidth\":0,\"ticks\":\"\"}},\"colorscale\":{\"sequential\":[[0.0,\"#0d0887\"],[0.1111111111111111,\"#46039f\"],[0.2222222222222222,\"#7201a8\"],[0.3333333333333333,\"#9c179e\"],[0.4444444444444444,\"#bd3786\"],[0.5555555555555556,\"#d8576b\"],[0.6666666666666666,\"#ed7953\"],[0.7777777777777778,\"#fb9f3a\"],[0.8888888888888888,\"#fdca26\"],[1.0,\"#f0f921\"]],\"sequentialminus\":[[0.0,\"#0d0887\"],[0.1111111111111111,\"#46039f\"],[0.2222222222222222,\"#7201a8\"],[0.3333333333333333,\"#9c179e\"],[0.4444444444444444,\"#bd3786\"],[0.5555555555555556,\"#d8576b\"],[0.6666666666666666,\"#ed7953\"],[0.7777777777777778,\"#fb9f3a\"],[0.8888888888888888,\"#fdca26\"],[1.0,\"#f0f921\"]],\"diverging\":[[0,\"#8e0152\"],[0.1,\"#c51b7d\"],[0.2,\"#de77ae\"],[0.3,\"#f1b6da\"],[0.4,\"#fde0ef\"],[0.5,\"#f7f7f7\"],[0.6,\"#e6f5d0\"],[0.7,\"#b8e186\"],[0.8,\"#7fbc41\"],[0.9,\"#4d9221\"],[1,\"#276419\"]]},\"xaxis\":{\"gridcolor\":\"white\",\"linecolor\":\"white\",\"ticks\":\"\",\"title\":{\"standoff\":15},\"zerolinecolor\":\"white\",\"automargin\":true,\"zerolinewidth\":2},\"yaxis\":{\"gridcolor\":\"white\",\"linecolor\":\"white\",\"ticks\":\"\",\"title\":{\"standoff\":15},\"zerolinecolor\":\"white\",\"automargin\":true,\"zerolinewidth\":2},\"scene\":{\"xaxis\":{\"backgroundcolor\":\"#E5ECF6\",\"gridcolor\":\"white\",\"linecolor\":\"white\",\"showbackground\":true,\"ticks\":\"\",\"zerolinecolor\":\"white\",\"gridwidth\":2},\"yaxis\":{\"backgroundcolor\":\"#E5ECF6\",\"gridcolor\":\"white\",\"linecolor\":\"white\",\"showbackground\":true,\"ticks\":\"\",\"zerolinecolor\":\"white\",\"gridwidth\":2},\"zaxis\":{\"backgroundcolor\":\"#E5ECF6\",\"gridcolor\":\"white\",\"linecolor\":\"white\",\"showbackground\":true,\"ticks\":\"\",\"zerolinecolor\":\"white\",\"gridwidth\":2}},\"shapedefaults\":{\"line\":{\"color\":\"#2a3f5f\"}},\"annotationdefaults\":{\"arrowcolor\":\"#2a3f5f\",\"arrowhead\":0,\"arrowwidth\":1},\"geo\":{\"bgcolor\":\"white\",\"landcolor\":\"#E5ECF6\",\"subunitcolor\":\"white\",\"showland\":true,\"showlakes\":true,\"lakecolor\":\"white\"},\"title\":{\"x\":0.05},\"mapbox\":{\"style\":\"light\"}}},\"legend\":{\"tracegroupgap\":0},\"title\":{\"text\":\"Distribution of Apps by Android Version\"}},                        {\"responsive\": true}                    ).then(function(){\n",
              "                            \n",
              "var gd = document.getElementById('765e48bf-9d78-4192-a517-af336945c086');\n",
              "var x = new MutationObserver(function (mutations, observer) {{\n",
              "        var display = window.getComputedStyle(gd).display;\n",
              "        if (!display || display === 'none') {{\n",
              "            console.log([gd, 'removed!']);\n",
              "            Plotly.purge(gd);\n",
              "            observer.disconnect();\n",
              "        }}\n",
              "}});\n",
              "\n",
              "// Listen for the removal of the full notebook cells\n",
              "var notebookContainer = gd.closest('#notebook-container');\n",
              "if (notebookContainer) {{\n",
              "    x.observe(notebookContainer, {childList: true});\n",
              "}}\n",
              "\n",
              "// Listen for the clearing of the current output cell\n",
              "var outputEl = gd.closest('.output');\n",
              "if (outputEl) {{\n",
              "    x.observe(outputEl, {childList: true});\n",
              "}}\n",
              "\n",
              "                        })                };                            </script>        </div>\n",
              "</body>\n",
              "</html>"
            ]
          },
          "metadata": {}
        }
      ]
    },
    {
      "cell_type": "markdown",
      "source": [
        "Documentation-From the pie chart we can say that Android Version 4 and Above has the highest count & 7 and Above has least count among the Apps."
      ],
      "metadata": {
        "id": "9vXfWbY4xaou"
      }
    },
    {
      "cell_type": "markdown",
      "source": [
        "# Distribution of App Ratings"
      ],
      "metadata": {
        "id": "MOkxFkr1sV3G"
      }
    },
    {
      "cell_type": "code",
      "source": [
        "# Distribution of App Ratings\n",
        "plt.figure(figsize=(10, 6))\n",
        "plt.hist(df['Rating'].dropna(), bins=20, color='skyblue', edgecolor='black')\n",
        "plt.xlabel('Rating')\n",
        "plt.ylabel('Frequency')\n",
        "plt.title('Distribution of App Ratings')\n",
        "plt.show()\n"
      ],
      "metadata": {
        "colab": {
          "base_uri": "https://localhost:8080/",
          "height": 564
        },
        "id": "PI8duttGOKyF",
        "outputId": "7d90a3bd-ccf2-49cd-d344-82340785b6b6"
      },
      "execution_count": 495,
      "outputs": [
        {
          "output_type": "display_data",
          "data": {
            "text/plain": [
              "<Figure size 1000x600 with 1 Axes>"
            ],
            "image/png": "[encoded data removed]"
          },
          "metadata": {}
        }
      ]
    },
    {
      "cell_type": "markdown",
      "source": [
        "#Top 8 App Category With Highest Reviews"
      ],
      "metadata": {
        "id": "VJWv_IVWsZyK"
      }
    },
    {
      "cell_type": "code",
      "source": [
        "#Category With Reviews\n",
        "cat_review=df.groupby('Category')['Reviews'].mean().sort_values(ascending=False).reset_index()\n",
        "cat_review=cat_review.head(8)\n",
        "fig = pl.bar(cat_review, x=\"Category\", y=\"Reviews\",color='Category')\n",
        "fig.show()"
      ],
      "metadata": {
        "colab": {
          "base_uri": "https://localhost:8080/",
          "height": 542
        },
        "id": "pzJvM3EyX0Be",
        "outputId": "150fc1ea-7636-41ee-a59f-08cb72a853b8"
      },
      "execution_count": 496,
      "outputs": [
        {
          "output_type": "display_data",
          "data": {
            "text/html": [
              "<html>\n",
              "<head><meta charset=\"utf-8\" /></head>\n",
              "<body>\n",
              "    <div>            <script src=\"https://cdnjs.cloudflare.com/ajax/libs/mathjax/2.7.5/MathJax.js?config=TeX-AMS-MML_SVG\"></script><script type=\"text/javascript\">if (window.MathJax && window.MathJax.Hub && window.MathJax.Hub.Config) {window.MathJax.Hub.Config({SVG: {font: \"STIX-Web\"}});}</script>                <script type=\"text/javascript\">window.PlotlyConfig = {MathJaxConfig: 'local'};</script>\n",
              "        <script charset=\"utf-8\" src=\"https://cdn.plot.ly/plotly-2.35.2.min.js\"></script>                <div id=\"b765e68b-a294-4719-86fb-3a44843080e0\" class=\"plotly-graph-div\" style=\"height:525px; width:100%;\"></div>            <script type=\"text/javascript\">                                    window.PLOTLYENV=window.PLOTLYENV || {};                                    if (document.getElementById(\"b765e68b-a294-4719-86fb-3a44843080e0\")) {                    Plotly.newPlot(                        \"b765e68b-a294-4719-86fb-3a44843080e0\",                        [{\"alignmentgroup\":\"True\",\"hovertemplate\":\"Category=%{x}\\u003cbr\\u003eReviews=%{y}\\u003cextra\\u003e\\u003c\\u002fextra\\u003e\",\"legendgroup\":\"SOCIAL\",\"marker\":{\"color\":\"#636efa\",\"pattern\":{\"shape\":\"\"}},\"name\":\"SOCIAL\",\"offsetgroup\":\"SOCIAL\",\"orientation\":\"v\",\"showlegend\":true,\"textposition\":\"auto\",\"x\":[\"SOCIAL\"],\"xaxis\":\"x\",\"y\":[1905631.532142857],\"yaxis\":\"y\",\"type\":\"bar\"},{\"alignmentgroup\":\"True\",\"hovertemplate\":\"Category=%{x}\\u003cbr\\u003eReviews=%{y}\\u003cextra\\u003e\\u003c\\u002fextra\\u003e\",\"legendgroup\":\"COMMUNICATION\",\"marker\":{\"color\":\"#EF553B\",\"pattern\":{\"shape\":\"\"}},\"name\":\"COMMUNICATION\",\"offsetgroup\":\"COMMUNICATION\",\"orientation\":\"v\",\"showlegend\":true,\"textposition\":\"auto\",\"x\":[\"COMMUNICATION\"],\"xaxis\":\"x\",\"y\":[1642823.912568306],\"yaxis\":\"y\",\"type\":\"bar\"},{\"alignmentgroup\":\"True\",\"hovertemplate\":\"Category=%{x}\\u003cbr\\u003eReviews=%{y}\\u003cextra\\u003e\\u003c\\u002fextra\\u003e\",\"legendgroup\":\"GAME\",\"marker\":{\"color\":\"#00cc96\",\"pattern\":{\"shape\":\"\"}},\"name\":\"GAME\",\"offsetgroup\":\"GAME\",\"orientation\":\"v\",\"showlegend\":true,\"textposition\":\"auto\",\"x\":[\"GAME\"],\"xaxis\":\"x\",\"y\":[1262744.5584299732],\"yaxis\":\"y\",\"type\":\"bar\"},{\"alignmentgroup\":\"True\",\"hovertemplate\":\"Category=%{x}\\u003cbr\\u003eReviews=%{y}\\u003cextra\\u003e\\u003c\\u002fextra\\u003e\",\"legendgroup\":\"PHOTOGRAPHY\",\"marker\":{\"color\":\"#ab63fa\",\"pattern\":{\"shape\":\"\"}},\"name\":\"PHOTOGRAPHY\",\"offsetgroup\":\"PHOTOGRAPHY\",\"orientation\":\"v\",\"showlegend\":true,\"textposition\":\"auto\",\"x\":[\"PHOTOGRAPHY\"],\"xaxis\":\"x\",\"y\":[634464.0062111801],\"yaxis\":\"y\",\"type\":\"bar\"},{\"alignmentgroup\":\"True\",\"hovertemplate\":\"Category=%{x}\\u003cbr\\u003eReviews=%{y}\\u003cextra\\u003e\\u003c\\u002fextra\\u003e\",\"legendgroup\":\"VIDEO_PLAYERS\",\"marker\":{\"color\":\"#FFA15A\",\"pattern\":{\"shape\":\"\"}},\"name\":\"VIDEO_PLAYERS\",\"offsetgroup\":\"VIDEO_PLAYERS\",\"orientation\":\"v\",\"showlegend\":true,\"textposition\":\"auto\",\"x\":[\"VIDEO_PLAYERS\"],\"xaxis\":\"x\",\"y\":[630743.9314285715],\"yaxis\":\"y\",\"type\":\"bar\"},{\"alignmentgroup\":\"True\",\"hovertemplate\":\"Category=%{x}\\u003cbr\\u003eReviews=%{y}\\u003cextra\\u003e\\u003c\\u002fextra\\u003e\",\"legendgroup\":\"ENTERTAINMENT\",\"marker\":{\"color\":\"#19d3f3\",\"pattern\":{\"shape\":\"\"}},\"name\":\"ENTERTAINMENT\",\"offsetgroup\":\"ENTERTAINMENT\",\"orientation\":\"v\",\"showlegend\":true,\"textposition\":\"auto\",\"x\":[\"ENTERTAINMENT\"],\"xaxis\":\"x\",\"y\":[428565.009009009],\"yaxis\":\"y\",\"type\":\"bar\"},{\"alignmentgroup\":\"True\",\"hovertemplate\":\"Category=%{x}\\u003cbr\\u003eReviews=%{y}\\u003cextra\\u003e\\u003c\\u002fextra\\u003e\",\"legendgroup\":\"SHOPPING\",\"marker\":{\"color\":\"#FF6692\",\"pattern\":{\"shape\":\"\"}},\"name\":\"SHOPPING\",\"offsetgroup\":\"SHOPPING\",\"orientation\":\"v\",\"showlegend\":true,\"textposition\":\"auto\",\"x\":[\"SHOPPING\"],\"xaxis\":\"x\",\"y\":[423799.83035714284],\"yaxis\":\"y\",\"type\":\"bar\"},{\"alignmentgroup\":\"True\",\"hovertemplate\":\"Category=%{x}\\u003cbr\\u003eReviews=%{y}\\u003cextra\\u003e\\u003c\\u002fextra\\u003e\",\"legendgroup\":\"TOOLS\",\"marker\":{\"color\":\"#B6E880\",\"pattern\":{\"shape\":\"\"}},\"name\":\"TOOLS\",\"offsetgroup\":\"TOOLS\",\"orientation\":\"v\",\"showlegend\":true,\"textposition\":\"auto\",\"x\":[\"TOOLS\"],\"xaxis\":\"x\",\"y\":[324062.9228944247],\"yaxis\":\"y\",\"type\":\"bar\"}],                        {\"template\":{\"data\":{\"histogram2dcontour\":[{\"type\":\"histogram2dcontour\",\"colorbar\":{\"outlinewidth\":0,\"ticks\":\"\"},\"colorscale\":[[0.0,\"#0d0887\"],[0.1111111111111111,\"#46039f\"],[0.2222222222222222,\"#7201a8\"],[0.3333333333333333,\"#9c179e\"],[0.4444444444444444,\"#bd3786\"],[0.5555555555555556,\"#d8576b\"],[0.6666666666666666,\"#ed7953\"],[0.7777777777777778,\"#fb9f3a\"],[0.8888888888888888,\"#fdca26\"],[1.0,\"#f0f921\"]]}],\"choropleth\":[{\"type\":\"choropleth\",\"colorbar\":{\"outlinewidth\":0,\"ticks\":\"\"}}],\"histogram2d\":[{\"type\":\"histogram2d\",\"colorbar\":{\"outlinewidth\":0,\"ticks\":\"\"},\"colorscale\":[[0.0,\"#0d0887\"],[0.1111111111111111,\"#46039f\"],[0.2222222222222222,\"#7201a8\"],[0.3333333333333333,\"#9c179e\"],[0.4444444444444444,\"#bd3786\"],[0.5555555555555556,\"#d8576b\"],[0.6666666666666666,\"#ed7953\"],[0.7777777777777778,\"#fb9f3a\"],[0.8888888888888888,\"#fdca26\"],[1.0,\"#f0f921\"]]}],\"heatmap\":[{\"type\":\"heatmap\",\"colorbar\":{\"outlinewidth\":0,\"ticks\":\"\"},\"colorscale\":[[0.0,\"#0d0887\"],[0.1111111111111111,\"#46039f\"],[0.2222222222222222,\"#7201a8\"],[0.3333333333333333,\"#9c179e\"],[0.4444444444444444,\"#bd3786\"],[0.5555555555555556,\"#d8576b\"],[0.6666666666666666,\"#ed7953\"],[0.7777777777777778,\"#fb9f3a\"],[0.8888888888888888,\"#fdca26\"],[1.0,\"#f0f921\"]]}],\"heatmapgl\":[{\"type\":\"heatmapgl\",\"colorbar\":{\"outlinewidth\":0,\"ticks\":\"\"},\"colorscale\":[[0.0,\"#0d0887\"],[0.1111111111111111,\"#46039f\"],[0.2222222222222222,\"#7201a8\"],[0.3333333333333333,\"#9c179e\"],[0.4444444444444444,\"#bd3786\"],[0.5555555555555556,\"#d8576b\"],[0.6666666666666666,\"#ed7953\"],[0.7777777777777778,\"#fb9f3a\"],[0.8888888888888888,\"#fdca26\"],[1.0,\"#f0f921\"]]}],\"contourcarpet\":[{\"type\":\"contourcarpet\",\"colorbar\":{\"outlinewidth\":0,\"ticks\":\"\"}}],\"contour\":[{\"type\":\"contour\",\"colorbar\":{\"outlinewidth\":0,\"ticks\":\"\"},\"colorscale\":[[0.0,\"#0d0887\"],[0.1111111111111111,\"#46039f\"],[0.2222222222222222,\"#7201a8\"],[0.3333333333333333,\"#9c179e\"],[0.4444444444444444,\"#bd3786\"],[0.5555555555555556,\"#d8576b\"],[0.6666666666666666,\"#ed7953\"],[0.7777777777777778,\"#fb9f3a\"],[0.8888888888888888,\"#fdca26\"],[1.0,\"#f0f921\"]]}],\"surface\":[{\"type\":\"surface\",\"colorbar\":{\"outlinewidth\":0,\"ticks\":\"\"},\"colorscale\":[[0.0,\"#0d0887\"],[0.1111111111111111,\"#46039f\"],[0.2222222222222222,\"#7201a8\"],[0.3333333333333333,\"#9c179e\"],[0.4444444444444444,\"#bd3786\"],[0.5555555555555556,\"#d8576b\"],[0.6666666666666666,\"#ed7953\"],[0.7777777777777778,\"#fb9f3a\"],[0.8888888888888888,\"#fdca26\"],[1.0,\"#f0f921\"]]}],\"mesh3d\":[{\"type\":\"mesh3d\",\"colorbar\":{\"outlinewidth\":0,\"ticks\":\"\"}}],\"scatter\":[{\"fillpattern\":{\"fillmode\":\"overlay\",\"size\":10,\"solidity\":0.2},\"type\":\"scatter\"}],\"parcoords\":[{\"type\":\"parcoords\",\"line\":{\"colorbar\":{\"outlinewidth\":0,\"ticks\":\"\"}}}],\"scatterpolargl\":[{\"type\":\"scatterpolargl\",\"marker\":{\"colorbar\":{\"outlinewidth\":0,\"ticks\":\"\"}}}],\"bar\":[{\"error_x\":{\"color\":\"#2a3f5f\"},\"error_y\":{\"color\":\"#2a3f5f\"},\"marker\":{\"line\":{\"color\":\"#E5ECF6\",\"width\":0.5},\"pattern\":{\"fillmode\":\"overlay\",\"size\":10,\"solidity\":0.2}},\"type\":\"bar\"}],\"scattergeo\":[{\"type\":\"scattergeo\",\"marker\":{\"colorbar\":{\"outlinewidth\":0,\"ticks\":\"\"}}}],\"scatterpolar\":[{\"type\":\"scatterpolar\",\"marker\":{\"colorbar\":{\"outlinewidth\":0,\"ticks\":\"\"}}}],\"histogram\":[{\"marker\":{\"pattern\":{\"fillmode\":\"overlay\",\"size\":10,\"solidity\":0.2}},\"type\":\"histogram\"}],\"scattergl\":[{\"type\":\"scattergl\",\"marker\":{\"colorbar\":{\"outlinewidth\":0,\"ticks\":\"\"}}}],\"scatter3d\":[{\"type\":\"scatter3d\",\"line\":{\"colorbar\":{\"outlinewidth\":0,\"ticks\":\"\"}},\"marker\":{\"colorbar\":{\"outlinewidth\":0,\"ticks\":\"\"}}}],\"scattermapbox\":[{\"type\":\"scattermapbox\",\"marker\":{\"colorbar\":{\"outlinewidth\":0,\"ticks\":\"\"}}}],\"scatterternary\":[{\"type\":\"scatterternary\",\"marker\":{\"colorbar\":{\"outlinewidth\":0,\"ticks\":\"\"}}}],\"scattercarpet\":[{\"type\":\"scattercarpet\",\"marker\":{\"colorbar\":{\"outlinewidth\":0,\"ticks\":\"\"}}}],\"carpet\":[{\"aaxis\":{\"endlinecolor\":\"#2a3f5f\",\"gridcolor\":\"white\",\"linecolor\":\"white\",\"minorgridcolor\":\"white\",\"startlinecolor\":\"#2a3f5f\"},\"baxis\":{\"endlinecolor\":\"#2a3f5f\",\"gridcolor\":\"white\",\"linecolor\":\"white\",\"minorgridcolor\":\"white\",\"startlinecolor\":\"#2a3f5f\"},\"type\":\"carpet\"}],\"table\":[{\"cells\":{\"fill\":{\"color\":\"#EBF0F8\"},\"line\":{\"color\":\"white\"}},\"header\":{\"fill\":{\"color\":\"#C8D4E3\"},\"line\":{\"color\":\"white\"}},\"type\":\"table\"}],\"barpolar\":[{\"marker\":{\"line\":{\"color\":\"#E5ECF6\",\"width\":0.5},\"pattern\":{\"fillmode\":\"overlay\",\"size\":10,\"solidity\":0.2}},\"type\":\"barpolar\"}],\"pie\":[{\"automargin\":true,\"type\":\"pie\"}]},\"layout\":{\"autotypenumbers\":\"strict\",\"colorway\":[\"#636efa\",\"#EF553B\",\"#00cc96\",\"#ab63fa\",\"#FFA15A\",\"#19d3f3\",\"#FF6692\",\"#B6E880\",\"#FF97FF\",\"#FECB52\"],\"font\":{\"color\":\"#2a3f5f\"},\"hovermode\":\"closest\",\"hoverlabel\":{\"align\":\"left\"},\"paper_bgcolor\":\"white\",\"plot_bgcolor\":\"#E5ECF6\",\"polar\":{\"bgcolor\":\"#E5ECF6\",\"angularaxis\":{\"gridcolor\":\"white\",\"linecolor\":\"white\",\"ticks\":\"\"},\"radialaxis\":{\"gridcolor\":\"white\",\"linecolor\":\"white\",\"ticks\":\"\"}},\"ternary\":{\"bgcolor\":\"#E5ECF6\",\"aaxis\":{\"gridcolor\":\"white\",\"linecolor\":\"white\",\"ticks\":\"\"},\"baxis\":{\"gridcolor\":\"white\",\"linecolor\":\"white\",\"ticks\":\"\"},\"caxis\":{\"gridcolor\":\"white\",\"linecolor\":\"white\",\"ticks\":\"\"}},\"coloraxis\":{\"colorbar\":{\"outlinewidth\":0,\"ticks\":\"\"}},\"colorscale\":{\"sequential\":[[0.0,\"#0d0887\"],[0.1111111111111111,\"#46039f\"],[0.2222222222222222,\"#7201a8\"],[0.3333333333333333,\"#9c179e\"],[0.4444444444444444,\"#bd3786\"],[0.5555555555555556,\"#d8576b\"],[0.6666666666666666,\"#ed7953\"],[0.7777777777777778,\"#fb9f3a\"],[0.8888888888888888,\"#fdca26\"],[1.0,\"#f0f921\"]],\"sequentialminus\":[[0.0,\"#0d0887\"],[0.1111111111111111,\"#46039f\"],[0.2222222222222222,\"#7201a8\"],[0.3333333333333333,\"#9c179e\"],[0.4444444444444444,\"#bd3786\"],[0.5555555555555556,\"#d8576b\"],[0.6666666666666666,\"#ed7953\"],[0.7777777777777778,\"#fb9f3a\"],[0.8888888888888888,\"#fdca26\"],[1.0,\"#f0f921\"]],\"diverging\":[[0,\"#8e0152\"],[0.1,\"#c51b7d\"],[0.2,\"#de77ae\"],[0.3,\"#f1b6da\"],[0.4,\"#fde0ef\"],[0.5,\"#f7f7f7\"],[0.6,\"#e6f5d0\"],[0.7,\"#b8e186\"],[0.8,\"#7fbc41\"],[0.9,\"#4d9221\"],[1,\"#276419\"]]},\"xaxis\":{\"gridcolor\":\"white\",\"linecolor\":\"white\",\"ticks\":\"\",\"title\":{\"standoff\":15},\"zerolinecolor\":\"white\",\"automargin\":true,\"zerolinewidth\":2},\"yaxis\":{\"gridcolor\":\"white\",\"linecolor\":\"white\",\"ticks\":\"\",\"title\":{\"standoff\":15},\"zerolinecolor\":\"white\",\"automargin\":true,\"zerolinewidth\":2},\"scene\":{\"xaxis\":{\"backgroundcolor\":\"#E5ECF6\",\"gridcolor\":\"white\",\"linecolor\":\"white\",\"showbackground\":true,\"ticks\":\"\",\"zerolinecolor\":\"white\",\"gridwidth\":2},\"yaxis\":{\"backgroundcolor\":\"#E5ECF6\",\"gridcolor\":\"white\",\"linecolor\":\"white\",\"showbackground\":true,\"ticks\":\"\",\"zerolinecolor\":\"white\",\"gridwidth\":2},\"zaxis\":{\"backgroundcolor\":\"#E5ECF6\",\"gridcolor\":\"white\",\"linecolor\":\"white\",\"showbackground\":true,\"ticks\":\"\",\"zerolinecolor\":\"white\",\"gridwidth\":2}},\"shapedefaults\":{\"line\":{\"color\":\"#2a3f5f\"}},\"annotationdefaults\":{\"arrowcolor\":\"#2a3f5f\",\"arrowhead\":0,\"arrowwidth\":1},\"geo\":{\"bgcolor\":\"white\",\"landcolor\":\"#E5ECF6\",\"subunitcolor\":\"white\",\"showland\":true,\"showlakes\":true,\"lakecolor\":\"white\"},\"title\":{\"x\":0.05},\"mapbox\":{\"style\":\"light\"}}},\"xaxis\":{\"anchor\":\"y\",\"domain\":[0.0,1.0],\"title\":{\"text\":\"Category\"},\"categoryorder\":\"array\",\"categoryarray\":[\"SOCIAL\",\"COMMUNICATION\",\"GAME\",\"PHOTOGRAPHY\",\"VIDEO_PLAYERS\",\"ENTERTAINMENT\",\"SHOPPING\",\"TOOLS\"]},\"yaxis\":{\"anchor\":\"x\",\"domain\":[0.0,1.0],\"title\":{\"text\":\"Reviews\"}},\"legend\":{\"title\":{\"text\":\"Category\"},\"tracegroupgap\":0},\"margin\":{\"t\":60},\"barmode\":\"relative\"},                        {\"responsive\": true}                    ).then(function(){\n",
              "                            \n",
              "var gd = document.getElementById('b765e68b-a294-4719-86fb-3a44843080e0');\n",
              "var x = new MutationObserver(function (mutations, observer) {{\n",
              "        var display = window.getComputedStyle(gd).display;\n",
              "        if (!display || display === 'none') {{\n",
              "            console.log([gd, 'removed!']);\n",
              "            Plotly.purge(gd);\n",
              "            observer.disconnect();\n",
              "        }}\n",
              "}});\n",
              "\n",
              "// Listen for the removal of the full notebook cells\n",
              "var notebookContainer = gd.closest('#notebook-container');\n",
              "if (notebookContainer) {{\n",
              "    x.observe(notebookContainer, {childList: true});\n",
              "}}\n",
              "\n",
              "// Listen for the clearing of the current output cell\n",
              "var outputEl = gd.closest('.output');\n",
              "if (outputEl) {{\n",
              "    x.observe(outputEl, {childList: true});\n",
              "}}\n",
              "\n",
              "                        })                };                            </script>        </div>\n",
              "</body>\n",
              "</html>"
            ]
          },
          "metadata": {}
        }
      ]
    },
    {
      "cell_type": "markdown",
      "source": [
        "Documentation-From the above bar graph it depicts that App Category Social,Communication has the highest Reviews given by user."
      ],
      "metadata": {
        "id": "BTKf8hpcyjo4"
      }
    },
    {
      "cell_type": "markdown",
      "source": [
        "#Most famous Genres by  Reviews"
      ],
      "metadata": {
        "id": "qZQU6VxRsizb"
      }
    },
    {
      "cell_type": "code",
      "source": [
        "#Most famous Genres by  Reviews\n",
        "genres_rate=df.groupby('Genres')['Reviews'].mean().sort_values(ascending=False).reset_index()\n",
        "genres_rate=genres_rate.head(10)\n",
        "pl.bar(genres_rate,x='Genres',y='Reviews',color='Genres')"
      ],
      "metadata": {
        "colab": {
          "base_uri": "https://localhost:8080/",
          "height": 542
        },
        "id": "pCLzSVfnPgfR",
        "outputId": "3d523c7f-8930-4f15-b31c-07d2a4e4b1b1"
      },
      "execution_count": 518,
      "outputs": [
        {
          "output_type": "display_data",
          "data": {
            "text/html": [
              "<html>\n",
              "<head><meta charset=\"utf-8\" /></head>\n",
              "<body>\n",
              "    <div>            <script src=\"https://cdnjs.cloudflare.com/ajax/libs/mathjax/2.7.5/MathJax.js?config=TeX-AMS-MML_SVG\"></script><script type=\"text/javascript\">if (window.MathJax && window.MathJax.Hub && window.MathJax.Hub.Config) {window.MathJax.Hub.Config({SVG: {font: \"STIX-Web\"}});}</script>                <script type=\"text/javascript\">window.PlotlyConfig = {MathJaxConfig: 'local'};</script>\n",
              "        <script charset=\"utf-8\" src=\"https://cdn.plot.ly/plotly-2.35.2.min.js\"></script>                <div id=\"c9439f7e-a901-466c-90b0-d1d4d44fbd57\" class=\"plotly-graph-div\" style=\"height:525px; width:100%;\"></div>            <script type=\"text/javascript\">                                    window.PLOTLYENV=window.PLOTLYENV || {};                                    if (document.getElementById(\"c9439f7e-a901-466c-90b0-d1d4d44fbd57\")) {                    Plotly.newPlot(                        \"c9439f7e-a901-466c-90b0-d1d4d44fbd57\",                        [{\"alignmentgroup\":\"True\",\"hovertemplate\":\"Genres=%{x}\\u003cbr\\u003eReviews=%{y}\\u003cextra\\u003e\\u003c\\u002fextra\\u003e\",\"legendgroup\":\"Adventure;Action & Adventure\",\"marker\":{\"color\":\"#636efa\",\"pattern\":{\"shape\":\"\"}},\"name\":\"Adventure;Action & Adventure\",\"offsetgroup\":\"Adventure;Action & Adventure\",\"orientation\":\"v\",\"showlegend\":true,\"textposition\":\"auto\",\"x\":[\"Adventure;Action & Adventure\"],\"xaxis\":\"x\",\"y\":[3087739.3076923075],\"yaxis\":\"y\",\"type\":\"bar\"},{\"alignmentgroup\":\"True\",\"hovertemplate\":\"Genres=%{x}\\u003cbr\\u003eReviews=%{y}\\u003cextra\\u003e\\u003c\\u002fextra\\u003e\",\"legendgroup\":\"Strategy\",\"marker\":{\"color\":\"#EF553B\",\"pattern\":{\"shape\":\"\"}},\"name\":\"Strategy\",\"offsetgroup\":\"Strategy\",\"orientation\":\"v\",\"showlegend\":true,\"textposition\":\"auto\",\"x\":[\"Strategy\"],\"xaxis\":\"x\",\"y\":[2675375.9326923075],\"yaxis\":\"y\",\"type\":\"bar\"},{\"alignmentgroup\":\"True\",\"hovertemplate\":\"Genres=%{x}\\u003cbr\\u003eReviews=%{y}\\u003cextra\\u003e\\u003c\\u002fextra\\u003e\",\"legendgroup\":\"Casual\",\"marker\":{\"color\":\"#00cc96\",\"pattern\":{\"shape\":\"\"}},\"name\":\"Casual\",\"offsetgroup\":\"Casual\",\"orientation\":\"v\",\"showlegend\":true,\"textposition\":\"auto\",\"x\":[\"Casual\"],\"xaxis\":\"x\",\"y\":[1922618.947643979],\"yaxis\":\"y\",\"type\":\"bar\"},{\"alignmentgroup\":\"True\",\"hovertemplate\":\"Genres=%{x}\\u003cbr\\u003eReviews=%{y}\\u003cextra\\u003e\\u003c\\u002fextra\\u003e\",\"legendgroup\":\"Social\",\"marker\":{\"color\":\"#ab63fa\",\"pattern\":{\"shape\":\"\"}},\"name\":\"Social\",\"offsetgroup\":\"Social\",\"orientation\":\"v\",\"showlegend\":true,\"textposition\":\"auto\",\"x\":[\"Social\"],\"xaxis\":\"x\",\"y\":[1905631.532142857],\"yaxis\":\"y\",\"type\":\"bar\"},{\"alignmentgroup\":\"True\",\"hovertemplate\":\"Genres=%{x}\\u003cbr\\u003eReviews=%{y}\\u003cextra\\u003e\\u003c\\u002fextra\\u003e\",\"legendgroup\":\"Casual;Action & Adventure\",\"marker\":{\"color\":\"#FFA15A\",\"pattern\":{\"shape\":\"\"}},\"name\":\"Casual;Action & Adventure\",\"offsetgroup\":\"Casual;Action & Adventure\",\"orientation\":\"v\",\"showlegend\":true,\"textposition\":\"auto\",\"x\":[\"Casual;Action & Adventure\"],\"xaxis\":\"x\",\"y\":[1797711.9444444445],\"yaxis\":\"y\",\"type\":\"bar\"},{\"alignmentgroup\":\"True\",\"hovertemplate\":\"Genres=%{x}\\u003cbr\\u003eReviews=%{y}\\u003cextra\\u003e\\u003c\\u002fextra\\u003e\",\"legendgroup\":\"Communication\",\"marker\":{\"color\":\"#19d3f3\",\"pattern\":{\"shape\":\"\"}},\"name\":\"Communication\",\"offsetgroup\":\"Communication\",\"orientation\":\"v\",\"showlegend\":true,\"textposition\":\"auto\",\"x\":[\"Communication\"],\"xaxis\":\"x\",\"y\":[1642823.912568306],\"yaxis\":\"y\",\"type\":\"bar\"},{\"alignmentgroup\":\"True\",\"hovertemplate\":\"Genres=%{x}\\u003cbr\\u003eReviews=%{y}\\u003cextra\\u003e\\u003c\\u002fextra\\u003e\",\"legendgroup\":\"Arcade\",\"marker\":{\"color\":\"#FF6692\",\"pattern\":{\"shape\":\"\"}},\"name\":\"Arcade\",\"offsetgroup\":\"Arcade\",\"orientation\":\"v\",\"showlegend\":true,\"textposition\":\"auto\",\"x\":[\"Arcade\"],\"xaxis\":\"x\",\"y\":[1416324.7981651376],\"yaxis\":\"y\",\"type\":\"bar\"},{\"alignmentgroup\":\"True\",\"hovertemplate\":\"Genres=%{x}\\u003cbr\\u003eReviews=%{y}\\u003cextra\\u003e\\u003c\\u002fextra\\u003e\",\"legendgroup\":\"Puzzle;Action & Adventure\",\"marker\":{\"color\":\"#B6E880\",\"pattern\":{\"shape\":\"\"}},\"name\":\"Puzzle;Action & Adventure\",\"offsetgroup\":\"Puzzle;Action & Adventure\",\"orientation\":\"v\",\"showlegend\":true,\"textposition\":\"auto\",\"x\":[\"Puzzle;Action & Adventure\"],\"xaxis\":\"x\",\"y\":[950017.4],\"yaxis\":\"y\",\"type\":\"bar\"},{\"alignmentgroup\":\"True\",\"hovertemplate\":\"Genres=%{x}\\u003cbr\\u003eReviews=%{y}\\u003cextra\\u003e\\u003c\\u002fextra\\u003e\",\"legendgroup\":\"Racing\",\"marker\":{\"color\":\"#FF97FF\",\"pattern\":{\"shape\":\"\"}},\"name\":\"Racing\",\"offsetgroup\":\"Racing\",\"orientation\":\"v\",\"showlegend\":true,\"textposition\":\"auto\",\"x\":[\"Racing\"],\"xaxis\":\"x\",\"y\":[909151.9081632653],\"yaxis\":\"y\",\"type\":\"bar\"},{\"alignmentgroup\":\"True\",\"hovertemplate\":\"Genres=%{x}\\u003cbr\\u003eReviews=%{y}\\u003cextra\\u003e\\u003c\\u002fextra\\u003e\",\"legendgroup\":\"Action\",\"marker\":{\"color\":\"#FECB52\",\"pattern\":{\"shape\":\"\"}},\"name\":\"Action\",\"offsetgroup\":\"Action\",\"orientation\":\"v\",\"showlegend\":true,\"textposition\":\"auto\",\"x\":[\"Action\"],\"xaxis\":\"x\",\"y\":[879755.8595505618],\"yaxis\":\"y\",\"type\":\"bar\"}],                        {\"template\":{\"data\":{\"histogram2dcontour\":[{\"type\":\"histogram2dcontour\",\"colorbar\":{\"outlinewidth\":0,\"ticks\":\"\"},\"colorscale\":[[0.0,\"#0d0887\"],[0.1111111111111111,\"#46039f\"],[0.2222222222222222,\"#7201a8\"],[0.3333333333333333,\"#9c179e\"],[0.4444444444444444,\"#bd3786\"],[0.5555555555555556,\"#d8576b\"],[0.6666666666666666,\"#ed7953\"],[0.7777777777777778,\"#fb9f3a\"],[0.8888888888888888,\"#fdca26\"],[1.0,\"#f0f921\"]]}],\"choropleth\":[{\"type\":\"choropleth\",\"colorbar\":{\"outlinewidth\":0,\"ticks\":\"\"}}],\"histogram2d\":[{\"type\":\"histogram2d\",\"colorbar\":{\"outlinewidth\":0,\"ticks\":\"\"},\"colorscale\":[[0.0,\"#0d0887\"],[0.1111111111111111,\"#46039f\"],[0.2222222222222222,\"#7201a8\"],[0.3333333333333333,\"#9c179e\"],[0.4444444444444444,\"#bd3786\"],[0.5555555555555556,\"#d8576b\"],[0.6666666666666666,\"#ed7953\"],[0.7777777777777778,\"#fb9f3a\"],[0.8888888888888888,\"#fdca26\"],[1.0,\"#f0f921\"]]}],\"heatmap\":[{\"type\":\"heatmap\",\"colorbar\":{\"outlinewidth\":0,\"ticks\":\"\"},\"colorscale\":[[0.0,\"#0d0887\"],[0.1111111111111111,\"#46039f\"],[0.2222222222222222,\"#7201a8\"],[0.3333333333333333,\"#9c179e\"],[0.4444444444444444,\"#bd3786\"],[0.5555555555555556,\"#d8576b\"],[0.6666666666666666,\"#ed7953\"],[0.7777777777777778,\"#fb9f3a\"],[0.8888888888888888,\"#fdca26\"],[1.0,\"#f0f921\"]]}],\"heatmapgl\":[{\"type\":\"heatmapgl\",\"colorbar\":{\"outlinewidth\":0,\"ticks\":\"\"},\"colorscale\":[[0.0,\"#0d0887\"],[0.1111111111111111,\"#46039f\"],[0.2222222222222222,\"#7201a8\"],[0.3333333333333333,\"#9c179e\"],[0.4444444444444444,\"#bd3786\"],[0.5555555555555556,\"#d8576b\"],[0.6666666666666666,\"#ed7953\"],[0.7777777777777778,\"#fb9f3a\"],[0.8888888888888888,\"#fdca26\"],[1.0,\"#f0f921\"]]}],\"contourcarpet\":[{\"type\":\"contourcarpet\",\"colorbar\":{\"outlinewidth\":0,\"ticks\":\"\"}}],\"contour\":[{\"type\":\"contour\",\"colorbar\":{\"outlinewidth\":0,\"ticks\":\"\"},\"colorscale\":[[0.0,\"#0d0887\"],[0.1111111111111111,\"#46039f\"],[0.2222222222222222,\"#7201a8\"],[0.3333333333333333,\"#9c179e\"],[0.4444444444444444,\"#bd3786\"],[0.5555555555555556,\"#d8576b\"],[0.6666666666666666,\"#ed7953\"],[0.7777777777777778,\"#fb9f3a\"],[0.8888888888888888,\"#fdca26\"],[1.0,\"#f0f921\"]]}],\"surface\":[{\"type\":\"surface\",\"colorbar\":{\"outlinewidth\":0,\"ticks\":\"\"},\"colorscale\":[[0.0,\"#0d0887\"],[0.1111111111111111,\"#46039f\"],[0.2222222222222222,\"#7201a8\"],[0.3333333333333333,\"#9c179e\"],[0.4444444444444444,\"#bd3786\"],[0.5555555555555556,\"#d8576b\"],[0.6666666666666666,\"#ed7953\"],[0.7777777777777778,\"#fb9f3a\"],[0.8888888888888888,\"#fdca26\"],[1.0,\"#f0f921\"]]}],\"mesh3d\":[{\"type\":\"mesh3d\",\"colorbar\":{\"outlinewidth\":0,\"ticks\":\"\"}}],\"scatter\":[{\"fillpattern\":{\"fillmode\":\"overlay\",\"size\":10,\"solidity\":0.2},\"type\":\"scatter\"}],\"parcoords\":[{\"type\":\"parcoords\",\"line\":{\"colorbar\":{\"outlinewidth\":0,\"ticks\":\"\"}}}],\"scatterpolargl\":[{\"type\":\"scatterpolargl\",\"marker\":{\"colorbar\":{\"outlinewidth\":0,\"ticks\":\"\"}}}],\"bar\":[{\"error_x\":{\"color\":\"#2a3f5f\"},\"error_y\":{\"color\":\"#2a3f5f\"},\"marker\":{\"line\":{\"color\":\"#E5ECF6\",\"width\":0.5},\"pattern\":{\"fillmode\":\"overlay\",\"size\":10,\"solidity\":0.2}},\"type\":\"bar\"}],\"scattergeo\":[{\"type\":\"scattergeo\",\"marker\":{\"colorbar\":{\"outlinewidth\":0,\"ticks\":\"\"}}}],\"scatterpolar\":[{\"type\":\"scatterpolar\",\"marker\":{\"colorbar\":{\"outlinewidth\":0,\"ticks\":\"\"}}}],\"histogram\":[{\"marker\":{\"pattern\":{\"fillmode\":\"overlay\",\"size\":10,\"solidity\":0.2}},\"type\":\"histogram\"}],\"scattergl\":[{\"type\":\"scattergl\",\"marker\":{\"colorbar\":{\"outlinewidth\":0,\"ticks\":\"\"}}}],\"scatter3d\":[{\"type\":\"scatter3d\",\"line\":{\"colorbar\":{\"outlinewidth\":0,\"ticks\":\"\"}},\"marker\":{\"colorbar\":{\"outlinewidth\":0,\"ticks\":\"\"}}}],\"scattermapbox\":[{\"type\":\"scattermapbox\",\"marker\":{\"colorbar\":{\"outlinewidth\":0,\"ticks\":\"\"}}}],\"scatterternary\":[{\"type\":\"scatterternary\",\"marker\":{\"colorbar\":{\"outlinewidth\":0,\"ticks\":\"\"}}}],\"scattercarpet\":[{\"type\":\"scattercarpet\",\"marker\":{\"colorbar\":{\"outlinewidth\":0,\"ticks\":\"\"}}}],\"carpet\":[{\"aaxis\":{\"endlinecolor\":\"#2a3f5f\",\"gridcolor\":\"white\",\"linecolor\":\"white\",\"minorgridcolor\":\"white\",\"startlinecolor\":\"#2a3f5f\"},\"baxis\":{\"endlinecolor\":\"#2a3f5f\",\"gridcolor\":\"white\",\"linecolor\":\"white\",\"minorgridcolor\":\"white\",\"startlinecolor\":\"#2a3f5f\"},\"type\":\"carpet\"}],\"table\":[{\"cells\":{\"fill\":{\"color\":\"#EBF0F8\"},\"line\":{\"color\":\"white\"}},\"header\":{\"fill\":{\"color\":\"#C8D4E3\"},\"line\":{\"color\":\"white\"}},\"type\":\"table\"}],\"barpolar\":[{\"marker\":{\"line\":{\"color\":\"#E5ECF6\",\"width\":0.5},\"pattern\":{\"fillmode\":\"overlay\",\"size\":10,\"solidity\":0.2}},\"type\":\"barpolar\"}],\"pie\":[{\"automargin\":true,\"type\":\"pie\"}]},\"layout\":{\"autotypenumbers\":\"strict\",\"colorway\":[\"#636efa\",\"#EF553B\",\"#00cc96\",\"#ab63fa\",\"#FFA15A\",\"#19d3f3\",\"#FF6692\",\"#B6E880\",\"#FF97FF\",\"#FECB52\"],\"font\":{\"color\":\"#2a3f5f\"},\"hovermode\":\"closest\",\"hoverlabel\":{\"align\":\"left\"},\"paper_bgcolor\":\"white\",\"plot_bgcolor\":\"#E5ECF6\",\"polar\":{\"bgcolor\":\"#E5ECF6\",\"angularaxis\":{\"gridcolor\":\"white\",\"linecolor\":\"white\",\"ticks\":\"\"},\"radialaxis\":{\"gridcolor\":\"white\",\"linecolor\":\"white\",\"ticks\":\"\"}},\"ternary\":{\"bgcolor\":\"#E5ECF6\",\"aaxis\":{\"gridcolor\":\"white\",\"linecolor\":\"white\",\"ticks\":\"\"},\"baxis\":{\"gridcolor\":\"white\",\"linecolor\":\"white\",\"ticks\":\"\"},\"caxis\":{\"gridcolor\":\"white\",\"linecolor\":\"white\",\"ticks\":\"\"}},\"coloraxis\":{\"colorbar\":{\"outlinewidth\":0,\"ticks\":\"\"}},\"colorscale\":{\"sequential\":[[0.0,\"#0d0887\"],[0.1111111111111111,\"#46039f\"],[0.2222222222222222,\"#7201a8\"],[0.3333333333333333,\"#9c179e\"],[0.4444444444444444,\"#bd3786\"],[0.5555555555555556,\"#d8576b\"],[0.6666666666666666,\"#ed7953\"],[0.7777777777777778,\"#fb9f3a\"],[0.8888888888888888,\"#fdca26\"],[1.0,\"#f0f921\"]],\"sequentialminus\":[[0.0,\"#0d0887\"],[0.1111111111111111,\"#46039f\"],[0.2222222222222222,\"#7201a8\"],[0.3333333333333333,\"#9c179e\"],[0.4444444444444444,\"#bd3786\"],[0.5555555555555556,\"#d8576b\"],[0.6666666666666666,\"#ed7953\"],[0.7777777777777778,\"#fb9f3a\"],[0.8888888888888888,\"#fdca26\"],[1.0,\"#f0f921\"]],\"diverging\":[[0,\"#8e0152\"],[0.1,\"#c51b7d\"],[0.2,\"#de77ae\"],[0.3,\"#f1b6da\"],[0.4,\"#fde0ef\"],[0.5,\"#f7f7f7\"],[0.6,\"#e6f5d0\"],[0.7,\"#b8e186\"],[0.8,\"#7fbc41\"],[0.9,\"#4d9221\"],[1,\"#276419\"]]},\"xaxis\":{\"gridcolor\":\"white\",\"linecolor\":\"white\",\"ticks\":\"\",\"title\":{\"standoff\":15},\"zerolinecolor\":\"white\",\"automargin\":true,\"zerolinewidth\":2},\"yaxis\":{\"gridcolor\":\"white\",\"linecolor\":\"white\",\"ticks\":\"\",\"title\":{\"standoff\":15},\"zerolinecolor\":\"white\",\"automargin\":true,\"zerolinewidth\":2},\"scene\":{\"xaxis\":{\"backgroundcolor\":\"#E5ECF6\",\"gridcolor\":\"white\",\"linecolor\":\"white\",\"showbackground\":true,\"ticks\":\"\",\"zerolinecolor\":\"white\",\"gridwidth\":2},\"yaxis\":{\"backgroundcolor\":\"#E5ECF6\",\"gridcolor\":\"white\",\"linecolor\":\"white\",\"showbackground\":true,\"ticks\":\"\",\"zerolinecolor\":\"white\",\"gridwidth\":2},\"zaxis\":{\"backgroundcolor\":\"#E5ECF6\",\"gridcolor\":\"white\",\"linecolor\":\"white\",\"showbackground\":true,\"ticks\":\"\",\"zerolinecolor\":\"white\",\"gridwidth\":2}},\"shapedefaults\":{\"line\":{\"color\":\"#2a3f5f\"}},\"annotationdefaults\":{\"arrowcolor\":\"#2a3f5f\",\"arrowhead\":0,\"arrowwidth\":1},\"geo\":{\"bgcolor\":\"white\",\"landcolor\":\"#E5ECF6\",\"subunitcolor\":\"white\",\"showland\":true,\"showlakes\":true,\"lakecolor\":\"white\"},\"title\":{\"x\":0.05},\"mapbox\":{\"style\":\"light\"}}},\"xaxis\":{\"anchor\":\"y\",\"domain\":[0.0,1.0],\"title\":{\"text\":\"Genres\"},\"categoryorder\":\"array\",\"categoryarray\":[\"Adventure;Action & Adventure\",\"Strategy\",\"Casual\",\"Social\",\"Casual;Action & Adventure\",\"Communication\",\"Arcade\",\"Puzzle;Action & Adventure\",\"Racing\",\"Action\"]},\"yaxis\":{\"anchor\":\"x\",\"domain\":[0.0,1.0],\"title\":{\"text\":\"Reviews\"}},\"legend\":{\"title\":{\"text\":\"Genres\"},\"tracegroupgap\":0},\"margin\":{\"t\":60},\"barmode\":\"relative\"},                        {\"responsive\": true}                    ).then(function(){\n",
              "                            \n",
              "var gd = document.getElementById('c9439f7e-a901-466c-90b0-d1d4d44fbd57');\n",
              "var x = new MutationObserver(function (mutations, observer) {{\n",
              "        var display = window.getComputedStyle(gd).display;\n",
              "        if (!display || display === 'none') {{\n",
              "            console.log([gd, 'removed!']);\n",
              "            Plotly.purge(gd);\n",
              "            observer.disconnect();\n",
              "        }}\n",
              "}});\n",
              "\n",
              "// Listen for the removal of the full notebook cells\n",
              "var notebookContainer = gd.closest('#notebook-container');\n",
              "if (notebookContainer) {{\n",
              "    x.observe(notebookContainer, {childList: true});\n",
              "}}\n",
              "\n",
              "// Listen for the clearing of the current output cell\n",
              "var outputEl = gd.closest('.output');\n",
              "if (outputEl) {{\n",
              "    x.observe(outputEl, {childList: true});\n",
              "}}\n",
              "\n",
              "                        })                };                            </script>        </div>\n",
              "</body>\n",
              "</html>"
            ]
          },
          "metadata": {}
        }
      ]
    },
    {
      "cell_type": "markdown",
      "source": [
        "Documentation-The Most Famous App Genre by Reviews are Adventures,Strategy,Casual,Social."
      ],
      "metadata": {
        "id": "AV-Sashey3Q4"
      }
    },
    {
      "cell_type": "markdown",
      "source": [
        "#Distribution of Apps Updated based on Year"
      ],
      "metadata": {
        "id": "LtKsqA4Vsqe4"
      }
    },
    {
      "cell_type": "code",
      "source": [
        "#Apps Updated with year\n",
        "years=df.groupby('Year')['App'].count().reset_index()\n",
        "years\n",
        "fig=pl.line(years,x='Year',y='App', text=\"Year\")\n",
        "fig.update_traces(textposition=\"bottom right\")"
      ],
      "metadata": {
        "colab": {
          "base_uri": "https://localhost:8080/",
          "height": 542
        },
        "id": "C7jk_OdZOW0Z",
        "outputId": "d167a24f-2f4c-4639-b6c6-06c5862304d1"
      },
      "execution_count": 498,
      "outputs": [
        {
          "output_type": "display_data",
          "data": {
            "text/html": [
              "<html>\n",
              "<head><meta charset=\"utf-8\" /></head>\n",
              "<body>\n",
              "    <div>            <script src=\"https://cdnjs.cloudflare.com/ajax/libs/mathjax/2.7.5/MathJax.js?config=TeX-AMS-MML_SVG\"></script><script type=\"text/javascript\">if (window.MathJax && window.MathJax.Hub && window.MathJax.Hub.Config) {window.MathJax.Hub.Config({SVG: {font: \"STIX-Web\"}});}</script>                <script type=\"text/javascript\">window.PlotlyConfig = {MathJaxConfig: 'local'};</script>\n",
              "        <script charset=\"utf-8\" src=\"https://cdn.plot.ly/plotly-2.35.2.min.js\"></script>                <div id=\"927766f2-6edf-4782-b515-1a978205d3bf\" class=\"plotly-graph-div\" style=\"height:525px; width:100%;\"></div>            <script type=\"text/javascript\">                                    window.PLOTLYENV=window.PLOTLYENV || {};                                    if (document.getElementById(\"927766f2-6edf-4782-b515-1a978205d3bf\")) {                    Plotly.newPlot(                        \"927766f2-6edf-4782-b515-1a978205d3bf\",                        [{\"hovertemplate\":\"Year=%{text}\\u003cbr\\u003eApp=%{y}\\u003cextra\\u003e\\u003c\\u002fextra\\u003e\",\"legendgroup\":\"\",\"line\":{\"color\":\"#636efa\",\"dash\":\"solid\"},\"marker\":{\"symbol\":\"circle\"},\"mode\":\"lines+markers+text\",\"name\":\"\",\"orientation\":\"v\",\"showlegend\":false,\"text\":[2010.0,2011.0,2012.0,2013.0,2014.0,2015.0,2016.0,2017.0,2018.0],\"x\":[2010,2011,2012,2013,2014,2015,2016,2017,2018],\"xaxis\":\"x\",\"y\":[1,15,26,108,204,454,789,1826,6933],\"yaxis\":\"y\",\"type\":\"scatter\",\"textposition\":\"bottom right\"}],                        {\"template\":{\"data\":{\"histogram2dcontour\":[{\"type\":\"histogram2dcontour\",\"colorbar\":{\"outlinewidth\":0,\"ticks\":\"\"},\"colorscale\":[[0.0,\"#0d0887\"],[0.1111111111111111,\"#46039f\"],[0.2222222222222222,\"#7201a8\"],[0.3333333333333333,\"#9c179e\"],[0.4444444444444444,\"#bd3786\"],[0.5555555555555556,\"#d8576b\"],[0.6666666666666666,\"#ed7953\"],[0.7777777777777778,\"#fb9f3a\"],[0.8888888888888888,\"#fdca26\"],[1.0,\"#f0f921\"]]}],\"choropleth\":[{\"type\":\"choropleth\",\"colorbar\":{\"outlinewidth\":0,\"ticks\":\"\"}}],\"histogram2d\":[{\"type\":\"histogram2d\",\"colorbar\":{\"outlinewidth\":0,\"ticks\":\"\"},\"colorscale\":[[0.0,\"#0d0887\"],[0.1111111111111111,\"#46039f\"],[0.2222222222222222,\"#7201a8\"],[0.3333333333333333,\"#9c179e\"],[0.4444444444444444,\"#bd3786\"],[0.5555555555555556,\"#d8576b\"],[0.6666666666666666,\"#ed7953\"],[0.7777777777777778,\"#fb9f3a\"],[0.8888888888888888,\"#fdca26\"],[1.0,\"#f0f921\"]]}],\"heatmap\":[{\"type\":\"heatmap\",\"colorbar\":{\"outlinewidth\":0,\"ticks\":\"\"},\"colorscale\":[[0.0,\"#0d0887\"],[0.1111111111111111,\"#46039f\"],[0.2222222222222222,\"#7201a8\"],[0.3333333333333333,\"#9c179e\"],[0.4444444444444444,\"#bd3786\"],[0.5555555555555556,\"#d8576b\"],[0.6666666666666666,\"#ed7953\"],[0.7777777777777778,\"#fb9f3a\"],[0.8888888888888888,\"#fdca26\"],[1.0,\"#f0f921\"]]}],\"heatmapgl\":[{\"type\":\"heatmapgl\",\"colorbar\":{\"outlinewidth\":0,\"ticks\":\"\"},\"colorscale\":[[0.0,\"#0d0887\"],[0.1111111111111111,\"#46039f\"],[0.2222222222222222,\"#7201a8\"],[0.3333333333333333,\"#9c179e\"],[0.4444444444444444,\"#bd3786\"],[0.5555555555555556,\"#d8576b\"],[0.6666666666666666,\"#ed7953\"],[0.7777777777777778,\"#fb9f3a\"],[0.8888888888888888,\"#fdca26\"],[1.0,\"#f0f921\"]]}],\"contourcarpet\":[{\"type\":\"contourcarpet\",\"colorbar\":{\"outlinewidth\":0,\"ticks\":\"\"}}],\"contour\":[{\"type\":\"contour\",\"colorbar\":{\"outlinewidth\":0,\"ticks\":\"\"},\"colorscale\":[[0.0,\"#0d0887\"],[0.1111111111111111,\"#46039f\"],[0.2222222222222222,\"#7201a8\"],[0.3333333333333333,\"#9c179e\"],[0.4444444444444444,\"#bd3786\"],[0.5555555555555556,\"#d8576b\"],[0.6666666666666666,\"#ed7953\"],[0.7777777777777778,\"#fb9f3a\"],[0.8888888888888888,\"#fdca26\"],[1.0,\"#f0f921\"]]}],\"surface\":[{\"type\":\"surface\",\"colorbar\":{\"outlinewidth\":0,\"ticks\":\"\"},\"colorscale\":[[0.0,\"#0d0887\"],[0.1111111111111111,\"#46039f\"],[0.2222222222222222,\"#7201a8\"],[0.3333333333333333,\"#9c179e\"],[0.4444444444444444,\"#bd3786\"],[0.5555555555555556,\"#d8576b\"],[0.6666666666666666,\"#ed7953\"],[0.7777777777777778,\"#fb9f3a\"],[0.8888888888888888,\"#fdca26\"],[1.0,\"#f0f921\"]]}],\"mesh3d\":[{\"type\":\"mesh3d\",\"colorbar\":{\"outlinewidth\":0,\"ticks\":\"\"}}],\"scatter\":[{\"fillpattern\":{\"fillmode\":\"overlay\",\"size\":10,\"solidity\":0.2},\"type\":\"scatter\"}],\"parcoords\":[{\"type\":\"parcoords\",\"line\":{\"colorbar\":{\"outlinewidth\":0,\"ticks\":\"\"}}}],\"scatterpolargl\":[{\"type\":\"scatterpolargl\",\"marker\":{\"colorbar\":{\"outlinewidth\":0,\"ticks\":\"\"}}}],\"bar\":[{\"error_x\":{\"color\":\"#2a3f5f\"},\"error_y\":{\"color\":\"#2a3f5f\"},\"marker\":{\"line\":{\"color\":\"#E5ECF6\",\"width\":0.5},\"pattern\":{\"fillmode\":\"overlay\",\"size\":10,\"solidity\":0.2}},\"type\":\"bar\"}],\"scattergeo\":[{\"type\":\"scattergeo\",\"marker\":{\"colorbar\":{\"outlinewidth\":0,\"ticks\":\"\"}}}],\"scatterpolar\":[{\"type\":\"scatterpolar\",\"marker\":{\"colorbar\":{\"outlinewidth\":0,\"ticks\":\"\"}}}],\"histogram\":[{\"marker\":{\"pattern\":{\"fillmode\":\"overlay\",\"size\":10,\"solidity\":0.2}},\"type\":\"histogram\"}],\"scattergl\":[{\"type\":\"scattergl\",\"marker\":{\"colorbar\":{\"outlinewidth\":0,\"ticks\":\"\"}}}],\"scatter3d\":[{\"type\":\"scatter3d\",\"line\":{\"colorbar\":{\"outlinewidth\":0,\"ticks\":\"\"}},\"marker\":{\"colorbar\":{\"outlinewidth\":0,\"ticks\":\"\"}}}],\"scattermapbox\":[{\"type\":\"scattermapbox\",\"marker\":{\"colorbar\":{\"outlinewidth\":0,\"ticks\":\"\"}}}],\"scatterternary\":[{\"type\":\"scatterternary\",\"marker\":{\"colorbar\":{\"outlinewidth\":0,\"ticks\":\"\"}}}],\"scattercarpet\":[{\"type\":\"scattercarpet\",\"marker\":{\"colorbar\":{\"outlinewidth\":0,\"ticks\":\"\"}}}],\"carpet\":[{\"aaxis\":{\"endlinecolor\":\"#2a3f5f\",\"gridcolor\":\"white\",\"linecolor\":\"white\",\"minorgridcolor\":\"white\",\"startlinecolor\":\"#2a3f5f\"},\"baxis\":{\"endlinecolor\":\"#2a3f5f\",\"gridcolor\":\"white\",\"linecolor\":\"white\",\"minorgridcolor\":\"white\",\"startlinecolor\":\"#2a3f5f\"},\"type\":\"carpet\"}],\"table\":[{\"cells\":{\"fill\":{\"color\":\"#EBF0F8\"},\"line\":{\"color\":\"white\"}},\"header\":{\"fill\":{\"color\":\"#C8D4E3\"},\"line\":{\"color\":\"white\"}},\"type\":\"table\"}],\"barpolar\":[{\"marker\":{\"line\":{\"color\":\"#E5ECF6\",\"width\":0.5},\"pattern\":{\"fillmode\":\"overlay\",\"size\":10,\"solidity\":0.2}},\"type\":\"barpolar\"}],\"pie\":[{\"automargin\":true,\"type\":\"pie\"}]},\"layout\":{\"autotypenumbers\":\"strict\",\"colorway\":[\"#636efa\",\"#EF553B\",\"#00cc96\",\"#ab63fa\",\"#FFA15A\",\"#19d3f3\",\"#FF6692\",\"#B6E880\",\"#FF97FF\",\"#FECB52\"],\"font\":{\"color\":\"#2a3f5f\"},\"hovermode\":\"closest\",\"hoverlabel\":{\"align\":\"left\"},\"paper_bgcolor\":\"white\",\"plot_bgcolor\":\"#E5ECF6\",\"polar\":{\"bgcolor\":\"#E5ECF6\",\"angularaxis\":{\"gridcolor\":\"white\",\"linecolor\":\"white\",\"ticks\":\"\"},\"radialaxis\":{\"gridcolor\":\"white\",\"linecolor\":\"white\",\"ticks\":\"\"}},\"ternary\":{\"bgcolor\":\"#E5ECF6\",\"aaxis\":{\"gridcolor\":\"white\",\"linecolor\":\"white\",\"ticks\":\"\"},\"baxis\":{\"gridcolor\":\"white\",\"linecolor\":\"white\",\"ticks\":\"\"},\"caxis\":{\"gridcolor\":\"white\",\"linecolor\":\"white\",\"ticks\":\"\"}},\"coloraxis\":{\"colorbar\":{\"outlinewidth\":0,\"ticks\":\"\"}},\"colorscale\":{\"sequential\":[[0.0,\"#0d0887\"],[0.1111111111111111,\"#46039f\"],[0.2222222222222222,\"#7201a8\"],[0.3333333333333333,\"#9c179e\"],[0.4444444444444444,\"#bd3786\"],[0.5555555555555556,\"#d8576b\"],[0.6666666666666666,\"#ed7953\"],[0.7777777777777778,\"#fb9f3a\"],[0.8888888888888888,\"#fdca26\"],[1.0,\"#f0f921\"]],\"sequentialminus\":[[0.0,\"#0d0887\"],[0.1111111111111111,\"#46039f\"],[0.2222222222222222,\"#7201a8\"],[0.3333333333333333,\"#9c179e\"],[0.4444444444444444,\"#bd3786\"],[0.5555555555555556,\"#d8576b\"],[0.6666666666666666,\"#ed7953\"],[0.7777777777777778,\"#fb9f3a\"],[0.8888888888888888,\"#fdca26\"],[1.0,\"#f0f921\"]],\"diverging\":[[0,\"#8e0152\"],[0.1,\"#c51b7d\"],[0.2,\"#de77ae\"],[0.3,\"#f1b6da\"],[0.4,\"#fde0ef\"],[0.5,\"#f7f7f7\"],[0.6,\"#e6f5d0\"],[0.7,\"#b8e186\"],[0.8,\"#7fbc41\"],[0.9,\"#4d9221\"],[1,\"#276419\"]]},\"xaxis\":{\"gridcolor\":\"white\",\"linecolor\":\"white\",\"ticks\":\"\",\"title\":{\"standoff\":15},\"zerolinecolor\":\"white\",\"automargin\":true,\"zerolinewidth\":2},\"yaxis\":{\"gridcolor\":\"white\",\"linecolor\":\"white\",\"ticks\":\"\",\"title\":{\"standoff\":15},\"zerolinecolor\":\"white\",\"automargin\":true,\"zerolinewidth\":2},\"scene\":{\"xaxis\":{\"backgroundcolor\":\"#E5ECF6\",\"gridcolor\":\"white\",\"linecolor\":\"white\",\"showbackground\":true,\"ticks\":\"\",\"zerolinecolor\":\"white\",\"gridwidth\":2},\"yaxis\":{\"backgroundcolor\":\"#E5ECF6\",\"gridcolor\":\"white\",\"linecolor\":\"white\",\"showbackground\":true,\"ticks\":\"\",\"zerolinecolor\":\"white\",\"gridwidth\":2},\"zaxis\":{\"backgroundcolor\":\"#E5ECF6\",\"gridcolor\":\"white\",\"linecolor\":\"white\",\"showbackground\":true,\"ticks\":\"\",\"zerolinecolor\":\"white\",\"gridwidth\":2}},\"shapedefaults\":{\"line\":{\"color\":\"#2a3f5f\"}},\"annotationdefaults\":{\"arrowcolor\":\"#2a3f5f\",\"arrowhead\":0,\"arrowwidth\":1},\"geo\":{\"bgcolor\":\"white\",\"landcolor\":\"#E5ECF6\",\"subunitcolor\":\"white\",\"showland\":true,\"showlakes\":true,\"lakecolor\":\"white\"},\"title\":{\"x\":0.05},\"mapbox\":{\"style\":\"light\"}}},\"xaxis\":{\"anchor\":\"y\",\"domain\":[0.0,1.0],\"title\":{\"text\":\"Year\"}},\"yaxis\":{\"anchor\":\"x\",\"domain\":[0.0,1.0],\"title\":{\"text\":\"App\"}},\"legend\":{\"tracegroupgap\":0},\"margin\":{\"t\":60}},                        {\"responsive\": true}                    ).then(function(){\n",
              "                            \n",
              "var gd = document.getElementById('927766f2-6edf-4782-b515-1a978205d3bf');\n",
              "var x = new MutationObserver(function (mutations, observer) {{\n",
              "        var display = window.getComputedStyle(gd).display;\n",
              "        if (!display || display === 'none') {{\n",
              "            console.log([gd, 'removed!']);\n",
              "            Plotly.purge(gd);\n",
              "            observer.disconnect();\n",
              "        }}\n",
              "}});\n",
              "\n",
              "// Listen for the removal of the full notebook cells\n",
              "var notebookContainer = gd.closest('#notebook-container');\n",
              "if (notebookContainer) {{\n",
              "    x.observe(notebookContainer, {childList: true});\n",
              "}}\n",
              "\n",
              "// Listen for the clearing of the current output cell\n",
              "var outputEl = gd.closest('.output');\n",
              "if (outputEl) {{\n",
              "    x.observe(outputEl, {childList: true});\n",
              "}}\n",
              "\n",
              "                        })                };                            </script>        </div>\n",
              "</body>\n",
              "</html>"
            ]
          },
          "metadata": {}
        }
      ]
    },
    {
      "cell_type": "markdown",
      "source": [
        "Documentation-From the line chart we can see that last updated Apps based on Years till 2018."
      ],
      "metadata": {
        "id": "dnN1kFN_zLQy"
      }
    },
    {
      "cell_type": "markdown",
      "source": [
        "#Reviews vs Rating"
      ],
      "metadata": {
        "id": "ItM1_tUjs643"
      }
    },
    {
      "cell_type": "code",
      "source": [
        "plt.figure(figsize=(10, 6))\n",
        "plt.scatter(df['Reviews'], df['Rating'], color='skyblue', alpha=0.6)\n",
        "plt.xlabel('Number of Reviews')\n",
        "plt.ylabel('Rating')\n",
        "plt.title('Number of Reviews vs. Rating')\n",
        "plt.show()\n"
      ],
      "metadata": {
        "colab": {
          "base_uri": "https://localhost:8080/",
          "height": 564
        },
        "id": "V5-a-X7fWj3_",
        "outputId": "56f6dd1d-37f5-4e5d-a915-5fa622442458"
      },
      "execution_count": 499,
      "outputs": [
        {
          "output_type": "display_data",
          "data": {
            "text/plain": [
              "<Figure size 1000x600 with 1 Axes>"
            ],
            "image/png": "[encoded data removed]"
          },
          "metadata": {}
        }
      ]
    },
    {
      "cell_type": "markdown",
      "source": [
        "Documentation-This scatter chart shows the relationship between Reviews and Ratings of Apps."
      ],
      "metadata": {
        "id": "p-YMNYA6zWtH"
      }
    },
    {
      "cell_type": "markdown",
      "source": [
        "#App Size vs. Number of Installs"
      ],
      "metadata": {
        "id": "4NWP2VZatG5J"
      }
    },
    {
      "cell_type": "code",
      "source": [
        "#App Size vs. Number of Installs\n",
        "pl.scatter(df,x='Size', y='Installs')"
      ],
      "metadata": {
        "colab": {
          "base_uri": "https://localhost:8080/",
          "height": 542
        },
        "id": "rNzho88CS4gC",
        "outputId": "3fe6e0e0-532d-4d4a-8b80-993724e41e76"
      },
      "execution_count": 500,
      "outputs": [
        {
          "output_type": "display_data",
          "data": {
            "text/html": [
              "<html>\n",
              "<head><meta charset=\"utf-8\" /></head>\n",
              "<body>\n",
              "    <div>            <script src=\"https://cdnjs.cloudflare.com/ajax/libs/mathjax/2.7.5/MathJax.js?config=TeX-AMS-MML_SVG\"></script><script type=\"text/javascript\">if (window.MathJax && window.MathJax.Hub && window.MathJax.Hub.Config) {window.MathJax.Hub.Config({SVG: {font: \"STIX-Web\"}});}</script>                <script type=\"text/javascript\">window.PlotlyConfig = {MathJaxConfig: 'local'};</script>\n",
              "        <script charset=\"utf-8\" src=\"https://cdn.plot.ly/plotly-2.35.2.min.js\"></script>                <div id=\"245de087-2e77-432d-92ce-d30d9d0a8929\" class=\"plotly-graph-div\" style=\"height:525px; width:100%;\"></div>            <script type=\"text/javascript\">                                    window.PLOTLYENV=window.PLOTLYENV || {};                                    if (document.getElementById(\"245de087-2e77-432d-92ce-d30d9d0a8929\")) {                    Plotly.newPlot(                        \"245de087-2e77-432d-92ce-d30d9d0a8929\",                        [{\"hovertemplate\":\"Size=%{x}\\u003cbr\\u003eInstalls=%{y}\\u003cextra\\u003e\\u003c\\u002fextra\\u003e\",\"legendgroup\":\"\",\"marker\":{\"color\":\"#636efa\",\"symbol\":\"circle\"},\"mode\":\"markers\",\"name\":\"\",\"showlegend\":false,\"x\":[19000000.0,14000000.0,8700000.0,25000000.0,2800000.0,5600000.0,19000000.0,29000000.0,33000000.0,3100000.0,28000000.0,12000000.0,20000000.0,21000000.0,37000000.0,2700000.0,5500000.0,17000000.0,39000000.0,31000000.0,14000000.0,12000000.0,4200000.0,7000000.0,23000000.0,6000000.0,25000000.0,6100000.0,4600000.0,4200000.0,9200000.0,5200000.0,11000000.0,11000000.0,4200000.0,9200000.0,24000000.0,null,11000000.0,9400000.0,15000000.0,10000000.0,null,1200000.0,12000000.0,24000000.0,26000000.0,8000000.0,7900000.0,25000000.0,56000000.0,57000000.0,null,35000000.0,33000000.0,33000000.0,5600000.0,54000000.0,null,3600000.0,5700000.0,17000000.0,8600000.0,2400000.0,27000000.0,2700000.0,2500000.0,null,null,7000000.0,35000000.0,16000000.0,16000000.0,null,17000000.0,3400000.0,8900000.0,3900000.0,2900000.0,38000000.0,32000000.0,37000000.0,15000000.0,5400000.0,18000000.0,null,38000000.0,1100000.0,null,null,7900000.0,35000000.0,null,17000000.0,19000000.0,14000000.0,2200000.0,4500000.0,17000000.0,14000000.0,9800000.0,21000000.0,null,52000000.0,14000000.0,25000000.0,9000000.0,null,12000000.0,null,35000000.0,6700000.0,30000000.0,5700000.0,2900000.0,17000000.0,2900000.0,null,null,2600000.0,4200000.0,7100000.0,57000000.0,3700000.0,22000000.0,24000000.0,7400000.0,21000000.0,3400000.0,2900000.0,3100000.0,6400000.0,3200000.0,8199999.999999999,9900000.0,2900000.0,23000000.0,4600000.0,3100000.0,null,4900000.0,9500000.0,null,null,null,null,null,4200000.0,5400000.0,null,2800000.0,5000000.0,null,5900000.0,13000000.0,7100000.0,6700000.0,null,17000000.0,19000000.0,6700000.0,21000000.0,null,2700000.0,37000000.0,15000000.0,23000000.0,19000000.0,23000000.0,73000000.0,4900000.0,6800000.0,null,null,2900000.0,3500000.0,4000000.0,21000000.0,2300000.0,null,7200000.0,10000000.0,6100000.0,2100000.0,42000000.0,7300000.0,30000000.0,null,null,null,29000000.0,null,null,null,35000000.0,9100000.0,25000000.0,3900000.0,18000000.0,12000000.0,21000000.0,null,null,null,null,55000000.0,3200000.0,null,null,null,16000000.0,null,14000000.0,37000000.0,null,null,11000000.0,25000000.0,7300000.0,6500000.0,25000000.0,3100000.0,null,1500000.0,7500000.0,8600000.0,null,1200000.0,null,null,39000000.0,14000000.0,19000000.0,6800000.0,39000000.0,14000000.0,20000000.0,null,26000000.0,51000000.0,41000000.0,20000000.0,null,12000000.0,48000000.0,10000000.0,22000000.0,11000000.0,8500000.0,8600000.0,null,28000000.0,28000000.0,9000000.0,46000000.0,null,14000000.0,26000000.0,23000000.0,null,null,35000000.0,null,29000000.0,null,4900000.0,27000000.0,32000000.0,12000000.0,15000000.0,11000000.0,28000000.0,2200000.0,3400000.0,8300000.000000001,4300000.0,4700000.0,10000000.0,15000000.0,7100000.0,21000000.0,6100000.0,null,15000000.0,11000000.0,29000000.0,3300000.0,null,22000000.0,40000000.0,10000000.0,9100000.0,4700000.0,38000000.0,null,6700000.0,37000000.0,null,7800000.0,19000000.0,5700000.0,35000000.0,null,null,17000000.0,null,null,null,null,null,8800000.0,null,16000000.0,11000000.0,11000000.0,null,15000000.0,6600000.0,null,6600000.0,null,null,5100000.0,null,18000000.0,4000000.0,null,null,null,37000000.0,null,22000000.0,null,3300000.0,32000000.0,37000000.0,null,null,null,null,null,17000000.0,null,null,35000000.0,40000000.0,61000000.0,66000000.0,null,11000000.0,null,null,null,25000000.0,14000000.0,null,null,null,null,null,24000000.0,17000000.0,8300000.000000001,null,8199999.999999999,null,null,null,null,8400000.0,null,null,4000000.0,32000000.0,null,null,null,6100000.0,null,2800000.0,null,null,3300000.0,40000000.0,2200000.0,null,4300000.0,4700000.0,2300000.0,2300000.0,null,11000000.0,2700000.0,13000000.0,3700000.0,10000000.0,13000000.0,10000000.0,13000000.0,8800000.0,5500000.0,20000000.0,29000000.0,null,null,11000000.0,null,17000000.0,17000000.0,null,null,null,null,16000000.0,5100000.0,null,44000000.0,7300000.0,30000000.0,null,null,1600000.0,19000000.0,null,null,null,null,23000000.0,26000000.0,null,6200000.0,20000000.0,null,1200000.0,17000000.0,null,15000000.0,null,56000000.0,12000000.0,11000000.0,29000000.0,null,40000000.0,null,53000000.0,3100000.0,24000000.0,23000000.0,5000000.0,44000000.0,27000000.0,6100000.0,null,21000000.0,11000000.0,21000000.0,24000000.0,31000000.0,27000000.0,6200000.0,null,12000000.0,8000000.0,5900000.0,7900000.0,5000000.0,1400000.0,13000000.0,40000000.0,13000000.0,19000000.0,5000000.0,19000000.0,27000000.0,3000000.0,13000000.0,7200000.0,25000000.0,null,5700000.0,5500000.0,null,6500000.0,5800000.0,null,3800000.0,41000000.0,7900000.0,2800000.0,20000000.0,15000000.0,28000000.0,9600000.0,13000000.0,9400000.0,27000000.0,45000000.0,15000000.0,38000000.0,31000000.0,6100000.0,27000000.0,32000000.0,13000000.0,63000000.0,44000000.0,null,16000000.0,28000000.0,null,5900000.0,13000000.0,9000000.0,20000000.0,7900000.0,28000000.0,49000000.0,27000000.0,18000000.0,14000000.0,27000000.0,38000000.0,27000000.0,7200000.0,21000000.0,8800000.0,38000000.0,null,11000000.0,6500000.0,26000000.0,19000000.0,6100000.0,77000000.0,9500000.0,14000000.0,38000000.0,16000000.0,3400000.0,4700000.0,5000000.0,4900000.0,4900000.0,16000000.0,3900000.0,4400000.0,4800000.0,4500000.0,70000000.0,4900000.0,3700000.0,4900000.0,16000000.0,4600000.0,3600000.0,21000000.0,13000000.0,8700000.0,9200000.0,6900000.0,39000000.0,8000000.0,3900000.0,14000000.0,11000000.0,13000000.0,9300000.0,5000000.0,10000000.0,5000000.0,5000000.0,3600000.0,19000000.0,5000000.0,9800000.0,14000000.0,5000000.0,4900000.0,5500000.0,11000000.0,3800000.0,5000000.0,8199999.999999999,21000000.0,12000000.0,10000000.0,3300000.0,25000000.0,15000000.0,10000000.0,4900000.0,4400000.0,3500000.0,7800000.0,9000000.0,15000000.0,19000000.0,56000000.0,4700000.0,null,25000000.0,29000000.0,8100000.0,13000000.0,14000000.0,3700000.0,3500000.0,4500000.0,36000000.0,4500000.0,19000000.0,14000000.0,7900000.0,9300000.0,null,18000000.0,18000000.0,21000000.0,3300000.0,24000000.0,39000000.0,3200000.0,5100000.0,11000000.0,27000000.0,37000000.0,null,26000000.0,11000000.0,null,41000000.0,49000000.0,21000000.0,8100000.0,51000000.0,14000000.0,18000000.0,3000000.0,19000000.0,null,22000000.0,6900000.0,7400000.0,84000000.0,25000000.0,18000000.0,null,2500000.0,3900000.0,null,21000000.0,27000000.0,null,null,18000000.0,null,10000000.0,null,null,null,97000000.0,17000000.0,null,null,2000000.0,1900000.0,1800000.0,1800000.0,17000000.0,5300000.0,null,5400000.0,5400000.0,5400000.0,15000000.0,5300000.0,48000000.0,5400000.0,47000000.0,null,29000000.0,2300000.0,null,4400000.0,6600000.0,null,null,12000000.0,null,29000000.0,null,null,null,null,10000000.0,76000000.0,null,null,18000000.0,21000000.0,null,6900000.0,14000000.0,76000000.0,11000000.0,19000000.0,6500000.0,7000000.0,3300000.0,21000000.0,null,2600000.0,21000000.0,5200000.0,18000000.0,null,16000000.0,15000000.0,1200000.0,null,18000000.0,1800000.0,7600000.0,null,null,59000000.0,6900000.0,41000000.0,null,21000000.0,21000000.0,21000000.0,null,null,7300000.0,59000000.0,41000000.0,7600000.0,null,13000000.0,63000000.0,44000000.0,24000000.0,24000000.0,null,4500000.0,null,11000000.0,null,4600000.0,null,null,3300000.0,6500000.0,null,null,null,12000000.0,null,5600000.0,9700000.0,15000000.0,null,52000000.0,null,null,4500000.0,null,49000000.0,18000000.0,13000000.0,4000000.0,16000000.0,17000000.0,null,24000000.0,null,12000000.0,null,78000000.0,null,25000000.0,57000000.0,null,9100000.0,39000000.0,null,null,8500000.0,12000000.0,72000000.0,12000000.0,null,16000000.0,9600000.0,null,22000000.0,null,13000000.0,null,12000000.0,null,23000000.0,20000000.0,25000000.0,17000000.0,null,19000000.0,21000000.0,19000000.0,null,null,null,null,19000000.0,4400000.0,19000000.0,null,11000000.0,null,null,13000000.0,17000000.0,20000000.0,21000000.0,15000000.0,19000000.0,7200000.0,32000000.0,null,null,44000000.0,19000000.0,null,null,null,null,30000000.0,null,57000000.0,35000000.0,44000000.0,null,20000000.0,19000000.0,43000000.0,null,null,3600000.0,7700000.0,44000000.0,12000000.0,53000000.0,77000000.0,null,9500000.0,36000000.0,6300000.0,5900000.0,null,12000000.0,2800000.0,26000000.0,8700000.0,16000000.0,53000000.0,null,14000000.0,8900000.0,11000000.0,null,24000000.0,13000000.0,null,2800000.0,9700000.0,1400000.0,null,3500000.0,61000000.0,6000000.0,2300000.0,9000000.0,11000000.0,27000000.0,3600000.0,null,29000000.0,4400000.0,21000000.0,13000000.0,27000000.0,11000000.0,24000000.0,6100000.0,6300000.0,23000000.0,34000000.0,3800000.0,null,null,42000000.0,null,19000000.0,70000000.0,32000000.0,93000000.0,null,null,null,40000000.0,24000000.0,null,20000000.0,15000000.0,28000000.0,10000000.0,null,null,null,14000000.0,null,42000000.0,65000000.0,37000000.0,null,39000000.0,47000000.0,79000000.0,18000000.0,null,100000000.0,32000000.0,46000000.0,null,9800000.0,8199999.999999999,18000000.0,null,39000000.0,44000000.0,null,5000000.0,21000000.0,22000000.0,23000000.0,null,null,27000000.0,null,32000000.0,7400000.0,24000000.0,22000000.0,null,10000000.0,17000000.0,38000000.0,46000000.0,3800000.0,9300000.0,8400000.0,28000000.0,null,9700000.0,11000000.0,null,7400000.0,19000000.0,16000000.0,14000000.0,22000000.0,25000000.0,3600000.0,null,null,4500000.0,null,23000000.0,null,null,null,4200000.0,null,58000000.0,22000000.0,null,1400000.0,null,9100000.0,null,null,null,null,21000000.0,null,11000000.0,38000000.0,12000000.0,45000000.0,50000000.0,47000000.0,23000000.0,46000000.0,45000000.0,50000000.0,24000000.0,33000000.0,null,12000000.0,53000000.0,14000000.0,68000000.0,37000000.0,79000000.0,32000000.0,46000000.0,40000000.0,32000000.0,null,24000000.0,42000000.0,12000000.0,13000000.0,13000000.0,4900000.0,8900000.0,null,19000000.0,null,14000000.0,64000000.0,8400000.0,11000000.0,66000000.0,null,41000000.0,15000000.0,35000000.0,36000000.0,17000000.0,25000000.0,35000000.0,10000000.0,null,12000000.0,null,11000000.0,null,null,17000000.0,43000000.0,41000000.0,null,43000000.0,16000000.0,39000000.0,13000000.0,30000000.0,7100000.0,23000000.0,17000000.0,18000000.0,null,17000000.0,null,15000000.0,22000000.0,null,9000000.0,7200000.0,null,null,2300000.0,27000000.0,null,8199999.999999999,76000000.0,22000000.0,null,19000000.0,null,null,28000000.0,null,null,null,25000000.0,30000000.0,8500000.0,null,17000000.0,34000000.0,34000000.0,null,17000000.0,16000000.0,null,15000000.0,2200000.0,11000000.0,6900000.0,13000000.0,11000000.0,2900000.0,25000000.0,7000000.0,27000000.0,7500000.0,null,15000000.0,9400000.0,6400000.0,5500000.0,3900000.0,55000000.0,28000000.0,null,8800000.0,null,4000000.0,6900000.0,11000000.0,null,5500000.0,null,15000000.0,4300000.0,null,7100000.0,58000000.0,null,null,18000000.0,null,1500000.0,6500000.0,11000000.0,67000000.0,null,57000000.0,59000000.0,48000000.0,57000000.0,13000000.0,null,null,null,31000000.0,10000000.0,57000000.0,null,21000000.0,25000000.0,93000000.0,60000000.0,27000000.0,54000000.0,null,null,59000000.0,null,78000000.0,55000000.0,null,null,null,35000000.0,null,43000000.0,39000000.0,4200000.0,44000000.0,45000000.0,null,28000000.0,29000000.0,12000000.0,15000000.0,31000000.0,null,null,null,null,20000000.0,39000000.0,94000000.0,null,41000000.0,49000000.0,22000000.0,null,23000000.0,28000000.0,7200000.0,6500000.0,null,24000000.0,null,null,20000000.0,null,15000000.0,null,55000000.0,null,38000000.0,32000000.0,null,null,40000000.0,null,23000000.0,6100000.0,null,58000000.0,55000000.0,null,null,null,null,null,null,19000000.0,3800000.0,18000000.0,57000000.0,5500000.0,null,5700000.0,51000000.0,9400000.0,3300000.0,null,4000000.0,4300000.0,null,3600000.0,9900000.0,37000000.0,null,null,40000000.0,73000000.0,null,23000000.0,10000000.0,8400000.0,null,null,null,41000000.0,null,34000000.0,7500000.0,null,12000000.0,7700000.0,21000000.0,18000000.0,40000000.0,null,8700000.0,null,8600000.0,null,18000000.0,7500000.0,9100000.0,13000000.0,null,15000000.0,null,19000000.0,null,null,5100000.0,26000000.0,8300000.000000001,27000000.0,7900000.0,null,27000000.0,5100000.0,15000000.0,3100000.0,16000000.0,9200000.0,null,null,10000000.0,2600000.0,13000000.0,1900000.0,7000000.0,15000000.0,4200000.0,7800000.0,77000000.0,5700000.0,5900000.0,7600000.0,5800000.0,null,5800000.0,5300000.0,5500000.0,25000000.0,35000000.0,30000000.0,null,null,null,16000000.0,null,15000000.0,21000000.0,1800000.0,4300000.0,10000000.0,3700000.0,null,99000000.0,null,6900000.0,7000000.0,7000000.0,6400000.0,null,16000000.0,5900000.0,95000000.0,null,20000000.0,2500000.0,50000000.0,10000000.0,18000000.0,12000000.0,2500000.0,2100000.0,22000000.0,null,22000000.0,null,5500000.0,null,2500000.0,8100000.0,28000000.0,24000000.0,3100000.0,3400000.0,null,13000000.0,19000000.0,9500000.0,21000000.0,9400000.0,2400000.0,36000000.0,55000000.0,32000000.0,34000000.0,5100000.0,100000000.0,80000000.0,3300000.0,28000000.0,5000000.0,11000000.0,55000000.0,7100000.0,3200000.0,4400000.0,16000000.0,6300000.0,45000000.0,23000000.0,37000000.0,13000000.0,8100000.0,13000000.0,14000000.0,30000000.0,36000000.0,3000000.0,1400000.0,39000000.0,1800000.0,1700000.0,19000000.0,15000000.0,10000000.0,2700000.0,16000000.0,21000000.0,20000000.0,14000000.0,76000000.0,18000000.0,12000000.0,6200000.0,null,6800000.0,null,24000000.0,19000000.0,13000000.0,15000000.0,13000000.0,null,44000000.0,null,9700000.0,13000000.0,4500000.0,4500000.0,29000000.0,12000000.0,12000000.0,null,4600000.0,10000000.0,33000000.0,33000000.0,13000000.0,15000000.0,23000000.0,7700000.0,null,15000000.0,25000000.0,null,3000000.0,22000000.0,null,null,7500000.0,24000000.0,null,44000000.0,null,null,14000000.0,67000000.0,76000000.0,74000000.0,23000000.0,46000000.0,24000000.0,null,97000000.0,62000000.0,24000000.0,33000000.0,7800000.0,46000000.0,69000000.0,75000000.0,67000000.0,50000000.0,98000000.0,null,4900000.0,37000000.0,18000000.0,52000000.0,null,78000000.0,3900000.0,59000000.0,97000000.0,11000000.0,38000000.0,null,null,null,null,85000000.0,78000000.0,63000000.0,null,24000000.0,69000000.0,75000000.0,null,70000000.0,63000000.0,99000000.0,49000000.0,null,76000000.0,67000000.0,24000000.0,52000000.0,74000000.0,69000000.0,82000000.0,null,96000000.0,99000000.0,46000000.0,null,99000000.0,87000000.0,3900000.0,67000000.0,53000000.0,7800000.0,null,97000000.0,null,null,59000000.0,46000000.0,75000000.0,50000000.0,62000000.0,null,23000000.0,72000000.0,70000000.0,18000000.0,null,35000000.0,78000000.0,25000000.0,74000000.0,97000000.0,17000000.0,53000000.0,null,11000000.0,60000000.0,57000000.0,14000000.0,67000000.0,33000000.0,76000000.0,null,40000000.0,59000000.0,52000000.0,null,100000000.0,null,null,null,85000000.0,87000000.0,33000000.0,32000000.0,40000000.0,29000000.0,40000000.0,24000000.0,38000000.0,52000000.0,null,54000000.0,71000000.0,73000000.0,38000000.0,62000000.0,95000000.0,16000000.0,39000000.0,78000000.0,36000000.0,null,31000000.0,null,98000000.0,24000000.0,85000000.0,33000000.0,100000000.0,36000000.0,86000000.0,80000000.0,79000000.0,30000000.0,87000000.0,91000000.0,63000000.0,null,null,95000000.0,48000000.0,null,null,93000000.0,53000000.0,82000000.0,99000000.0,49000000.0,25000000.0,null,91000000.0,52000000.0,56000000.0,56000000.0,85000000.0,81000000.0,82000000.0,98000000.0,77000000.0,99000000.0,null,96000000.0,96000000.0,82000000.0,70000000.0,63000000.0,35000000.0,48000000.0,84000000.0,15000000.0,69000000.0,46000000.0,15000000.0,33000000.0,48000000.0,67000000.0,74000000.0,57000000.0,52000000.0,25000000.0,null,36000000.0,31000000.0,91000000.0,null,92000000.0,70000000.0,93000000.0,52000000.0,91000000.0,37000000.0,64000000.0,35000000.0,97000000.0,93000000.0,28000000.0,83000000.0,99000000.0,55000000.0,14000000.0,81000000.0,null,74000000.0,67000000.0,52000000.0,76000000.0,67000000.0,50000000.0,46000000.0,null,null,97000000.0,98000000.0,70000000.0,69000000.0,3900000.0,7800000.0,18000000.0,24000000.0,62000000.0,11000000.0,null,87000000.0,99000000.0,null,82000000.0,94000000.0,null,null,null,96000000.0,75000000.0,null,14000000.0,59000000.0,74000000.0,29000000.0,17000000.0,97000000.0,78000000.0,null,null,63000000.0,null,25000000.0,29000000.0,72000000.0,null,53000000.0,null,33000000.0,60000000.0,62000000.0,78000000.0,75000000.0,70000000.0,99000000.0,99000000.0,null,27000000.0,70000000.0,88000000.0,63000000.0,82000000.0,null,31000000.0,23000000.0,null,59000000.0,39000000.0,54000000.0,48000000.0,null,30000000.0,66000000.0,32000000.0,50000000.0,61000000.0,49000000.0,38000000.0,20000000.0,null,null,66000000.0,57000000.0,95000000.0,null,null,32000000.0,33000000.0,66000000.0,75000000.0,29000000.0,33000000.0,52000000.0,50000000.0,46000000.0,12000000.0,41000000.0,63000000.0,53000000.0,63000000.0,99000000.0,null,20000000.0,75000000.0,13000000.0,46000000.0,78000000.0,49000000.0,100000000.0,null,97000000.0,null,null,15000000.0,33000000.0,null,70000000.0,10000000.0,77000000.0,null,4900000.0,null,25000000.0,23000000.0,51000000.0,96000000.0,null,null,null,70000000.0,38000000.0,24000000.0,null,20000000.0,67000000.0,19000000.0,51000000.0,22000000.0,46000000.0,21000000.0,39000000.0,23000000.0,26000000.0,39000000.0,24000000.0,15000000.0,20000000.0,24000000.0,44000000.0,38000000.0,52000000.0,14000000.0,49000000.0,8900000.0,null,56000000.0,99000000.0,10000000.0,6900000.0,20000000.0,10000000.0,19000000.0,33000000.0,85000000.0,48000000.0,9600000.0,null,15000000.0,null,50000000.0,51000000.0,24000000.0,13000000.0,16000000.0,null,null,63000000.0,15000000.0,26000000.0,81000000.0,79000000.0,null,94000000.0,43000000.0,45000000.0,91000000.0,91000000.0,53000000.0,28000000.0,26000000.0,56000000.0,80000000.0,60000000.0,null,67000000.0,78000000.0,27000000.0,null,63000000.0,26000000.0,46000000.0,83000000.0,60000000.0,44000000.0,82000000.0,67000000.0,24000000.0,78000000.0,null,null,51000000.0,94000000.0,16000000.0,93000000.0,77000000.0,32000000.0,58000000.0,48000000.0,69000000.0,73000000.0,99000000.0,16000000.0,54000000.0,56000000.0,68000000.0,25000000.0,7000000.0,54000000.0,51000000.0,null,48000000.0,44000000.0,8700000.0,91000000.0,97000000.0,26000000.0,16000000.0,null,53000000.0,95000000.0,83000000.0,78000000.0,56000000.0,21000000.0,26000000.0,60000000.0,22000000.0,58000000.0,22000000.0,36000000.0,37000000.0,70000000.0,34000000.0,49000000.0,9800000.0,37000000.0,null,55000000.0,84000000.0,16000000.0,92000000.0,57000000.0,null,24000000.0,6900000.0,44000000.0,11000000.0,16000000.0,17000000.0,18000000.0,16000000.0,19000000.0,1600000.0,47000000.0,16000000.0,14000000.0,null,75000000.0,25000000.0,5700000.0,null,17000000.0,3500000.0,16000000.0,42000000.0,47000000.0,67000000.0,26000000.0,72000000.0,37000000.0,1200000.0,17000000.0,19000000.0,23000000.0,25000000.0,83000000.0,97000000.0,37000000.0,92000000.0,48000000.0,12000000.0,15000000.0,83000000.0,9500000.0,67000000.0,null,null,null,63000000.0,14000000.0,58000000.0,22000000.0,15000000.0,null,50000000.0,59000000.0,54000000.0,null,null,37000000.0,25000000.0,61000000.0,91000000.0,17000000.0,17000000.0,64000000.0,41000000.0,58000000.0,23000000.0,71000000.0,null,null,23000000.0,12000000.0,null,2900000.0,25000000.0,null,20000000.0,21000000.0,5400000.0,25000000.0,42000000.0,32000000.0,1800000.0,33000000.0,3800000.0,5800000.0,9500000.0,19000000.0,null,5000000.0,23000000.0,null,9900000.0,24000000.0,2400000.0,null,38000000.0,6500000.0,14000000.0,1200000.0,48000000.0,null,22000000.0,4800000.0,null,25000000.0,null,null,62000000.0,1200000.0,null,2800000.0,95000000.0,2600000.0,4600000.0,null,5100000.0,1800000.0,null,null,53000000.0,39000000.0,5300000.0,14000000.0,8400000.0,18000000.0,41000000.0,100000000.0,3400000.0,68000000.0,2600000.0,11000000.0,null,37000000.0,null,9800000.0,23000000.0,18000000.0,7400000.0,11000000.0,null,23000000.0,34000000.0,15000000.0,13000000.0,24000000.0,20000000.0,14000000.0,69000000.0,38000000.0,26000000.0,2600000.0,21000000.0,38000000.0,16000000.0,21000000.0,10000000.0,22000000.0,14000000.0,36000000.0,16000000.0,61000000.0,11000000.0,8500000.0,37000000.0,null,null,22000000.0,17000000.0,7700000.0,39000000.0,30000000.0,3700000.0,28000000.0,16000000.0,20000000.0,8900000.0,97000000.0,12000000.0,72000000.0,null,21000000.0,null,27000000.0,5700000.0,6600000.0,12000000.0,5900000.0,20000000.0,15000000.0,26000000.0,3300000.0,44000000.0,17000000.0,5800000.0,11000000.0,16000000.0,6100000.0,null,22000000.0,28000000.0,6300000.0,60000000.0,8000000.0,20000000.0,6400000.0,34000000.0,70000000.0,28000000.0,21000000.0,38000000.0,null,74000000.0,12000000.0,13000000.0,6800000.0,12000000.0,5800000.0,42000000.0,13000000.0,1500000.0,3200000.0,7700000.0,1300000.0,26000000.0,11000000.0,null,3100000.0,1800000.0,66000000.0,5000000.0,2900000.0,22000000.0,16000000.0,19000000.0,40000000.0,23000000.0,15000000.0,29000000.0,16000000.0,65000000.0,29000000.0,20000000.0,3800000.0,19000000.0,25000000.0,5100000.0,16000000.0,1500000.0,10000000.0,22000000.0,3600000.0,20000000.0,20000000.0,13000000.0,2500000.0,3600000.0,24000000.0,10000000.0,25000000.0,29000000.0,17000000.0,53000000.0,83000000.0,4600000.0,4600000.0,28000000.0,29000000.0,46000000.0,5700000.0,1400000.0,12000000.0,2200000.0,27000000.0,18000000.0,30000000.0,3500000.0,4200000.0,6900000.0,6600000.0,7000000.0,11000000.0,5600000.0,29000000.0,3300000.0,20000000.0,7000000.0,3300000.0,29000000.0,7100000.0,null,24000000.0,13000000.0,34000000.0,4300000.0,43000000.0,69000000.0,25000000.0,2000000.0,40000000.0,4300000.0,4000000.0,17000000.0,4400000.0,2300000.0,40000000.0,8400000.0,11000000.0,2400000.0,15000000.0,24000000.0,86000000.0,null,11000000.0,null,null,6000000.0,20000000.0,26000000.0,13000000.0,2700000.0,4200000.0,28000000.0,6100000.0,15000000.0,1200000.0,37000000.0,14000000.0,2300000.0,32000000.0,2700000.0,2200000.0,null,null,null,4000000.0,null,1500000.0,null,3700000.0,null,null,null,2800000.0,3900000.0,3100000.0,null,2800000.0,20000000.0,9900000.0,5300000.0,10000000.0,2600000.0,null,31000000.0,2300000.0,6000000.0,17000000.0,20000000.0,62000000.0,null,15000000.0,null,18000000.0,5400000.0,2800000.0,15000000.0,null,5300000.0,null,null,37000000.0,null,23000000.0,null,null,null,28000000.0,35000000.0,null,76000000.0,null,34000000.0,null,null,null,null,2700000.0,null,4099999.9999999995,null,null,null,null,85000000.0,15000000.0,89000000.0,null,20000000.0,null,9300000.0,null,76000000.0,34000000.0,16000000.0,null,null,null,null,null,8400000.0,20000000.0,null,68000000.0,13000000.0,50000000.0,null,28000000.0,null,null,7000000.0,23000000.0,null,null,null,56000000.0,null,22000000.0,15000000.0,null,30000000.0,30000000.0,27000000.0,null,null,null,20000000.0,42000000.0,null,18000000.0,4200000.0,null,30000000.0,33000000.0,7900000.0,12000000.0,15000000.0,null,10000000.0,9900000.0,9000000.0,null,21000000.0,13000000.0,11000000.0,21000000.0,8100000.0,null,null,12000000.0,7300000.0,null,15000000.0,22000000.0,11000000.0,8300000.000000001,null,20000000.0,38000000.0,9100000.0,24000000.0,null,null,29000000.0,null,98000000.0,25000000.0,null,18000000.0,null,6100000.0,14000000.0,21000000.0,null,43000000.0,15000000.0,23000000.0,52000000.0,null,null,57000000.0,20000000.0,40000000.0,17000000.0,13000000.0,33000000.0,null,29000000.0,null,31000000.0,null,20000000.0,13000000.0,7300000.0,12000000.0,8800000.0,18000000.0,21000000.0,34000000.0,26000000.0,34000000.0,2700000.0,null,null,null,20000000.0,23000000.0,null,42000000.0,16000000.0,12000000.0,6500000.0,15000000.0,22000000.0,null,6200000.0,19000000.0,27000000.0,1100000.0,null,16000000.0,8800000.0,24000000.0,56000000.0,15000000.0,null,14000000.0,22000000.0,28000000.0,59000000.0,37000000.0,36000000.0,9500000.0,82000000.0,28000000.0,null,null,9700000.0,22000000.0,17000000.0,null,null,7700000.0,null,11000000.0,21000000.0,19000000.0,null,8700000.0,30000000.0,25000000.0,17000000.0,null,13000000.0,23000000.0,null,null,22000000.0,9100000.0,8300000.000000001,null,19000000.0,53000000.0,null,17000000.0,10000000.0,null,29000000.0,46000000.0,4500000.0,4900000.0,null,24000000.0,23000000.0,25000000.0,26000000.0,null,2000000.0,19000000.0,9600000.0,null,13000000.0,4200000.0,16000000.0,null,null,9500000.0,null,53000000.0,6600000.0,null,null,27000000.0,22000000.0,null,50000000.0,30000000.0,null,17000000.0,18000000.0,10000000.0,9900000.0,23000000.0,51000000.0,35000000.0,16000000.0,11000000.0,74000000.0,48000000.0,null,null,5600000.0,1500000.0,5700000.0,6100000.0,1900000.0,4000000.0,47000000.0,null,null,22000000.0,14000000.0,10000000.0,null,6900000.0,44000000.0,null,null,null,51000000.0,null,43000000.0,21000000.0,null,25000000.0,3900000.0,4000000.0,51000000.0,null,null,9600000.0,null,null,50000000.0,null,null,21000000.0,null,31000000.0,27000000.0,null,null,null,53000000.0,34000000.0,null,12000000.0,50000000.0,47000000.0,null,null,null,9200000.0,null,null,51000000.0,24000000.0,1600000.0,17000000.0,31000000.0,59000000.0,46000000.0,45000000.0,null,9800000.0,null,null,null,34000000.0,20000000.0,19000000.0,6000000.0,null,15000000.0,6500000.0,6200000.0,null,null,null,null,null,null,14000000.0,null,null,6100000.0,17000000.0,24000000.0,null,13000000.0,10000000.0,10000000.0,6900000.0,31000000.0,null,null,28000000.0,2600000.0,30000000.0,13000000.0,27000000.0,29000000.0,18000000.0,35000000.0,17000000.0,null,18000000.0,null,3000000.0,32000000.0,24000000.0,null,null,6600000.0,27000000.0,25000000.0,24000000.0,null,25000000.0,33000000.0,88000000.0,9300000.0,null,null,84000000.0,4700000.0,25000000.0,12000000.0,null,9900000.0,61000000.0,25000000.0,52000000.0,57000000.0,null,41000000.0,4600000.0,10000000.0,23000000.0,null,33000000.0,null,4700000.0,2200000.0,null,95000000.0,34000000.0,null,9400000.0,19000000.0,3900000.0,null,21000000.0,82000000.0,null,null,19000000.0,null,26000000.0,5200000.0,16000000.0,null,6000000.0,25000000.0,null,8100000.0,35000000.0,null,48000000.0,21000000.0,32000000.0,null,null,14000000.0,null,null,25000000.0,null,58000000.0,19000000.0,29000000.0,81000000.0,null,null,28000000.0,null,null,null,null,7600000.0,33000000.0,null,42000000.0,8300000.000000001,14000000.0,null,null,null,37000000.0,14000000.0,null,21000000.0,28000000.0,27000000.0,null,39000000.0,null,17000000.0,null,39000000.0,51000000.0,86000000.0,null,null,null,26000000.0,null,46000000.0,29000000.0,27000000.0,14000000.0,null,10000000.0,71000000.0,15000000.0,null,null,11000000.0,null,62000000.0,80000000.0,5400000.0,9800000.0,null,null,null,7600000.0,26000000.0,13000000.0,null,62000000.0,10000000.0,null,57000000.0,51000000.0,24000000.0,null,29000000.0,null,3100000.0,55000000.0,19000000.0,40000000.0,null,43000000.0,50000000.0,null,13000000.0,null,null,null,4000000.0,null,44000000.0,22000000.0,null,null,null,12000000.0,null,46000000.0,7600000.0,null,null,4099999.9999999995,8500000.0,31000000.0,4099999.9999999995,null,22000000.0,null,28000000.0,null,5900000.0,null,null,null,3900000.0,null,15000000.0,4300000.0,null,null,null,null,5300000.0,null,16000000.0,7500000.0,null,null,null,3700000.0,null,5800000.0,17000000.0,null,8500000.0,null,9100000.0,7600000.0,2500000.0,15000000.0,null,null,null,null,6100000.0,null,17000000.0,null,null,null,null,58000000.0,4600000.0,16000000.0,1300000.0,2300000.0,1900000.0,2700000.0,16000000.0,11000000.0,5300000.0,null,4200000.0,null,9100000.0,4300000.0,null,null,null,null,1800000.0,null,8500000.0,4400000.0,null,3800000.0,11000000.0,null,11000000.0,null,7400000.0,5300000.0,5400000.0,3600000.0,null,4300000.0,null,27000000.0,null,1800000.0,3300000.0,2000000.0,6100000.0,9600000.0,9600000.0,10000000.0,8199999.999999999,14000000.0,25000000.0,9900000.0,22000000.0,null,8900000.0,null,2400000.0,25000000.0,null,null,1800000.0,17000000.0,null,4099999.9999999995,18000000.0,14000000.0,null,null,null,null,4700000.0,8100000.0,null,7900000.0,4600000.0,null,3500000.0,null,null,null,2100000.0,null,14000000.0,null,8700000.0,21000000.0,null,12000000.0,18000000.0,17000000.0,3800000.0,null,23000000.0,14000000.0,15000000.0,9900000.0,12000000.0,12000000.0,20000000.0,7400000.0,3000000.0,null,14000000.0,14000000.0,7200000.0,22000000.0,7200000.0,null,26000000.0,38000000.0,3900000.0,null,5400000.0,9800000.0,7600000.0,1100000.0,9100000.0,6800000.0,12000000.0,3300000.0,12000000.0,9800000.0,null,14000000.0,6800000.0,27000000.0,7400000.0,29000000.0,null,null,5900000.0,14000000.0,14000000.0,26000000.0,1900000.0,3900000.0,null,null,null,5100000.0,10000000.0,13000000.0,4000000.0,5400000.0,3300000.0,4300000.0,null,21000000.0,6400000.0,8600000.0,2100000.0,7100000.0,null,3300000.0,3500000.0,4099999.9999999995,9700000.0,3300000.0,7100000.0,8400000.0,7000000.0,5500000.0,null,null,13000000.0,null,null,5900000.0,null,24000000.0,6200000.0,null,null,6900000.0,null,6100000.0,null,null,null,24000000.0,null,4099999.9999999995,null,50000000.0,null,null,11000000.0,5100000.0,1300000.0,null,null,null,null,null,2300000.0,16000000.0,null,null,15000000.0,61000000.0,1600000.0,null,null,null,null,49000000.0,null,7200000.0,null,null,1500000.0,null,null,49000000.0,14000000.0,null,null,null,null,null,1200000.0,null,10000000.0,4300000.0,3800000.0,null,32000000.0,4500000.0,null,8400000.0,12000000.0,25000000.0,null,null,12000000.0,7100000.0,null,null,16000000.0,6500000.0,9200000.0,null,2200000.0,null,null,4099999.9999999995,null,null,null,null,null,null,60000000.0,null,37000000.0,null,null,null,null,null,null,4700000.0,6600000.0,2500000.0,19000000.0,null,4200000.0,11000000.0,null,null,null,null,null,5700000.0,9000000.0,null,6900000.0,1900000.0,null,null,null,15000000.0,null,null,null,null,null,11000000.0,61000000.0,4099999.9999999995,3800000.0,null,3800000.0,null,2800000.0,null,8199999.999999999,3300000.0,6200000.0,85000000.0,14000000.0,95000000.0,5500000.0,42000000.0,15000000.0,98000000.0,6400000.0,2800000.0,6500000.0,3600000.0,2400000.0,3400000.0,1500000.0,5000000.0,6600000.0,null,null,null,59000000.0,6800000.0,24000000.0,6600000.0,4900000.0,9100000.0,11000000.0,5800000.0,24000000.0,4400000.0,16000000.0,11000000.0,4900000.0,11000000.0,53000000.0,20000000.0,38000000.0,4900000.0,17000000.0,37000000.0,5200000.0,28000000.0,71000000.0,46000000.0,16000000.0,18000000.0,18000000.0,null,10000000.0,null,17000000.0,null,9700000.0,null,null,21000000.0,3200000.0,15000000.0,44000000.0,4800000.0,null,10000000.0,54000000.0,9100000.0,19000000.0,12000000.0,null,null,null,19000000.0,null,7600000.0,null,38000000.0,null,null,6100000.0,9200000.0,null,11000000.0,9200000.0,20000000.0,22000000.0,null,null,5300000.0,null,5600000.0,5400000.0,2900000.0,25000000.0,null,null,23000000.0,7200000.0,3300000.0,null,null,17000000.0,6000000.0,33000000.0,3100000.0,4099999.9999999995,27000000.0,44000000.0,null,13000000.0,null,null,3000000.0,null,null,6100000.0,64000000.0,47000000.0,null,5400000.0,null,null,null,27000000.0,null,50000000.0,null,null,4000000.0,13000000.0,null,null,44000000.0,2500000.0,23000000.0,null,23000000.0,14000000.0,89000000.0,null,null,16000000.0,26000000.0,null,11000000.0,null,null,56000000.0,25000000.0,null,17000000.0,9100000.0,11000000.0,null,15000000.0,9700000.0,5500000.0,6700000.0,null,2900000.0,13000000.0,8500000.0,25000000.0,null,12000000.0,6300000.0,6300000.0,null,19000000.0,31000000.0,null,9000000.0,25000000.0,4600000.0,8000000.0,23000000.0,9800000.0,8700000.0,null,null,12000000.0,null,10000000.0,null,19000000.0,6600000.0,null,14000000.0,8600000.0,13000000.0,null,10000000.0,null,null,null,7500000.0,36000000.0,8199999.999999999,22000000.0,23000000.0,null,null,14000000.0,null,25000000.0,27000000.0,null,35000000.0,null,8600000.0,4600000.0,12000000.0,18000000.0,null,3100000.0,null,14000000.0,23000000.0,8800000.0,null,12000000.0,null,13000000.0,null,null,null,null,null,22000000.0,null,null,43000000.0,null,33000000.0,32000000.0,null,6800000.0,4000000.0,null,3700000.0,null,3400000.0,null,null,null,48000000.0,7700000.0,60000000.0,60000000.0,5600000.0,null,5200000.0,25000000.0,3300000.0,29000000.0,49000000.0,3600000.0,48000000.0,null,5400000.0,18000000.0,3200000.0,11000000.0,8500000.0,24000000.0,26000000.0,14000000.0,null,null,78000000.0,null,null,7000000.0,9200000.0,null,null,4900000.0,6500000.0,11000000.0,96000000.0,2900000.0,24000000.0,55000000.0,74000000.0,24000000.0,32000000.0,15000000.0,6300000.0,97000000.0,74000000.0,null,14000000.0,14000000.0,null,null,5700000.0,19000000.0,null,null,50000000.0,null,76000000.0,70000000.0,29000000.0,16000000.0,null,13000000.0,73000000.0,17000000.0,null,null,null,null,85000000.0,null,99000000.0,null,92000000.0,37000000.0,45000000.0,null,57000000.0,26000000.0,47000000.0,22000000.0,56000000.0,50000000.0,42000000.0,34000000.0,null,70000000.0,17000000.0,4099999.9999999995,null,11000000.0,11000000.0,94000000.0,24000000.0,56000000.0,null,66000000.0,63000000.0,91000000.0,17000000.0,21000000.0,null,null,81000000.0,null,3000000.0,59000000.0,null,83000000.0,19000000.0,23000000.0,32000000.0,39000000.0,57000000.0,52000000.0,7500000.0,7400000.0,8900000.0,6300000.0,18000000.0,14000000.0,null,20000000.0,null,96000000.0,35000000.0,8600000.0,55000000.0,29000000.0,13000000.0,16000000.0,6700000.0,100000000.0,null,94000000.0,4400000.0,64000000.0,4500000.0,6000000.0,null,7400000.0,3700000.0,25000000.0,10000000.0,26000000.0,98000000.0,97000000.0,1800000.0,null,11000000.0,78000000.0,50000000.0,null,74000000.0,8300000.000000001,null,7700000.0,2500000.0,5300000.0,null,4000000.0,4200000.0,74000000.0,6900000.0,null,6600000.0,16000000.0,4700000.0,5400000.0,35000000.0,26000000.0,32000000.0,2700000.0,3700000.0,7000000.0,6900000.0,63000000.0,2200000.0,30000000.0,5800000.0,3100000.0,1500000.0,8600000.0,null,3300000.0,5000000.0,1100000.0,4400000.0,2100000.0,1600000.0,null,29000000.0,39000000.0,29000000.0,14000000.0,null,41000000.0,9700000.0,60000000.0,62000000.0,47000000.0,89000000.0,9900000.0,64000000.0,48000000.0,12000000.0,61000000.0,32000000.0,28000000.0,null,null,36000000.0,13000000.0,69000000.0,74000000.0,18000000.0,3600000.0,79000000.0,66000000.0,42000000.0,9800000.0,2800000.0,null,40000000.0,20000000.0,25000000.0,null,null,44000000.0,8800000.0,16000000.0,89000000.0,null,58000000.0,20000000.0,4800000.0,null,null,13000000.0,4900000.0,12000000.0,null,null,null,66000000.0,50000000.0,null,59000000.0,null,14000000.0,5900000.0,41000000.0,null,null,null,null,22000000.0,null,15000000.0,6100000.0,null,null,3100000.0,null,79000000.0,15000000.0,55000000.0,11000000.0,13000000.0,4900000.0,null,7600000.0,3000000.0,37000000.0,9300000.0,23000000.0,null,null,9200000.0,4800000.0,null,16000000.0,40000000.0,13000000.0,4900000.0,31000000.0,null,null,14000000.0,3000000.0,9900000.0,null,3700000.0,1700000.0,11000000.0,63000000.0,2100000.0,1400000.0,null,36000000.0,32000000.0,null,59000000.0,37000000.0,null,7900000.0,25000000.0,null,19000000.0,39000000.0,null,2300000.0,8100000.0,51000000.0,null,3400000.0,8800000.0,28000000.0,null,11000000.0,6100000.0,14000000.0,94000000.0,11000000.0,null,14000000.0,1600000.0,15000000.0,2700000.0,5700000.0,47000000.0,1600000.0,null,25000000.0,1300000.0,1500000.0,33000000.0,3900000.0,87000000.0,14000000.0,10000000.0,5900000.0,58000000.0,1900000.0,48000000.0,57000000.0,null,4500000.0,8900000.0,26000000.0,15000000.0,1500000.0,2200000.0,42000000.0,5600000.0,8500000.0,8900000.0,13000000.0,13000000.0,null,5400000.0,27000000.0,3000000.0,19000000.0,8300000.000000001,57000000.0,1200000.0,2800000.0,19000000.0,7200000.0,null,52000000.0,null,65000000.0,37000000.0,2900000.0,34000000.0,null,6500000.0,3900000.0,null,3900000.0,57000000.0,2800000.0,23000000.0,null,55000000.0,75000000.0,40000000.0,50000000.0,null,25000000.0,25000000.0,null,6600000.0,36000000.0,75000000.0,8800000.0,43000000.0,null,9900000.0,96000000.0,null,9000000.0,23000000.0,2600000.0,23000000.0,35000000.0,7200000.0,49000000.0,4700000.0,null,43000000.0,97000000.0,null,3100000.0,6700000.0,13000000.0,7100000.0,9100000.0,98000000.0,30000000.0,8900000.0,13000000.0,2400000.0,44000000.0,7300000.0,33000000.0,3400000.0,3800000.0,3600000.0,null,40000000.0,14000000.0,null,null,null,34000000.0,40000000.0,null,11000000.0,63000000.0,14000000.0,61000000.0,63000000.0,8900000.0,10000000.0,44000000.0,10000000.0,59000000.0,7400000.0,23000000.0,50000000.0,44000000.0,null,15000000.0,40000000.0,62000000.0,2100000.0,31000000.0,19000000.0,26000000.0,3600000.0,13000000.0,4500000.0,35000000.0,71000000.0,15000000.0,23000000.0,3500000.0,60000000.0,40000000.0,null,78000000.0,20000000.0,null,49000000.0,40000000.0,48000000.0,87000000.0,20000000.0,50000000.0,null,2900000.0,67000000.0,2400000.0,61000000.0,6800000.0,2600000.0,13000000.0,29000000.0,84000000.0,5400000.0,2800000.0,2900000.0,6900000.0,46000000.0,27000000.0,null,null,37000000.0,82000000.0,44000000.0,7300000.0,37000000.0,53000000.0,44000000.0,null,24000000.0,34000000.0,null,9100000.0,38000000.0,15000000.0,26000000.0,63000000.0,null,null,4200000.0,7300000.0,49000000.0,9700000.0,1400000.0,4900000.0,6200000.0,6000000.0,null,1200000.0,16000000.0,59000000.0,7700000.0,30000000.0,6400000.0,64000000.0,46000000.0,76000000.0,54000000.0,8400000.0,22000000.0,23000000.0,8199999.999999999,3800000.0,54000000.0,9100000.0,40000000.0,28000000.0,11000000.0,34000000.0,58000000.0,21000000.0,45000000.0,22000000.0,28000000.0,17000000.0,31000000.0,59000000.0,91000000.0,null,20000000.0,69000000.0,71000000.0,13000000.0,33000000.0,3300000.0,6400000.0,20000000.0,7600000.0,62000000.0,32000000.0,49000000.0,null,34000000.0,49000000.0,null,null,24000000.0,72000000.0,8700000.0,null,40000000.0,6800000.0,47000000.0,3600000.0,2900000.0,26000000.0,1300000.0,45000000.0,null,4600000.0,null,8600000.0,null,10000000.0,5100000.0,6100000.0,28000000.0,5200000.0,22000000.0,null,34000000.0,51000000.0,39000000.0,2100000.0,12000000.0,11000000.0,7500000.0,24000000.0,19000000.0,1900000.0,5200000.0,2300000.0,4500000.0,1700000.0,1800000.0,6300000.0,null,5500000.0,6200000.0,28000000.0,4300000.0,5700000.0,4900000.0,3600000.0,2000000.0,16000000.0,7400000.0,4300000.0,7300000.0,60000000.0,3700000.0,24000000.0,10000000.0,7500000.0,13000000.0,3600000.0,2000000.0,14000000.0,2300000.0,16000000.0,20000000.0,21000000.0,2100000.0,26000000.0,14000000.0,18000000.0,60000000.0,null,7100000.0,null,60000000.0,40000000.0,55000000.0,null,20000000.0,19000000.0,null,17000000.0,3600000.0,4500000.0,3600000.0,33000000.0,43000000.0,21000000.0,2300000.0,14000000.0,19000000.0,95000000.0,29000000.0,2700000.0,null,null,16000000.0,3900000.0,3100000.0,12000000.0,39000000.0,26000000.0,19000000.0,67000000.0,12000000.0,2800000.0,6200000.0,2900000.0,5900000.0,60000000.0,4900000.0,62000000.0,96000000.0,9200000.0,2800000.0,3900000.0,2200000.0,null,37000000.0,3700000.0,7700000.0,2900000.0,29000000.0,34000000.0,3600000.0,5700000.0,64000000.0,3400000.0,null,6700000.0,23000000.0,8900000.0,57000000.0,12000000.0,13000000.0,93000000.0,83000000.0,41000000.0,28000000.0,2700000.0,4400000.0,3400000.0,17000000.0,2200000.0,null,7100000.0,20000000.0,null,null,31000000.0,45000000.0,33000000.0,14000000.0,37000000.0,24000000.0,6500000.0,40000000.0,93000000.0,null,3700000.0,57000000.0,2700000.0,null,68000000.0,25000000.0,null,null,2400000.0,null,null,96000000.0,null,2200000.0,33000000.0,null,19000000.0,null,21000000.0,null,26000000.0,29000000.0,null,3700000.0,25000000.0,28000000.0,2100000.0,null,15000000.0,7900000.0,46000000.0,8900000.0,13000000.0,20000000.0,null,2300000.0,4900000.0,23000000.0,35000000.0,18000000.0,45000000.0,5600000.0,4500000.0,5800000.0,24000000.0,21000000.0,31000000.0,74000000.0,21000000.0,7300000.0,3300000.0,null,11000000.0,53000000.0,37000000.0,37000000.0,2000000.0,26000000.0,42000000.0,7800000.0,3500000.0,14000000.0,5100000.0,1900000.0,38000000.0,3000000.0,2200000.0,3500000.0,4000000.0,27000000.0,13000000.0,21000000.0,3500000.0,22000000.0,7200000.0,4800000.0,13000000.0,7500000.0,5400000.0,30000000.0,null,null,null,16000000.0,3800000.0,17000000.0,26000000.0,28000000.0,null,38000000.0,17000000.0,20000000.0,6900000.0,null,59000000.0,67000000.0,61000000.0,null,null,1600000.0,null,3700000.0,4900000.0,null,30000000.0,40000000.0,10000000.0,100000000.0,42000000.0,95000000.0,28000000.0,4200000.0,3600000.0,null,17000000.0,4600000.0,7900000.0,null,4300000.0,3600000.0,5900000.0,35000000.0,1800000.0,9500000.0,19000000.0,25000000.0,37000000.0,3600000.0,17000000.0,null,2900000.0,3400000.0,null,2900000.0,null,null,3500000.0,37000000.0,1500000.0,null,47000000.0,null,11000000.0,9100000.0,32000000.0,16000000.0,2500000.0,6700000.0,1900000.0,null,27000000.0,null,7600000.0,8199999.999999999,33000000.0,3100000.0,27000000.0,null,1500000.0,null,4500000.0,null,43000000.0,21000000.0,null,null,4400000.0,16000000.0,13000000.0,34000000.0,8300000.000000001,2500000.0,3500000.0,6400000.0,4300000.0,6300000.0,8600000.0,1900000.0,null,49000000.0,3700000.0,3500000.0,53000000.0,8000000.0,null,27000000.0,24000000.0,11000000.0,3200000.0,3700000.0,1200000.0,8400000.0,31000000.0,9600000.0,45000000.0,56000000.0,26000000.0,17000000.0,6900000.0,null,99000000.0,47000000.0,36000000.0,21000000.0,3000000.0,8500000.0,2000000.0,15000000.0,50000000.0,17000000.0,null,1900000.0,70000000.0,null,41000000.0,99000000.0,96000000.0,16000000.0,84000000.0,5000000.0,5000000.0,null,null,99000000.0,99000000.0,26000000.0,null,null,null,null,37000000.0,null,9000000.0,88000000.0,87000000.0,78000000.0,67000000.0,59000000.0,null,1400000.0,59000000.0,47000000.0,76000000.0,62000000.0,80000000.0,3800000.0,56000000.0,72000000.0,25000000.0,79000000.0,98000000.0,68000000.0,91000000.0,44000000.0,96000000.0,61000000.0,null,19000000.0,8800000.0,96000000.0,7700000.0,null,10000000.0,2200000.0,16000000.0,5700000.0,29000000.0,24000000.0,4300000.0,48000000.0,2300000.0,13000000.0,7600000.0,99000000.0,22000000.0,12000000.0,88000000.0,91000000.0,99000000.0,10000000.0,null,57000000.0,18000000.0,33000000.0,8199999.999999999,null,46000000.0,63000000.0,null,null,null,48000000.0,null,48000000.0,18000000.0,8300000.000000001,54000000.0,null,30000000.0,8300000.000000001,23000000.0,11000000.0,8400000.0,82000000.0,5000000.0,17000000.0,37000000.0,45000000.0,40000000.0,7000000.0,3800000.0,22000000.0,15000000.0,8500000.0,null,5200000.0,null,13000000.0,92000000.0,2000000.0,5000000.0,1800000.0,1700000.0,24000000.0,23000000.0,5100000.0,7900000.0,7800000.0,4200000.0,18000000.0,3300000.0,7700000.0,3100000.0,27000000.0,null,26000000.0,3000000.0,28000000.0,11000000.0,6100000.0,26000000.0,5000000.0,2100000.0,6100000.0,2200000.0,14000000.0,2300000.0,28000000.0,3000000.0,9700000.0,3400000.0,3900000.0,9400000.0,26000000.0,27000000.0,4400000.0,26000000.0,3200000.0,7000000.0,null,1400000.0,1700000.0,null,null,1500000.0,39000000.0,6100000.0,4300000.0,null,8300000.000000001,null,2100000.0,26000000.0,null,3200000.0,4099999.9999999995,20000000.0,3600000.0,44000000.0,26000000.0,17000000.0,1100000.0,2900000.0,24000000.0,14000000.0,6900000.0,12000000.0,null,9400000.0,1700000.0,null,null,35000000.0,3800000.0,null,null,20000000.0,1100000.0,4099999.9999999995,13000000.0,null,8300000.000000001,9000000.0,9000000.0,null,3300000.0,null,28000000.0,19000000.0,59000000.0,1900000.0,12000000.0,1800000.0,30000000.0,null,null,null,18000000.0,null,29000000.0,26000000.0,12000000.0,12000000.0,17000000.0,18000000.0,26000000.0,null,17000000.0,12000000.0,null,7500000.0,null,66000000.0,30000000.0,35000000.0,26000000.0,15000000.0,27000000.0,39000000.0,9100000.0,13000000.0,35000000.0,5100000.0,6700000.0,37000000.0,3900000.0,4000000.0,7600000.0,null,6600000.0,32000000.0,2900000.0,null,1200000.0,15000000.0,18000000.0,15000000.0,19000000.0,4099999.9999999995,5600000.0,3500000.0,6400000.0,3000000.0,null,11000000.0,4900000.0,null,6100000.0,null,53000000.0,1300000.0,4700000.0,3100000.0,11000000.0,null,null,3700000.0,null,19000000.0,2000000.0,4099999.9999999995,3400000.0,13000000.0,46000000.0,3900000.0,11000000.0,null,3500000.0,null,11000000.0,null,17000000.0,17000000.0,11000000.0,null,64000000.0,10000000.0,35000000.0,12000000.0,2400000.0,3700000.0,6300000.0,22000000.0,10000000.0,3700000.0,4600000.0,44000000.0,18000000.0,9700000.0,2700000.0,51000000.0,47000000.0,56000000.0,null,24000000.0,null,52000000.0,4900000.0,1700000.0,16000000.0,6500000.0,27000000.0,36000000.0,5200000.0,43000000.0,8600000.0,2000000.0,14000000.0,15000000.0,12000000.0,45000000.0,3200000.0,null,62000000.0,15000000.0,13000000.0,18000000.0,1700000.0,15000000.0,2900000.0,5900000.0,4200000.0,74000000.0,1700000.0,47000000.0,6900000.0,8700000.0,null,28000000.0,29000000.0,59000000.0,null,29000000.0,29000000.0,null,59000000.0,27000000.0,29000000.0,29000000.0,14000000.0,10000000.0,null,28000000.0,9800000.0,28000000.0,null,5400000.0,28000000.0,29000000.0,29000000.0,29000000.0,3000000.0,27000000.0,29000000.0,86000000.0,22000000.0,29000000.0,29000000.0,29000000.0,16000000.0,27000000.0,29000000.0,5700000.0,5700000.0,29000000.0,2000000.0,29000000.0,20000000.0,28000000.0,27000000.0,29000000.0,9100000.0,29000000.0,29000000.0,35000000.0,5900000.0,1200000.0,39000000.0,27000000.0,3200000.0,4200000.0,31000000.0,3900000.0,25000000.0,null,69000000.0,4300000.0,9800000.0,13000000.0,16000000.0,4200000.0,99000000.0,2300000.0,3600000.0,26000000.0,3200000.0,2800000.0,8300000.000000001,null,3800000.0,3400000.0,3500000.0,1900000.0,3300000.0,null,null,7100000.0,7900000.0,1400000.0,1800000.0,7500000.0,4300000.0,2800000.0,7900000.0,3700000.0,48000000.0,14000000.0,5700000.0,null,58000000.0,42000000.0,35000000.0,43000000.0,63000000.0,60000000.0,null,2800000.0,3200000.0,4200000.0,32000000.0,22000000.0,7300000.0,5300000.0,50000000.0,7500000.0,26000000.0,17000000.0,4200000.0,31000000.0,7600000.0,1700000.0,null,63000000.0,7700000.0,null,6600000.0,14000000.0,22000000.0,3600000.0,8400000.0,25000000.0,null,4300000.0,35000000.0,3600000.0,24000000.0,35000000.0,91000000.0,27000000.0,31000000.0,2700000.0,32000000.0,27000000.0,67000000.0,8199999.999999999,30000000.0,3900000.0,1100000.0,48000000.0,14000000.0,18000000.0,2900000.0,4400000.0,89000000.0,13000000.0,3800000.0,15000000.0,15000000.0,25000000.0,34000000.0,6800000.0,24000000.0,3400000.0,24000000.0,5800000.0,4900000.0,16000000.0,46000000.0,33000000.0,43000000.0,56000000.0,2800000.0,11000000.0,26000000.0,11000000.0,8800000.0,6200000.0,7600000.0,4900000.0,5100000.0,4200000.0,7000000.0,38000000.0,8700000.0,2100000.0,12000000.0,58000000.0,18000000.0,20000000.0,8000000.0,3000000.0,12000000.0,8000000.0,28000000.0,29000000.0,4700000.0,40000000.0,14000000.0,null,16000000.0,9700000.0,49000000.0,3700000.0,null,27000000.0,3600000.0,5300000.0,2400000.0,8500000.0,6700000.0,null,9000000.0,null,null,27000000.0,67000000.0,22000000.0,11000000.0,68000000.0,40000000.0,15000000.0,null,23000000.0,4200000.0,2900000.0,null,85000000.0,1800000.0,1100000.0,22000000.0,8700000.0,2600000.0,4700000.0,2900000.0,22000000.0,null,1800000.0,2000000.0,2700000.0,56000000.0,2700000.0,2900000.0,4900000.0,20000000.0,12000000.0,3800000.0,4200000.0,1400000.0,21000000.0,41000000.0,null,57000000.0,15000000.0,5100000.0,31000000.0,28000000.0,39000000.0,null,34000000.0,null,31000000.0,76000000.0,40000000.0,46000000.0,8700000.0,80000000.0,24000000.0,21000000.0,null,9700000.0,12000000.0,null,null,57000000.0,81000000.0,null,6700000.0,3800000.0,5900000.0,46000000.0,3300000.0,48000000.0,33000000.0,42000000.0,99000000.0,4500000.0,28000000.0,8100000.0,21000000.0,56000000.0,null,25000000.0,26000000.0,99000000.0,25000000.0,99000000.0,43000000.0,17000000.0,80000000.0,44000000.0,null,null,12000000.0,100000000.0,69000000.0,90000000.0,88000000.0,64000000.0,39000000.0,54000000.0,56000000.0,14000000.0,null,75000000.0,13000000.0,8100000.0,null,20000000.0,57000000.0,31000000.0,39000000.0,29000000.0,3600000.0,3800000.0,4600000.0,null,2100000.0,null,13000000.0,2800000.0,9900000.0,2500000.0,5400000.0,14000000.0,1300000.0,2500000.0,null,2300000.0,1600000.0,25000000.0,5400000.0,1500000.0,5300000.0,2000000.0,5400000.0,41000000.0,5400000.0,2400000.0,5400000.0,9000000.0,25000000.0,1200000.0,45000000.0,5300000.0,3200000.0,73000000.0,11000000.0,5400000.0,null,5600000.0,17000000.0,9500000.0,7400000.0,5400000.0,2600000.0,96000000.0,73000000.0,5400000.0,35000000.0,48000000.0,null,null,37000000.0,17000000.0,35000000.0,2300000.0,16000000.0,26000000.0,2900000.0,null,12000000.0,null,52000000.0,null,3200000.0,49000000.0,28000000.0,12000000.0,null,17000000.0,37000000.0,2000000.0,null,82000000.0,null,null,37000000.0,48000000.0,54000000.0,46000000.0,51000000.0,48000000.0,55000000.0,null,25000000.0,33000000.0,100000000.0,70000000.0,null,9200000.0,43000000.0,91000000.0,29000000.0,44000000.0,30000000.0,99000000.0,90000000.0,72000000.0,47000000.0,23000000.0,null,26000000.0,5000000.0,null,20000000.0,30000000.0,37000000.0,28000000.0,85000000.0,null,22000000.0,82000000.0,65000000.0,43000000.0,80000000.0,21000000.0,null,90000000.0,67000000.0,null,32000000.0,2700000.0,36000000.0,35000000.0,41000000.0,null,71000000.0,70000000.0,22000000.0,14000000.0,6000000.0,null,53000000.0,null,1300000.0,1600000.0,null,56000000.0,3400000.0,3100000.0,20000000.0,6200000.0,null,null,95000000.0,9400000.0,null,null,2500000.0,null,93000000.0,70000000.0,1700000.0,37000000.0,70000000.0,null,null,null,null,3300000.0,16000000.0,null,19000000.0,22000000.0,null,68000000.0,null,null,null,34000000.0,46000000.0,92000000.0,45000000.0,50000000.0,9500000.0,null,36000000.0,78000000.0,null,22000000.0,48000000.0,1500000.0,40000000.0,6500000.0,51000000.0,12000000.0,50000000.0,40000000.0,54000000.0,45000000.0,63000000.0,4000000.0,69000000.0,39000000.0,55000000.0,46000000.0,99000000.0,91000000.0,21000000.0,46000000.0,45000000.0,24000000.0,52000000.0,50000000.0,63000000.0,5800000.0,null,23000000.0,23000000.0,26000000.0,8800000.0,27000000.0,2100000.0,12000000.0,5000000.0,23000000.0,8199999.999999999,14000000.0,8500000.0,null,47000000.0,12000000.0,17000000.0,3900000.0,10000000.0,4099999.9999999995,15000000.0,3300000.0,6700000.0,11000000.0,4099999.9999999995,3700000.0,4300000.0,31000000.0,25000000.0,2000000.0,5800000.0,3700000.0,1700000.0,12000000.0,14000000.0,78000000.0,6400000.0,10000000.0,44000000.0,1500000.0,85000000.0,9800000.0,5700000.0,3700000.0,null,null,46000000.0,30000000.0,47000000.0,23000000.0,null,91000000.0,44000000.0,null,4800000.0,9500000.0,19000000.0,7300000.0,1800000.0,5700000.0,7300000.0,4000000.0,3700000.0,26000000.0,5600000.0,7300000.0,49000000.0,8700000.0,49000000.0,20000000.0,7300000.0,null,6300000.0,3400000.0,22000000.0,25000000.0,6300000.0,82000000.0,8700000.0,10000000.0,24000000.0,null,43000000.0,null,3700000.0,13000000.0,null,3900000.0,13000000.0,3000000.0,3000000.0,null,46000000.0,3000000.0,17000000.0,63000000.0,17000000.0,2900000.0,2900000.0,26000000.0,2700000.0,null,null,24000000.0,4700000.0,2700000.0,1700000.0,3000000.0,3000000.0,null,31000000.0,36000000.0,4300000.0,63000000.0,8600000.0,57000000.0,null,13000000.0,5600000.0,null,1000000.0,null,null,23000000.0,1600000.0,24000000.0,5900000.0,null,null,44000000.0,30000000.0,76000000.0,null,10000000.0,44000000.0,19000000.0,3000000.0,15000000.0,15000000.0,43000000.0,2600000.0,null,24000000.0,31000000.0,25000000.0,2300000.0,33000000.0,9000000.0,7400000.0,19000000.0,2300000.0,42000000.0,null,3300000.0,9100000.0,2800000.0,13000000.0,30000000.0,3000000.0,2200000.0,14000000.0,null,37000000.0,52000000.0,4400000.0,null,28000000.0,32000000.0,3400000.0,23000000.0,61000000.0,15000000.0,64000000.0,null,12000000.0,4400000.0,3600000.0,2900000.0,10000000.0,7200000.0,3800000.0,null,3900000.0,2900000.0,42000000.0,1100000.0,9700000.0,1700000.0,13000000.0,55000000.0,6500000.0,1900000.0,5100000.0,36000000.0,11000000.0,14000000.0,null,17000000.0,null,4300000.0,4000000.0,4000000.0,3000000.0,1200000.0,29000000.0,null,3400000.0,5100000.0,2700000.0,97000000.0,19000000.0,100000000.0,null,73000000.0,100000000.0,18000000.0,18000000.0,44000000.0,null,5200000.0,8900000.0,34000000.0,30000000.0,1600000.0,4400000.0,3700000.0,11000000.0,4700000.0,33000000.0,13000000.0,14000000.0,3700000.0,7300000.0,null,37000000.0,13000000.0,13000000.0,8400000.0,45000000.0,7900000.0,4200000.0,11000000.0,6200000.0,3700000.0,6000000.0,8800000.0,22000000.0,30000000.0,11000000.0,4099999.9999999995,3400000.0,13000000.0,39000000.0,5100000.0,4700000.0,5500000.0,5300000.0,2800000.0,9000000.0,51000000.0,null,null,26000000.0,9400000.0,2400000.0,5800000.0,20000000.0,17000000.0,35000000.0,17000000.0,2900000.0,42000000.0,5100000.0,16000000.0,4700000.0,35000000.0,12000000.0,26000000.0,17000000.0,60000000.0,25000000.0,38000000.0,2000000.0,2500000.0,9200000.0,null,15000000.0,12000000.0,4400000.0,14000000.0,6700000.0,3700000.0,4000000.0,2200000.0,33000000.0,null,5700000.0,87000000.0,30000000.0,68000000.0,5900000.0,null,19000000.0,40000000.0,49000000.0,52000000.0,63000000.0,6000000.0,17000000.0,4200000.0,32000000.0,null,null,4300000.0,7200000.0,5000000.0,1200000.0,31000000.0,17000000.0,46000000.0,20000000.0,8300000.000000001,5000000.0,22000000.0,3100000.0,2200000.0,2000000.0,12000000.0,5500000.0,14000000.0,null,15000000.0,81000000.0,62000000.0,8900000.0,null,3000000.0,11000000.0,3400000.0,12000000.0,29000000.0,null,2600000.0,1700000.0,5400000.0,null,30000000.0,31000000.0,14000000.0,37000000.0,4000000.0,null,6900000.0,14000000.0,null,13000000.0,18000000.0,13000000.0,38000000.0,3800000.0,3200000.0,3200000.0,null,1700000.0,4000000.0,6500000.0,14000000.0,2800000.0,33000000.0,3300000.0,3900000.0,15000000.0,9500000.0,7300000.0,2400000.0,3000000.0,3500000.0,2400000.0,13000000.0,null,5300000.0,6900000.0,2300000.0,15000000.0,7200000.0,13000000.0,7300000.0,3300000.0,7300000.0,7300000.0,2600000.0,null,4500000.0,21000000.0,5300000.0,2300000.0,22000000.0,40000000.0,null,21000000.0,21000000.0,53000000.0,1200000.0,53000000.0,11000000.0,27000000.0,6800000.0,7400000.0,3500000.0,1700000.0,4000000.0,8800000.0,38000000.0,1700000.0,null,null,6100000.0,27000000.0,38000000.0,2800000.0,6500000.0,3600000.0,53000000.0,3900000.0,null,12000000.0,89000000.0,46000000.0,54000000.0,9200000.0,24000000.0,41000000.0,null,25000000.0,62000000.0,27000000.0,37000000.0,3700000.0,4600000.0,9900000.0,9000000.0,29000000.0,2500000.0,6300000.0,58000000.0,4099999.9999999995,9600000.0,3800000.0,13000000.0,51000000.0,2700000.0,82000000.0,5000000.0,83000000.0,2500000.0,2500000.0,6600000.0,2500000.0,3700000.0,4600000.0,80000000.0,11000000.0,2600000.0,2500000.0,24000000.0,12000000.0,10000000.0,null,null,26000000.0,2800000.0,8100000.0,3200000.0,3300000.0,1600000.0,5600000.0,4500000.0,11000000.0,2800000.0,2800000.0,2800000.0,17000000.0,2900000.0,19000000.0,4099999.9999999995,8400000.0,5000000.0,3900000.0,2800000.0,2600000.0,6100000.0,2600000.0,8900000.0,9100000.0,2900000.0,2000000.0,2800000.0,2800000.0,9400000.0,7800000.0,8600000.0,null,10000000.0,null,5100000.0,7800000.0,5900000.0,1700000.0,null,2300000.0,2500000.0,2800000.0,4099999.9999999995,6200000.0,20000000.0,4800000.0,null,24000000.0,2400000.0,13000000.0,null,1800000.0,9800000.0,29000000.0,11000000.0,6400000.0,87000000.0,7800000.0,86000000.0,2100000.0,4000000.0,1900000.0,2400000.0,2900000.0,21000000.0,8700000.0,1700000.0,5100000.0,11000000.0,1300000.0,9200000.0,35000000.0,9200000.0,4900000.0,15000000.0,15000000.0,19000000.0,2200000.0,2100000.0,8000000.0,null,3500000.0,16000000.0,63000000.0,null,10000000.0,7500000.0,21000000.0,1800000.0,11000000.0,18000000.0,null,null,3200000.0,null,33000000.0,8400000.0,31000000.0,22000000.0,3600000.0,15000000.0,18000000.0,10000000.0,2500000.0,16000000.0,15000000.0,4300000.0,4600000.0,18000000.0,8700000.0,22000000.0,1100000.0,4800000.0,2600000.0,5200000.0,6000000.0,43000000.0,null,20000000.0,28000000.0,20000000.0,16000000.0,null,8700000.0,6000000.0,1800000.0,3700000.0,3200000.0,16000000.0,7400000.0,3300000.0,3500000.0,14000000.0,8900000.0,32000000.0,14000000.0,3800000.0,4700000.0,9900000.0,17000000.0,9100000.0,10000000.0,27000000.0,25000000.0,33000000.0,30000000.0,null,28000000.0,7300000.0,23000000.0,null,null,2700000.0,7700000.0,null,21000000.0,3500000.0,3300000.0,31000000.0,12000000.0,8100000.0,14000000.0,11000000.0,null,18000000.0,null,null,null,2900000.0,null,76000000.0,18000000.0,54000000.0,30000000.0,null,null,2100000.0,48000000.0,92000000.0,15000000.0,30000000.0,null,2600000.0,17000000.0,35000000.0,11000000.0,65000000.0,25000000.0,4800000.0,4800000.0,17000000.0,24000000.0,26000000.0,4800000.0,null,15000000.0,4900000.0,8800000.0,36000000.0,8700000.0,23000000.0,5100000.0,23000000.0,26000000.0,53000000.0,3200000.0,23000000.0,1800000.0,5400000.0,8000000.0,5400000.0,59000000.0,21000000.0,5100000.0,null,55000000.0,3400000.0,33000000.0,4700000.0,1500000.0,null,30000000.0,26000000.0,54000000.0,10000000.0,3600000.0,5200000.0,25000000.0,null,51000000.0,5100000.0,4600000.0,39000000.0,13000000.0,31000000.0,19000000.0,3100000.0,17000000.0,null,2400000.0,3200000.0,2100000.0,30000000.0,14000000.0,12000000.0,3000000.0,4800000.0,2800000.0,4000000.0,11000000.0,null,1800000.0,3100000.0,20000000.0,33000000.0,17000000.0,28000000.0,null,3100000.0,3200000.0,6800000.0,99000000.0,17000000.0,12000000.0,25000000.0,13000000.0,2100000.0,5900000.0,3700000.0,4500000.0,4099999.9999999995,11000000.0,3900000.0,3000000.0,1400000.0,11000000.0,12000000.0,30000000.0,25000000.0,52000000.0,6300000.0,4700000.0,25000000.0,62000000.0,6400000.0,15000000.0,70000000.0,12000000.0,7100000.0,47000000.0,23000000.0,10000000.0,40000000.0,53000000.0,8199999.999999999,8500000.0,33000000.0,34000000.0,23000000.0,2500000.0,1800000.0,null,1400000.0,24000000.0,2000000.0,null,1200000.0,11000000.0,7000000.0,2100000.0,16000000.0,10000000.0,28000000.0,5500000.0,41000000.0,2700000.0,93000000.0,40000000.0,3400000.0,9000000.0,4300000.0,2900000.0,6900000.0,1000000.0,1100000.0,39000000.0,null,null,31000000.0,14000000.0,29000000.0,4200000.0,5300000.0,1700000.0,6300000.0,27000000.0,3100000.0,null,2500000.0,5000000.0,6300000.0,7800000.0,4800000.0,null,9200000.0,34000000.0,47000000.0,8100000.0,2500000.0,36000000.0,10000000.0,6200000.0,10000000.0,4400000.0,18000000.0,16000000.0,null,9900000.0,22000000.0,1900000.0,26000000.0,9300000.0,null,null,28000000.0,10000000.0,11000000.0,2300000.0,4400000.0,8000000.0,10000000.0,3700000.0,21000000.0,4600000.0,null,45000000.0,4200000.0,7600000.0,8600000.0,15000000.0,null,17000000.0,null,13000000.0,null,2000000.0,null,null,2400000.0,null,5600000.0,null,null,34000000.0,null,10000000.0,6200000.0,null,3800000.0,null,null,null,null,null,null,13000000.0,2500000.0,8900000.0,null,null,null,5900000.0,null,null,null,6300000.0,null,null,null,2000000.0,2300000.0,34000000.0,7500000.0,null,60000000.0,60000000.0,7900000.0,24000000.0,95000000.0,59000000.0,23000000.0,12000000.0,11000000.0,14000000.0,2200000.0,30000000.0,8500000.0,19000000.0,17000000.0,32000000.0,33000000.0,4200000.0,33000000.0,96000000.0,4700000.0,26000000.0,23000000.0,30000000.0,6400000.0,28000000.0,49000000.0,16000000.0,51000000.0,2600000.0,25000000.0,null,27000000.0,23000000.0,31000000.0,25000000.0,16000000.0,5000000.0,2600000.0,45000000.0,23000000.0,8300000.000000001,7900000.0,4600000.0,16000000.0,5900000.0,null,2200000.0,null,null,1500000.0,12000000.0,26000000.0,13000000.0,null,3300000.0,2900000.0,10000000.0,3200000.0,2500000.0,1800000.0,2700000.0,7000000.0,12000000.0,null,9600000.0,18000000.0,1900000.0,29000000.0,9400000.0,6700000.0,1600000.0,2000000.0,null,2500000.0,7200000.0,6300000.0,4000000.0,1200000.0,null,5600000.0,3500000.0,9200000.0,1200000.0,null,18000000.0,36000000.0,1200000.0,8800000.0,4099999.9999999995,2500000.0,2700000.0,33000000.0,28000000.0,6700000.0,21000000.0,3500000.0,6000000.0,null,22000000.0,null,27000000.0,3400000.0,null,16000000.0,12000000.0,10000000.0,null,9000000.0,36000000.0,12000000.0,3600000.0,30000000.0,19000000.0,13000000.0,33000000.0,14000000.0,null,24000000.0,null,6600000.0,44000000.0,89000000.0,3500000.0,32000000.0,50000000.0,15000000.0,3100000.0,30000000.0,34000000.0,13000000.0,2600000.0,2500000.0,null,7500000.0,null,26000000.0,5200000.0,5400000.0,9100000.0,26000000.0,28000000.0,3800000.0,null,92000000.0,null,19000000.0,93000000.0,13000000.0,1800000.0,10000000.0,3500000.0,7500000.0,68000000.0,null,2100000.0,9200000.0,3000000.0,72000000.0,35000000.0,null,31000000.0,4099999.9999999995,null,13000000.0,60000000.0,85000000.0,1300000.0,null,6900000.0,5500000.0,58000000.0,94000000.0,null,null,null,6400000.0,3300000.0,null,24000000.0,36000000.0,null,3500000.0,null,41000000.0,1500000.0,36000000.0,null,5300000.0,19000000.0,2500000.0,93000000.0,2800000.0,5600000.0,72000000.0,21000000.0,null,22000000.0,67000000.0,null,1100000.0,6900000.0,null,15000000.0,1100000.0,6200000.0,1400000.0,52000000.0,8700000.0,null,3800000.0,3800000.0,3800000.0,8199999.999999999,null,5700000.0,1600000.0,16000000.0,2600000.0,6600000.0,null,2700000.0,null,null,14000000.0,12000000.0,46000000.0,13000000.0,1900000.0,1200000.0,4300000.0,13000000.0,8400000.0,7300000.0,null,3200000.0,6500000.0,2700000.0,1400000.0,17000000.0,3100000.0,2400000.0,1600000.0,null,null,26000000.0,19000000.0,2900000.0,4500000.0,null,42000000.0,7900000.0,null,null,null,7300000.0,null,89000000.0,5200000.0,15000000.0,19000000.0,7600000.0,5600000.0,18000000.0,24000000.0,10000000.0,11000000.0,29000000.0,4300000.0,10000000.0,88000000.0,5300000.0,5400000.0,3100000.0,6000000.0,26000000.0,6500000.0,19000000.0,33000000.0,40000000.0,9200000.0,28000000.0,21000000.0,20000000.0,4000000.0,26000000.0,null,26000000.0,33000000.0,25000000.0,44000000.0,null,19000000.0,27000000.0,1500000.0,null,13000000.0,4800000.0,1600000.0,4900000.0,3500000.0,8700000.0,7700000.0,19000000.0,3400000.0,2900000.0,2400000.0,2700000.0,5000000.0,5900000.0,2800000.0,3400000.0,12000000.0,20000000.0,4200000.0,10000000.0,26000000.0,4000000.0,3600000.0,98000000.0,5700000.0,3600000.0,96000000.0,2200000.0,10000000.0,4800000.0,2000000.0,62000000.0,null,9800000.0,34000000.0,53000000.0,7300000.0,null,2800000.0,24000000.0,73000000.0,53000000.0,27000000.0,4400000.0,17000000.0,1300000.0,19000000.0,8800000.0,1300000.0,1800000.0,4800000.0,1800000.0,null,12000000.0,20000000.0,5100000.0,7200000.0,24000000.0,7400000.0,53000000.0,1300000.0,8800000.0,1700000.0,14000000.0,13000000.0,17000000.0,24000000.0,17000000.0,26000000.0,null,1700000.0,32000000.0,12000000.0,23000000.0,5500000.0,9400000.0,18000000.0,1800000.0,null,1900000.0,2600000.0,13000000.0,16000000.0,null,8500000.0,23000000.0,8199999.999999999,3800000.0,2400000.0,1700000.0,10000000.0,2000000.0,null,4600000.0,31000000.0,8199999.999999999,null,21000000.0,6900000.0,21000000.0,11000000.0,34000000.0,4099999.9999999995,1900000.0,3500000.0,3000000.0,4000000.0,2200000.0,18000000.0,3700000.0,2400000.0,9300000.0,44000000.0,31000000.0,48000000.0,38000000.0,49000000.0,27000000.0,null,8800000.0,23000000.0,48000000.0,9700000.0,null,12000000.0,74000000.0,44000000.0,36000000.0,1400000.0,null,25000000.0,null,44000000.0,36000000.0,null,57000000.0,null,9800000.0,24000000.0,47000000.0,37000000.0,6900000.0,10000000.0,15000000.0,9400000.0,49000000.0,24000000.0,7300000.0,24000000.0,14000000.0,null,null,21000000.0,8800000.0,4000000.0,null,18000000.0,18000000.0,13000000.0,13000000.0,24000000.0,null,25000000.0,43000000.0,4600000.0,47000000.0,20000000.0,26000000.0,69000000.0,13000000.0,9200000.0,19000000.0,34000000.0,null,13000000.0,34000000.0,24000000.0,3800000.0,8300000.000000001,53000000.0,24000000.0,5400000.0,7700000.0,5600000.0,5400000.0,17000000.0,4400000.0,null,8199999.999999999,98000000.0,29000000.0,2400000.0,8500000.0,3200000.0,3800000.0,33000000.0,null,53000000.0,6200000.0,22000000.0,17000000.0,25000000.0,39000000.0,4600000.0,13000000.0,36000000.0,13000000.0,8500000.0,25000000.0,31000000.0,3700000.0,8500000.0,24000000.0,34000000.0,6900000.0,45000000.0,12000000.0,33000000.0,35000000.0,25000000.0,48000000.0,1000000.0,7200000.0,14000000.0,null,8900000.0,null,null,9400000.0,8300000.000000001,6900000.0,12000000.0,5500000.0,26000000.0,98000000.0,5200000.0,7700000.0,5300000.0,null,3700000.0,2900000.0,18000000.0,6000000.0,34000000.0,7000000.0,38000000.0,5400000.0,1200000.0,1200000.0,7900000.0,2300000.0,2300000.0,null,null,1400000.0,2500000.0,12000000.0,15000000.0,3100000.0,12000000.0,1500000.0,9000000.0,3700000.0,8700000.0,19000000.0,7400000.0,3300000.0,null,4900000.0,7800000.0,5000000.0,12000000.0,11000000.0,25000000.0,2600000.0,7200000.0,1800000.0,2600000.0,14000000.0,2200000.0,1900000.0,5600000.0,null,20000000.0,11000000.0,12000000.0,5600000.0,3800000.0,6400000.0,3700000.0,3400000.0,8400000.0,2900000.0,2900000.0,1800000.0,3100000.0,80000000.0,3300000.0,15000000.0,36000000.0,null,8300000.000000001,3100000.0,9500000.0,4800000.0,6700000.0,null,1500000.0,9200000.0,3400000.0,13000000.0,5800000.0,20000000.0,20000000.0,63000000.0,13000000.0,27000000.0,3800000.0,16000000.0,2300000.0,12000000.0,5600000.0,37000000.0,22000000.0,null,1700000.0,2600000.0,7900000.0,20000000.0,5700000.0,16000000.0,1700000.0,4200000.0,4600000.0,2700000.0,7200000.0,46000000.0,14000000.0,12000000.0,3700000.0,1600000.0,12000000.0,29000000.0,36000000.0,4000000.0,15000000.0,42000000.0,7800000.0,4600000.0,4300000.0,2800000.0,27000000.0,7300000.0,23000000.0,20000000.0,5400000.0,24000000.0,20000000.0,1400000.0,3600000.0,6300000.0,21000000.0,14000000.0,25000000.0,16000000.0,55000000.0,22000000.0,3000000.0,2600000.0,24000000.0,null,4000000.0,5100000.0,22000000.0,21000000.0,18000000.0,62000000.0,30000000.0,23000000.0,null,null,10000000.0,29000000.0,1900000.0,null,43000000.0,8300000.000000001,19000000.0,null,6200000.0,8300000.000000001,5500000.0,11000000.0,17000000.0,2400000.0,4600000.0,3000000.0,21000000.0,2700000.0,15000000.0,4700000.0,3000000.0,1400000.0,13000000.0,16000000.0,2000000.0,11000000.0,2900000.0,40000000.0,14000000.0,9700000.0,7800000.0,3200000.0,8000000.0,29000000.0,3100000.0,3500000.0,14000000.0,8700000.0,8800000.0,9700000.0,3100000.0,3200000.0,8500000.0,3500000.0,7800000.0,11000000.0,6300000.0,19000000.0,5000000.0,16000000.0,3500000.0,2300000.0,3300000.0,4099999.9999999995,4099999.9999999995,4099999.9999999995,7000000.0,2300000.0,4099999.9999999995,1100000.0,18000000.0,4099999.9999999995,1500000.0,2300000.0,3500000.0,3700000.0,null,4000000.0,1800000.0,4000000.0,3800000.0,10000000.0,1300000.0,6600000.0,4099999.9999999995,2500000.0,4099999.9999999995,null,2500000.0,2500000.0,4300000.0,7700000.0,6800000.0,3400000.0,1400000.0,3600000.0,2300000.0,14000000.0,99000000.0,4099999.9999999995,8700000.0,2500000.0,2900000.0,4300000.0,6100000.0,null,null,null,null,14000000.0,15000000.0,6300000.0,66000000.0,3400000.0,null,76000000.0,7700000.0,6500000.0,14000000.0,25000000.0,null,null,1400000.0,50000000.0,2500000.0,2200000.0,4600000.0,15000000.0,13000000.0,null,8100000.0,null,null,16000000.0,9600000.0,null,null,null,10000000.0,3100000.0,78000000.0,27000000.0,null,10000000.0,5800000.0,3200000.0,null,3700000.0,null,57000000.0,42000000.0,36000000.0,1200000.0,46000000.0,30000000.0,3200000.0,10000000.0,1800000.0,31000000.0,6600000.0,5100000.0,3200000.0,6000000.0,2500000.0,9900000.0,10000000.0,null,5200000.0,5100000.0,6400000.0,14000000.0,15000000.0,3300000.0,6900000.0,5100000.0,20000000.0,10000000.0,6600000.0,6100000.0,3200000.0,100000000.0,1400000.0,2100000.0,7200000.0,91000000.0,2800000.0,null,14000000.0,14000000.0,43000000.0,6900000.0,96000000.0,14000000.0,26000000.0,18000000.0,34000000.0,2800000.0,92000000.0,11000000.0,15000000.0,4000000.0,3800000.0,1300000.0,13000000.0,67000000.0,99000000.0,null,2200000.0,24000000.0,43000000.0,5900000.0,2400000.0,67000000.0,67000000.0,13000000.0,8199999.999999999,5200000.0,null,9200000.0,63000000.0,4200000.0,16000000.0,10000000.0,18000000.0,12000000.0,78000000.0,38000000.0,9500000.0,null,45000000.0,28000000.0,null,7700000.0,9500000.0,5200000.0,38000000.0,3700000.0,25000000.0,20000000.0,null,5300000.0,6300000.0,38000000.0,13000000.0,6400000.0,1900000.0,6400000.0,2000000.0,8600000.0,24000000.0,10000000.0,39000000.0,60000000.0,40000000.0,15000000.0,null,1500000.0,2300000.0,13000000.0,9400000.0,3700000.0,4200000.0,22000000.0,13000000.0,8100000.0,12000000.0,19000000.0,null,4900000.0,9700000.0,3600000.0,2500000.0,2500000.0,18000000.0,35000000.0,6300000.0,1300000.0,24000000.0,3400000.0,3400000.0,3400000.0,3400000.0,17000000.0,2200000.0,null,5000000.0,4600000.0,9000000.0,1300000.0,24000000.0,3200000.0,97000000.0,null,3200000.0,2400000.0,8400000.0,12000000.0,3400000.0,3400000.0,7300000.0,4200000.0,58000000.0,6800000.0,null,3200000.0,3300000.0,3700000.0,25000000.0,12000000.0,1300000.0,40000000.0,5200000.0,null,17000000.0,null,null,5100000.0,5800000.0,1200000.0,5800000.0,1800000.0,1900000.0,3600000.0,2500000.0,2100000.0,1100000.0,17000000.0,2100000.0,2800000.0,null,5500000.0,41000000.0,14000000.0,null,2700000.0,3200000.0,null,2200000.0,8199999.999999999,2800000.0,4000000.0,1800000.0,null,2300000.0,1300000.0,null,4099999.9999999995,11000000.0,4200000.0,8199999.999999999,null,2300000.0,5700000.0,null,2700000.0,1900000.0,19000000.0,2300000.0,null,49000000.0,28000000.0,41000000.0,25000000.0,25000000.0,38000000.0,28000000.0,55000000.0,58000000.0,27000000.0,25000000.0,31000000.0,94000000.0,25000000.0,21000000.0,45000000.0,45000000.0,24000000.0,83000000.0,88000000.0,51000000.0,63000000.0,21000000.0,7200000.0,51000000.0,98000000.0,27000000.0,9300000.0,87000000.0,55000000.0,null,26000000.0,null,62000000.0,22000000.0,40000000.0,5500000.0,18000000.0,74000000.0,16000000.0,64000000.0,16000000.0,25000000.0,12000000.0,18000000.0,77000000.0,85000000.0,85000000.0,26000000.0,2000000.0,3900000.0,11000000.0,18000000.0,8700000.0,3900000.0,4000000.0,null,53000000.0,4900000.0,52000000.0,23000000.0,13000000.0,30000000.0,18000000.0,4099999.9999999995,13000000.0,20000000.0,21000000.0,12000000.0,18000000.0,41000000.0,12000000.0,14000000.0,null,null,6000000.0,17000000.0,null,42000000.0,54000000.0,11000000.0,37000000.0,13000000.0,6500000.0,16000000.0,19000000.0,3300000.0,35000000.0,6300000.0,12000000.0,5000000.0,43000000.0,2900000.0,4099999.9999999995,8500000.0,7000000.0,19000000.0,16000000.0,14000000.0,null,5600000.0,36000000.0,3200000.0,7000000.0,2900000.0,35000000.0,21000000.0,5800000.0,4700000.0,20000000.0,3900000.0,12000000.0,7800000.0,24000000.0,12000000.0,null,4900000.0,3300000.0,5400000.0,2400000.0,27000000.0,22000000.0,1200000.0,2500000.0,14000000.0,6800000.0,1200000.0,null,4900000.0,5300000.0,6500000.0,69000000.0,14000000.0,3400000.0,50000000.0,8100000.0,1700000.0,18000000.0,18000000.0,36000000.0,8100000.0,5100000.0,1600000.0,61000000.0,4099999.9999999995,10000000.0,null,3400000.0,18000000.0,3500000.0,3400000.0,9100000.0,15000000.0,14000000.0,3800000.0,10000000.0,26000000.0,null,3300000.0,15000000.0,19000000.0,3700000.0,null,2100000.0,11000000.0,43000000.0,6900000.0,40000000.0,null,36000000.0,1500000.0,37000000.0,22000000.0,3300000.0,2600000.0,34000000.0,2900000.0,12000000.0,3700000.0,17000000.0,23000000.0,17000000.0,5000000.0,18000000.0,33000000.0,26000000.0,32000000.0,38000000.0,21000000.0,41000000.0,1700000.0,4300000.0,9900000.0,5900000.0,2700000.0,12000000.0,16000000.0,19000000.0,2800000.0,3600000.0,37000000.0,4300000.0,1700000.0,3100000.0,30000000.0,5200000.0,2800000.0,18000000.0,3400000.0,41000000.0,13000000.0,6700000.0,9800000.0,14000000.0,26000000.0,22000000.0,8700000.0,88000000.0,18000000.0,18000000.0,1300000.0,4500000.0,7800000.0,23000000.0,null,null,null,70000000.0,47000000.0,42000000.0,3700000.0,39000000.0,22000000.0,22000000.0,12000000.0,14000000.0,4300000.0,null,8500000.0,6700000.0,7500000.0,88000000.0,1100000.0,8300000.000000001,5700000.0,null,44000000.0,11000000.0,28000000.0,40000000.0,9100000.0,2100000.0,32000000.0,7800000.0,2400000.0,53000000.0,6000000.0,25000000.0,3300000.0,34000000.0,3600000.0,6200000.0,68000000.0,19000000.0,3600000.0,17000000.0,31000000.0,18000000.0,6000000.0,29000000.0,77000000.0,42000000.0,14000000.0,29000000.0,5700000.0,36000000.0,8900000.0,5100000.0,19000000.0,4300000.0,62000000.0,29000000.0,7800000.0,20000000.0,null,18000000.0,14000000.0,9300000.0,17000000.0,1400000.0,16000000.0,4000000.0,8300000.000000001,9600000.0,11000000.0,20000000.0,14000000.0,17000000.0,15000000.0,13000000.0,11000000.0,11000000.0,1600000.0,28000000.0,null,11000000.0,4900000.0,8600000.0,23000000.0,24000000.0,1600000.0,8400000.0,null,20000000.0,44000000.0,88000000.0,4800000.0,32000000.0,25000000.0,27000000.0,7300000.0,14000000.0,15000000.0,null,16000000.0,25000000.0,14000000.0,2900000.0,18000000.0,35000000.0,25000000.0,14000000.0,6500000.0,5500000.0,28000000.0,17000000.0,7300000.0,24000000.0,2100000.0,24000000.0,2800000.0,7200000.0,8600000.0,2300000.0,12000000.0,null,null,70000000.0,34000000.0,2600000.0,35000000.0,24000000.0,88000000.0,7000000.0,3900000.0,null,3800000.0,26000000.0,5000000.0,4700000.0,5600000.0,5300000.0,2200000.0,26000000.0,5600000.0,26000000.0,8600000.0,21000000.0,4800000.0,15000000.0,20000000.0,20000000.0,5500000.0,5700000.0,11000000.0,4700000.0,4099999.9999999995,6900000.0,12000000.0,null,5900000.0,2200000.0,7100000.0,7900000.0,25000000.0,26000000.0,4900000.0,25000000.0,8300000.000000001,6000000.0,3000000.0,19000000.0,4099999.9999999995,6000000.0,4600000.0,26000000.0,4400000.0,10000000.0,5000000.0,16000000.0,22000000.0,8100000.0,21000000.0,13000000.0,4800000.0,6100000.0,4300000.0,6200000.0,3500000.0,2400000.0,38000000.0,9500000.0,null,null,2000000.0,17000000.0,6800000.0,1100000.0,null,3700000.0,null,2600000.0,4800000.0,7800000.0,22000000.0,null,1500000.0,9600000.0,null,2400000.0,null,55000000.0,null,3700000.0,21000000.0,96000000.0,1100000.0,null,12000000.0,null,null,13000000.0,4200000.0,11000000.0,null,null,18000000.0,3000000.0,14000000.0,72000000.0,null,54000000.0,12000000.0,37000000.0,6500000.0,6600000.0,50000000.0,4300000.0,7600000.0,5500000.0,94000000.0,35000000.0,55000000.0,11000000.0,12000000.0,21000000.0,27000000.0,5300000.0,30000000.0,10000000.0,11000000.0,9800000.0,68000000.0,3800000.0,33000000.0,24000000.0,35000000.0,20000000.0,3400000.0,2500000.0,32000000.0,5800000.0,18000000.0,20000000.0,32000000.0,6900000.0,12000000.0,17000000.0,null,50000000.0,19000000.0,55000000.0,1000000.0,2000000.0,7500000.0,16000000.0,10000000.0,null,null,1100000.0,81000000.0,15000000.0,13000000.0,20000000.0,7100000.0,4500000.0,1300000.0,10000000.0,29000000.0,null,20000000.0,8100000.0,3800000.0,1600000.0,6100000.0,4900000.0,null,20000000.0,15000000.0,9300000.0,12000000.0,3900000.0,61000000.0,5800000.0,5000000.0,4400000.0,null,null,9400000.0,3300000.0,null,6400000.0,4000000.0,46000000.0,12000000.0,30000000.0,null,1400000.0,15000000.0,1800000.0,19000000.0,null,12000000.0,21000000.0,25000000.0,3400000.0,8700000.0,19000000.0,9800000.0,18000000.0,18000000.0,15000000.0,17000000.0,43000000.0,9300000.0,11000000.0,2000000.0,2200000.0,4400000.0,5400000.0,12000000.0,1400000.0,17000000.0,null,3300000.0,17000000.0,13000000.0,7300000.0,23000000.0,12000000.0,null,null,2200000.0,null,3500000.0,18000000.0,8600000.0,4800000.0,7300000.0,13000000.0,5300000.0,6200000.0,null,5000000.0,null,8300000.000000001,null,73000000.0,7400000.0,22000000.0,26000000.0,14000000.0,7300000.0,3100000.0,11000000.0,null,12000000.0,13000000.0,33000000.0,null,49000000.0,31000000.0,null,34000000.0,44000000.0,11000000.0,55000000.0,null,59000000.0,null,60000000.0,25000000.0,56000000.0,20000000.0,2300000.0,null,1500000.0,48000000.0,31000000.0,7500000.0,null,2600000.0,2300000.0,2800000.0,16000000.0,2200000.0,4500000.0,33000000.0,72000000.0,3300000.0,6600000.0,5200000.0,8000000.0,null,3500000.0,11000000.0,10000000.0,9400000.0,10000000.0,null,null,8700000.0,6300000.0,4099999.9999999995,37000000.0,3200000.0,11000000.0,2600000.0,3000000.0,14000000.0,47000000.0,2500000.0,2300000.0,49000000.0,44000000.0,3000000.0,2300000.0,15000000.0,10000000.0,7600000.0,59000000.0,null,36000000.0,32000000.0,9500000.0,95000000.0,5800000.0,35000000.0,63000000.0,9700000.0,91000000.0,63000000.0,null,3100000.0,88000000.0,12000000.0,92000000.0,4099999.9999999995,null,23000000.0,7200000.0,6400000.0,3400000.0,91000000.0,6100000.0,22000000.0,6900000.0,91000000.0,72000000.0,10000000.0,2200000.0,8500000.0,12000000.0,21000000.0,11000000.0,2300000.0,16000000.0,32000000.0,17000000.0,1300000.0,18000000.0,10000000.0,1200000.0,8700000.0,42000000.0,null,38000000.0,5300000.0,null,null,5800000.0,96000000.0,21000000.0,null,10000000.0,80000000.0,6100000.0,1500000.0,31000000.0,26000000.0,20000000.0,2900000.0,null,null,38000000.0,36000000.0,14000000.0,null,44000000.0,82000000.0,3300000.0,18000000.0,8300000.000000001,null,14000000.0,null,8300000.000000001,9900000.0,8000000.0,1500000.0,3600000.0,15000000.0,6700000.0,null,1400000.0,20000000.0,6000000.0,14000000.0,1500000.0,2300000.0,27000000.0,76000000.0,15000000.0,32000000.0,6300000.0,24000000.0,1400000.0,36000000.0,15000000.0,3000000.0,14000000.0,10000000.0,15000000.0,5200000.0,2900000.0,3300000.0,5700000.0,36000000.0,5700000.0,2900000.0,3300000.0,4500000.0,null,1600000.0,2800000.0,null,1100000.0,4099999.9999999995,1100000.0,6800000.0,28000000.0,32000000.0,12000000.0,22000000.0,1400000.0,1200000.0,20000000.0,7600000.0,2900000.0,null,2500000.0,11000000.0,34000000.0,21000000.0,4500000.0,22000000.0,null,14000000.0,12000000.0,null,1300000.0,3100000.0,11000000.0,5900000.0,3000000.0,12000000.0,1100000.0,26000000.0,4500000.0,5900000.0,5700000.0,null,37000000.0,null,77000000.0,43000000.0,20000000.0,8000000.0,17000000.0,10000000.0,34000000.0,81000000.0,null,35000000.0,100000000.0,48000000.0,59000000.0,null,14000000.0,10000000.0,16000000.0,24000000.0,2300000.0,4099999.9999999995,28000000.0,27000000.0,27000000.0,6700000.0,23000000.0,null,4900000.0,85000000.0,41000000.0,14000000.0,94000000.0,45000000.0,null,26000000.0,99000000.0,5900000.0,36000000.0,52000000.0,63000000.0,26000000.0,null,35000000.0,null,5400000.0,53000000.0,4000000.0,51000000.0,20000000.0,39000000.0,5000000.0,5700000.0,29000000.0,87000000.0,7100000.0,61000000.0,null,30000000.0,52000000.0,44000000.0,null,4600000.0,90000000.0,null,91000000.0,30000000.0,20000000.0,28000000.0,16000000.0,16000000.0,7900000.0,57000000.0,16000000.0,25000000.0,34000000.0,29000000.0,87000000.0,38000000.0,18000000.0,19000000.0,70000000.0,3300000.0,14000000.0,66000000.0,4300000.0,48000000.0,31000000.0,3300000.0,25000000.0,11000000.0,17000000.0,16000000.0,3500000.0,33000000.0,6400000.0,3900000.0,1500000.0,6600000.0,23000000.0,2400000.0,35000000.0,1100000.0,11000000.0,13000000.0,34000000.0,7100000.0,4200000.0,17000000.0,3000000.0,5300000.0,30000000.0,3300000.0,2500000.0,2000000.0,null,6300000.0,null,2300000.0,7200000.0,null,2200000.0,6200000.0,1700000.0,10000000.0,3200000.0,30000000.0,11000000.0,2400000.0,1700000.0,3300000.0,13000000.0,3200000.0,7900000.0,5200000.0,22000000.0,1600000.0,9400000.0,5400000.0,1100000.0,3300000.0,5500000.0,4200000.0,10000000.0,5000000.0,2900000.0,30000000.0,5400000.0,3700000.0,2900000.0,3000000.0,4200000.0,11000000.0,3000000.0,6300000.0,20000000.0,97000000.0,null,4900000.0,11000000.0,36000000.0,null,3000000.0,16000000.0,null,null,5200000.0,5700000.0,3300000.0,27000000.0,10000000.0,7800000.0,8500000.0,5900000.0,null,1700000.0,92000000.0,21000000.0,1200000.0,33000000.0,35000000.0,null,2400000.0,11000000.0,23000000.0,4000000.0,null,17000000.0,4099999.9999999995,null,1800000.0,3400000.0,32000000.0,null,4200000.0,17000000.0,18000000.0,37000000.0,15000000.0,3800000.0,21000000.0,4200000.0,28000000.0,2300000.0,null,10000000.0,5900000.0,33000000.0,7500000.0,19000000.0,3800000.0,4000000.0,null,62000000.0,null,7600000.0,27000000.0,2100000.0,15000000.0,3400000.0,30000000.0,18000000.0,5300000.0,31000000.0,50000000.0,22000000.0,2600000.0,86000000.0,71000000.0,32000000.0,9200000.0,16000000.0,null,3500000.0,null,5900000.0,78000000.0,12000000.0,4900000.0,3000000.0,6300000.0,null,8400000.0,4000000.0,1900000.0,null,5000000.0,4000000.0,30000000.0,9000000.0,8500000.0,null,13000000.0,3400000.0,20000000.0,4400000.0,8300000.000000001,19000000.0,6400000.0,2400000.0,null,5300000.0,5200000.0,70000000.0,41000000.0,1900000.0,39000000.0,5800000.0,11000000.0,6900000.0,15000000.0,4700000.0,8199999.999999999,18000000.0,4400000.0,15000000.0,9400000.0,3000000.0,12000000.0,3400000.0,5100000.0,2000000.0,3200000.0,5200000.0,11000000.0,14000000.0,7700000.0,12000000.0,3800000.0,8100000.0,5400000.0,5700000.0,10000000.0,8700000.0,3800000.0,5600000.0,3800000.0,4099999.9999999995,11000000.0,5700000.0,3800000.0,9100000.0,2500000.0,6700000.0,11000000.0,7700000.0,7000000.0,43000000.0,13000000.0,20000000.0,59000000.0,3900000.0,27000000.0,16000000.0,63000000.0,12000000.0,30000000.0,44000000.0,43000000.0,17000000.0,42000000.0,6300000.0,2600000.0,20000000.0,16000000.0,13000000.0,6300000.0,2700000.0,56000000.0,1100000.0,26000000.0,56000000.0,null,25000000.0,4700000.0,6000000.0,4900000.0,18000000.0,null,66000000.0,41000000.0,96000000.0,76000000.0,4200000.0,36000000.0,3900000.0,24000000.0,35000000.0,23000000.0,13000000.0,19000000.0,null,7600000.0,96000000.0,35000000.0,null,81000000.0,95000000.0,10000000.0,21000000.0,4700000.0,27000000.0,25000000.0,3400000.0,33000000.0,5700000.0,3100000.0,null,4300000.0,4500000.0,46000000.0,33000000.0,58000000.0,9300000.0,6200000.0,6700000.0,41000000.0,6000000.0,9500000.0,60000000.0,31000000.0,36000000.0,4300000.0,1500000.0,68000000.0,1200000.0,12000000.0,22000000.0,45000000.0,62000000.0,80000000.0,34000000.0,3500000.0,67000000.0,58000000.0,5100000.0,5500000.0,12000000.0,19000000.0,19000000.0,8800000.0,11000000.0,12000000.0,32000000.0,22000000.0,38000000.0,null,null,60000000.0,35000000.0,15000000.0,43000000.0,null,4400000.0,2100000.0,null,null,23000000.0,2300000.0,null,4200000.0,4600000.0,7900000.0,1400000.0,21000000.0,null,28000000.0,1600000.0,84000000.0,6600000.0,12000000.0,14000000.0,38000000.0,5000000.0,2900000.0,1400000.0,8400000.0,3000000.0,2600000.0,3700000.0,100000000.0,5800000.0,28000000.0,4500000.0,8900000.0,3100000.0,22000000.0,9900000.0,49000000.0,1600000.0,8900000.0,22000000.0,23000000.0,94000000.0,6300000.0,1100000.0,95000000.0,21000000.0,9500000.0,24000000.0,1500000.0,24000000.0,7900000.0,5300000.0,1200000.0,12000000.0,5700000.0,13000000.0,24000000.0,54000000.0,3900000.0,null,null,51000000.0,49000000.0,1300000.0,null,3600000.0,4099999.9999999995,66000000.0,32000000.0,2900000.0,8900000.0,47000000.0,2100000.0,12000000.0,7800000.0,15000000.0,25000000.0,14000000.0,10000000.0,8900000.0,4800000.0,3200000.0,4700000.0,null,2000000.0,14000000.0,4700000.0,22000000.0,14000000.0,4300000.0,null,5200000.0,null,8700000.0,null,2500000.0,9200000.0,39000000.0,96000000.0,null,6900000.0,9800000.0,16000000.0,6200000.0,null,8199999.999999999,null,13000000.0,48000000.0,2800000.0,null,31000000.0,1300000.0,29000000.0,17000000.0,19000000.0,2600000.0,71000000.0,2600000.0,14000000.0,44000000.0,5100000.0,11000000.0,13000000.0,2600000.0,65000000.0,8700000.0,null,25000000.0,4000000.0,1700000.0,2400000.0,8500000.0,26000000.0,2000000.0,2500000.0,18000000.0,2900000.0,1300000.0,1700000.0,2700000.0,null,22000000.0,4200000.0,41000000.0,65000000.0,16000000.0,15000000.0,9300000.0,4200000.0,5100000.0,8900000.0,24000000.0,4000000.0,null,31000000.0,9500000.0,8199999.999999999,17000000.0,1800000.0,null,30000000.0,31000000.0,8500000.0,6300000.0,10000000.0,4800000.0,6000000.0,5800000.0,6300000.0,79000000.0,6300000.0,2400000.0,5000000.0,2000000.0,4400000.0,8000000.0,null,39000000.0,3500000.0,3900000.0,9800000.0,5900000.0,15000000.0,6300000.0,3000000.0,2200000.0,4200000.0,16000000.0,1500000.0,null,null,3400000.0,3300000.0,13000000.0,2500000.0,10000000.0,3000000.0,null,4800000.0,2900000.0,3000000.0,40000000.0,11000000.0,6600000.0,16000000.0,null,1600000.0,48000000.0,4600000.0,2800000.0,null,23000000.0,26000000.0,2500000.0,24000000.0,56000000.0,4000000.0,2500000.0,40000000.0,73000000.0,31000000.0,null,45000000.0,42000000.0,39000000.0,48000000.0,7200000.0,10000000.0,14000000.0,11000000.0,21000000.0,32000000.0,47000000.0,null,2100000.0,16000000.0,33000000.0,3400000.0,17000000.0,1600000.0,42000000.0,11000000.0,48000000.0,40000000.0,null,20000000.0,60000000.0,2600000.0,22000000.0,3200000.0,null,5300000.0,22000000.0,10000000.0,43000000.0,4800000.0,20000000.0,1900000.0,3300000.0,1200000.0,54000000.0,26000000.0,null,67000000.0,6400000.0,50000000.0,2500000.0,1300000.0,21000000.0,7400000.0,30000000.0,3900000.0,9800000.0,4500000.0,9800000.0,3200000.0,47000000.0,6000000.0,2500000.0,2300000.0,null,14000000.0,7000000.0,null,14000000.0,4700000.0,4500000.0,10000000.0,3000000.0,18000000.0,32000000.0,null,2800000.0,9900000.0,17000000.0,2500000.0,3400000.0,6800000.0,null,29000000.0,3600000.0,null,28000000.0,3100000.0,2500000.0,1600000.0,23000000.0,15000000.0,6100000.0,10000000.0,2400000.0,4600000.0,3300000.0,10000000.0,3800000.0,3100000.0,33000000.0,6200000.0,2100000.0,18000000.0,37000000.0,58000000.0,22000000.0,71000000.0,null,63000000.0,49000000.0,15000000.0,67000000.0,45000000.0,29000000.0,57000000.0,null,43000000.0,12000000.0,96000000.0,26000000.0,79000000.0,98000000.0,19000000.0,28000000.0,50000000.0,39000000.0,30000000.0,99000000.0,58000000.0,null,92000000.0,43000000.0,100000000.0,72000000.0,37000000.0,3100000.0,33000000.0,3300000.0,5600000.0,16000000.0,5400000.0,11000000.0,30000000.0,31000000.0,3300000.0,30000000.0,6100000.0,5200000.0,18000000.0,16000000.0,25000000.0,2300000.0,13000000.0,null,8800000.0,15000000.0,2400000.0,70000000.0,3900000.0,3900000.0,9000000.0,21000000.0,7300000.0,1800000.0,1400000.0,null,5000000.0,2200000.0,null,2200000.0,2500000.0,7300000.0,90000000.0,3100000.0,null,4000000.0,4099999.9999999995,2800000.0,null,16000000.0,4300000.0,3800000.0,null,3700000.0,null,3000000.0,2300000.0,3800000.0,2700000.0,2200000.0,28000000.0,1500000.0,5500000.0,4000000.0,null,7700000.0,26000000.0,8600000.0,4300000.0,17000000.0,3800000.0,15000000.0,3400000.0,5000000.0,2300000.0,1600000.0,2700000.0,8100000.0,3800000.0,6300000.0,7400000.0,12000000.0,7900000.0,5400000.0,4000000.0,3100000.0,5500000.0,8400000.0,3900000.0,null,3000000.0,4200000.0,3800000.0,5300000.0,6000000.0,4300000.0,30000000.0,4600000.0,17000000.0,14000000.0,39000000.0,13000000.0,35000000.0,6900000.0,14000000.0,23000000.0,15000000.0,11000000.0,14000000.0,14000000.0,17000000.0,17000000.0,9800000.0,15000000.0,4400000.0,43000000.0,19000000.0,null,36000000.0,9400000.0,29000000.0,10000000.0,23000000.0,10000000.0,33000000.0,20000000.0,33000000.0,14000000.0,2300000.0,54000000.0,2500000.0,4300000.0,11000000.0,15000000.0,1600000.0,2000000.0,31000000.0,null,3600000.0,3700000.0,14000000.0,6600000.0,5100000.0,4600000.0,5300000.0,6800000.0,53000000.0,7500000.0,23000000.0,1500000.0,2400000.0,25000000.0,30000000.0,null,13000000.0,6500000.0,4400000.0,23000000.0,5000000.0,16000000.0,7400000.0,1100000.0,1100000.0,38000000.0,null,null,18000000.0,16000000.0,61000000.0,56000000.0,3100000.0,12000000.0,6000000.0,4000000.0,30000000.0,17000000.0,51000000.0,null,31000000.0,42000000.0,99000000.0,6400000.0,22000000.0,63000000.0,11000000.0,99000000.0,21000000.0,14000000.0,46000000.0,18000000.0,61000000.0,99000000.0,31000000.0,26000000.0,26000000.0,7000000.0,3300000.0,3900000.0,8700000.0,62000000.0,3500000.0,6400000.0,null,null,7100000.0,null,2300000.0,55000000.0,41000000.0,52000000.0,32000000.0,13000000.0,44000000.0,3400000.0,94000000.0,23000000.0,48000000.0,null,26000000.0,19000000.0,44000000.0,33000000.0,35000000.0,65000000.0,9200000.0,23000000.0,48000000.0,37000000.0,20000000.0,4800000.0,5700000.0,29000000.0,42000000.0,48000000.0,3700000.0,61000000.0,66000000.0,82000000.0,1600000.0,1800000.0,null,85000000.0,null,12000000.0,4500000.0,14000000.0,15000000.0,3800000.0,null,null,7700000.0,13000000.0,1500000.0,13000000.0,7100000.0,3200000.0,21000000.0,23000000.0,27000000.0,19000000.0,45000000.0,15000000.0,null,13000000.0,33000000.0,2100000.0,16000000.0,3300000.0,20000000.0,5200000.0,8700000.0,null,99000000.0,77000000.0,3800000.0,6000000.0,5000000.0,55000000.0,5300000.0,37000000.0,2300000.0,12000000.0,50000000.0,null,31000000.0,19000000.0,69000000.0,25000000.0,38000000.0,26000000.0,13000000.0,6800000.0,4099999.9999999995,48000000.0,null,68000000.0,45000000.0,null,9300000.0,44000000.0,41000000.0,65000000.0,4400000.0,46000000.0,23000000.0,30000000.0,28000000.0,47000000.0,59000000.0,1600000.0,14000000.0,43000000.0,4099999.9999999995,null,3800000.0,47000000.0,24000000.0,31000000.0,2700000.0,7300000.0,59000000.0,48000000.0,1300000.0,12000000.0,5000000.0,6600000.0,55000000.0,2800000.0,null,10000000.0,30000000.0,3700000.0,18000000.0,7400000.0,17000000.0,1300000.0,3700000.0,26000000.0,5000000.0,3300000.0,3900000.0,29000000.0,5600000.0,3000000.0,1800000.0,5800000.0,5700000.0,2600000.0,38000000.0,6200000.0,11000000.0,1500000.0,62000000.0,4000000.0,3100000.0,56000000.0,30000000.0,1900000.0,2000000.0,4500000.0,4300000.0,9900000.0,2000000.0,2300000.0,29000000.0,99000000.0,5100000.0,2700000.0,64000000.0,49000000.0,79000000.0,47000000.0,25000000.0,49000000.0,36000000.0,22000000.0,7000000.0,60000000.0,13000000.0,null,3200000.0,31000000.0,50000000.0,60000000.0,16000000.0,25000000.0,3600000.0,3500000.0,12000000.0,null,33000000.0,24000000.0,4099999.9999999995,49000000.0,null,3200000.0,73000000.0,22000000.0,4400000.0,32000000.0,null,63000000.0,null,15000000.0,16000000.0,6400000.0,25000000.0,null,52000000.0,21000000.0,2300000.0,null,15000000.0,6800000.0,40000000.0,88000000.0,59000000.0,null,null,46000000.0,39000000.0,6900000.0,14000000.0,52000000.0,14000000.0,37000000.0,null,24000000.0,28000000.0,null,4400000.0,52000000.0,51000000.0,76000000.0,4400000.0,null,26000000.0,67000000.0,46000000.0,78000000.0,33000000.0,26000000.0,null,null,60000000.0,3000000.0,90000000.0,28000000.0,60000000.0,40000000.0,25000000.0,41000000.0,null,null,13000000.0,null,null,null,42000000.0,35000000.0,18000000.0,53000000.0,31000000.0,4300000.0,null,11000000.0,8500000.0,21000000.0,null,43000000.0,10000000.0,3400000.0,null,15000000.0,7100000.0,null,11000000.0,1500000.0,21000000.0,34000000.0,11000000.0,8900000.0,19000000.0,4200000.0,1100000.0,11000000.0,14000000.0,null,30000000.0,24000000.0,null,null,6300000.0,41000000.0,18000000.0,5200000.0,6700000.0,3100000.0,2000000.0,36000000.0,60000000.0,74000000.0,11000000.0,92000000.0,83000000.0,54000000.0,42000000.0,23000000.0,31000000.0,98000000.0,69000000.0,null,37000000.0,20000000.0,77000000.0,73000000.0,33000000.0,2700000.0,57000000.0,83000000.0,73000000.0,null,44000000.0,2800000.0,13000000.0,2100000.0,28000000.0,2300000.0,null,70000000.0,2300000.0,20000000.0,null,8800000.0,24000000.0,21000000.0,15000000.0,null,21000000.0,4800000.0,20000000.0,31000000.0,16000000.0,12000000.0,27000000.0,6300000.0,11000000.0,2000000.0,1500000.0,20000000.0,39000000.0,3200000.0,27000000.0,7200000.0,23000000.0,47000000.0,31000000.0,21000000.0,34000000.0,5300000.0,37000000.0,5700000.0,10000000.0,52000000.0,69000000.0,56000000.0,53000000.0,62000000.0,76000000.0,71000000.0,72000000.0,28000000.0,2800000.0,51000000.0,28000000.0,40000000.0,27000000.0,null,37000000.0,46000000.0,50000000.0,49000000.0,58000000.0,41000000.0,73000000.0,33000000.0,46000000.0,19000000.0,32000000.0,30000000.0,92000000.0,55000000.0,45000000.0,47000000.0,85000000.0,48000000.0,77000000.0,30000000.0,28000000.0,35000000.0,5800000.0,39000000.0,25000000.0,32000000.0,8900000.0,84000000.0,60000000.0,5300000.0,39000000.0,20000000.0,20000000.0,17000000.0,null,null,42000000.0,29000000.0,null,6600000.0,3200000.0,null,4400000.0,3400000.0,null,1200000.0,1700000.0,2800000.0,null,2200000.0,1900000.0,1700000.0,3000000.0,null,2700000.0,2000000.0,5000000.0,null,11000000.0,null,11000000.0,2900000.0,6500000.0,2000000.0,4200000.0,null,6700000.0,null,9200000.0,4700000.0,15000000.0,null,24000000.0,1700000.0,2700000.0,5900000.0,9200000.0,13000000.0,null,9200000.0,null,6300000.0,3800000.0,4200000.0,5700000.0,18000000.0,9900000.0,null,12000000.0,5300000.0,9900000.0,63000000.0,null,null,null,null,null,null,13000000.0,null,31000000.0,null,null,35000000.0,61000000.0,null,null,62000000.0,93000000.0,93000000.0,null,5000000.0,null,33000000.0,8700000.0,61000000.0,null,6100000.0,26000000.0,37000000.0,19000000.0,2300000.0,4400000.0,32000000.0,null,5300000.0,17000000.0,4200000.0,5300000.0,3400000.0,12000000.0,1800000.0,12000000.0,2500000.0,3900000.0,2000000.0,7200000.0,13000000.0,20000000.0,16000000.0,22000000.0,3500000.0,null,2300000.0,65000000.0,21000000.0,21000000.0,20000000.0,12000000.0,2000000.0,2700000.0,13000000.0,7000000.0,9400000.0,11000000.0,null,1200000.0,18000000.0,7500000.0,2600000.0,12000000.0,3100000.0,null,4300000.0,45000000.0,15000000.0,2500000.0,5400000.0,5200000.0,1500000.0,null,1400000.0,2000000.0,34000000.0,2100000.0,null,9700000.0,2200000.0,1600000.0,10000000.0,42000000.0,13000000.0,2700000.0,8700000.0,32000000.0,10000000.0,67000000.0,17000000.0,40000000.0,21000000.0,15000000.0,12000000.0,9700000.0,31000000.0,4000000.0,null,8600000.0,25000000.0,26000000.0,6400000.0,88000000.0,5800000.0,41000000.0,2500000.0,null,6600000.0,24000000.0,9800000.0,32000000.0,72000000.0,19000000.0,8100000.0,6200000.0,8400000.0,19000000.0,8500000.0,43000000.0,23000000.0,48000000.0,20000000.0,5200000.0,3900000.0,52000000.0,1300000.0,25000000.0,11000000.0,16000000.0,1000000.0,61000000.0,15000000.0,null,54000000.0,19000000.0,19000000.0,null,33000000.0,null,64000000.0,72000000.0,45000000.0,null,27000000.0,69000000.0,4900000.0,4400000.0,8600000.0,13000000.0,8700000.0,12000000.0,29000000.0,null,5800000.0,36000000.0,17000000.0,17000000.0,1900000.0,null,12000000.0,7100000.0,96000000.0,21000000.0,6500000.0,null,62000000.0,null,82000000.0,null,69000000.0,22000000.0,34000000.0,63000000.0,null,null,14000000.0,1800000.0,95000000.0,30000000.0,null,16000000.0,null,4300000.0,67000000.0,12000000.0,8500000.0,48000000.0,62000000.0,95000000.0,5200000.0,null,23000000.0,2800000.0,null,13000000.0,1100000.0,4600000.0,null,1100000.0,1000000.0,null,11000000.0,null,null,null,null,null,null,6300000.0,17000000.0,7900000.0,null,6000000.0,3500000.0,26000000.0,93000000.0,21000000.0,2300000.0,null,64000000.0,8100000.0,null,13000000.0,8000000.0,29000000.0,42000000.0,19000000.0,null,2500000.0,3600000.0,3900000.0,54000000.0,6800000.0,38000000.0,44000000.0,30000000.0,8400000.0,27000000.0,10000000.0,15000000.0,27000000.0,5100000.0,3400000.0,10000000.0,19000000.0,54000000.0,3100000.0,2700000.0,1700000.0,8400000.0,1200000.0,19000000.0,12000000.0,44000000.0,26000000.0,99000000.0,19000000.0,18000000.0,3300000.0,30000000.0,24000000.0,4500000.0,15000000.0,10000000.0,18000000.0,13000000.0,4500000.0,3300000.0,21000000.0,10000000.0,36000000.0,33000000.0,4300000.0,9600000.0,null,61000000.0,14000000.0,5400000.0,1300000.0,null,2800000.0,47000000.0,null,null,7600000.0,4600000.0,10000000.0,4600000.0,13000000.0,1200000.0,2900000.0,10000000.0,4800000.0,36000000.0,3500000.0,null,50000000.0,null,11000000.0,29000000.0,46000000.0,46000000.0,1400000.0,1200000.0,null,null,9800000.0,39000000.0,null,12000000.0,null,57000000.0,2100000.0,3900000.0,11000000.0,2300000.0,8500000.0,1400000.0,null,2400000.0,3900000.0,68000000.0,1600000.0,null,1800000.0,4000000.0,1500000.0,26000000.0,3000000.0,71000000.0,null,3600000.0,1300000.0,24000000.0,68000000.0,1300000.0,44000000.0,7000000.0,5400000.0,7600000.0,14000000.0,71000000.0,2600000.0,10000000.0,48000000.0,25000000.0,6300000.0,96000000.0,10000000.0,47000000.0,3200000.0,null,null,5800000.0,23000000.0,null,1100000.0,4600000.0,null,6300000.0,null,4300000.0,4800000.0,4200000.0,3600000.0,4000000.0,3900000.0,8700000.0,9900000.0,5100000.0,1800000.0,1500000.0,7000000.0,null,18000000.0,3400000.0,3300000.0,1500000.0,5100000.0,10000000.0,1600000.0,3200000.0,3000000.0,10000000.0,2800000.0,2500000.0,1300000.0,11000000.0,15000000.0,3100000.0,2800000.0,3700000.0,6100000.0,4500000.0,30000000.0,6200000.0,20000000.0,38000000.0,20000000.0,3100000.0,6400000.0,71000000.0,11000000.0,11000000.0,2600000.0,33000000.0,21000000.0,41000000.0,12000000.0,21000000.0,2800000.0,3600000.0,14000000.0,29000000.0,76000000.0,5700000.0,17000000.0,28000000.0,4600000.0,null,19000000.0,3100000.0,79000000.0,36000000.0,17000000.0,7800000.0,89000000.0,49000000.0,12000000.0,3000000.0,57000000.0,16000000.0,13000000.0,5900000.0,40000000.0,14000000.0,null,null,3500000.0,17000000.0,7900000.0,19000000.0,30000000.0,12000000.0,42000000.0,7400000.0,9100000.0,7500000.0,4800000.0,7400000.0,4900000.0,9100000.0,4200000.0,2700000.0,75000000.0,3900000.0,2300000.0,35000000.0,3500000.0,9100000.0,1500000.0,26000000.0,7400000.0,2100000.0,4700000.0,3400000.0,4200000.0,4600000.0,7100000.0,21000000.0,2700000.0,4400000.0,14000000.0,17000000.0,null,9000000.0,4500000.0,21000000.0,15000000.0,21000000.0,8000000.0,11000000.0,53000000.0,21000000.0,2900000.0,20000000.0,2900000.0,20000000.0,47000000.0,12000000.0,12000000.0,17000000.0,10000000.0,26000000.0,9200000.0,9800000.0,17000000.0,null,30000000.0,1800000.0,97000000.0,2900000.0,15000000.0,5300000.0,8300000.000000001,20000000.0,3000000.0,5600000.0,7900000.0,22000000.0,5000000.0,11000000.0,15000000.0,7500000.0,4099999.9999999995,13000000.0,12000000.0,60000000.0,25000000.0,4600000.0,1700000.0,6500000.0,36000000.0,17000000.0,6500000.0,39000000.0,46000000.0,52000000.0,7700000.0,30000000.0,17000000.0,39000000.0,30000000.0,12000000.0,45000000.0,29000000.0,48000000.0,50000000.0,null,66000000.0,27000000.0,51000000.0,69000000.0,21000000.0,14000000.0,19000000.0,61000000.0,28000000.0,49000000.0,94000000.0,23000000.0,94000000.0,2500000.0,13000000.0,34000000.0,33000000.0,16000000.0,null,18000000.0,8100000.0,15000000.0,8199999.999999999,8100000.0,27000000.0,null,4099999.9999999995,20000000.0,6000000.0,17000000.0,4700000.0,14000000.0,5800000.0,9900000.0,9900000.0,49000000.0,14000000.0,7600000.0,7800000.0,46000000.0,29000000.0,3600000.0,49000000.0,29000000.0,8199999.999999999,54000000.0,18000000.0,56000000.0,26000000.0,3300000.0,40000000.0,14000000.0,24000000.0,37000000.0,null,null,22000000.0,16000000.0,2000000.0,3500000.0,8500000.0,null,null,null,null,13000000.0,2400000.0,3400000.0,5100000.0,null,9700000.0,null,null,2400000.0,35000000.0,3900000.0,null,null,5800000.0,2800000.0,5800000.0,2100000.0,1400000.0,3900000.0,7500000.0,58000000.0,4000000.0,null,4099999.9999999995,14000000.0,2600000.0,7600000.0,11000000.0,8000000.0,2300000.0,49000000.0,43000000.0,10000000.0,16000000.0,24000000.0,6200000.0,27000000.0,46000000.0,2400000.0,36000000.0,17000000.0,8000000.0,37000000.0,33000000.0,15000000.0,15000000.0,13000000.0,11000000.0,25000000.0,16000000.0,15000000.0,15000000.0,null,43000000.0,43000000.0,36000000.0,23000000.0,99000000.0,46000000.0,null,20000000.0,45000000.0,2900000.0,21000000.0,35000000.0,41000000.0,2200000.0,2500000.0,35000000.0,1500000.0,54000000.0,44000000.0,27000000.0,8500000.0,22000000.0,26000000.0,63000000.0,20000000.0,26000000.0,3500000.0,26000000.0,10000000.0,5500000.0,26000000.0,26000000.0,26000000.0,26000000.0,26000000.0,26000000.0,26000000.0,2400000.0,26000000.0,26000000.0,26000000.0,26000000.0,26000000.0,26000000.0,13000000.0,26000000.0,25000000.0,26000000.0,26000000.0,15000000.0,18000000.0,21000000.0,26000000.0,17000000.0,26000000.0,12000000.0,26000000.0,26000000.0,26000000.0,26000000.0,26000000.0,2600000.0,27000000.0,15000000.0,26000000.0,17000000.0,45000000.0,24000000.0,11000000.0,3100000.0,30000000.0,3200000.0,5600000.0,7100000.0,7100000.0,31000000.0,34000000.0,9200000.0,36000000.0,15000000.0,2000000.0,6100000.0,null,22000000.0,4400000.0,86000000.0,13000000.0,12000000.0,41000000.0,8199999.999999999,8000000.0,15000000.0,null,5300000.0,9400000.0,2200000.0,43000000.0,null,20000000.0,21000000.0,37000000.0,26000000.0,3400000.0,22000000.0,7800000.0,3400000.0,28000000.0,7800000.0,2600000.0,3900000.0,7600000.0,8100000.0,9500000.0,1800000.0,16000000.0,3200000.0,45000000.0,14000000.0,12000000.0,49000000.0,13000000.0,9900000.0,3900000.0,7600000.0,28000000.0,12000000.0,69000000.0,34000000.0,9200000.0,5400000.0,8700000.0,18000000.0,5700000.0,12000000.0,15000000.0,1600000.0,38000000.0,11000000.0,14000000.0,null,30000000.0,13000000.0,null,19000000.0,null,10000000.0,45000000.0,5300000.0,19000000.0,7000000.0,5600000.0,11000000.0,12000000.0,9200000.0,11000000.0,13000000.0,3300000.0,14000000.0,8800000.0,7300000.0,14000000.0,8500000.0,3300000.0,9000000.0,null,8199999.999999999,7900000.0,1600000.0,34000000.0,2100000.0,59000000.0,5200000.0,null,3600000.0,null,null,null,9800000.0,null,36000000.0,20000000.0,28000000.0,3200000.0,50000000.0,41000000.0,null,3100000.0,null,1600000.0,15000000.0,17000000.0,16000000.0,15000000.0,11000000.0,16000000.0,15000000.0,19000000.0,16000000.0,2800000.0,1300000.0,21000000.0,18000000.0,5200000.0,2000000.0,null,9700000.0,17000000.0,4300000.0,54000000.0,null,null,7200000.0,1400000.0,11000000.0,49000000.0,15000000.0,25000000.0,4000000.0,16000000.0,11000000.0,40000000.0,3700000.0,null,24000000.0,16000000.0,8100000.0,6300000.0,60000000.0,46000000.0,null,1400000.0,22000000.0,null,2600000.0,44000000.0,11000000.0,39000000.0,4400000.0,1700000.0,7900000.0,1200000.0,2000000.0,5800000.0,61000000.0,3800000.0,3300000.0,29000000.0,3300000.0,null,26000000.0,12000000.0,3300000.0,null,2500000.0,72000000.0,4300000.0,null,2400000.0,8000000.0,11000000.0,null,null,null,7000000.0,16000000.0,12000000.0,41000000.0,2400000.0,3900000.0,8900000.0,36000000.0,9000000.0,24000000.0,2200000.0,38000000.0,75000000.0,50000000.0,44000000.0,11000000.0,72000000.0,84000000.0,9500000.0,2800000.0,48000000.0,20000000.0,48000000.0,20000000.0,38000000.0,16000000.0,78000000.0,5700000.0,4000000.0,7800000.0,46000000.0,null,6800000.0,12000000.0,19000000.0,28000000.0,81000000.0,17000000.0,15000000.0,42000000.0,4200000.0,1000000.0,24000000.0,21000000.0,3900000.0,13000000.0,2700000.0,31000000.0,4900000.0,6800000.0,8000000.0,1500000.0,3600000.0,8600000.0,2500000.0,3100000.0,2900000.0,82000000.0,7700000.0,null,13000000.0,13000000.0,7400000.0,2300000.0,9800000.0,null,null,2600000.0,9600000.0,53000000.0,3600000.0,9500000.0,null,19000000.0],\"xaxis\":\"x\",\"y\":[10000,500000,5000000,50000000,100000,50000,50000,1000000,1000000,10000,1000000,1000000,10000000,100000,100000,5000,500000,10000,5000000,10000000,100000,100000,500000,100000,50000,10000,500000,100000,10000,100000,100000,50000,100000,100000,10000,100000,500000,5000000,10000,500000,10000,100000,10000000,100000,10000,10000000,100000,100000,100000,100000,1000000,100000,1000000,100000,100000,100000,50000,100000,100000,100000,10000,100000,1000000,100000,100000,10000,50000,5000000,100000,5000000,5000000,500000,10000000,100000,500000,50000,100000,1000000,100000,1000000,50000,1000000,500000,100000,1000000,1000000,100000,100000,1000000,100000,100000,1000000,1000000,1000000,1000000,500000,500000,100000,500000,1000000,100000,500000,1000000,500000,100000,1000000,50000,1000000,10000,1000000,100000,10000,50000,100000,10000,10000,10000,10000000,500000,1000000,50000,10000,1000000,50000,500000,500000,100000,10000,5000,10000,10000,100000,5000,100000,10000,10000,1000000,50000,10000,100000000,50000,100000,10000000,100000000,10000000,10000000,10000000,100000,1000000,10000000,500000,1000000,1000000000,5000000,100000,10000000,500000,10000000,1000000,1000000,500000,1000000,500000,10000,5000000,100000,5000000,500000,1000000,500000,500000,1000000,5000000,10000000,100000,100000,100000,50000,500000,10000000,50000,1000000,1000000,1000000,500000,100000,10000000,10000000,50000000,10000000,5000000,1000000,50000000,5000000,100000000,1000000,1000000,500000,10000000,5000000,1000000,50000000,10000000,1000000,10000000,5000000,5000000,5000000,5000000,100000,1000000,1000000,1000000,10000000,5000000,1000000,5000000,100000,10000000,1000000,1000000,100000,5000000,1000000,100000,50000000,5000000,100000,1000000,1000000,10000000,10000000,1000000,100000,100000,50000,5000000,5000000,100000,100000,1000000,500000,100000,500000,500000,1000000,1000000,1000000,100000,100000,1000000,1000000,10000000,100000,100000,5000000,50000,1000000,500000,10000000,5000000,100000000,5000000,10000,10000000,500000,1000000,500000,50000,50000,50000,1000000,10000,10000,10000,10000,10000,100000,5000000,100000,1000000,100000,1000000,1000000,1000000,1000000,100000,5000000,50000,100000,10000,10000,5000,500000,1000000,5000,1000,5000000,10000,50000,1000000,100000,1000000000,1000000000,10000000,1000000000,100000000,1000000000,1000000000,500000000,5000000,100000000,100000000,100000000,500000000,50000000,5000000,5000000,100000000,10000000,10000000,10000000,10000000,100000000,1000000,1000000,10000000,5000000,10000000,10000000,100000000,5000000,100000000,100000000,10000000,1000000,100000000,100000000,500000000,10000000,1000000,100000,10000000,10000000,10000000,500000000,5000000,5000000,1000000000,500000000,10000000,500000000,1000000000,10000000,5000000,50000000,100000000,1000000000,100000000,100000000,100000000,1000000,10000000,10000000,10000000,10000000,10000000,500000000,10000000,1000000,100000000,100000000,1000000,1000000,10000000,1000000000,100000000,50000000,100000000,1000000,100000000,50000000,100000000,500000000,1000000,1000000,1000000,10000000,500000,500000,100000,10000000,10000000,1000000,1000000,5000000,10000000,1000000,10000000,1000000,1000000,10000000,10000000,5000000,10000000,5000000,1000000,1000000,5000000,1000000,100000000,1000000,1000000000,100000000,5000000,10000000,1000000,1000000,1000000,10000000,50000000,10000,5000000,1000000,500000,1000000000,500000000,1000000,5000000,10000,1000,50,100,100,100,10000000,10000000,10000000,100000,500000,5000000,1000000,10000000,1000000,10000000,5000000,5000000,100000,500000,1000000,1000000,10000,1000000,1000000,100000,10000000,1000000,100000,500000,5000,500000,5000000,1000000,100000,1000000,1000000,100000,100000,500000,500000,500000,100000,500000,500000,100000,50000,1000000,1000000,100000,100000,100000,10000,100000,1000000,100000,10000000,500000,100000,1000000,50000,5000000,500000,100000,100000,500000,100000,10000,100000,1000000,50000,500000,1000000,100000,10000,500000,1000000,100000,10000,10000,10000,10000000,1000000,500000,500000,500000,1000000,100000,500000,10000,100000,100000,500000,1000000,10000,1000000,10000000,10000,100000,10000,1000000,1000000,50000,10000,500000,5000000,1000000,1000,5000,1000,500,5000,10000,100,10000,1000,100,1000,1000,1000,100,500,500,5000,100,100,50,5000,50,500,10,500,500,100,1000,10,100,10,500,500,10,100,100,10,10,100,50,100,100,10,500,1000,500,50,1,10,1000,1,50,100,10000,500,1000,10,5,10,100,1000000,100000,100000,1000,5000000,100000,1000000,500000,500000,500,10000,50000,10000,5000,10000,1000,10000,1000000,5000,100000000,10000000,100000,5000000,10000000,100000,5000000,1000000,500000,500000,1000000,1000000,5000000,1000000,500000,5000000,500000,1000000,10000000,10000000,1000000,5000000,50000,1000000,1000000,1000000,1000000,1000000,500000,1000000,5000000,1000000,500000,500000,100000,10000000,100000,5000000,10000000,10000000,1000000,5000000,1000000,5000000,5000000,10000000,1000000,1000000,1000000,1000000,10000,50000,1000000,1000000,1000000,1000000,1000000,1000000,1000000,1000000,1000000,1000000,100000,1000000,100000,10000,10000,50000,500000,100000,100000,100000,10000,100000,100000,50000,50000,100000,100000,100000000,1000000,5000000,10000000,10000000,1000000,10000000,1000000,5000000,5000000,5000000,1000000,500000,1000000,1000000,10000000,10000000,1000000,500000,1000000,1000000,50000,1000000,100000,100000,100000,100000,10000000,100000,10000,10000000,10000000,10000000,500000,5000000,10000000,500000,10000000,1000000,1000000,1000000,100000,10000000,5000000,1000000,100000,1000000,1000,1000,500000,100000,100000000,1000000,1000000,10000000,50000000,10000000,5000000,5000000,10000000,5000000,1000000000,100000000,5000000,1000000,5000000,5000000,1000000,1000000,10000000,100000000,5000000,10000000,1000000,10000000,50000000,5000000,10000000,1000000,10000000,1000000,10000000,50000000,1000000,100000000,50000000,1000000,5000000,50000000,100000000,1000000,100000,1000000,1000000,10000000,100000,100000,1000000,100000000,500000,100000,100000,1000000,1000000,10000000,1000000,10000000,10000000,10000000,50000,1000000,10000000,1000000,5000000,1000000,5000000,1000000,10000000,10000000,1000000,1000000,1000000,1000000,1000000,100000000,10000000,10000000,10000000,500000,5000000,10000000,500000,1000000,1000000,1000000,10000000,1000000,10000000,10000000,1000000,100000000,10000000,1000000,10000000,10000000,1000000,100000,1000000,10000,100000,100000,5000000,100000,100000,1000000,1000000,1000000,1000000,10000000,100000,10000000,10000000,100000,5000000,500000,50000,5000000,1000000,10000,1000000,100000,10000,1000000,100000,100000,100000,50000,1000,1000000,10000,500,50000,100,100,100000,100000,500,100000,100,100000,100,1000,5000,100000,1000,100000,100,1000,50000,5000,100000,100,1000,1000,100,500,10000000,1000000,5000000,5000000,5000000,10000000,500000,5000000,10000000,1000000,1000000,10000000,5000000,1000000,1000000,10000000,1000000,5000000,1000000,1000000,5000000,1000000,5000000,1000000,1000000,10000000,10000000,1000000,50000000,10000000,1000000,1000000,1000000,10000000,1000000,100000000,5000000,1000000,5000000,1000000,10000000,10000,1000000,100000,100000,100000,1000000,1000000,1000000,1000000,5000000,500000,1000000,100000,500000,1000000,1000000,100000,100000,1000000,1000000,50000,1000000,100000,10000000,100000,1000000,5000000,1000000,100000,1000000,100000,1000000,1000000,50000,1000000,5000000,500000,1000000,1000000,1000000,5000000,1000000,100000,500000,1000000,1000000,500000,1000000,5000000,500000,1000000,1000000,5000000,5000000,50000,1000000,100000,1000000,500000,1000000,500000,50000000,1000000,100000,100000,1000000,1000000,5000000,100000000,50000,10000000,10000,5000000,10000000,10000000,1000000,5000000,1000000,10000000,10000000,1000000,10000000,50000,10000000,1000000,10000,100000,1000000,10000000,1000000,500000,10000000,500000,50000,1000000,1000000,1000000,500000,5000000,1000000,5000000,1000000,10000000,100000,10000000,5000000,5000000,1000000,10000000,5000000,1000000,1000000,1000000,1000000,100000,100000,1000000,50000,500000,500000,100000,1000000,1000000,100000,100000,5000000,500000,100000,1000000,10000,50000,5000000,10000,50000,1000000,1000000,10000000,1000000,1000000,1000000,5000000,10000000,10000000,50000,100000,1000000,1000000,100000,10000000,100000,1000000,5000000,10000000,1000000,5000000,5000000,10000000,10000000,10000000,500000,5000000,1000000,10000000,10000000,10000000,10000000,10000000,10000000,1000000,10000000,1000000,100000,500000,100000,500000,5000000,1000000,10000000,50000,10000000,500000,100000,1000000,10000000,500000,10000000,5000000,1000000,50000000,100000,5000000,10000000,1000000,100000,10000000,1000000,500000,100000,10000000,1000000,5000000,1000000,500000,1000000,1000000,1000000,10000000,10000000,5000000,1000000,5000000,10000000,500000,10000000,10000000,1000000,5000000,1000000,10000000,10000000,1000000,10000000,5000000,1000000,5000000,10000000,1000000,5000000,100000,1000000,100000,1000000,500000,500000,100000,1000000,10000,500000,100000,100000,1000000,5000000,100000,5000000,500000,10000000,100000,1000000,1000000,1000000,1000000,5000000,1000000,1000000,1000000,500000,10000000,500000,1000000,100000000,10000000,50000000,5000000,5000000,500000,1000000,1000000,1000000,10000000,50000,50000,5000000,5000000,1000000,1000000,5000000,5000000,10000000,50000000,10000000,10000000,10000000,10000000,1000000,500000,1000000,1000000,100000,10000000,1000000,100000,50000,500000,1000000,100000,5000000,10000000,100000,500000,100000,1000000,500000,100000,500000,1000000,500000,500000,1000000,500000,5000000,5000000,1000000,1000000,10000000,100000,1000000,10000000,5000000,1000000,1000000,1000000,10000000,10000,10000000,500000,100000,1000000,1000000,1000000,1000000,1000000,100000,5000000,1000000,1000000,1000000,5000,5000000,10000,100000,500000,1000000,100000,1000000,100000,100000,1000000,500000,500000,5000000,500000,5000,100000,10000,50000,100000,10000,100000,1000000,100000,500000,1000000,50000,10000000,1000000,500000,1000000,1000000,500000,500000,1000000,5000000,10000000,50000,50000,10000,100000,1000,100000,10000,100000,5000000,50000,10000000,1000,100000,50000,100000,50000,100000,10000,50000,50000,100000,100000,10000000,10000,100000,10000,10000,5000,500000,5000000,100000,1000000,10000,1000000,1000,500000,1000000,100000,1000000,10000,1000000,500000,500000,100000,50000,500000,500000,1000000,100000,5000000,10000000,100000,10000000,5000000,1000000,5000000,1000000,10000000,1000000,1000000,5000000,10000000,500000,5000000,10000000,1000000,1000000,10000000,5000000,1000000,10000000,50000000,1000000,500000,500000,1000000,5000000,1000000,1000000,100000,1000000,1000000,10000000,1000000,1000000,10000000,500000,10000000,1000000,1000000,100000,100000,10000000,500000,1000000,1000000,1000000,100000,1000000,1000000,10000000,100000,500000,10000,100000,5000000,1000000,500000,500000,10000,1000000,10000000,10000000,100000,50000,5000,100000,1000000,100000,50000,1000000,100000,1000000,5000000,500000,500000,1000000,500000,1000000,100000,1000000,100000,100000000,1000000000,500000000,10000000,10000000,50000000,100000000,100000000,500000000,500000000,100000000,5000000,100000000,100000000,100000000,100000000,1000000,100000000,50000000,5000000,100000000,1000000,100000000,50000000,50000000,10000000,50000000,100000000,100000000,10000000,10000000,10000000,100000000,5000000,10000000,50000000,100000000,50000000,10000000,10000000,10000000,100000000,100000000,10000000,100000000,100000000,100000000,1000000000,100000000,500000000,100000000,500000000,100000000,100000000,10000000,100000000,100000000,10000000,50000000,10000000,10000000,10000000,100000000,100000000,5000000,50000000,100000000,500000000,100000000,50000000,100000000,10000000,1000000,500000000,100000000,5000000,10000000,100000000,1000000,100000000,100000000,100000000,10000000,100000000,100000000,10000000,100000000,100000000,100000000,10000000,50000000,1000000,100000000,100000000,1000000000,10000000,50000000,50000000,100000000,100000000,100000000,50000000,50000000,100000000,100000000,10000000,10000000,50000000,10000000,1000000,10000000,5000000,5000000,100000000,1000000,1000000,10000000,10000000,500000,1000000,100000000,5000000,5000000,10000000,50000000,50000000,10000000,10000000,10000000,50000000,10000000,100000000,5000000,50000000,10000000,1000000,1000000,10000000,10000000,5000000,10000000,10000000,1000000,5000000,5000000,5000000,10000000,5000000,5000000,1000000,5000000,10000000,1000000,1000000,5000000,1000000,10000000,10000000,10000000,1000000,1000000,5000000,10000000,5000000,10000000,100000,1000000,1000000,100000,100000,100000,100000,100000,100000,100000,100000,100000,100000,5000000,100000000,500000000,100000000,100000000,10000000,10000000,50000000,10000000,5000000,10000000,50000000,5000000,10000000,10000000,5000000,10000000,10000000,500000,1000000,5000000,50000000,5000000,10000000,500000,50000000,5000000,1000000,500000000,100000000,100000000,1000000000,100000000,1000000,10000000,10000000,50000000,100000000,100000000,100000000,100000000,10000000,5000000,1000000,500000000,500000000,100000000,10000000,10000000,100000000,100000000,100000000,100000000,50000000,10000000,10000000,100000000,10000000,50000000,1000000,50000000,100000000,10000000,10000000,100000000,100000000,50000000,500000000,100000000,100000000,10000000,5000000,10000000,100000000,100000000,50000000,100000000,100000000,500000000,100000000,10000000,50000000,50000000,10000000,50000000,50000000,10000000,100000000,10000000,10000000,50000000,10000000,50000000,50000000,10000000,10000000,10000000,10000000,100000,10000000,10000000,100000000,1000000,1000000,1000000,5000000,10000000,10000000,10000000,10000000,100000000,5000000,5000000,10000000,100000,50000000,5000000,50000000,10000000,100000000,100000000,10000000,10000000,10000000,5000000,10000000,100000000,100000000,50000000,5000000,10000000,10000000,10000000,100000000,50000000,100000000,100000000,10000000,100000000,10000000,100000000,5000000,10000000,1000000,50000000,10000000,10000000,50000000,5000000,10000000,10000000,5000000,10000000,100000000,100000000,50000000,50000000,100000000,50000000,10000000,50000000,10000000,100000000,1000000,5000000,5000000,1000000,1000000,5000000,1000000,100000,5000000,50000000,1000000,500000,10000000,500000,5000000,1000000,500000,10000000,500000,1000000,50000000,10000000,1000000,10000000,5000000,1000000,5000000,500000,10000000,1000000,1000000,10000000,10000000,100000000,10000000,10000000,1000000,10000000,1000000,100000000,10000000,100000,5000000,100000,10000,5000,5000000,100000,1000000,5000000,1000000,1000000,1000000,1000000,5000000,500000,500000,1000000,1000000,50000,1000000,1000000,10000000,100000,100000,500000,500000,5000,1000,500,100000000,10000000,1000000,10000000,100000,10000000,1000000,5000000,500000,10000000,1000000,1000000,100000,50000,50000000,500000,10000000,500000,1000000,10000000,1000000,100000,5000000,1000000,1000000,10000000,1000000,10000000,10000000,50000000,10000000,5000000,100000,10000000,5000000,10000000,1000000,50000000,1000000,10000000,1000000,10000000,10000000,5000000,1000000,50000000,1000000,10000000,500000,500000,500000,100000,100000,1000000,10000,10000000,500000,100000,500000,10000,10000,1000,10000000,5000000,1000000,1000000,1000000,100000,100000,50000,500000,100000,5000000,1000,100000,1000,50000,1000,100,100,1000,5000,5000,1000,10000,10000,5000,10000000,1000000,1000000,1000000,100000,100000,5000000,100000,1000,10000,10000,50000,100000000,10000000,50000000,10000000,5000000,5000000,10000000,5000000,5000000,100000000,5000000,10000000,1000000,10000000,5000000,50000000,10000000,1000000,5000000,1000000,1000000,1000000,1000000,5000000,5000000,10000000,10000000,10000000,1000000,100000,10000,10000,10000,10000,10000,5000,5000,100000,50000,1000,10000,50000,1000,1000,10000,1000,1000,1000,100,5000,5000,500,1000,10000,1000,100,1000,500,5000,1000,500,1000,5000,10000,1000,10000,100,1000,5000,10000,1000,1000,100,50000,1000,1000,5000,5000,1000,10000,50,1000,10000,1000,1000,500,500,1000,5000,1000000,1000000,1000000,1000000,1000000,500000,50000,5000000,1000000,1000000,100000,500000,10000,1000000,500000,500000,5000000,50000,500000,1000000,500000,100000,100000,100000,100000,500000,100000,1000000,1000000,50000,1000000,100000,100000,100000,100000,1000000,50000,100000,100000,1000,500000,1000000,10000,1000000,1000,100000,500000,100000,50000,500000,10000,1000000,100000,5000,100000,100000,100000,5000,100000,100000,100000,50000,5000,10000,10000,50000,10000,100000,100000,50000,10000,50000,10000,10000,50000,100000,5000,1000,1000,100000,100000,100000,5000,10000,1000,5000,10000,5000,1000,10000,10000,5000,100,50000,1000,100000,1,50,10,1,500,100,500,1000,50,100,100,10,10,100,100,10,100,50,10,100,1000,10,100,10,500,50,100,10,5,10,50,10,1,50,100,10,10,5,10,10,1,100,5000,5,10,10,10,5,50,1,10,50,5,100,100,10,5,100,10,100,10,5,5,10,100000,1000000,10000,1000,10000,50000,1000,100000,10000,500,10000,50000,1000,100000,5000,1000000,10000,1000,5000,10000,10000,10000,100,5000,10000,10000,50000,1000,1000,1000,50000,50000,100,1000,50000,10000,1000,10000,500,100000,5000,1000000000,1000000000,500000000,10000000,100000000,1000000,500000000,100000,100000000,10000000,1000000000,1000000,1000000,1000000,5000000,100000,1000000,5000000,5000000,1000000,5000000,10000000,5000000,1000000,500000,5000000,50000,10000000,1000000,5000000,1000000,1000000,10000000,10000000,10000000,10000000,10000000,1000000,100000000,1000000,10000000,5000000,5000000,100000000,10000000,10000000,10000000,100000000,50000000,10000000,50000000,10000000,5000000,10000000,100000000,5000000,500000,100000,500000000,1000000000,1000000,500000,10000000,10000000,500000,500000000,5000000,50000000,1000000,10000000,50000000,50000000,5000000,1000000,100000000,10000000,10000000,10000000,1000000,5000000,50000000,10000000,10000000,100000,50000000,10000000,10000000,10000000,100000,5000000,50000000,10000000,50000000,10000000,10000000,10000000,100000000,10000000,10000000,10000000,5000000,100000000,10000000,100000000,50000000,100000000,50000000,50000000,1000000,10000000,5000000,5000000,1000000,1000000,10000000,50000000,10000000,10000000,1000000,5000000,10000000,1000000,10000000,1000000,10000000,50000000,10000000,10000000,10000000,10000000,10000000,10000000,10000000,10000000,50000000,10000000,10000000,10000000,10000000,100000000,5000000,1000000,5000000,1000000,1000000,1000000,1000000,10000000,500000,500000,1000000,10000000,10000000,100000000,1000000,10000000,10000000,50000000,5000000,10000000,1000000,10000000,10000000,50000,1000000,5000000,1000000,1000000,1000000,10000000,100000,500000,500000,500000,5000000,100000,1000000,5000000,5000000,1000000,100000000,1000000,1000000,5000000,500000,10000000,100000000,10000000,1000000,1000000,10000000,10000000,1000000,500000,1000000,10000000,100000,100000000,1000000,100000,10000000,5000000,100000000,1000000,500000,10000000,1000000,5000000,1000000,500000,50000,1000000,1000000,1000000000,50000000,5000000,10000000,10000000,10000000,50000000,1000000,100000000,1000000,100000,5000000,1000000,5000000,1000000,1000000,5000000,50000000,500000,10000000,10000000,50000000,500000,1000000,1000000,100000000,1000000,100000000,50000000,10000000,1000000,1000000,5000000,10000000,1000000,1000000,5000000,10000000,10000000,100000000,10000000,100000000,10000000,1000000,5000000,1000000000,5000000,10000000,10000000,50000000,100000000,10000000,50000000,100000000,10000000,5000000,100000000,10000000,1000000,100000000,50000000,1000000,100000000,1000000,1000000,1000000,1000000,5000000,100000000,10000000,1000000,10000000,5000000,1000000,1000000000,5000000,10000000,10000000,10000000,5000000,1000000,10000000,10000000,100000000,10000000,1000000,50000000,5000000,10000000,100000,10000000,100000000,100000000,50000000,100000000,100000,50000000,50000000,50000000,10000000,5000000,10000000,10000000,100000000,100000000,1000000,5000000,10000000,1000000,10000000,50000000,50000000,50000000,50000000,10000000,10000000,100000000,50000000,100000000,100000000,100000000,10000000,50000000,100000000,100000000,100000000,100000000,5000000,10000000,50000000,100000000,10000000,1000000,10000000,5000000,5000000,10000000,10000000,10000000,100000,10000000,5000000,50000000,10000000,10000000,500000,10000000,1000000,5000000,5000000,5000000,10000000,1000000,10000000,5000000,5000000,5000000,5000000,5000000,1000000,1000000,10000000,5000000,10000000,10000000,5000000,100000,1000000,1000000,1000000,5000000,100000,500000,500000,500000,1000000,10000000,100000,5000000,100000,100000,500000,10000000,100000,1000000,500000,100000,5000000,10000000,1000000,5000000,100000,1000000,1000000,100000,1000000,100000,1000000,1000000,100000,50000,500000,100000,1000000,100000,1000000,50000,1000000,1000000,5000000,1000000,1000000,5000000,1000000,10000000,1000000,5000000,10000,50000,100000,1000000,10000000,5000000,100000,1000000,10000,5000000,500000,5000000,10000000,100000,5000000,50000000,500000,500000,500000,10000,10000000,10000000,50000000,100000,10000000,1000000,5000000,1000000,1000000,5000000,10000000,10000000,50000000,5000000,1000000,500000,1000000,10000000,10000000,500000,10000000,100000000,1000000,5000000,100000000,10000000,1000000000,5000000,5000000,100000000,10000000,5000000,10000000,50000000,10000000,1000000000,10000000,10000000,10000000,1000000,1000000,1000000,5000000,500000,100000000,100000,5000000,5000000,1000000,1000000,10000000,10000000,10000000,10000000,5000000,5000000,10000000,10000000,1000000,50000000,5000000,1000000,5000000,1000000,100000000,1000000,5000000,1000000,5000000,10000000,10000000,10000000,1000000,100000,1000,100000,5000000,10000000,1000000,1000000,1000000,100000,1000000,5000000,1000000,1000000,5000000,1000000,1000000,5000000,1000000,1000000,1000000,10000000,5000000,1000000,1000000,1000000,1000000,100000,5000000,1000000,1000000,10000000,5000000,10000000,5000000,10000000,1000000,100000,1000000,1000000000,10000000,1000000,5000000,1000000,1000000,500000,500000,1000000,1000000000,10000000,1000000000,500000000,10000000,50000000,50000000,100000000,1000000,10000000,100000000,100000000,100000000,10000000,50000000,50000000,10000000,10000000,5000000,10000000,1000000,10000000,100000,500000000,10000000,10000000,1000000,5000000,10000000,100000000,10000000,10000000,10000000,500000000,100000000,10000000,10000000,10000000,10000000,10000000,100000000,10000000,1000000,500000,10000000,10000000,50000,100000,100000,10000000,10000000,1000000,5000000,1000000,10000000,50000000,10000000,100000000,10000000,50000000,10000000,5000000,50000000,10000000,5000000,5000000,50000000,5000000,10000000,5000000,5000000,1000000,1000000,1000000,1000000,10000000,10000000,1000000,5000000,1000000,100000,1000000,100000,50000000,5000000,1000000,1000000,50000000,10000000,1000000,1000000,5000000,5000000,10000000,500000000,10000000,50000000,100000000,10000000,10000000,1000000,100000000,10000000,1000000,1000000,10000000,5000000,1000000,1000000,10000000,10000000,100000000,10000000,1000000,1000000,10000000,100000000,10000000,10000000,1000000,50000000,1000000,100000000,5000000,100000,5000000,5000000,1000000,100000000,500000,1000000,1000000,1000000,50000000,1000000,10000000,10000000,10000000,10000000,10000000,10000000,10000000,100000000,10000000,10000000,500000,10000000,10000000,1000000,1000000,50000000,1000000,10000000,100000000,500000,1000000,1000000,10000000,5000000,5000000,500000,500000,5000000,100000,500000,100000,10000000,50000000,5000000,1000000,1000000,1000000,1000000,1000000,5000000,10000,10000000,5000000,10000000,5000000,10000000,5000000,1000000,10000000,10000000,10000000,10000000,10000000,10000000,10000000,5000000,100000000,1000000,5000000,50000000,1000000,1000000,1000000,1000000,5000000,1000000,10000000,10000000,10000000,1000000,10000000,10000,100000,10000000,10000000,10000000,100000000,1000000,10000000,1000000,500000000,10000000,100000000,10000000,1000000000,10000000,10000000,100000000,10000000,100000000,5000000,1000000,10000000,100000000,50000000,100000000,10000000,100000000,5000000,100000000,10000000,10000000,1000000,500000000,10000000,10000000,500000000,100000000,10000000,5000000,5000000,5000000,100000000,10000000,50000000,10000000,100000000,5000000,50000000,100000000,50000000,50000000,50000000,100000000,1000000,50000000,1000000,500000,1000000,1000000,10000000,1000000,10000000,1000000,10000000,1000000,1000000,10000000,5000000,10000000,1000000,10000000,100000000,1000000,50000000,100000,5000000,10000000,1000000,1000000,500000000,1000000000,100000000,100000000,100000000,100000000,10000000,100000000,100000000,100000000,500000000,100000000,100000000,5000000,1000000,5000000,1000000,10000000,1000000,5000000,10000000,1000000,10000000,100000000,10000000,100000000,500000,1000000,1000000,1000000,1000000,5000000,5000000,1000000,10000000,5000000,500000000,10000000,100000,5000000,100000000,100000,500000000,1000000,1000000,1000000,5000000,500000000,10000,5000000,10000,1000000,10000,10000,100000,10000,5000,1000000,50000,50000,100000,1000000,100000,10000,1000000,1000000,10000,50000,10000,50000,1000000,500000,100000,100000,100000,100000,10000,100000,1000000,5000,500000,100000,10000,500000,10000,100000,1000000,100000,100000,10000,100000,1000000,1000000,100000,100000,1000000,100000,10000,1000000,50000000,1000000,50000000,10000,10000000,1000000,10000000,1000000,1000000,1000000,10000000,5000000,500000,10000000,1000000,5000000,5000000,1000000,10000000,5000000,1000000,5000000,1000000,50000000,1000000,100000,10000000,1000000,10000000,500000,1000000,10000000,100000,1000000,500000,500000,5000000,100000,1000000,1000000000,1000000,10000000,1000000,1000000,100000000,10000000,100000000,100000,500000,100000000,10000000,50000000,1000000,1000000,10000000,1000000,5000000,1000000,10000000,10000000,50000000,1000000000,10000000,1000000,50000000,50000000,1000000,50000000,5000000,1000000,5000000,1000000,1000000,1000000,10000000,10000000,10000000,500000000,1000000,500,1000000,1000000,1000000,10000,100000,500000000,5000000,10000000,1000000,10000000,10000000,1000000,1000000,10000000,1000000,1000000,5000000,1000000,10000000,5000000,10000000,1000000,10000000,50000000,1000000,500000,1000000,10000000,10000000,100000,1000000000,10000000,10000000,500000000,10000000,500000,500000,1000000,1000000,1000000,1000000,5000000,5000000,50000,1000000,1000000,1000000,1000000,5000000,500000000,1000000,1000000,5000000,1000000,1000000,500000,1000000,10000,1000000,5000000,1000000,100000,1000000,100000,5000000,1000000,1000000,1000000,5000000,10000000,100000,1000000,1000000,1000000,1000000,10000000,100000,1000000,5000000,500000,1000000,1000000,10000000,10000000,10000000,10000000,1000000,1000000,1000000,1000000,10000000,5000000,1000000000,1000000,500000000,100000000,5000000,10000000,10000000,5000000,5000000,1000000,100000000,50000000,500000,10000000,1000000,1000000,1000000,10000000,1000000,100000,5000000,5000000,5000000,5000000,1000000,1000000,1000000,1000000,100000,100000,1000000,1000000,5000000,1000000,1000000,5000000,1000000,1000000,5000000,1000000,5000000,1000000,1000000,10000000,100000,5000000,1000000,1000000,10000000,50000,1000000,1000000,5000000,500000000,10000000,50000000,1000000,1000000,500000,10000000,50000000,5000000,500000000,100000000,1000000,10000,100000000,10000000,50000000,500000,10000,500000000,100000000,10000,500000,50000000,500000,5000000,100000000,1000000000,100000000,1000000,500000,10000000,50000000,50000000,50000,1000000000,10000000,100000000,500000000,100000000,1000000000,100000000,50000000,100000000,100000000,10000000,10000000,100000000,500000,500000,10000000,50000000,50000000,100000000,10000000,10000000,1000000,5000000,5000000,1000000000,5000000,100000000,500000,10000000,500000,500000000,5000000,10000000,500000,1000000,1000000,100000000,100000000,5000000,1000000000,1000000,100000000,100000000,1000000,1000000,10000000,50000,100000000,50000000,100000000,10000,10000,10000000,100,10000000,100,50000000,10000,500000,1000000,5000,1000,50000000,100,50000,50000,50000,100000000,50000000,100000000,10000000,1000,1000,5000,50000000,100000,50000,1000,500,500,100000000,100000000,1000000,1000000,50000,100000,10000000,50000,500000000,1000000,1000000000,10000,50000,1000000,10000000,50000,1000,10000,100000,500000000,10000,1000000,10000,100000,1000,5000,50000,5000,10000,100000,5000,100000000,10000,100000,100000,50000,1000,100000,5000,5000,50000,5000,10000,10000,5000,100000000,100000000,10000000,10000000,10000000,100000000,100000000,50000000,100000000,500000000,50000000,100000000,100000000,100000,50000000,100000,500000000,50000000,10000000,100000000,100000000,1000000,100000000,100000000,100000000,100000,500000,100000000,50000000,100000000,1000000,10000000,10000000,5000000,100000,1000000,100000000,10000000,10000000,5000000,100000000,10000000,100000000,1000000,10000000,500000,500000,10000000,100000000,100000,500000,100000000,100000000,100000,5000000,100000000,100000000,10000000,10000000,500000,1000000,100000,5000000,500000,1000000000,100000000,10000000,100000000,100000000,1000000,500000000,100000000,50000000,10000,500000,1000000,100000000,100000,5000,50000,500000000,100000,50000,50000,500000,1000,50000,500000000,500000,5000,50000000,10,100000,5000,500,500000,100000,500000,5,10000,50000,10,500000,10,500,10000000,5000,10000,1000000000,50000000,50000000,500000000,50000000,5000000,1000000000,100000000,100000,1000000000,1000000,100000,5000,10000,1000,50000000,5000000,1000,100000,500000,100000,100,100,10000,50000,5000,1000000000,50000,5000,500,50000,5000,50000,10,500,1000,10000,100,100000000,5000000,100000,10000000,10000000,100000,100000000,5000,5000,1000000,500,1000,500000,10000,5000,100,1000000,5000,5000000,1000,10000,10000,10000,10000000,50000,1000000,100,1000,10000,100000000,50000,50000,10000,1000000,50000,100000000,1,10000000,500000,5000000,500000,50000000,1000000,1000000,100000000,1000000,100000000,500000,10000000,50000000,10000000,100000000,1000000,5000000,5000000,10000000,5000000,10000000,5000000,10000000,10000000,1000000,1000000,100000000,10000000,100000000,100000,10000,50000000,10000,10000000,50000000,1000,100000000,10000,100000,1000000,50000000,10000000,1000,50000,10,1000,10000000,1000,500,1000,10000,1000,100,1000,10000,10000,10000,500,100000000,50000,500000,10000,100000,50000000,10000000,100000,10000000,1000,100000,100000,100000,100000,500,5000,1000000,500000,100000,1000,1000,10000000,1000,100000000,1000,1000,100000,10000,5000,100,5000,1000,10000,5000,1000000,100000,10000,100,10000,10000,10000,10000000,100000000,50000000,50000000,5000000,50000000,50000000,10000000,500000,100000000,1000000,50000,50000,100000,10000000,1000000,500000,1000000,100000000,10000000,100000,100000,50000,10000000,10000000,100000,50000000,10000000,10000000,1000000,10000,1000000,1000000,50000000,100000,50000000,10000,100000,1000,10000,100000,5000,10000,50000,5000,500000000,100000,10000,1000000,10000000,100000,10000,10000,10000,100000,10000,10000,10000000,10000,1000000,100000,5000000,1000000,1000000,500000,1000000,10000,10000000,10000,50000,1000000,1000,100000,100000,10000,5000,1000000,100000,5000000,5000000,10000,1000000,1000000,1000,500000,10000,50000,1000000,50000,1000,100000,10000,100000,100000,10000,50000,1000,5000,10000,10000,1000000,100000000,100000000,10000,100000,1000000,10000000,10000,50000,10000,100000,100,50000,100,50000,1000000,500000,5000,1000000,100000,100000,500000,10000000,100000,50000,10000000,10000000,100000000,1000,100,5,100,1000,100000,1000000,100,10,500,1,100,10000,10,5000,10000000,0,100,10000,100,50000,500,1,5000,10000,100000000,1000,100000,100,1000,10000,100000,10000,500,1000,10000,1000,10000,5000,500,10,10000,5000,100000,500000,1000000,500000,500000,10000,50000,1000000,1000000,10000000,1000000,10000000,500,500000,100000,1000,100,5000,10000,100000,10000,500000,10000,100000,100000,50000000,10000000,1000,1000,50,10000,10000,5000,5000,100000,100000000,100000,10000,1000,1000,1000,500000,1000,100000,1000000,5000,1000,1000,10000,10000,50000,5,10000,1000,10,100000,1000,50,1,10,5000,50,100000,5000,100000,1000,5000,50000,100000,100,100,100000,500,10,500000000,1000000,100000000,1000000,1000000,1000,100000,10000000,100000000,10000000,1000000,1000,100000000,1000000,50000000,500000,50000,50000,1000000,100,100000000,100000000,10000000,50000000,10000000,10000000,100000000,50000000,1000000,1000000,10000,100000,1000000,1000000,10000000,5000000,100000000,10000000,500000,50000000,10000,10000000,10000,10000000,1000000,5000000,100000,10000,10000000,1000,5000,5000,5000000,10000,1000,10000,100000,1000000,5000,50000,1000000,1000000,1000000,500000,5000000,10000000,10000000,100000000,100000000,500000,10000,5000,100000,10000,50000,50000,50000,100000,1000,500000,10000,100000,500000,5000,10000,10000,100000,10000,100000,50000,10000000,10000,500000,5000,10000,100000,100000,10000,100000,100000,100000,500000,100000,5000,10000,10000000,1000000,50000000,100000,5000000,500000000,1000000,100000,500000,10000000,100000000,10000000,50000000,1000000,50000000,50000000,100000,100000000,500000,5000,100000,1000000,100000,100000,100000,100000000,50,1000000,10000,50000,10000,1000,100000,500000,5000,5000,10000,50000,100000,100000,10000,100000000,5000,5000,100000000,500,100000000,10000000,5000,100000000,1000,50000000,50000,10000000,50000000,10000,10000000,5000,100000,10000000,10000,1000000,10000,1000000,5000,5000000,50000,10000000,10000000,5000000,10000,10000000,10000,100000000,50000000,5000000,5000000,100000000,100000,5000000,100000,5000000,100000,50000,5000,10000000,1000000,1000000,10000,100000,1000000,5000000,10000000,1000,500000,10000,1000000,100000,10000,1000000,1000000,500000,5000,50000,100000,50,500000,1000000,10000,100000,1000,1000000,1000000,1000000,100000,100000,500000,100000,10000,100000,100000,1000000,50000000,500000,10000000,10000000,100000000,50000000,10000000,100000000,10000000,10000000,1000000,5000000,5000000,5000000,5000000,100000000,100000000,10000000,1000000,100000000,50000,10000000,10000000,10000000,5000000,50000000,1000000,1000000,50000000,10000000,1000000,100000000,5000000,100000,10000000,1000000,1000000,5000000,50000,10000,100000,1000,100000,500000,1000000,10000,1000000,10000,5000000,1000000,10000,10000,100,1000000,500000,10,100000,5000,1000000,10000,5000000,10000000,500000,10000000,1000,1000000,10000000,5000000,10000000,10000000,1000000,100000000,100000,100000,100000,50000,100000000,10000000,5000,10000000,1000000,50000000,1000000,10000,100000,500000,10000,100000,1000,10000,100000,500,50000,50000000,10000,1000000,1000,100000000,10000,1000000,1000,1000,1000000,1000000,10000,1000000,100000,500000,500000,100000,1000000,500000,100000,5000,10000,1000000,50000,100000,10000,10000,10000,100000,5000,50000,5000,50000,1000000,100000,10000,100000,100000,50000,10000,10000,10000,1000000,100000,10000000,1000000,100000,100000,50000,1000,50000,100000,1000,10000,1000000,500000,10000000,500000,1000000,1000000,10000,500000,10000000,50000000,1000000,10000,50000,50000,1000000,10000,50000,1000000,10000,50000,1000000,10000,100000,1000,10000,1000000,10000,100000,100000,1000,100000,5000,1000000,100,5000000,500000,50000,1000,50000,5000000,10000,100000,100000,1000,100000,100000,100000,5000000,10,10000000,1000000,1000000,5000000,50000,100000,5000,10000,100000,1000000,500000,50000,500000,1000000,100000,1000000,100000,1000000,50000,50000,500000,100000,1000000,1000,10000,5000000,1000,1000,100000,100000,10000,10000,10000,10000,10,10000000,10000,10000,1000000,500000,100,50000,10000,1000,5000000,1000,10000,1000,10000000,10000,10000,5000,100,10000000,1000,100000,10000,10000,1000,5000000,10000000,5000,100,100,500,10000,5000,50,100000000,10000000,100,500000,100,10000000,5000000,1000,1000000,1000,1000000,100,5000000,1000,10000000,100,10000000,10000000,10000000,5000000,100000000,10000000,1000000,1000000,500000,1000000,500,10000,10000,1000,5000,500,10000,1000,10000,1000,1000,5000,100000,100,5000,1000,100,10,100,1000,10000,1000,100,1000,100,50,100,1000,10,50,50,50,100,500,10000,100,100,100,10000,100,1000,5,500,1,10,50000,100,100000,100,100,1000,50,100,50,10000,50000,100,50,100,100,10000,100,100,100000,100,5000,100,50,100,100,100,100,500,50,100000,50,1,50,100,100,100,100,10,100000,100,100,50,1,50,100,10,50000,50,100,1000000,100000,50000,5000,1000000,1000,50000,1000000,10000,100000,10000,50000,50000,1000000,10000,1000000,10000,5000,100,1000,1000,100,1000,100000,100000,500,1000000,1000,100000,5000,10000,5000000,10000000,100,100000,100,100,1000,5000,100,500,1000,10000,500,10000,5000000,50000,50000,100000,10000,1000000,1000,100,10,100,1000000,10,500,10000,100,500,500,10,1000,1000,100,100,10,10,10,10000,100,100,100,100,50,5000,100,5,50,1000,50,10,100000,5,50,5,10,10,500000,10,10,100,500,100000,100000,100,500000,50000,1000,10000,1000,5000,100,10000,10000000,50000,10000,500,1000000,500,500,100,1000,100,10000000,10000000,10000,10,5000,10,500,1000,1000,10,100,5000,10000,5000000,0,100,5000000,1000,50000,10000000,50000,50000,1000,10000,10000,10000,10000000,50000,500000,10000000,10000000,10000000,1000000,100000,1000000,50000,1000000,100000,1000000,5000000,100000,5000000,500000,10000,50000,500000,1000000,1000000,10000,1000000,100000,50000,10000000,50000,50000,100000,10000000,100000,100000,10000,10000000,10000,10000,50000,1000,1000,5000,1000,10000,5000,1000000,1000,1000,10000,10000,10000,5000,10000,5000,100000,1000,100000,100000,100000,500000,10000,1000000,1000000,10000000,100000,10000000,10000000,10000000,5000000,10000000,10000000,10000000,1000000,5000000,10000000,5000000,5000000,1000000000,10000000,5000000,1000000,10000000,1000000,100000,1000000,5000,1000,1000000,10000,100,10000000,100000,1000000,100000,100000,1000000,1000,10000000,10000000,100000000,10000000,10000000,5000000,1000000,5000000,5000000,10000000,5000000,100000,10000000,1000000,10000000,10000000,100000,10000000,10000000,5000000,1000000,1000000,10000000,50000000,10000,100000,100000,10000000,5000000,10000000,10000,10000000,1000000,1000000,5000,1000,100000,10000,10000,10000,10000,5000,100,5000,1000,5000,1000,10000,500000,100000,1000,10,100000,10000,10000,5000,10000,10000,10000,1000000,100,500,5000,1000,100,5,50000,10,1000000,1000,5000,0,5000,1000,10,1000000,1000,1000000,100000,50000,500000,100000,10,100,10,1,500,500,10000,1000,10000000,50,1000,10,10,5,10,50000000,5000,10000,1000000,10000000,10000000,50000000,10000000,5000000,1000000,10000000,5000000,10000000,1000000,5000000,5000000,10000,100000,1000000,5000000,1000000,50000,10000000,1000000,5000000,100000,1000,10000000,100000,50000,5000000,10000000,1000000,100000,100000,50000000,10000,100000,10000,10000,10000,1000000,5000,10000,1000,5000,10000,1000000,1000000,5000,10000,50000,1000,100000,1000,5000,1000000,10000,50000,10000,1000000,5000000,50,100000,100000,1000000,100000,10000,10000000,10000000,100000,50000,500000,50000,1000,5000000,10000000,10000000,5000000,5000000,10000000,10000000,10000000,500000000,5000000,10000000,5000000,5000000,100000000,5000000,5000000,1000000,50000000,50000000,5000000,1000000,10000000,10000000,10000000,50000000,5000000,500000,1000000,1000000,10000000,10000000,1000000,5000000,5000000,5000000,5000000,1000000,5000000,1000000,500000,100000,5000000,1000000,1000000,1000000,1000000,100000,10000000,100000,1000000,500000,100000,5000000,100000,100000,100000,500000,100000,10000,100000,100000,50000,1000000,100000000,1000000,1000000,10000,1000,1000000,100000,50000,100000,10000,10000,1000,100000,1000000,100000,100000,1000,10000,100,100000,10000,1000,50000,10000,1000,100,1000,1000000,500000,1000,10000,5000,5000,100000,1000,10000,10000,100,1000000,1000,1000000,10000,50000,10000,100000000,100000,100000,10000,5000,1000,1000,10000000,1000,10000000,10000,100000,5000,100000,1000000,50000,1000,5000,1000,10000000,50000,50000,10000,1000,50000000,10000000,50000,10000,10000,5000,1000,10000,1000000,10000000,5000,50,10000000,1000000,100,100000,100000,1000,1000000,5000,100,100000,100000,500,100000,50000,500,1000000,1000,100000,50000,10,1000,100000,5,100,500,100,100,5000,50000,1000000,5000000,1000,1000,100000,5000,10000000,10000,10000000,100000,1000000,10,100000,100000,100000,1000,100,1000,1000000,100000,10000,100000,500000,10000,1000000,10000,10000,100000,100,5000,100000,50000,100,1000,1000,50,500,5000,10,5000,5,10000,1000000,10,10,50000,50000,50,10000,100,100,1000,1,100000,10000,1000,1000,50,500000,500,1000,1000,100,500000,50,100,5000,5000,100,5000,100,500,1,1000,10,10,500000,1,1000,100,10000,100,10000,10,10000,10,1,1000,10000,100000,10000,10,1000,1000,10,5,1000000000,1,10000,1000000,10000000,5000000,10000000,10000000,10000000,10000000,10000000,5000000,5000000,10000000,100000,10000,1000000,1000000,100000,500000,5000,10000,10000,10000,10000,1000,500,500,100000,10000,1000,10000,500,10000,50000,1000,10000,10000,1000,100,1000,10000,10000,1000000,100000,1000,5000,10000,100000,5000,10000,10000,50000,1000,1000000,1000,500,5000,1000,5000,500000,1,100,10000,10000,1,10000,100,5,1000,10000,100,100000,10000,10000,10000,50000,1000,100000,10000,50000,50000,50000,10000,100,1000,10,500,5000,0,1000000,100000,10000000,100000,100000000,10,5000000,100000,10000000,5000,500000,1000,1000,1000,100,1000,5000,5000000,50000,50,100,500,100,500,1000000,1000,50000,5000,10000,50,10,50,10000,500,1000,100000,1000,1000,100,1000,500,100,1000,100,50,500,100000,500,100,1000,100,5000000,1000000,10000,5000,1000000,500000,500000,10000,10000,5000,500000,50000,10,1000,5000,10000,100000,1000,10000,1000,1000,10000,500,500,100,1000,100000,50000,5000,50000,10000,500,10000,500000,100000,5000,100,100000,100000,5000,500000,10000,1000000,100000,500,5000,100,10,500,100,100000,100000,10000000,500000,100000,100000000,100,1000,50000,100000,10000000,100000,1000,10000,5000000,100000,1000000,1000,50000000,50000000,100000,50000000,5000000,5000,5000,100000,10000000,10000,50000000,100000,10000000,10000000,1000000,5000000,1000000,10000000,100,10000000,10000000,1000,10000,10000,10000,50000,1000000,50000,100000,5000000,10000000,10000,1000,100000,50000,1000,5000000,100000,1000000,500000,1000,1000,1000,1000,100000,5000,1000000,1000,5000,10000,50,10,50,50000,50000,100,100000,1000000,100000,1000,10000,1000,500,1000,10000,500,100000,1000,100,1000,10000,5,1000,5000,10000,10000000,1000,1000,500,1000,100,5000,100,1000,10,100,100,10,100,1000,10,1000,1000,100000,50000,100,500,500,1000,1000000,1000000,500,1000,500,100,1000,100,10,1000,100,1000000,5000000,10,100000,50000,1000,10,10000000,100000,100,5000000,1000,10000,10,500000,50,1000000,1000000,5000000,100000,10000,10000,10,100000,100,100000,100000000,100000,50000,10000000,50000,50,100000,1000000,500000,10000000,1000000,5000000,10000,100000,100000,500,100000,1000000,10000,1000,1000,10000,10,500,1000,100000,10,10,1000,10,100,500,1000,100000,100,10,1,10,1000,1000,10,5000,10000,5000,1000,50000,50000,100,1000000,50000,1000,10000,500,5000,1,10,50,100,500,100000,500000,100000,10000,1000,5000,10000,100000000,1000,10000,100,10000,10000,100,10000,1,1000,1000,10000,10000000,5000,5000,1000000,1000000,10000000,50,10000000,10000000,10000000,10,10,50000000,10000000,10000000,10000000,50000000,5000000,5000000,10000000,1000000,10000000,10000000,5000000,5000000,100000,500000,10000,10000,50000,500,10000,100,500,1000,5000,50000,100,1000,100,10000,500000,10000,5000000,100,50000,10000000,10,500,100,1000000,500,100,100000,500,10,5,10000000,10,10000000,100,10,1000000,1000000,5,100,100000,10000,100000,100000,100000,500000,100000,100000,5000000,5000000,1000,100000,5000,5000,10000,5000,50,100,50,50,100,100000,1000,10000,500,100,100000000,100000,1000,1000,10,10000,1000,10000,1000,1000,10000,5000,10000,50000,10000,10000,5,10000,100,5000,100,100,10000,1000,10000,50,5,500000,10000,10000,100000,10000,10000,100000,1000000,1000000,5000,10000,100000,100000,10,100000,50000,10000,100000,100000,1000,10000,1000,100,10000,500000,100,50000,5000,50,100,10,10000,500,100,1000,100,100,5,10000,1000,10000,1000,100,50,10,10,500,10000,100000,100000000,1000000,50000,1000000,50000,100000,100,100,1000,10000,500,100,10000,10000,50000,100,100000,1000,1000,100,1000,10,10000,100000,5,500,100,100000,1000,500,1,500,10,500,10,100,1000000,1000000,1000,50,10000,100,1000,100,10,10,500,1000,10000000,500000,5000,100000,500000,100,100000,100000,10000,100,10000,10,500000,5000,10000,1000,100,10000,10000,5000,1000,100,10,5000,50000,10000,5000,5000,10000,1000,5000,1000,1000,50,5000,50000,1000,5000,10000,1000,10000,1000,10000,10000,5000,1000,1000,50,10,100000000,100000,1000000,1000,10000,50000000,50000000,1000,100000000,100,10000,500,100000,10,1000,5000000,10000000,10000,1000000,1000,1000000,100,1000000,1000,1000,10000000,5000000,10000000,10000,5000000,5000,10000000,50000000,50000000,1000000,10000,10000,10000,1000000,500000,1000,1000,100000,10000000,50,10000,10000,10000,1000,500,1000,100,50,100,1000,500000,5000,1000,1000,1000,10,1000,100000,50000,1000,1000,1000,1000,10000,50,100,1,500000,10000,1000000,1000000,5000,1000000,100,5000,1000,100,1000000,1000,1000,5000,50,1000,1000,50,5000000,100,100,50,10000,5000,50000,5000,100000,100000,50,10000000,1000,500000,5000,1000000,100,10000,10000000,1000000,50000,50,100,5000000,100,50,100,5,10,1000,5000000,100000,1000000,1000000,100000,50000,10000000,100000,5000,5000,100,10000,1000,500,5000,100000,100,10000,100000,0,5000,10000,50,10,100000,100,1000,5,100,50000,50,5000,10000,1000,10000000,100000,10000,10,500,100000,5000000,1000000,1000000,10000,10000000,10000,10000000,100000,1000000,50000,1000,1000000,500000,50,50,1000,50000,5000,100,10,100,100,10000,1000,100,100,5000,1000,50000,500,100,50,100000,50,10000,50000,10000,10,1000,100000,50,100000,10,1000000,100000,10000,10000,1000,1000000,1000,5000000,100000,1000000,1000,500000,5000,10000,10000,10000,5000,500000,50000,10000,10000000,1000000,1000,100000,500,500,5000000,500,500,1000000,1000,1000000,500000,1000,10000,10000,100000,500,10000,100,10000,5000,1000000,50000,100,10,500,100,1000,1000,50000,100,10,5,5000,1000000,1000,10000,10000,1000,10,100,10,100,1000,10,10000,1000,1000000,500,10,1000,50,100,1000,10,50,100,1000,100,1000,500,100,50,500,1000,10,100,10,50000000,1000,10000,1000,100000000,100,100,100,100,500,500,1000000,500,1000,100,100000,100,100,500,100,50,100,100,100,10,10,100,10,10,500000,100,500,100000,10,50,50,10000000,5000000,100000,10000,5000000,100000,50000,1,1000,5,1000000,1000000,50,100000,1000,5000,1000,10000,50000,100000,10000,1000,5000,500,100000,10000,100000,1000,5000,5000,100,100,1000000,500,100,10,100,1000000,50,10,10000,1000,10000,100000,1000,50000,500,1000,5000,10000,10,100,1000,1000000,500000,100,10,50000,10,50,5000,10000,1000000,10000,100,5000,100,10000,100,100,100,50,100,1000,1000,5000,5000,100,1000,1000,1,10000,500,1000,100000,100,5000000,1000000,500,10000000,5000000,1000000,1000,10000,1000000,10000000,10000000,5000,1000000,10000,500000,500000,500000,1000,1000000,500000,50000,5000000,1000000,500000,500000,10000000,1000000,100000,100000,1000000,1000000,10000000,1000000,1000000,100000,50000000,5000000,1000000,100000,500000,100000,100000,500000,1000000,1000000,100000,100000,500000,500000,5000000,50000,500000,100000,5000000,100000,1000000,100000,100000,1000000,500000,100000,100000,1000000,1000000,1000000,10000,100000,1000,100,100,1000,10000,1000,1000,10,50000,50,10,1000,10,100000,500,10000,1000,5000,1000000,500,1000,100,1000,1000,5000,50000,500,1000,10000,100,500000,100,1000,1000,5000,1000,50,500,10000,10000,10000000,1000,100000,5000000,5000,10000,1000,10,100000,1000000,100,500,1000,10000,10000,10,5000,1000,1000000,100000,100,5000,10000,100,100,1000000,10000,100000,100000,50000000,100,1000000,1000,1000,100000,10000,50000,500,100000,10,100,500,1000000,50,1000,10,50,100000,1000,1000,100,500,10,100,100,1000,100,1000,10,50,10000,100,10,10,100,50,5000,500,500,50000,5,500,5000000,10000,1000000,500000,10,500,50000,100,100,100,1000,5,500,10000,10,500,10000,100,500,10,100,500,500,100,500,5000,10000,5,1000,100000,100,1000,500,5,100,5,50,1000,5000,50,50,5,10000,10000,1000,10000,100,10000,1000,10000,100,5000,10000,1000,500,100,1000,50000,50000,1000,1000,100000,50,1000,500,100,1000,100,100,5000,50000000,500,100,100,10000000,50,1,50,50,1000,10000000,10,1,100,1000,5,5000000,100000,1000,10000,100,5000000,100000,1000,100,1000,100,100,100,500,100,500,100,100,1000,100,10,100,10,100,1000,10000,1000,100,100,100,50,100,10000000,100,100,100,50,100,100,10,100,100,500,100,100,500,50000,10000,5000000,10000,5000,1000,1000,10000,5000,100000,100,10000,1000,100,10000,100,1000,500,500,1000,1000,5000,5000,50000,100,100,500,100,100,10000,10,500,1000,1000,10000,10000,100,50,500,1000,10,50,1000,100000,1000,5000,1000,5000,10000000,1000000,100000,500,50000,5000,5,1000,1000,1000000,50,500,10000,10,10000,5000,1000000,10,1000,100,500000,100000,500000,100000,5000000,1000,1000000,100000,10000,50000,10000,50000,1000,1000,10000,1000,500000,100000,100,500000,100,1,500,100,5000,5000,10000,10,10,100,100000,10,100000,500,100,10,1000,50,100,100,50,5,1000,1000,1000,10,5000,10000,100000,50,5000000,10,500,10,1000,50000000,1000,5000,10000,5000000,100,1000,100,10000,10000,1000000,1000000,5000,1000000,100,1000,500,500000,100,100,100000,100000,500000,100,100000,10000000,50000,1000,10,100,0,500,50000,50000,1000000,500,10,10000000,100,1000000,10,10,10000000,10,50,100000,10000,5000000,1000000,1000000,500000,10000000,10000,50000,100000,10000000,500,10000,50000,10000,100,100,10,5000000,5000,1000,5000,500,50,5000,1000000,10,100,10,1000,100000,5000,1000,10,100,50000,10,10,5000000,1000,10000,10000000,1000000,10000,10,5,10000,100000,100000,100000,1000,10000,50000000,100,10,10,10,1000,5000,500000,100000,500000,1000,1000,10000,5000,50000000,10000,100,1000,10000000,5000000,1,1,100,500,10000000,5,5000,10,10,10000,10,100,100,50,100,500000000,100000000,100000,100000000,50000000,1000000,10000000,5000000,5000000,100000,100000,500000,5000000,100000,100000000,100000,1000000,50000000,1000000,10000,100000,100000,100000,10000,100000,50000,100000,100000,500000,500,10000,500000,10000,10000,1000000,10000,10000000,10000,100000,100000,500000,1000000,10000,5000,100,10,10000000,100000,10000,100000,100000,10000,1000000,10000000,100000,500000,1000000,10000000,5000000,1000000,5000000,1000000,10000000,5000000,500000,1000000,1000000,5000000,10000000,1000000,1000000,1000000,1000000,1000000,100000,500000,100000,5000000,10000,5000000,1000000,10000,50000,10000,10000,1000000,1000,100,1000000,10000,10000,5000,100,1000000,10000,100000,1000,10000,5000,1000,5000,1000,10000,1000000,10000,1000,100000,10000,10000,1000,50000,50000,1000,500000,1000,500,10000,1000000,5000,1000,10000,100,500,5000000,10000,1000000,100,1000,1000,1000,1000,1000000,100000,50000,10000,100000,500,10000,500000,10000,1000,1000,1000,100000,10,1000,5000,5000,1000000,10000,50000,10000,100000,1000000,500,500,1000000,10,1000,100,100,100,1000,100000,10000,100,100,1000000,500,100,500,1000000,500,100,10000,5,5000,100,5000000,10000,1000,1000000,1000,100,100000,1000,100000,500,500,10,10,500,5000,10,5,5,100000,100000,10,10000,1,100,100000,500000,10000,1000,10000,10000000,10,10000,100,10,100000,50000,5000000,5000000,100000,50,1000,100,50,100000,100,100000,1000,10000,1000000,5000000,10000000,500000,100000,100000,500,100000,10000,1000000,500000,500,100,100,1000000,5000,10000,1000000,500000,50000,10000,500000,5000,10000,100,1000,1000,5,5000,100,10000,100000,50000,5000,5000000,100,100,100,500,50000,5000,1000,50,100,1000000,100000000,1000000,500000,1000000,10000000,5000000,1000,100000,10000,100000,100000,50000,10000,50000,100,5000,100000,500000,10000,100,1000,100000,10000,10000,10,1000000,500000,1000,1000000,100,10000,5000,10000,50000,1000,50,50000,10000,500000,5000,100000,10000,50000,10000,5000,50000,100,50000,50000,1000,5000,10000,1000,1000,10,1000,1000,500,1000,5000,10000,10000,100000,5000,1000,100,100,5000,50000,10000,100,1000,10000,1000,1000,10000,100,1000000,100,50,100000,10000,100,5000,100,1000,1000,50,50,100,100,10000,50,100000,10000,10000,1000,100000,50000,10000,10000,10000,10000,10000,10000,10000,10000,50000,50000,50000,10000,10000,10000,50000,100000,50000,10000,1000,50000,10000,5000,100,5000000,50000,1000000,5000000,10000000,10000000,100000000,10000000,500000,1000000,10000,100000,1000000,1000000,100000,10000,500000,5000,100000,100000,10000,10000,50000,100000,100000,100000,1000,1000000,50000,1000000,100000,1000,5000,1000000,10000,10000,100000,5000,10000,5000,100000,10000,10000,10000,10000,50000,1000,1000,100000,10000,5000,50000,10000,100000,5000,5000,5000000,500000,5000,50000,10000,100000,100,10,5000000,100000,100,50000,5000,100,1000000,500,100,100,100,10000,10,100,50,1000000,500,5000,5000,100,1000000,100,10,10,1,500000,1000,100000,1000,100000,1000,500000,50000,50000,10000000,5000,500000,1000,1000000,5000000,5000000,5000,100000,1000,10000,10000,1000000,10000,10000,10000,1000,50000,500,1000,1000,1000,500,100000,500,5000,500,10000,10,5000,100,100,10000,500,50,500,10,100,50,50,100,500,1000,50,500000,10000,100000,50,1000,1000,5,50,0,100000000,1000000,50000,100000,100,5000,5000000,500,1000,100,10000,100,1000,1000,100,100,50000,1000,5000,100,100,100,100,10,10,1000000,500,5,100,1000000,100,10,10,10000000,1000000,5000,1000000,5,100000,500000,10000,10000,10000,1000000,10000000,100000,10000,10000,1000,1000000,10000,10000,500000,100000,100000,10,1000000,10,10,1000,50000,50000,50000,10,5,10,1000,1000,1,5,10000,100000,10,1000,100000,100,100000,10,500,10,5000,500,100000,100,10000,500000,1000000,1000,10000,100000,10000000,5000000,10000000,50000000,10000,5000000,1000000,5000000,10000000,1000000,10000000,1000000,5000000,10000000,10000000,10000000,50000,10000000,5000000,10000,10000000,10000000,10000000,10000000,5000000,10000000,10000000,50000,50000,10000000,5000000,5000,500000,5000,1000,10000,10000,10000,100,500,50,500000,1000,10000,500,500,1000,500,10000,10000,1000,1000,10000,10,10000,10000,5000,5000,100,10000,10,10000,100,100000,10,5000,1000,1000,1000,100,1,1000,10000,10000000,1000000,5000000,10000000,500000,5000000,50000,10000,10000000,1000000,10000,1000,5000000,1000,1000000,5000,50000000,100,10000000,500,5000,50000,1000,5000000,1000,10000,50000,10000000,50000000,500000,100,5000,100000,50,5000,500,500,50,1000,10000,5000,5000,10,5000,10000000,10000000,10000000,5000000,10000000,10000000,5000000,1000000,10000000,10000000,50000000,1000000,10000000,1000000,10000000,5000000,10000000,1000000,100000000,50000000,50000000,5000000,50000000,10000000,10000000,5000000,10000000,10000000,100000,1000,100,10000000,10000,500,1000,10000,100,50000,1000,10,500,100,100,100,1000,1000,10,100,100,500,500,10000,100,10,500000,50,5,10,10000000,10,10,100,100,500000,1000,5,1,10,5000000,500,100,5000000,100000,10000,10000,50,1000,1000000,10000,1000,1000,1000,100,10000000,500,10000,10000,10,1000,1000000,500,10000,1000,100,500000,100,100,100,10000,100,10,100,10,10000,100,10000,100,10000000,5000000,10000000,50000000,5000000,100000,1000,5000000,10000000,1000000,1000000,10000000,100000,10000,50000,100,1000000,500000,1000,1000000,10000,1000,5000000,100000,500000,10000000,10000,5000000,1000000,50,1000000,100000,10000000,100000,100000,1000,10000000,10000000,1000,100,10000000,1000000,1000000,100000000,10000000,50000000,10000000,10000000,500000,100000000,10000000,100000,5000000,500000,10000000,10000000,100000000,1000000,50000000,10000000,50000000,10000000,100000000,10000000,10000000,5000000,10000000,10000000,1000000,100000,100000,100000,1000000,1000,1000,1000,50000,1000,5000,10000,10000,100000,1000,10000,50000,10000,1000,100000,500,1000000,50000,100000,1000,1,100,50000,10000,100,10,10,10000,10,1000000,1000,10000,500,1000,500,50,100,100,100,100000,1,10,50000,10000000,5000000,50000000,10000000,100000,1000000,10000000,1000000,1000000,1000,5000000,10000,5000,5000000,10,100000,10000000,5000000,10000,1000000,1000000,1000000,50000,10000000,10000,10000000,1000000,100000,1000000,1000000,1000000,10000,10000,5000,5000,100000,5000,1000,1000,1000,5000,10000,1000,1000,10,1000,5000,1000,1000,100,10000,1000,5000,5,10,100,100,5000,500000,50,500,100,5000,100,100,50,5,10,10,100,100,10,10000,10000,1000,100,50,50000,10000,10,100000,500,5000,100000,10,10,50,500,10,100,100,100,5000,5,10,10,50000,100000,100000,1000000,1,1000000,0,100000,1000,500000,50000,50000,1000000,50000,50000,10000,5000000,5000000,1000000,1000000,1000000,10000000,5000000,1000000,100000,5000000,10000000,1000000,1000000,100000,10000000,500000,1000000,100000,1000000,1000000,500000,100000,1000000,500000,100000,1000000,100000,100000,50000,1000000,100000,100000,1000000,10000000,1000000,100000,10000000,500000,10000,100000,500000,1000000,100000,5000,500000,50000,100000,100000,10000,500000,100000,5000,100000,100000,1000,1000000,1000,5000,1000,10000,10000,100000,100000,50000,100,5000,100000,10000,10000,10000,5000,5000,1000,10000,500000,5000,1000,5000,10000,50000,100000,100000,10000,500000,100,50000,1000,10000,10000,100000,10000,1000000,100000,10000000,500,1,100000,1000000,1000000,100000,10000,500000,100000,100000,100000,100000,100000,10000000,10000,100000,1000000,1000000,1000000,1000000,1000000,1000000,1000,1000000,100,100000,10000000,1000,50000000,10000000,100000000,5000000,100000,500000,1000000,1000000,1000000,1000000,10000000,500000,1000000,10000000,1000000,10000,500000,500000,10000000,1000000,5000000,10000,500,50000,100000,100000,1000000,1000000,10000,50000,100000,100,1000000,100000,10000,10000,1000,10000,10000000,50000,1000000,1000000,1000,500000,100000,50000,1000000,5000,1000000,1000000,1000000,10000000,500000,1000000,500000,5000000,500000,1000000,1000000,100000,500000,50000,50000,100000,500,1000,50000,100,100,50,500,100000,50,1000,100000,10,1000,100,500,1000000,1000000,10000000,1000,5,500,10000,10,100,100000,10,1000000,5000000,10000,100,1000,100,500,50,1000,500,10000,1000,5000,500,1000000,500,1000,1000000,10000000,1000,100,1000,10,10,1,0,10,500,100,50,1,1000,10000000,100000,5000000,1000,10,1000,500,100,10000000,1000,100,100000,10000,50000,10000,500000,100000000,1000000,100000000,10000000,10000000,1000000,100000,10000000,1000000,1000000,5000000,100000,50000,500000,500000,5000000,1000000,50000,100000,50000,100000,100000,50000,100000,50000,50000,50000,5000,5000000,100000,50000,10000000,10000000,5000,10000,10000000,1000000,50000,10000,1000,5000,10000,10000,10000,1000,1000,10000,50,1000,50000,10000,1000000,100000,100,5000,50000,10000,100,50000,10000,1000,100,100000,1000,1000,100,1000,10000,5000,500000,100000,50,100,100,500,10,10000,5000,1000,1000,100000,100000,100000,1000000,100000,10000,10000,10000,100000,1000,1000000,10000,50000,100,10,5000,1000,10000,1000,1000,1000,500000,10000,1000,500,1000,10000,100,100,1000,10,5000,100000,10000,100,1000,100,1000,100,10000,10,10,500,5000,10000,100,500,10,500000,500000,10000,5000,5000,500000,100000,5000,100,1000,5000,1000000,1000,10000,100000,1000,100000,10,10000,50000,500,1000,10000,500,5000,5000,10000,5000,5000,5000,10,100,50,500,50,50,10,500,100,100,5000,50,500,10000,10000,50000,100,1000,10000,100,5000,100,10,50,1000,100,10,10000,50000,50000,10000,50,10000,100000,10000,100,10000000,50,1000000,100000,100000,100000,10000,10000,10,10000,50000,100000,10000,1,1000,50000,1,100000,5000,50000,10000,100,1000,1000000,100000,10,100000,1000,5000,10000,100,100,1000,5000,500,1000,100000,500,10000,10000,1000,10000,10000,500,10000,1000,10000,5000,10,10,10000,1,50000000,50000000,50000000,10000000,10000000,10000000,10000000,10000000,10000000,500000,1000000,10000000,5000000,500000,1000,5000000,1000000,1000000,10000000,5000000,1000000,5000000,10000000,10000000,1000000,100000000,1000000,100000,100000,1000000,1000000,1000000,1000000,10000000,100,10000,10000,10,100,50,1000,500000,1000,100000,100,1000000,5000,50,5000,10,10000000,100000,1000,50,1000,100000,5000,10,10,100000,1,10000,100000,1000,100,5,1000,10000,10,10,1000,10000,5000,10000,50000,100000,100000,5,10000,1000,1000000,1000000,5000,1000,100000,100000,500,1000,10000,10000,10,50000,100000,100,50,1000,100,1000,1000,50,10000,1000,100,10000,100,500,10,50000,50,100,100,10,500,500,100,1000,10000,100,1000,100,10,1,1000,1,10,100,100000,50000,10000,10000,5000,100000,50000,100000,5000,10000,50000,50000,1000,10000,1000,100,1000,100,5000,1000,500,10000,500,50,100,5000,100,100,500,1000,50,100,500,100,50,1,50000,10000,1000,5,10000,5000,1000,100,1000,100,1000000,10000000,100,10000,50000,1000,50,1000,1000,100,100000,100,1000,10000,500,1000,10,50,100,1000,10,50,100000,1000000,0,1000000,100000,10000,100,10000,1000000,1000000,50000000,1000,100000,1000000,500000,500000,50000,100000,1000000,1000000,1000000,100000,50000,1000000,10000000,10000,10000000,1000000,100000,10000,100,1000,100,1000,100000,50,100,500000,100,5000,5000000,10000,1000000,1000000,10000000,50000,10000,500000,5000000,500000,10000000,1000000,500000,1000000,100000,5000000,10000000,5000000,5000000,500000,500000,10000000,100000,10000000,100000,100000,10000000,10000000,10000,1000000,100000,5000000,10000,1000000,50,100,100,10,10000,100,1000,10000,5,10,10,100,50,5000,10000,500000,1000000,5000,10,1000000,1000000,5000000,10,10000000,10000,50000,5000,1000000,1000,5000000,10000000,10000000,1000000,1000,50000,100,1000000,100,1000000,500,1000,1000000,1000,1000000,1,10000000,10,1000000,1000000,50,100,5,1000000,1000000,5000000,1000000,10000,100,100000,1000000,50000,1000,1000000,500000,1000000,10000,1000000,5000000,500000,500000,1000000,1000,10000,50000,5000,500000,10000,100000,100000,500000,1000000,100000,1000000,50000,100000,1000000,10000,1000,10000,500,10000,10000,50000000,100,50,5000,5000,5000,500,1000,10,1000,10000,10,100,10,500,1000,500,100,1000,10000000,1000,50000,10000000,1000000,1000000,1000,1000,5000,1000000,100,500,1,1000000,1000,1000000,100,5000000,10000000,1000000,100000,10000,100000,100000,100000,100000,500000,100000,50000,1000000,1000,1000000,1000000,100000,10000,100000,5000000,100000,10000,100000,1000000,10000000,10000000,100000,5000000,100000,10000,100000,5000000,100000,10000000,1000000,5000000,10000000,100000,10000000,5000000,500000,500000,10000000,500000,1000000,100000,500000,500000,1000000,1000,5000000,500000,1000000,1000000,500000,5000,100000,5000000,500000,100000,1000000,500000,50000000,1000000,10000000,500000,5000000,5000000,100000,500000,500000,100000,10000000,10000000,10000000,100000,1000,10000000,10000000,5000000,10000000,1000000,1000000,10000000,10000000,1000000,10000000,5000000,10000000,1000000,100000,10000000,500000,10000000,10000000,10000000,1000000,5000000,10000000,5000000,5000000,1000000,1000000,5000000,50000000,10000000,10000000,5000000,10000,1000,10000,10,1000,100,10,100,10,50,100,10,1000,10,10,10,10000,10,50,1,50,10,1000000,5000000,100,100,10000000,100,10000000,500000,100,1000000,1000000,1000000,500,50000000,1000000,10000000,1000000,10000000,1000000,500000,1000000,1000000,50000000,50000,100,100,100,500,50000,100,1000,10,100,50,100,1000,100,100,50,5000,100,500000,1000000,100000,500,1000,10,10,50,100,500,500000,0,10000,100000,500,1000000,1000,10000,100,100,100000,10000000,10,10000000,10000,1000000,100000,1000000,100000,100000,10000000,500,5000,1000000,100000,100000,50000,50000,500000,10000,500000,10000,50000,1000,10000,1000,100000,1000,10000,5000,1000,5000,500000,1000000,100000,500000,100000,500000,10,50000,5000,5000,1000,10000,500,100000,100000,1000,50000,1000,1000,5000000,10000000,5000,500,1000000,10000000,500000,10000000,100000,100000,1000000,1000000,1000000,500000,100000,1000000,1000000,1000000,500000,1000,100000,5000,50000,1000,10000,50000,10000,500,5000,1000000,1000,100,100,10000,50000000,500000,100,10000000,50000,5000000,10000,500,10000000,100000,100000,5000000,1000000,10000000,10000,500,5000,100000,100000,100000,50000000,50000,100000,100000,50000,5000000,5000000,1000000,100000000,50000000,50000000,1000000000,10000000,1000000,5000000,50000,10000000,5000000,50000000,10000000,10000000,10000000,10000000,10000000,5000000,10000000,5000000,50000000,5000000,10000000,100000,50000,1000,1000,100000,50000,1000,5000,1000,1000,1000,100,5000,10000,10000,1000,50000,10000,10000,100,100,50,500,100000,10000,1000000,1000,1000,1000,500,500,1000,50000,1000,1000,100,100,1000,5000000,50,1000,500,0,50,10,1000,1000,10,50,100,100,100,10,100,0,100,1000,100,1000,10000,1000,10,10,50000,50,10,10,100,5,10000,100,0,100,5000000,100,10,1000000,10000,1000000,100000,50000,100000,50000,50000,1000,10000,1000,1000,1000,5000,10000,1000,1000,10,100,1000,100,1000,1000,100,1000,5,5000,5000,1000,1000000,1000,500000,1000,500,100000,100000,10000000,1000000,1000000,1000,5000000,500,500000,1000000,1000000,1000000,100000,100000,100000,10000000,500,10,100000,100,5,50,100,100000,10,1000000,100,5,100,10,10000,10,10000,100000,10,100000,10,50000000,100000,10000,5000000,500,10000000,10000,50000,500000,100000,100000,10000000,5000,100000,5000000,50000,1000000,10000000,1000000,5000000,10000000,1000000,100000,5000000,10000000,100000,500000,10000,5000000,50000,500000,5000,500000,5000,50000,5000,1000,5000,100000,5000,5000,5000,50,1000000,1000,100000,1000000,1000000,500000,100,100000,100000,5000000,5000,50000,500,5000000,1000,100,5000000,5000,100000,100,5000,50000,10000,1000,50,500,1000,100,1000,1000,100,5,10000,1000,5000,100,5,500,1000,100,5,500,10000,500,10000,10,10000000,1,500,100,5,10,10,1000,50,10000,100,1000000,1000000,10000000,10000,100000,100000,500,1000000,100,500000,5000000,50000,1000000,1000000,500000,1000000,100000,10000,10000,1000,50000,100000,100000,100000,1000000,10000,5000,500000,1000,50000,10000,10000,10000,50000,1000000,1000,100000,1000000,5000,10000,50000,10000,10000,5000,100000,5000,1000,10000,100000,1000,50000,5000,5000,1000,1000,100,100000,100000,5,10000000,1000000,1000000,5000,5000,1000,500,1000000,5000000,5000000,1000,1000000,10000000,1000,1000,1000,100000000,10,5000000,10000000,10000000,1000000,10000000,10000000,10000000,1000000,50000000,1000000,500000,1000000,50000000,100000,1000000,1000000,10000,500000,1000000,500000,100000,50000,500000,10000000,10000,5000000,500,100000,100000,50000,500000,5000,100000,100000,5000,5000,1000000,100000,100000,5000,1000,10000,100000,10000,50,5000,100000,10000,500,10000,10000,1000000,100000,500000,10000,10000,10000,10000,1000000,100,50000,10000,10000,50000,100000,100000000,100000,10000,500,1000000,5000,10000,10000,5000,10000,1000,50000,500,100,10000,10000,100000,100,50000,100000,1000,10000,100000,5000000,500,50000,10000,500,10000,100000,10000,100000,5000,10000,100000,1000,100000,100000,10000,10000,500,100000,1000,1000000,10,1000,1,1000000,1000,10000,5000,500000,10000,1000,10000,1000,5000,10000,100,100000,10000,50,10000,10000,50000,1000000,5000000,1000,5000,1000,50000,1000,10,500,100000000,100,10,500,100,100,1000,1000,1000,1000,100,100,100,1000,10000,1000,500,100,1000,500,10,100,50,100,1000,100,10000,100,5000,10,1000,100,500,5000,1000,1000000,1000,10,100,10,10,10000,50,1000000,5000000,5000000,1000,10000000,10000,10000000,10,50000000,5000000,10000,1000000,1000000,10000000,1000000,1000000,10000000,500000,100000,5000000,1000000,500000,500000,1000000,1000000,500000,5000000,10000,5000,10,100,10000,500,1000,500,1000,1000,1000,50000000,5000,1000,500,100,500,100,1000,100,1,1000,1000000,100,500,1000,5000000,10000,100,5000000,1000,10000,50000000,50000,100000,100,500,1000000,5000000,100000,1000000,500000,100,100000,1000000,10000,10000,100000,1000000,10000,500000,10000,1000000,1000,10000,1000000,1000,1000,500000,5000,1000,100000,100,5000,50000,500000,5000,100000,100000,10000,10000,50000,500000,10000,100000,10000000,1000,50000,50000,10000,1000,50000,500000,500000,10000,100,1000,100,10000,1000,5000,1000000,10000,500,1000,5000000,100,100,100,50,10000,100,100,100,10000000,1000000,10000000,100000,10000000,10000000,500000,10000000,10,1000000,100000,50000000,1000000,50000,500,100,1000000,10,10000,10000000,1000000,100000,10,10,1000000,10000,10,10,1,100000,100,10,5,50,100,50,100,10,10000,1,5,50,10,10,50,10,10,50000000,10,10,10000,5,5000000,5,1000,10,100,5,10,10,5,10,100,10,50000,5,5000000,100000,1000,10000,50000,10000,100000,5000,1000,10000,5000,100000,50000,10000,100000,1000,5000,1000,5000,5000,1000,5000,1000,500,1000,1000,5000,5000,50000,1000,100000,500,10000,10000,1000,10000,50000,10,100,5000,5000,500,5000,100,10,10000,5000,100,1000000,5000,100,10000,10000,100,50,100000,10000,10,50,1000,1000,1000,100000,1000,5000,10000,1000,5000,10000000,500,10000,10000,1000,100000,500000,10000,10000,100000,1000000,100000000,10000,10000,10,10,100000,50,1,1000,100,5,10,50,10,10,10,500,10,10000,1000,5000,10,5,10,1000000,10,1000000,10,50,500,100,10000,100000,100000,100000,1000000,5000000,1000000,10000,10000,10000000,100000,1000,100,500,100,100,100,100,100,1,100,50,1000,1,500,50,100,100,500,100000000,1,100,10000000,1000000,1000000,100000,5000000,100000,10000000,1000000,5000,1000,1000000,100,100000,10000000,10000,1000,1000000,50000,10000000,10000000,50000,5000000,100000,10000,100,100,100,1000,5000,500000,10000000,1000000,1000,500,100,1,1000,5000,10,1000,100000,1000,5000,1000000,10000,10000,5000,50000,1000000,1000,1000,1000,10,50000,1,100000,100000,500,100,100000,1000,100,10,10,1,10,100000,10000,10000,1000,10000000,10000,50000,10000000,10000,50000,50000,500,50000,50000,50000,1000000,500000,1000,100000,1000000,1000000,50,100000,5000,1000,10000,1000000,100000,100,500,100,50000,1000000,100,100,1000,10000,50000,500000,100,100000,10000,5000,1000,50,10,100,10000,100,5000000,5000,10000,10000,100000,5000,100000,1000,500,10,5000,100,1000,1000,10000000],\"yaxis\":\"y\",\"type\":\"scattergl\"}],                        {\"template\":{\"data\":{\"histogram2dcontour\":[{\"type\":\"histogram2dcontour\",\"colorbar\":{\"outlinewidth\":0,\"ticks\":\"\"},\"colorscale\":[[0.0,\"#0d0887\"],[0.1111111111111111,\"#46039f\"],[0.2222222222222222,\"#7201a8\"],[0.3333333333333333,\"#9c179e\"],[0.4444444444444444,\"#bd3786\"],[0.5555555555555556,\"#d8576b\"],[0.6666666666666666,\"#ed7953\"],[0.7777777777777778,\"#fb9f3a\"],[0.8888888888888888,\"#fdca26\"],[1.0,\"#f0f921\"]]}],\"choropleth\":[{\"type\":\"choropleth\",\"colorbar\":{\"outlinewidth\":0,\"ticks\":\"\"}}],\"histogram2d\":[{\"type\":\"histogram2d\",\"colorbar\":{\"outlinewidth\":0,\"ticks\":\"\"},\"colorscale\":[[0.0,\"#0d0887\"],[0.1111111111111111,\"#46039f\"],[0.2222222222222222,\"#7201a8\"],[0.3333333333333333,\"#9c179e\"],[0.4444444444444444,\"#bd3786\"],[0.5555555555555556,\"#d8576b\"],[0.6666666666666666,\"#ed7953\"],[0.7777777777777778,\"#fb9f3a\"],[0.8888888888888888,\"#fdca26\"],[1.0,\"#f0f921\"]]}],\"heatmap\":[{\"type\":\"heatmap\",\"colorbar\":{\"outlinewidth\":0,\"ticks\":\"\"},\"colorscale\":[[0.0,\"#0d0887\"],[0.1111111111111111,\"#46039f\"],[0.2222222222222222,\"#7201a8\"],[0.3333333333333333,\"#9c179e\"],[0.4444444444444444,\"#bd3786\"],[0.5555555555555556,\"#d8576b\"],[0.6666666666666666,\"#ed7953\"],[0.7777777777777778,\"#fb9f3a\"],[0.8888888888888888,\"#fdca26\"],[1.0,\"#f0f921\"]]}],\"heatmapgl\":[{\"type\":\"heatmapgl\",\"colorbar\":{\"outlinewidth\":0,\"ticks\":\"\"},\"colorscale\":[[0.0,\"#0d0887\"],[0.1111111111111111,\"#46039f\"],[0.2222222222222222,\"#7201a8\"],[0.3333333333333333,\"#9c179e\"],[0.4444444444444444,\"#bd3786\"],[0.5555555555555556,\"#d8576b\"],[0.6666666666666666,\"#ed7953\"],[0.7777777777777778,\"#fb9f3a\"],[0.8888888888888888,\"#fdca26\"],[1.0,\"#f0f921\"]]}],\"contourcarpet\":[{\"type\":\"contourcarpet\",\"colorbar\":{\"outlinewidth\":0,\"ticks\":\"\"}}],\"contour\":[{\"type\":\"contour\",\"colorbar\":{\"outlinewidth\":0,\"ticks\":\"\"},\"colorscale\":[[0.0,\"#0d0887\"],[0.1111111111111111,\"#46039f\"],[0.2222222222222222,\"#7201a8\"],[0.3333333333333333,\"#9c179e\"],[0.4444444444444444,\"#bd3786\"],[0.5555555555555556,\"#d8576b\"],[0.6666666666666666,\"#ed7953\"],[0.7777777777777778,\"#fb9f3a\"],[0.8888888888888888,\"#fdca26\"],[1.0,\"#f0f921\"]]}],\"surface\":[{\"type\":\"surface\",\"colorbar\":{\"outlinewidth\":0,\"ticks\":\"\"},\"colorscale\":[[0.0,\"#0d0887\"],[0.1111111111111111,\"#46039f\"],[0.2222222222222222,\"#7201a8\"],[0.3333333333333333,\"#9c179e\"],[0.4444444444444444,\"#bd3786\"],[0.5555555555555556,\"#d8576b\"],[0.6666666666666666,\"#ed7953\"],[0.7777777777777778,\"#fb9f3a\"],[0.8888888888888888,\"#fdca26\"],[1.0,\"#f0f921\"]]}],\"mesh3d\":[{\"type\":\"mesh3d\",\"colorbar\":{\"outlinewidth\":0,\"ticks\":\"\"}}],\"scatter\":[{\"fillpattern\":{\"fillmode\":\"overlay\",\"size\":10,\"solidity\":0.2},\"type\":\"scatter\"}],\"parcoords\":[{\"type\":\"parcoords\",\"line\":{\"colorbar\":{\"outlinewidth\":0,\"ticks\":\"\"}}}],\"scatterpolargl\":[{\"type\":\"scatterpolargl\",\"marker\":{\"colorbar\":{\"outlinewidth\":0,\"ticks\":\"\"}}}],\"bar\":[{\"error_x\":{\"color\":\"#2a3f5f\"},\"error_y\":{\"color\":\"#2a3f5f\"},\"marker\":{\"line\":{\"color\":\"#E5ECF6\",\"width\":0.5},\"pattern\":{\"fillmode\":\"overlay\",\"size\":10,\"solidity\":0.2}},\"type\":\"bar\"}],\"scattergeo\":[{\"type\":\"scattergeo\",\"marker\":{\"colorbar\":{\"outlinewidth\":0,\"ticks\":\"\"}}}],\"scatterpolar\":[{\"type\":\"scatterpolar\",\"marker\":{\"colorbar\":{\"outlinewidth\":0,\"ticks\":\"\"}}}],\"histogram\":[{\"marker\":{\"pattern\":{\"fillmode\":\"overlay\",\"size\":10,\"solidity\":0.2}},\"type\":\"histogram\"}],\"scattergl\":[{\"type\":\"scattergl\",\"marker\":{\"colorbar\":{\"outlinewidth\":0,\"ticks\":\"\"}}}],\"scatter3d\":[{\"type\":\"scatter3d\",\"line\":{\"colorbar\":{\"outlinewidth\":0,\"ticks\":\"\"}},\"marker\":{\"colorbar\":{\"outlinewidth\":0,\"ticks\":\"\"}}}],\"scattermapbox\":[{\"type\":\"scattermapbox\",\"marker\":{\"colorbar\":{\"outlinewidth\":0,\"ticks\":\"\"}}}],\"scatterternary\":[{\"type\":\"scatterternary\",\"marker\":{\"colorbar\":{\"outlinewidth\":0,\"ticks\":\"\"}}}],\"scattercarpet\":[{\"type\":\"scattercarpet\",\"marker\":{\"colorbar\":{\"outlinewidth\":0,\"ticks\":\"\"}}}],\"carpet\":[{\"aaxis\":{\"endlinecolor\":\"#2a3f5f\",\"gridcolor\":\"white\",\"linecolor\":\"white\",\"minorgridcolor\":\"white\",\"startlinecolor\":\"#2a3f5f\"},\"baxis\":{\"endlinecolor\":\"#2a3f5f\",\"gridcolor\":\"white\",\"linecolor\":\"white\",\"minorgridcolor\":\"white\",\"startlinecolor\":\"#2a3f5f\"},\"type\":\"carpet\"}],\"table\":[{\"cells\":{\"fill\":{\"color\":\"#EBF0F8\"},\"line\":{\"color\":\"white\"}},\"header\":{\"fill\":{\"color\":\"#C8D4E3\"},\"line\":{\"color\":\"white\"}},\"type\":\"table\"}],\"barpolar\":[{\"marker\":{\"line\":{\"color\":\"#E5ECF6\",\"width\":0.5},\"pattern\":{\"fillmode\":\"overlay\",\"size\":10,\"solidity\":0.2}},\"type\":\"barpolar\"}],\"pie\":[{\"automargin\":true,\"type\":\"pie\"}]},\"layout\":{\"autotypenumbers\":\"strict\",\"colorway\":[\"#636efa\",\"#EF553B\",\"#00cc96\",\"#ab63fa\",\"#FFA15A\",\"#19d3f3\",\"#FF6692\",\"#B6E880\",\"#FF97FF\",\"#FECB52\"],\"font\":{\"color\":\"#2a3f5f\"},\"hovermode\":\"closest\",\"hoverlabel\":{\"align\":\"left\"},\"paper_bgcolor\":\"white\",\"plot_bgcolor\":\"#E5ECF6\",\"polar\":{\"bgcolor\":\"#E5ECF6\",\"angularaxis\":{\"gridcolor\":\"white\",\"linecolor\":\"white\",\"ticks\":\"\"},\"radialaxis\":{\"gridcolor\":\"white\",\"linecolor\":\"white\",\"ticks\":\"\"}},\"ternary\":{\"bgcolor\":\"#E5ECF6\",\"aaxis\":{\"gridcolor\":\"white\",\"linecolor\":\"white\",\"ticks\":\"\"},\"baxis\":{\"gridcolor\":\"white\",\"linecolor\":\"white\",\"ticks\":\"\"},\"caxis\":{\"gridcolor\":\"white\",\"linecolor\":\"white\",\"ticks\":\"\"}},\"coloraxis\":{\"colorbar\":{\"outlinewidth\":0,\"ticks\":\"\"}},\"colorscale\":{\"sequential\":[[0.0,\"#0d0887\"],[0.1111111111111111,\"#46039f\"],[0.2222222222222222,\"#7201a8\"],[0.3333333333333333,\"#9c179e\"],[0.4444444444444444,\"#bd3786\"],[0.5555555555555556,\"#d8576b\"],[0.6666666666666666,\"#ed7953\"],[0.7777777777777778,\"#fb9f3a\"],[0.8888888888888888,\"#fdca26\"],[1.0,\"#f0f921\"]],\"sequentialminus\":[[0.0,\"#0d0887\"],[0.1111111111111111,\"#46039f\"],[0.2222222222222222,\"#7201a8\"],[0.3333333333333333,\"#9c179e\"],[0.4444444444444444,\"#bd3786\"],[0.5555555555555556,\"#d8576b\"],[0.6666666666666666,\"#ed7953\"],[0.7777777777777778,\"#fb9f3a\"],[0.8888888888888888,\"#fdca26\"],[1.0,\"#f0f921\"]],\"diverging\":[[0,\"#8e0152\"],[0.1,\"#c51b7d\"],[0.2,\"#de77ae\"],[0.3,\"#f1b6da\"],[0.4,\"#fde0ef\"],[0.5,\"#f7f7f7\"],[0.6,\"#e6f5d0\"],[0.7,\"#b8e186\"],[0.8,\"#7fbc41\"],[0.9,\"#4d9221\"],[1,\"#276419\"]]},\"xaxis\":{\"gridcolor\":\"white\",\"linecolor\":\"white\",\"ticks\":\"\",\"title\":{\"standoff\":15},\"zerolinecolor\":\"white\",\"automargin\":true,\"zerolinewidth\":2},\"yaxis\":{\"gridcolor\":\"white\",\"linecolor\":\"white\",\"ticks\":\"\",\"title\":{\"standoff\":15},\"zerolinecolor\":\"white\",\"automargin\":true,\"zerolinewidth\":2},\"scene\":{\"xaxis\":{\"backgroundcolor\":\"#E5ECF6\",\"gridcolor\":\"white\",\"linecolor\":\"white\",\"showbackground\":true,\"ticks\":\"\",\"zerolinecolor\":\"white\",\"gridwidth\":2},\"yaxis\":{\"backgroundcolor\":\"#E5ECF6\",\"gridcolor\":\"white\",\"linecolor\":\"white\",\"showbackground\":true,\"ticks\":\"\",\"zerolinecolor\":\"white\",\"gridwidth\":2},\"zaxis\":{\"backgroundcolor\":\"#E5ECF6\",\"gridcolor\":\"white\",\"linecolor\":\"white\",\"showbackground\":true,\"ticks\":\"\",\"zerolinecolor\":\"white\",\"gridwidth\":2}},\"shapedefaults\":{\"line\":{\"color\":\"#2a3f5f\"}},\"annotationdefaults\":{\"arrowcolor\":\"#2a3f5f\",\"arrowhead\":0,\"arrowwidth\":1},\"geo\":{\"bgcolor\":\"white\",\"landcolor\":\"#E5ECF6\",\"subunitcolor\":\"white\",\"showland\":true,\"showlakes\":true,\"lakecolor\":\"white\"},\"title\":{\"x\":0.05},\"mapbox\":{\"style\":\"light\"}}},\"xaxis\":{\"anchor\":\"y\",\"domain\":[0.0,1.0],\"title\":{\"text\":\"Size\"}},\"yaxis\":{\"anchor\":\"x\",\"domain\":[0.0,1.0],\"title\":{\"text\":\"Installs\"}},\"legend\":{\"tracegroupgap\":0},\"margin\":{\"t\":60}},                        {\"responsive\": true}                    ).then(function(){\n",
              "                            \n",
              "var gd = document.getElementById('245de087-2e77-432d-92ce-d30d9d0a8929');\n",
              "var x = new MutationObserver(function (mutations, observer) {{\n",
              "        var display = window.getComputedStyle(gd).display;\n",
              "        if (!display || display === 'none') {{\n",
              "            console.log([gd, 'removed!']);\n",
              "            Plotly.purge(gd);\n",
              "            observer.disconnect();\n",
              "        }}\n",
              "}});\n",
              "\n",
              "// Listen for the removal of the full notebook cells\n",
              "var notebookContainer = gd.closest('#notebook-container');\n",
              "if (notebookContainer) {{\n",
              "    x.observe(notebookContainer, {childList: true});\n",
              "}}\n",
              "\n",
              "// Listen for the clearing of the current output cell\n",
              "var outputEl = gd.closest('.output');\n",
              "if (outputEl) {{\n",
              "    x.observe(outputEl, {childList: true});\n",
              "}}\n",
              "\n",
              "                        })                };                            </script>        </div>\n",
              "</body>\n",
              "</html>"
            ]
          },
          "metadata": {}
        }
      ]
    },
    {
      "cell_type": "markdown",
      "source": [
        "Documentation-This scatter chart shows the relationship between App Size and Installed Apps this analysis shows how app size can effect the installation of app for users."
      ],
      "metadata": {
        "id": "iMpEbWQ-zlbB"
      }
    },
    {
      "cell_type": "markdown",
      "source": [
        "###**Conclusion**-The analysis of Google Play Store apps reveals several key insights. Popular social media apps like Facebook, WhatsApp Messenger, and Instagram dominate in terms of reviews, while apps like Subway Surfers and YouTube have relatively fewer user reviews. When examining content ratings, apps categorized under \"Teens\" and \"Everyone\" receive the highest number of reviews, whereas \"Mature 17+\" and \"Adults-only 18+\" apps tend to have significantly lower engagement. Additionally, categories such as Education and Events boast the highest average ratings, suggesting strong user satisfaction. In terms of installations, apps targeted toward users with content ratings of \"Everyone 10+\" and \"Teens\" have the most downloads, indicating a broader appeal to younger audiences. Furthermore, the market is overwhelmingly dominated by free apps, making up 92.6% of the total, while only 7.39% are paid. These insights highlight user preferences and trends in the Google Play Store ecosystem, offering valuable guidance for developers and businesses looking to optimize their app offerings."
      ],
      "metadata": {
        "id": "Ec0vifvp0jTd"
      }
    },
    {
      "cell_type": "code",
      "source": [],
      "metadata": {
        "id": "AtZ2B1u10iBc"
      },
      "execution_count": null,
      "outputs": []
    }
  ]
}